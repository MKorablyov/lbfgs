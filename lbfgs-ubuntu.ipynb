{
 "cells": [
  {
   "cell_type": "code",
   "execution_count": 46,
   "metadata": {
    "collapsed": true
   },
   "outputs": [],
   "source": [
    "import os\n",
    "os.environ[\"CUDA_VISIBLE_DEVICES\"]=\"1\""
   ]
  },
  {
   "cell_type": "code",
   "execution_count": 47,
   "metadata": {
    "collapsed": false
   },
   "outputs": [],
   "source": [
    "import tensorflow as tf\n",
    "import numpy as np\n",
    "from tensorflow.python.client import device_lib\n",
    "import tensorflow.contrib.immediate as immediate"
   ]
  },
  {
   "cell_type": "code",
   "execution_count": 48,
   "metadata": {
    "collapsed": false
   },
   "outputs": [
    {
     "name": "stdout",
     "output_type": "stream",
     "text": [
      "[u'/cpu:0', u'/gpu:0']\n"
     ]
    }
   ],
   "source": [
    "device_names = [d.name for d in device_lib.list_local_devices()]\n",
    "print device_names"
   ]
  },
  {
   "cell_type": "code",
   "execution_count": 42,
   "metadata": {
    "collapsed": false
   },
   "outputs": [
    {
     "name": "stdout",
     "output_type": "stream",
     "text": [
      "1\n"
     ]
    }
   ],
   "source": [
    "import os\n",
    "print os.environ['CUDA_VISIBLE_DEVICES']"
   ]
  },
  {
   "cell_type": "code",
   "execution_count": 4,
   "metadata": {
    "collapsed": false
   },
   "outputs": [
    {
     "name": "stdout",
     "output_type": "stream",
     "text": [
      "t10k-images-idx3-ubyte.gz  train-images-idx3-ubyte.gz\r\n",
      "t10k-labels-idx1-ubyte.gz  train-labels-idx1-ubyte.gz\r\n"
     ]
    }
   ],
   "source": [
    "ls ../data"
   ]
  },
  {
   "cell_type": "markdown",
   "metadata": {},
   "source": [
    "## Load MNIST data"
   ]
  },
  {
   "cell_type": "code",
   "execution_count": 5,
   "metadata": {
    "collapsed": true
   },
   "outputs": [],
   "source": [
    "train_data_filename=\"../data/train-images-idx3-ubyte.gz\"\n",
    "train_labels_filename=\"../data/train-labels-idx1-ubyte.gz\""
   ]
  },
  {
   "cell_type": "code",
   "execution_count": 30,
   "metadata": {
    "collapsed": true
   },
   "outputs": [],
   "source": [
    "import gzip\n",
    "def extract_data(filename, num_images):\n",
    "  with gzip.open(filename) as bytestream:\n",
    "    bytestream.read(16)\n",
    "    buf = bytestream.read(28 * 28 * num_images)\n",
    "    data = np.frombuffer(buf, dtype=np.uint8)\n",
    "    data = data.reshape(num_images, 28, 28, 1)\n",
    "    return data\n",
    "\n",
    "def extract_labels(filename, num_images):\n",
    "  \"\"\"Extract the labels into a vector of int64 label IDs.\"\"\"\n",
    "  with gzip.open(filename) as bytestream:\n",
    "    bytestream.read(8)\n",
    "    buf = bytestream.read(1 * num_images)\n",
    "    labels = np.frombuffer(buf, dtype=np.uint8)\n",
    "  return labels"
   ]
  },
  {
   "cell_type": "code",
   "execution_count": 31,
   "metadata": {
    "collapsed": false
   },
   "outputs": [],
   "source": [
    "import tensorflow.models.image.mnist.convolutional as convolutional\n",
    "train_data = extract_data(train_data_filename, 10000)\n",
    "train_labels = extract_labels(train_labels_filename, 10000)"
   ]
  },
  {
   "cell_type": "code",
   "execution_count": 32,
   "metadata": {
    "collapsed": false
   },
   "outputs": [
    {
     "data": {
      "text/plain": [
       "10000"
      ]
     },
     "execution_count": 32,
     "metadata": {},
     "output_type": "execute_result"
    }
   ],
   "source": [
    "len(train_data)"
   ]
  },
  {
   "cell_type": "code",
   "execution_count": 33,
   "metadata": {
    "collapsed": true
   },
   "outputs": [],
   "source": [
    "from PIL import Image"
   ]
  },
  {
   "cell_type": "code",
   "execution_count": 34,
   "metadata": {
    "collapsed": false
   },
   "outputs": [
    {
     "data": {
      "image/png": "[encoded data removed]",
      "text/plain": [
       "<PIL.Image.Image image mode=L size=28x28 at 0x7FFA57F1AB50>"
      ]
     },
     "execution_count": 34,
     "metadata": {},
     "output_type": "execute_result"
    }
   ],
   "source": [
    "Image.fromarray(train_data[0,:,:,0])"
   ]
  },
  {
   "cell_type": "code",
   "execution_count": 14,
   "metadata": {
    "collapsed": false
   },
   "outputs": [
    {
     "data": {
      "text/plain": [
       "(28, 28, 1)"
      ]
     },
     "execution_count": 14,
     "metadata": {},
     "output_type": "execute_result"
    }
   ],
   "source": [
    "train_data[0].shape"
   ]
  },
  {
   "cell_type": "code",
   "execution_count": 36,
   "metadata": {
    "collapsed": false
   },
   "outputs": [
    {
     "data": {
      "text/plain": [
       "array([[  0,   0,   0,   0,   0,   0,   0,   0,   0,   0,   0,   0],\n",
       "       [  0,   0,   0,   0,   0,   0,   0,   0,   0,   0,   0,   0],\n",
       "       [  0,   0,   0,   0,   0,   0,   0,   0,   0,   0,   0,   0],\n",
       "       [  0,   0,   0,   0,   0,   0,   0,   0,   0,   0,   0,   0],\n",
       "       [  0,   0,   0,   0,   0,   0,   0,   0,   0,   0,   0,   0],\n",
       "       [126, 136, 175,  26, 166, 255, 247, 127,   0,   0,   0,   0],\n",
       "       [253, 253, 225, 172, 253, 242, 195,  64,   0,   0,   0,   0],\n",
       "       [253, 251,  93,  82,  82,  56,  39,   0,   0,   0,   0,   0],\n",
       "       [247, 241,   0,   0,   0,   0,   0,   0,   0,   0,   0,   0],\n",
       "       [ 43, 154,   0,   0,   0,   0,   0,   0,   0,   0,   0,   0],\n",
       "       [  0,   0,   0,   0,   0,   0,   0,   0,   0,   0,   0,   0],\n",
       "       [  0,   0,   0,   0,   0,   0,   0,   0,   0,   0,   0,   0],\n",
       "       [  0,   0,   0,   0,   0,   0,   0,   0,   0,   0,   0,   0],\n",
       "       [108,   1,   0,   0,   0,   0,   0,   0,   0,   0,   0,   0],\n",
       "       [253, 119,  25,   0,   0,   0,   0,   0,   0,   0,   0,   0],\n",
       "       [253, 253, 150,  27,   0,   0,   0,   0,   0,   0,   0,   0],\n",
       "       [ 93, 252, 253, 187,   0,   0,   0,   0,   0,   0,   0,   0],\n",
       "       [  0, 249, 253, 249,  64,   0,   0,   0,   0,   0,   0,   0],\n",
       "       [183, 253, 253, 207,   2,   0,   0,   0,   0,   0,   0,   0],\n",
       "       [253, 253, 250, 182,   0,   0,   0,   0,   0,   0,   0,   0],\n",
       "       [253, 201,  78,   0,   0,   0,   0,   0,   0,   0,   0,   0],\n",
       "       [ 81,   2,   0,   0,   0,   0,   0,   0,   0,   0,   0,   0],\n",
       "       [  0,   0,   0,   0,   0,   0,   0,   0,   0,   0,   0,   0],\n",
       "       [  0,   0,   0,   0,   0,   0,   0,   0,   0,   0,   0,   0],\n",
       "       [  0,   0,   0,   0,   0,   0,   0,   0,   0,   0,   0,   0],\n",
       "       [  0,   0,   0,   0,   0,   0,   0,   0,   0,   0,   0,   0],\n",
       "       [  0,   0,   0,   0,   0,   0,   0,   0,   0,   0,   0,   0],\n",
       "       [  0,   0,   0,   0,   0,   0,   0,   0,   0,   0,   0,   0]], dtype=uint8)"
      ]
     },
     "execution_count": 36,
     "metadata": {},
     "output_type": "execute_result"
    }
   ],
   "source": [
    "train_data[0,:,16:30,0]"
   ]
  },
  {
   "cell_type": "code",
   "execution_count": 39,
   "metadata": {
    "collapsed": false
   },
   "outputs": [
    {
     "data": {
      "text/plain": [
       "array([5, 0, 4, 1, 9, 2], dtype=uint8)"
      ]
     },
     "execution_count": 39,
     "metadata": {},
     "output_type": "execute_result"
    }
   ],
   "source": [
    "train_labels[0:6]"
   ]
  },
  {
   "cell_type": "code",
   "execution_count": 44,
   "metadata": {
    "collapsed": false
   },
   "outputs": [
    {
     "data": {
      "text/plain": [
       "(28, 28, 1)"
      ]
     },
     "execution_count": 44,
     "metadata": {},
     "output_type": "execute_result"
    }
   ],
   "source": [
    "train_data[0].shape"
   ]
  },
  {
   "cell_type": "code",
   "execution_count": null,
   "metadata": {
    "collapsed": true
   },
   "outputs": [],
   "source": [
    "    0    0    0    0    0    0    0    0    0    0   30   36   94  154  170\n"
   ]
  },
  {
   "cell_type": "code",
   "execution_count": 51,
   "metadata": {
    "collapsed": false
   },
   "outputs": [
    {
     "data": {
      "text/plain": [
       "array([  0,   0,   0,   0,   0,   0,   0,   0,  30,  36,  94, 154, 170,\n",
       "       253, 253, 253, 253, 253, 225, 172], dtype=uint8)"
      ]
     },
     "execution_count": 51,
     "metadata": {},
     "output_type": "execute_result"
    }
   ],
   "source": [
    "train_data[0,6,0:20,0]"
   ]
  },
  {
   "cell_type": "markdown",
   "metadata": {},
   "source": [
    "## Convert MNIST csv data to numpy"
   ]
  },
  {
   "cell_type": "code",
   "execution_count": 23,
   "metadata": {
    "collapsed": false
   },
   "outputs": [],
   "source": [
    "data = np.loadtxt(\"mnist.t7/test_32x32.t7.csv.data\", dtype=np.uint8).reshape(10000, 32, 32)"
   ]
  },
  {
   "cell_type": "code",
   "execution_count": 27,
   "metadata": {
    "collapsed": false
   },
   "outputs": [],
   "source": [
    "np.save(\"mnist.t7/test_32x32.npy\", data)"
   ]
  },
  {
   "cell_type": "code",
   "execution_count": 30,
   "metadata": {
    "collapsed": true
   },
   "outputs": [],
   "source": [
    "data = np.loadtxt(\"mnist.t7/train_32x32.t7.csv.data\", dtype=np.uint8).reshape(60000, 32, 32)\n",
    "np.save(\"mnist.t7/train_32x32.npy\", data)"
   ]
  },
  {
   "cell_type": "code",
   "execution_count": 31,
   "metadata": {
    "collapsed": false
   },
   "outputs": [],
   "source": [
    "data = np.loadtxt(\"mnist.t7/train_32x32.t7.csv.labels\", dtype=np.uint8)\n",
    "np.save(\"mnist.t7/train_labels.npy\", data)"
   ]
  },
  {
   "cell_type": "code",
   "execution_count": 32,
   "metadata": {
    "collapsed": true
   },
   "outputs": [],
   "source": [
    "data = np.loadtxt(\"mnist.t7/test_32x32.t7.csv.labels\", dtype=np.uint8)\n",
    "np.save(\"mnist.t7/test_labels.npy\", data)"
   ]
  },
  {
   "cell_type": "code",
   "execution_count": 33,
   "metadata": {
    "collapsed": true
   },
   "outputs": [],
   "source": [
    "train_data = np.load(\"mnist.t7/train_32x32.npy\")"
   ]
  },
  {
   "cell_type": "code",
   "execution_count": 42,
   "metadata": {
    "collapsed": false
   },
   "outputs": [
    {
     "data": {
      "text/plain": [
       "array([  0,   0,   0,   0,   0,   0,   0,   0,   0,   0,  30,  36,  94,\n",
       "       154, 170, 253, 253, 253, 253, 253, 225, 172, 253, 242, 195,  64,\n",
       "         0,   0,   0,   0,   0,   0], dtype=uint8)"
      ]
     },
     "execution_count": 42,
     "metadata": {},
     "output_type": "execute_result"
    }
   ],
   "source": [
    "train_data[0,8,:]"
   ]
  },
  {
   "cell_type": "code",
   "execution_count": 43,
   "metadata": {
    "collapsed": true
   },
   "outputs": [],
   "source": [
    "train_labels=np.load(\"mnist.t7/train_labels.npy\")"
   ]
  },
  {
   "cell_type": "code",
   "execution_count": 45,
   "metadata": {
    "collapsed": false
   },
   "outputs": [
    {
     "data": {
      "text/plain": [
       "array([ 6,  1,  5,  2, 10,  3,  2,  4,  2,  5], dtype=uint8)"
      ]
     },
     "execution_count": 45,
     "metadata": {},
     "output_type": "execute_result"
    }
   ],
   "source": [
    "train_labels[0:10]"
   ]
  },
  {
   "cell_type": "code",
   "execution_count": null,
   "metadata": {
    "collapsed": true
   },
   "outputs": [],
   "source": [
    "tf.Fif"
   ]
  },
  {
   "cell_type": "markdown",
   "metadata": {},
   "source": [
    "# Power iteration"
   ]
  },
  {
   "cell_type": "code",
   "execution_count": 2,
   "metadata": {
    "collapsed": false
   },
   "outputs": [],
   "source": [
    "import tensorflow as tf\n",
    "from tensorflow.contrib import immediate\n",
    "env = immediate.Env(tf)\n",
    "ti = env.tf"
   ]
  },
  {
   "cell_type": "code",
   "execution_count": 7,
   "metadata": {
    "collapsed": false
   },
   "outputs": [
    {
     "name": "stdout",
     "output_type": "stream",
     "text": [
      "Iterating\n",
      "Iterating\n",
      "Iterating\n",
      "Iterating\n",
      "Iterating\n",
      "Iterating\n",
      "Iterating\n",
      "Iterating\n",
      "Iterating\n",
      "Iterating\n",
      "Iterating\n",
      "Iterating\n",
      "Iterating\n",
      "Iterating\n",
      "Iterating\n",
      "Iterating\n",
      "Iterating\n",
      "Iterating\n",
      "Iterating\n",
      "Iterating\n",
      "Iterating\n",
      "Iterating\n",
      "Iterating\n",
      "Iterating\n",
      "Iterating\n",
      "Iterating\n",
      "Iterating\n",
      "Iterating\n",
      "Iterating\n",
      "Iterating\n",
      "Iterating\n",
      "Iterating\n",
      "Iterating\n",
      "Iterating\n",
      "Iterating\n",
      "Iterating\n",
      "Iterating\n",
      "Iterating\n",
      "Iterating\n",
      "Iterating\n",
      "Iterating\n",
      "Iterating\n",
      "Iterating\n",
      "Iterating\n",
      "Iterating\n",
      "Iterating\n",
      "Iterating\n",
      "Iterating\n",
      "Iterating\n",
      "Iterating\n",
      "Iterating\n",
      "Iterating\n",
      "Iterating\n",
      "Iterating\n",
      "Iterating\n",
      "Iterating\n",
      "Iterating\n",
      "Iterating\n",
      "Iterating\n",
      "Iterating\n",
      "Iterating\n",
      "Iterating\n",
      "Iterating\n",
      "Iterating\n",
      "Iterating\n",
      "Iterating\n",
      "Iterating\n",
      "Iterating\n",
      "Iterating\n",
      "Iterating\n",
      "Iterating\n",
      "Iterating\n",
      "Iterating\n",
      "Iterating\n",
      "Iterating\n",
      "Iterating\n",
      "Iterating\n",
      "Iterating\n",
      "Iterating\n",
      "Iterating\n",
      "Iterating\n",
      "Iterating\n",
      "Iterating\n",
      "Iterating\n",
      "Iterating\n",
      "Iterating\n",
      "Iterating\n",
      "Iterating\n",
      "Iterating\n",
      "Iterating\n",
      "Iterating\n",
      "Iterating\n",
      "Iterating\n",
      "Iterating\n",
      "Iterating\n",
      "Iterating\n",
      "Iterating\n",
      "Iterating\n",
      "Iterating\n",
      "Iterating\n"
     ]
    },
    {
     "data": {
      "text/plain": [
       "ITensor(1.53209e-07, dtype=float32)"
      ]
     },
     "execution_count": 7,
     "metadata": {},
     "output_type": "execute_result"
    }
   ],
   "source": [
    "def rank1_approximation(a):\n",
    "    a = a/ti.reduce_sum(a)\n",
    "    u = ti.reduce_sum(a, reduction_indices=[0], keep_dims=True)\n",
    "    return ti.matmul(ti.transpose(u), u)\n",
    "\n",
    "n = 2048\n",
    "a = ti.random_uniform((n, n))\n",
    "a = a+ti.transpose(a)\n",
    "b = a\n",
    "for i in range(100):\n",
    "    print(\"Iterating\")\n",
    "    b_old = b\n",
    "    b = ti.matmul(b, a)\n",
    "    b = b/ti.reduce_sum(b)\n",
    "    \n",
    "    normdiff = ti.reduce_sum(ti.abs(b-b_old))\n",
    "    if normdiff < 1e-10:\n",
    "        break\n",
    "        \n",
    "ti.reduce_sum(rank1_approximation(b)-b)"
   ]
  },
  {
   "cell_type": "code",
   "execution_count": 17,
   "metadata": {
    "collapsed": false
   },
   "outputs": [
    {
     "name": "stdout",
     "output_type": "stream",
     "text": [
      "0.00040602684021\n",
      "0.0288240909576\n",
      "0.0283560752869\n",
      "0.0279960632324\n",
      "0.0270628929138\n",
      "0.0279879570007\n",
      "0.0290751457214\n",
      "0.0284898281097\n",
      "0.0283360481262\n",
      "0.0286450386047\n"
     ]
    },
    {
     "data": {
      "text/plain": [
       "ITensor(4.9547e-07, dtype=float32)"
      ]
     },
     "execution_count": 17,
     "metadata": {},
     "output_type": "execute_result"
    }
   ],
   "source": [
    "import time\n",
    "def rank1_approximation(a):\n",
    "    a = a/ti.reduce_sum(a)\n",
    "    u = ti.reduce_sum(a, reduction_indices=[0], keep_dims=True)\n",
    "    return ti.matmul(ti.transpose(u), u)\n",
    "\n",
    "n = 2048\n",
    "a = ti.random_uniform((n, n))\n",
    "a = a+ti.transpose(a)\n",
    "b = a\n",
    "start_time = time.time()\n",
    "for i in range(100):\n",
    "    if i%10==0:\n",
    "        print time.time()-start_time\n",
    "    start_time = time.time()\n",
    "    b_old = b\n",
    "    with tf.device(\"gpu:0\"):\n",
    "        b = ti.matmul(b, a)\n",
    "        b = b/ti.reduce_sum(b)\n",
    "    \n",
    "    normdiff = ti.reduce_sum(ti.abs(b-b_old))\n",
    "    if normdiff < 1e-10:\n",
    "        break\n",
    "        \n",
    "ti.reduce_sum(rank1_approximation(b)-b)"
   ]
  },
  {
   "cell_type": "markdown",
   "metadata": {},
   "source": [
    "# Matmul benchmark"
   ]
  },
  {
   "cell_type": "markdown",
   "metadata": {},
   "source": [
    "## Native TensorFlow"
   ]
  },
  {
   "cell_type": "code",
   "execution_count": 6,
   "metadata": {
    "collapsed": true
   },
   "outputs": [],
   "source": [
    "import time\n",
    "import tensorflow as tf"
   ]
  },
  {
   "cell_type": "markdown",
   "metadata": {},
   "source": [
    "### Native copy-free"
   ]
  },
  {
   "cell_type": "code",
   "execution_count": 51,
   "metadata": {
    "collapsed": false
   },
   "outputs": [
    {
     "name": "stdout",
     "output_type": "stream",
     "text": [
      "max speed: 2630.64627878 T ops/sec\n"
     ]
    }
   ],
   "source": [
    "tf.reset_default_graph()\n",
    "n = 1024*4\n",
    "n_ops = n**3+n*n*(n-1)  # n**3 muls, n**2*(n-1) adds\n",
    "a = tf.ones((n, n), dtype=tf.float32)/n\n",
    "ab = tf.matmul(a, a)\n",
    "ab_op = tf.group(ab)\n",
    "\n",
    "sess = tf.Session()\n",
    "speeds = []\n",
    "for i in range(10):\n",
    "    start_time = time.time()\n",
    "    sess.run(ab_op)\n",
    "    end_time = time.time()\n",
    "    elapsed_time = end_time - start_time\n",
    "    speed = n_ops/elapsed_time/10**9\n",
    "    speeds.append(speed)\n",
    "print(\"max speed: %s T ops/sec\" %(max(speeds)))"
   ]
  },
  {
   "cell_type": "markdown",
   "metadata": {},
   "source": [
    "### Native with Variables"
   ]
  },
  {
   "cell_type": "code",
   "execution_count": 50,
   "metadata": {
    "collapsed": false
   },
   "outputs": [
    {
     "name": "stdout",
     "output_type": "stream",
     "text": [
      "max speed: 1428.20328407 T ops/sec\n"
     ]
    }
   ],
   "source": [
    "import tensorflow as tf\n",
    "import time\n",
    "\n",
    "tf.reset_default_graph()\n",
    "n = 1024*2\n",
    "n_ops = n**3+n*n*(n-1)  # n**3 muls, n**2*(n-1) adds\n",
    "a = tf.ones((n, n), dtype=tf.float32)/n\n",
    "a_fixed = tf.Variable(a)\n",
    "b = tf.Variable(a)\n",
    "init_op = tf.initialize_all_variables()\n",
    "ab = tf.matmul(a, b)\n",
    "update_op = b.assign(ab)\n",
    "\n",
    "config = tf.ConfigProto(log_device_placement=False)\n",
    "sess = tf.Session(config=config)\n",
    "\n",
    "sess.run(init_op)\n",
    "speeds = []\n",
    "start_time = time.time()\n",
    "for i in range(10):\n",
    "    sess.run(update_op)\n",
    "    elapsed_time = time.time() - start_time\n",
    "    speed = n_ops/elapsed_time/10**9\n",
    "    start_time = time.time()\n",
    "    speeds.append(speed)\n",
    "    \n",
    "print(\"max speed: %s T ops/sec\" %(max(speeds)))"
   ]
  },
  {
   "cell_type": "markdown",
   "metadata": {},
   "source": [
    "## Immediate version"
   ]
  },
  {
   "cell_type": "code",
   "execution_count": 59,
   "metadata": {
    "collapsed": false
   },
   "outputs": [
    {
     "name": "stdout",
     "output_type": "stream",
     "text": [
      "max speed: 2276.3841887 T ops/sec\n"
     ]
    }
   ],
   "source": [
    "import tensorflow as tf\n",
    "from tensorflow.contrib import immediate\n",
    "import time\n",
    "\n",
    "env = immediate.Env(tf)\n",
    "ti = env.tf\n",
    "\n",
    "n = 2024\n",
    "n_ops = n**3+n*n*(n-1)  # n**3 muls, n**2*(n-1) adds\n",
    "a = ti.ones((n, n), dtype=tf.float32)/n\n",
    "b = ti.ones((n, n), dtype=tf.float32)/n\n",
    "speeds = []\n",
    "for i in range(10):\n",
    "    start_time = time.time()\n",
    "    b = ti.matmul(a, b)\n",
    "    elapsed_time = time.time() - start_time\n",
    "    speed = n_ops/elapsed_time/10**9\n",
    "    speeds.append(speed)\n",
    "    \n",
    "print(\"max speed: %s T ops/sec\" %(max(speeds)))"
   ]
  },
  {
   "cell_type": "code",
   "execution_count": 55,
   "metadata": {
    "collapsed": false
   },
   "outputs": [
    {
     "data": {
      "text/plain": [
       "ITensor(2023.87, dtype=float32)"
      ]
     },
     "execution_count": 55,
     "metadata": {},
     "output_type": "execute_result"
    }
   ],
   "source": [
    "ti.reduce_sum(b)"
   ]
  },
  {
   "cell_type": "markdown",
   "metadata": {},
   "source": [
    "### Immediate on CPU"
   ]
  },
  {
   "cell_type": "code",
   "execution_count": 60,
   "metadata": {
    "collapsed": false
   },
   "outputs": [
    {
     "name": "stdout",
     "output_type": "stream",
     "text": [
      "max speed: 147.200035166 T ops/sec\n"
     ]
    }
   ],
   "source": [
    "import tensorflow as tf\n",
    "from tensorflow.contrib import immediate\n",
    "import time\n",
    "\n",
    "env = immediate.Env(tf)\n",
    "ti = env.tf\n",
    "\n",
    "n = 2024\n",
    "n_ops = n**3+n*n*(n-1)  # n**3 muls, n**2*(n-1) adds\n",
    "speeds = []\n",
    "with env.g.device(\"cpu:0\"):\n",
    "    a = ti.ones((n, n), dtype=tf.float32)/n\n",
    "    b = ti.ones((n, n), dtype=tf.float32)/n\n",
    "    for i in range(10):\n",
    "        start_time = time.time()\n",
    "        b = ti.matmul(a, b)\n",
    "        elapsed_time = time.time() - start_time\n",
    "        speed = n_ops/elapsed_time/10**9\n",
    "        speeds.append(speed)\n",
    "    \n",
    "print(\"max speed: %s T ops/sec\" %(max(speeds)))"
   ]
  },
  {
   "cell_type": "code",
   "execution_count": null,
   "metadata": {
    "collapsed": true
   },
   "outputs": [],
   "source": []
  }
 ],
 "metadata": {
  "kernelspec": {
   "display_name": "Python 2",
   "language": "python",
   "name": "python2"
  },
  "language_info": {
   "codemirror_mode": {
    "name": "ipython",
    "version": 2
   },
   "file_extension": ".py",
   "mimetype": "text/x-python",
   "name": "python",
   "nbconvert_exporter": "python",
   "pygments_lexer": "ipython2",
   "version": "2.7.11+"
  },
  "nav_menu": {},
  "toc": {
   "navigate_menu": true,
   "number_sections": false,
   "sideBar": true,
   "threshold": 6,
   "toc_cell": false,
   "toc_section_display": "block",
   "toc_window_display": true
  },
  "toc_position": {
   "height": "622px",
   "left": "0px",
   "right": "996px",
   "top": "106px",
   "width": "364px"
  }
 },
 "nbformat": 4,
 "nbformat_minor": 0
}
