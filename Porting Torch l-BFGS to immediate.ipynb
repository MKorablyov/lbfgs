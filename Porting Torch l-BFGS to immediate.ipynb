{
 "cells": [
  {
   "cell_type": "markdown",
   "metadata": {
    "toc": "true"
   },
   "source": [
    "# Table of Contents\n",
    " <p><div class=\"lev1\"><a href=\"#Porting-Torch-l-BFGS-to-TensorFlow-using-Immediate-execution\"><span class=\"toc-item-num\">1&nbsp;&nbsp;</span>Porting Torch l-BFGS to TensorFlow using Immediate execution</a></div><div class=\"lev2\"><a href=\"#Run-Torch7-l-BFGS\"><span class=\"toc-item-num\">1.1&nbsp;&nbsp;</span>Run Torch7 l-BFGS</a></div><div class=\"lev2\"><a href=\"#Run-TensorFlow-l-BFGS\"><span class=\"toc-item-num\">1.2&nbsp;&nbsp;</span>Run TensorFlow l-BFGS</a></div><div class=\"lev2\"><a href=\"#Compare-the-results\"><span class=\"toc-item-num\">1.3&nbsp;&nbsp;</span>Compare the results</a></div><div class=\"lev3\"><a href=\"#Plot-relative-errors-between-Lua-and-TF-l-BFGS\"><span class=\"toc-item-num\">1.3.1&nbsp;&nbsp;</span>Plot relative errors between Lua and TF l-BFGS</a></div>"
   ]
  },
  {
   "cell_type": "markdown",
   "metadata": {},
   "source": [
    "# Porting Torch l-BFGS to TensorFlow using Immediate execution"
   ]
  },
  {
   "cell_type": "code",
   "execution_count": 2,
   "metadata": {
    "collapsed": true
   },
   "outputs": [],
   "source": [
    "import os, sys\n",
    "import matplotlib\n",
    "import numpy as np\n",
    "import matplotlib.pyplot as plt\n",
    "%matplotlib inline"
   ]
  },
  {
   "cell_type": "markdown",
   "metadata": {},
   "source": [
    "## Run Torch7 l-BFGS"
   ]
  },
  {
   "cell_type": "markdown",
   "metadata": {},
   "source": [
    "Take first 100 entries of MNIST 32x32 dataset, optimize for 30 iterations in Torch, using Clement Farabet's lbfgs.lua\n",
    "\n",
    "This can be ran as follows:\n",
    "  th mnist_lbfgs_reference.lua\n",
    "  \n",
    "You'll see something like this:\n",
    "\n",
    "0\tval\t5127.302585093\t\n",
    "1\tval\t5127.0317186252\t\n",
    "2\tval\t5125.3903813101\t\n",
    "3\tval\t5124.9674848028\t\n",
    "4\tval\t5123.9669985619\t\n",
    "5\tval\t5123.0994629498\t\n",
    "\n"
   ]
  },
  {
   "cell_type": "markdown",
   "metadata": {},
   "source": [
    "Save these values into files when generating and plot"
   ]
  },
  {
   "cell_type": "code",
   "execution_count": 39,
   "metadata": {
    "collapsed": false
   },
   "outputs": [
    {
     "data": {
      "text/plain": [
       "[<matplotlib.lines.Line2D at 0x110062e50>]"
      ]
     },
     "execution_count": 39,
     "metadata": {},
     "output_type": "execute_result"
    },
    {
     "data": {
      "image/png": "[encoded data removed]",
      "text/plain": [
       "<matplotlib.figure.Figure at 0x10fe9e550>"
      ]
     },
     "metadata": {},
     "output_type": "display_data"
    }
   ],
   "source": [
    "lua_fvals = []\n",
    "for i in range(1, 26):\n",
    "    fval_fname = \"stepdata.lbfgs/f-\"+str(i)\n",
    "    if not os.path.exists(fval_fname):\n",
    "        break\n",
    "    lua_fvals.append(np.loadtxt(fval_fname))\n",
    "plt.plot(lua_fvals)"
   ]
  },
  {
   "cell_type": "markdown",
   "metadata": {},
   "source": [
    "## Run TensorFlow l-BFGS"
   ]
  },
  {
   "cell_type": "markdown",
   "metadata": {},
   "source": [
    "Now do the same using l-BFSG in Immediate mode. It's a line-by-line port of lbfgs.lua, here's comparison\n",
    "https://docs.google.com/spreadsheets/d/17RwQSIV6E0uXSATec2-Lu_GdhoqEsbabFEWHg1k5wzc/edit?usp=sharing\n",
    "\n",
    "The whole model can be ran as follows:\n",
    "    \n",
    "    python lbfgs_otpimize_reference.py"
   ]
  },
  {
   "cell_type": "markdown",
   "metadata": {},
   "source": [
    "You'll see something like this\n",
    "\n",
    "0 val ITensor(5127.30258509, dtype=float64)\n",
    "\n",
    "1 val ITensor(5127.03171863, dtype=float64)\n",
    "\n",
    "2 val ITensor(5125.39038131, dtype=float64)\n",
    "\n",
    "3 val ITensor(5124.9674848, dtype=float64)\n",
    "\n",
    "4 val ITensor(5123.96699856, dtype=float64)\n",
    "\n",
    "5 val ITensor(5123.09946295, dtype=float64)\n"
   ]
  },
  {
   "cell_type": "code",
   "execution_count": 40,
   "metadata": {
    "collapsed": false
   },
   "outputs": [
    {
     "data": {
      "text/plain": [
       "[<matplotlib.lines.Line2D at 0x110179950>]"
      ]
     },
     "execution_count": 40,
     "metadata": {},
     "output_type": "execute_result"
    },
    {
     "data": {
      "image/png": "[encoded data removed]",
      "text/plain": [
       "<matplotlib.figure.Figure at 0x10feaee50>"
      ]
     },
     "metadata": {},
     "output_type": "display_data"
    }
   ],
   "source": [
    "tf_fvals = []\n",
    "for i in range(1, 26):\n",
    "    fval_fname = \"stepdata.tf/f-\"+str(i)+\".npy\"\n",
    "    if not os.path.exists(fval_fname):\n",
    "        break\n",
    "    tf_fvals.append(np.load(fval_fname))\n",
    "tf_fvals = np.array(tf_fvals)\n",
    "plt.plot(tf_fvals)"
   ]
  },
  {
   "cell_type": "markdown",
   "metadata": {},
   "source": [
    "## Compare the results"
   ]
  },
  {
   "cell_type": "markdown",
   "metadata": {},
   "source": [
    "We can plot them on the same graph"
   ]
  },
  {
   "cell_type": "code",
   "execution_count": 43,
   "metadata": {
    "collapsed": false
   },
   "outputs": [
    {
     "data": {
      "text/plain": [
       "[<matplotlib.lines.Line2D at 0x10fae5910>,\n",
       " <matplotlib.lines.Line2D at 0x10fae5510>]"
      ]
     },
     "execution_count": 43,
     "metadata": {},
     "output_type": "execute_result"
    },
    {
     "data": {
      "image/png": "[encoded data removed]",
      "text/plain": [
       "<matplotlib.figure.Figure at 0x1101c4850>"
      ]
     },
     "metadata": {},
     "output_type": "display_data"
    }
   ],
   "source": [
    "plt.plot(range(25), lua_fvals, range(25), tf_fvals)"
   ]
  },
  {
   "cell_type": "markdown",
   "metadata": {},
   "source": [
    "### Plot relative errors between Lua and TF l-BFGS"
   ]
  },
  {
   "cell_type": "code",
   "execution_count": 44,
   "metadata": {
    "collapsed": false
   },
   "outputs": [
    {
     "data": {
      "text/plain": [
       "[<matplotlib.lines.Line2D at 0x1102d6c50>]"
      ]
     },
     "execution_count": 44,
     "metadata": {},
     "output_type": "execute_result"
    },
    {
     "data": {
      "image/png": "[encoded data removed]",
      "text/plain": [
       "<matplotlib.figure.Figure at 0x11034a910>"
      ]
     },
     "metadata": {},
     "output_type": "display_data"
    }
   ],
   "source": [
    "plt.plot((tf_fvals-lua_fvals)/lua_fvals)"
   ]
  },
  {
   "cell_type": "code",
   "execution_count": 46,
   "metadata": {
    "collapsed": false
   },
   "outputs": [
    {
     "data": {
      "text/plain": [
       "6.7704829480660952e-11"
      ]
     },
     "execution_count": 46,
     "metadata": {},
     "output_type": "execute_result"
    }
   ],
   "source": [
    "np.max((tf_fvals-lua_fvals)/lua_fvals)"
   ]
  }
 ],
 "metadata": {
  "kernelspec": {
   "display_name": "Python 2",
   "language": "python",
   "name": "python2"
  },
  "language_info": {
   "codemirror_mode": {
    "name": "ipython",
    "version": 2
   },
   "file_extension": ".py",
   "mimetype": "text/x-python",
   "name": "python",
   "nbconvert_exporter": "python",
   "pygments_lexer": "ipython2",
   "version": "2.7.10"
  },
  "nav_menu": {},
  "toc": {
   "navigate_menu": true,
   "number_sections": false,
   "sideBar": true,
   "threshold": 6,
   "toc_cell": true,
   "toc_section_display": "block",
   "toc_window_display": true
  }
 },
 "nbformat": 4,
 "nbformat_minor": 0
}
