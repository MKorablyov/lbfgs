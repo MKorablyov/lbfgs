{
 "cells": [
  {
   "cell_type": "code",
   "execution_count": 1,
   "metadata": {
    "collapsed": false
   },
   "outputs": [],
   "source": [
    "import os, sys\n",
    "import matplotlib\n",
    "import numpy as np\n",
    "import matplotlib.pyplot as plt\n",
    "%matplotlib inline"
   ]
  },
  {
   "cell_type": "code",
   "execution_count": 2,
   "metadata": {
    "collapsed": false
   },
   "outputs": [],
   "source": [
    "#os.environ[\"CUDA_VISIBLE_DEVICES\"]=\"\"\n",
    "import tensorflow as tf\n",
    "import numpy as np\n",
    "from tensorflow.python.client import device_lib\n",
    "import tensorflow.contrib.immediate as immediate"
   ]
  },
  {
   "cell_type": "code",
   "execution_count": 3,
   "metadata": {
    "collapsed": false
   },
   "outputs": [
    {
     "data": {
      "text/plain": [
       "[name: \"/cpu:0\"\n",
       " device_type: \"CPU\"\n",
       " memory_limit: 268435456\n",
       " bus_adjacency: BUS_ANY\n",
       " incarnation: 3112931853206047956, name: \"/gpu:0\"\n",
       " device_type: \"GPU\"\n",
       " memory_limit: 706207744\n",
       " incarnation: 14688010904910914127\n",
       " physical_device_desc: \"device: 0, name: GeForce GT 650M, pci bus id: 0000:01:00.0\"]"
      ]
     },
     "execution_count": 3,
     "metadata": {},
     "output_type": "execute_result"
    }
   ],
   "source": [
    "from tensorflow.python.client import device_lib\n",
    "device_lib.list_local_devices()"
   ]
  },
  {
   "cell_type": "markdown",
   "metadata": {},
   "source": [
    "# Reproduce Torch gradient descent"
   ]
  },
  {
   "cell_type": "markdown",
   "metadata": {},
   "source": [
    "## Convert MNIST csv data to numpy"
   ]
  },
  {
   "cell_type": "code",
   "execution_count": 4,
   "metadata": {
    "collapsed": true
   },
   "outputs": [],
   "source": [
    "data = np.loadtxt(\"mnist.t7/test_32x32.t7.csv.data\", dtype=np.uint8).reshape(10000, 32, 32)\n",
    "np.save(\"mnist.t7/test_32x32.npy\", data)"
   ]
  },
  {
   "cell_type": "code",
   "execution_count": 6,
   "metadata": {
    "collapsed": true
   },
   "outputs": [],
   "source": [
    "data = np.loadtxt(\"mnist.t7/train_32x32.t7.csv.data\", dtype=np.uint8).reshape(60000, 32, 32)\n",
    "np.save(\"mnist.t7/train_32x32.npy\", data)"
   ]
  },
  {
   "cell_type": "code",
   "execution_count": 130,
   "metadata": {
    "collapsed": true
   },
   "outputs": [],
   "source": [
    "data = np.loadtxt(\"mnist.t7/train_32x32.t7.csv.labels\", dtype=np.uint8)\n",
    "np.save(\"mnist.t7/train_labels.npy\", data)"
   ]
  },
  {
   "cell_type": "code",
   "execution_count": 9,
   "metadata": {
    "collapsed": true
   },
   "outputs": [],
   "source": [
    "data = np.loadtxt(\"mnist.t7/test_32x32.t7.csv.labels\", dtype=np.uint8)\n",
    "np.save(\"mnist.t7/test_labels.npy\", data)"
   ]
  },
  {
   "cell_type": "code",
   "execution_count": 126,
   "metadata": {
    "collapsed": false
   },
   "outputs": [],
   "source": [
    "data = np.load(\"mnist.t7/train_32x32.npy\")"
   ]
  },
  {
   "cell_type": "code",
   "execution_count": 128,
   "metadata": {
    "collapsed": false
   },
   "outputs": [],
   "source": [
    "np.save(\"mnist.t7/train_32x32_small.npy\", data[:100])"
   ]
  },
  {
   "cell_type": "code",
   "execution_count": 131,
   "metadata": {
    "collapsed": true
   },
   "outputs": [],
   "source": [
    "data = np.load(\"mnist.t7/train_labels.npy\")\n",
    "np.save(\"mnist.t7/train_labels_small.npy\", data[:100])"
   ]
  },
  {
   "cell_type": "code",
   "execution_count": 132,
   "metadata": {
    "collapsed": true
   },
   "outputs": [],
   "source": [
    "config=tf.ConfigProto()"
   ]
  },
  {
   "cell_type": "code",
   "execution_count": null,
   "metadata": {
    "collapsed": true
   },
   "outputs": [],
   "source": [
    "config.inter_op_parallelism_threads"
   ]
  },
  {
   "cell_type": "markdown",
   "metadata": {},
   "source": [
    "### Save first 100 examples"
   ]
  },
  {
   "cell_type": "markdown",
   "metadata": {},
   "source": [
    "## Reproduce loss on first example"
   ]
  },
  {
   "cell_type": "code",
   "execution_count": 11,
   "metadata": {
    "collapsed": true
   },
   "outputs": [],
   "source": [
    "train_data = np.load(\"mnist.t7/train_32x32.npy\")"
   ]
  },
  {
   "cell_type": "code",
   "execution_count": 47,
   "metadata": {
    "collapsed": true
   },
   "outputs": [],
   "source": [
    "train_labels = np.load(\"mnist.t7/train_labels.npy\")"
   ]
  },
  {
   "cell_type": "code",
   "execution_count": 32,
   "metadata": {
    "collapsed": true
   },
   "outputs": [],
   "source": [
    "env = immediate.Env(tf)\n",
    "tfi = env.tf"
   ]
  },
  {
   "cell_type": "code",
   "execution_count": 74,
   "metadata": {
    "collapsed": false
   },
   "outputs": [],
   "source": [
    "i = 0\n",
    "W = tfi.ones((10, 1024), dtype=tf.float32)\n",
    "b = tfi.ones((10, 1), dtype=tf.float32)\n",
    "x = env.numpy_to_itensor(train_data[i], dtype=tf.float32)\n",
    "x_flat = tfi.reshape(x, (1024, 1))\n",
    "logits = tfi.matmul(W, x_flat)+b\n",
    "targets = tfi.one_hot(train_labels[i]-1, 10)  # Lua labels are off-by-one\n",
    "targets = tfi.reshape(targets, (1, 10))\n",
    "logits = tfi.reshape(logits, (1, 10))\n",
    "cross_entropy = tfi.nn.softmax_cross_entropy_with_logits(logits, targets)"
   ]
  },
  {
   "cell_type": "code",
   "execution_count": 75,
   "metadata": {
    "collapsed": false
   },
   "outputs": [
    {
     "data": {
      "text/plain": [
       "ITensor([ 2.30258512], dtype=float32)"
      ]
     },
     "execution_count": 75,
     "metadata": {},
     "output_type": "execute_result"
    }
   ],
   "source": [
    "cross_entropy"
   ]
  },
  {
   "cell_type": "markdown",
   "metadata": {},
   "source": [
    "## Reproduce gradient on first example"
   ]
  },
  {
   "cell_type": "code",
   "execution_count": 77,
   "metadata": {
    "collapsed": true
   },
   "outputs": [],
   "source": [
    "lua_grad = np.loadtxt(\"first_grad.csv\", dtype=np.float32)"
   ]
  },
  {
   "cell_type": "code",
   "execution_count": 125,
   "metadata": {
    "collapsed": false
   },
   "outputs": [
    {
     "data": {
      "text/plain": [
       "ITensor(0.0186698, dtype=float32)"
      ]
     },
     "execution_count": 125,
     "metadata": {},
     "output_type": "execute_result"
    }
   ],
   "source": [
    "tfi.reduce_sum(lua_grad)"
   ]
  },
  {
   "cell_type": "code",
   "execution_count": 129,
   "metadata": {
    "collapsed": false
   },
   "outputs": [
    {
     "data": {
      "text/plain": [
       "(10250,)"
      ]
     },
     "execution_count": 129,
     "metadata": {},
     "output_type": "execute_result"
    }
   ],
   "source": [
    "lua_grad.shape"
   ]
  },
  {
   "cell_type": "code",
   "execution_count": 133,
   "metadata": {
    "collapsed": false
   },
   "outputs": [
    {
     "data": {
      "text/plain": [
       "array([ 0.1       ,  0.1       ,  0.1       ,  0.1       ,  0.1       ,\n",
       "       -0.89999998,  0.1       ,  0.1       ,  0.1       ,  0.1       ], dtype=float32)"
      ]
     },
     "execution_count": 133,
     "metadata": {},
     "output_type": "execute_result"
    }
   ],
   "source": [
    "lua_grad[-10:]"
   ]
  },
  {
   "cell_type": "markdown",
   "metadata": {},
   "source": [
    "### Get gradients in TensorFlow"
   ]
  },
  {
   "cell_type": "code",
   "execution_count": 855,
   "metadata": {
    "collapsed": false
   },
   "outputs": [],
   "source": [
    "dtype = tf.float64\n",
    "W = tf.Variable(tf.ones_initializer((10, 1024), dtype=dtype))\n",
    "b = tf.Variable(tf.ones_initializer((10, 1), dtype=dtype))\n",
    "x = tf.constant(train_data[i], dtype=dtype)\n",
    "x_flat = tf.reshape(x, (1024, 1))\n",
    "logits = tf.matmul(W, x_flat)+b\n",
    "targets = tf.one_hot(train_labels[i]-1, 10, dtype=dtype)  # Lua labels are off-by-one\n",
    "targets = tf.reshape(targets, (1, 10))\n",
    "logits = tf.reshape(logits, (1, 10))\n",
    "cross_entropy = tf.nn.softmax_cross_entropy_with_logits(logits, targets)\n",
    "gradients = tf.gradients(cross_entropy, [W, b])"
   ]
  },
  {
   "cell_type": "code",
   "execution_count": 157,
   "metadata": {
    "collapsed": false
   },
   "outputs": [],
   "source": [
    "sess = tf.Session()\n",
    "sess.run(tf.initialize_all_variables())"
   ]
  },
  {
   "cell_type": "code",
   "execution_count": 156,
   "metadata": {
    "collapsed": false
   },
   "outputs": [
    {
     "data": {
      "text/plain": [
       "array([[ 0.1],\n",
       "       [ 0.1],\n",
       "       [ 0.1],\n",
       "       [ 0.1],\n",
       "       [ 0.1],\n",
       "       [ 0.1],\n",
       "       [ 0.1],\n",
       "       [-0.9],\n",
       "       [ 0.1],\n",
       "       [ 0.1]])"
      ]
     },
     "execution_count": 156,
     "metadata": {},
     "output_type": "execute_result"
    }
   ],
   "source": [
    "sess.run(gradients[1])"
   ]
  },
  {
   "cell_type": "code",
   "execution_count": 149,
   "metadata": {
    "collapsed": false
   },
   "outputs": [
    {
     "data": {
      "text/plain": [
       "array([[ 0.,  0.,  0.,  0.,  0.,  0.,  0.,  1.,  0.,  0.]], dtype=float32)"
      ]
     },
     "execution_count": 149,
     "metadata": {},
     "output_type": "execute_result"
    }
   ],
   "source": [
    "sess.run(targets)"
   ]
  },
  {
   "cell_type": "code",
   "execution_count": 150,
   "metadata": {
    "collapsed": false
   },
   "outputs": [
    {
     "data": {
      "text/plain": [
       "6"
      ]
     },
     "execution_count": 150,
     "metadata": {},
     "output_type": "execute_result"
    }
   ],
   "source": [
    "train_labels[0]"
   ]
  },
  {
   "cell_type": "markdown",
   "metadata": {},
   "source": [
    "## Get gradients/parameters from Lua"
   ]
  },
  {
   "cell_type": "code",
   "execution_count": 9,
   "metadata": {
    "collapsed": false
   },
   "outputs": [],
   "source": [
    "lua_grads = []\n",
    "lua_params = []\n",
    "lua_fvals = []\n",
    "for i in range(1, 1000):\n",
    "    grad_fname = \"stepdata.sgd/grad-\"+str(i)\n",
    "    param_fname = \"stepdata.sgd/params-\"+str(i)\n",
    "    fval_fname = \"stepdata.sgd/fval-\"+str(i)\n",
    "    if not os.path.exists(grad_fname) or not os.path.exists(param_fname):\n",
    "        break\n",
    "    lua_grads.append(np.loadtxt(grad_fname))\n",
    "    lua_params.append(np.loadtxt(param_fname))\n",
    "    lua_fvals.append(np.loadtxt(fval_fname))"
   ]
  },
  {
   "cell_type": "code",
   "execution_count": 10,
   "metadata": {
    "collapsed": false
   },
   "outputs": [
    {
     "data": {
      "text/plain": [
       "[<matplotlib.lines.Line2D at 0x1313f0490>]"
      ]
     },
     "execution_count": 10,
     "metadata": {},
     "output_type": "execute_result"
    },
    {
     "data": {
      "image/png": "[encoded data removed]",
      "text/plain": [
       "<matplotlib.figure.Figure at 0x12f23f590>"
      ]
     },
     "metadata": {},
     "output_type": "display_data"
    }
   ],
   "source": [
    "plt.plot(lua_fvals)"
   ]
  },
  {
   "cell_type": "code",
   "execution_count": 94,
   "metadata": {
    "collapsed": false
   },
   "outputs": [
    {
     "data": {
      "text/plain": [
       "array([ 2.  ,  2.  ,  2.  , ...,  2.  ,  2.02,  1.99])"
      ]
     },
     "execution_count": 94,
     "metadata": {},
     "output_type": "execute_result"
    }
   ],
   "source": [
    "lua_params[0]+lua_grads[0]"
   ]
  },
  {
   "cell_type": "code",
   "execution_count": 484,
   "metadata": {
    "collapsed": false
   },
   "outputs": [
    {
     "data": {
      "text/plain": [
       "[<matplotlib.lines.Line2D at 0x12dc3d0d0>]"
      ]
     },
     "execution_count": 484,
     "metadata": {},
     "output_type": "execute_result"
    },
    {
     "data": {
      "image/png": "[encoded data removed]",
      "text/plain": [
       "<matplotlib.figure.Figure at 0x12da02d10>"
      ]
     },
     "metadata": {},
     "output_type": "display_data"
    }
   ],
   "source": [
    "plt.plot([np.linalg.norm(x) for x in lua_grads])"
   ]
  },
  {
   "cell_type": "markdown",
   "metadata": {},
   "source": [
    "## Reproduce MNIST sgd"
   ]
  },
  {
   "cell_type": "code",
   "execution_count": 4,
   "metadata": {
    "collapsed": true
   },
   "outputs": [],
   "source": [
    "train_data = np.load(\"mnist.t7/train_32x32.npy\")\n",
    "train_data_flat = train_data.reshape((-1, 1024))\n",
    "train_labels = np.load(\"mnist.t7/train_labels.npy\")\n",
    "os.environ[\"CUDA_VISIBLE_DEVICES\"]=\"\""
   ]
  },
  {
   "cell_type": "code",
   "execution_count": 5,
   "metadata": {
    "collapsed": true
   },
   "outputs": [],
   "source": [
    "def concat_flatten(tensors):\n",
    "    \"\"\"Flattens tensors, concats them\"\"\"\n",
    "    flat_tensors = []\n",
    "    for tensor in tensors:\n",
    "        flat_tensors.append(tf.reshape(tensor, [-1]))\n",
    "    return tf.concat(0, flat_tensors)"
   ]
  },
  {
   "cell_type": "code",
   "execution_count": 6,
   "metadata": {
    "collapsed": false
   },
   "outputs": [
    {
     "name": "stdout",
     "output_type": "stream",
     "text": [
      "5127.30258509\n"
     ]
    }
   ],
   "source": [
    "dtype = tf.float64\n",
    "batchSize = 100\n",
    "learningRate = 0.1\n",
    "\n",
    "tf.reset_default_graph()\n",
    "\n",
    "W = tf.Variable(tf.ones_initializer((1024, 10), dtype=dtype))\n",
    "b = tf.Variable(tf.ones_initializer((1, 10), dtype=dtype))\n",
    "x = tf.Variable(tf.zeros_initializer((batchSize, 1024), dtype=dtype))\n",
    "targets = tf.Variable(tf.zeros_initializer((batchSize, 10), dtype=dtype))\n",
    "logits = tf.matmul(x, W) + b\n",
    "\n",
    "# cross entropy expects batch dimension to be first, transpose inputs\n",
    "cross_entropy = tf.nn.softmax_cross_entropy_with_logits(logits, targets)\n",
    "cross_entropy_loss = tf.reduce_mean(cross_entropy)\n",
    "Wnorm = tf.reduce_sum(tf.square(W))\n",
    "bnorm = tf.reduce_sum(tf.square(b))\n",
    "loss = cross_entropy_loss + (bnorm + Wnorm)/2\n",
    "\n",
    "# grads = tf.gradients(loss, [W, b])\n",
    "opt = tf.train.GradientDescentOptimizer(learning_rate=learningRate)\n",
    "grads_and_vars = opt.compute_gradients(loss, [W, b])\n",
    "train_step = opt.apply_gradients(grads_and_vars)\n",
    "\n",
    "W_grad = grads_and_vars[0][0]\n",
    "b_grad = grads_and_vars[1][0]\n",
    "flat_grad = concat_flatten([tf.transpose(W_grad), b_grad])\n",
    "# flat_grad = concat_flatten([grad_and_var[0] for grad_and_var in grads_and_vars])\n",
    "flat_params = concat_flatten([tf.transpose(W), b])\n",
    "\n",
    "# initialize x and targets\n",
    "x_placeholder = tf.placeholder(dtype=dtype)\n",
    "x_init = x.assign(x_placeholder)\n",
    "\n",
    "# initialize labels\n",
    "labels_placeholder = tf.placeholder(shape=(batchSize), dtype=tf.int32)\n",
    "labels_onehot = tf.one_hot(labels_placeholder - 1, 10, dtype=dtype)  # Lua labels are off-by-one\n",
    "targets_init = targets.assign(labels_onehot)\n",
    "\n",
    "sess = tf.InteractiveSession()\n",
    "sess.run(x_init, feed_dict={x_placeholder:train_data_flat[:batchSize]})\n",
    "sess.run(targets_init, feed_dict={labels_placeholder: train_labels[:batchSize]})\n",
    "sess.run([W.initializer, b.initializer])\n",
    "print(sess.run(loss))"
   ]
  },
  {
   "cell_type": "code",
   "execution_count": 553,
   "metadata": {
    "collapsed": false
   },
   "outputs": [
    {
     "name": "stdout",
     "output_type": "stream",
     "text": [
      "5127.30258509\n",
      "10222.2878245\n",
      "29610.151198\n",
      "25141.4119371\n",
      "16409.1374003\n",
      "21781.9665362\n",
      "14398.5814516\n",
      "12851.5786807\n",
      "7800.24671143\n",
      "6276.07440723\n"
     ]
    }
   ],
   "source": [
    "tf_grads = []\n",
    "tf_params = []\n",
    "tf_fvals = []\n",
    "for i in range(10):\n",
    "    tf_grads.append(sess.run(flat_grad))\n",
    "    tf_params.append(sess.run(flat_params))\n",
    "    tf_fvals.append(sess.run(loss))\n",
    "    print(tf_fvals[-1])\n",
    "    sess.run(train_step)"
   ]
  },
  {
   "cell_type": "code",
   "execution_count": 11,
   "metadata": {
    "collapsed": false
   },
   "outputs": [
    {
     "data": {
      "text/plain": [
       "array([ 1.  ,  1.  ,  1.  , ...,  1.  ,  1.02,  0.99])"
      ]
     },
     "execution_count": 11,
     "metadata": {},
     "output_type": "execute_result"
    }
   ],
   "source": [
    "lua_grads[0]"
   ]
  },
  {
   "cell_type": "code",
   "execution_count": 543,
   "metadata": {
    "collapsed": false
   },
   "outputs": [
    {
     "data": {
      "text/plain": [
       "[<matplotlib.lines.Line2D at 0x132f8bb10>]"
      ]
     },
     "execution_count": 543,
     "metadata": {},
     "output_type": "execute_result"
    },
    {
     "data": {
      "image/png": "[encoded data removed]",
      "text/plain": [
       "<matplotlib.figure.Figure at 0x133207b50>"
      ]
     },
     "metadata": {},
     "output_type": "display_data"
    }
   ],
   "source": [
    "tf_fvals_np = np.array(tf_fvals)\n",
    "lua_fvals_np = np.array(lua_fvals)\n",
    "plt.plot(tf_fvals_np - lua_fvals_np)"
   ]
  },
  {
   "cell_type": "code",
   "execution_count": 544,
   "metadata": {
    "collapsed": false
   },
   "outputs": [
    {
     "data": {
      "text/plain": [
       "[<matplotlib.lines.Line2D at 0x12e0f4290>]"
      ]
     },
     "execution_count": 544,
     "metadata": {},
     "output_type": "execute_result"
    },
    {
     "data": {
      "image/png": "[encoded data removed]",
      "text/plain": [
       "<matplotlib.figure.Figure at 0x1330b3b50>"
      ]
     },
     "metadata": {},
     "output_type": "display_data"
    }
   ],
   "source": [
    "plt.plot((tf_fvals_np - lua_fvals_np)/lua_fvals_np)"
   ]
  },
  {
   "cell_type": "markdown",
   "metadata": {},
   "source": [
    "### Feed lua params back into TensorFlow"
   ]
  },
  {
   "cell_type": "markdown",
   "metadata": {},
   "source": [
    "Get the values from Lua, feed them into TensorFlow to get updated grad value"
   ]
  },
  {
   "cell_type": "code",
   "execution_count": 577,
   "metadata": {
    "collapsed": false
   },
   "outputs": [],
   "source": [
    "iternum = 1\n",
    "# convert lua_W from column major to row major\n",
    "lua_W_flat = lua_params[iternum][:-10]\n",
    "lua_W = lua_W_flat.reshape((10, 1024))\n",
    "tf_W = lua_W.T\n",
    "lua_b = lua_params[iternum][-10:]\n",
    "tf_b = lua_b.reshape((1, -1))"
   ]
  },
  {
   "cell_type": "code",
   "execution_count": 578,
   "metadata": {
    "collapsed": false
   },
   "outputs": [
    {
     "data": {
      "text/plain": [
       "10222.287737750139"
      ]
     },
     "execution_count": 578,
     "metadata": {},
     "output_type": "execute_result"
    }
   ],
   "source": [
    "sess.run(loss, feed_dict={W: tf_W, b: tf_b})"
   ]
  },
  {
   "cell_type": "code",
   "execution_count": 16,
   "metadata": {
    "collapsed": false
   },
   "outputs": [
    {
     "data": {
      "text/plain": [
       "array([1, 2, 3, 4, 5, 6])"
      ]
     },
     "execution_count": 16,
     "metadata": {},
     "output_type": "execute_result"
    }
   ],
   "source": [
    "np.array([[1,2,3],[4,5,6]]).reshape(-1)"
   ]
  },
  {
   "cell_type": "markdown",
   "metadata": {},
   "source": [
    "# Reproduce Torch l-BFGS"
   ]
  },
  {
   "cell_type": "code",
   "execution_count": 582,
   "metadata": {
    "collapsed": false
   },
   "outputs": [
    {
     "data": {
      "text/plain": [
       "[<matplotlib.lines.Line2D at 0x133de22d0>]"
      ]
     },
     "execution_count": 582,
     "metadata": {},
     "output_type": "execute_result"
    },
    {
     "data": {
      "image/png": "[encoded data removed]",
      "text/plain": [
       "<matplotlib.figure.Figure at 0x133340990>"
      ]
     },
     "metadata": {},
     "output_type": "display_data"
    }
   ],
   "source": [
    "lua_grads = []\n",
    "lua_params = []\n",
    "lua_fvals = []\n",
    "for i in range(1, 1000):\n",
    "    grad_fname = \"stepdata/grad-\"+str(i)\n",
    "    param_fname = \"stepdata/params-\"+str(i)\n",
    "    fval_fname = \"stepdata/fval-\"+str(i)\n",
    "    if not os.path.exists(grad_fname) or not os.path.exists(param_fname):\n",
    "        break\n",
    "    lua_grads.append(np.loadtxt(grad_fname))\n",
    "    lua_params.append(np.loadtxt(param_fname))\n",
    "    lua_fvals.append(np.loadtxt(fval_fname))\n",
    "plt.plot(lua_fvals)"
   ]
  },
  {
   "cell_type": "code",
   "execution_count": 583,
   "metadata": {
    "collapsed": false
   },
   "outputs": [
    {
     "data": {
      "text/plain": [
       "[<matplotlib.lines.Line2D at 0x132eab410>]"
      ]
     },
     "execution_count": 583,
     "metadata": {},
     "output_type": "execute_result"
    },
    {
     "data": {
      "image/png": "[encoded data removed]",
      "text/plain": [
       "<matplotlib.figure.Figure at 0x133e6dcd0>"
      ]
     },
     "metadata": {},
     "output_type": "display_data"
    }
   ],
   "source": [
    "lua_grads = []\n",
    "lua_params = []\n",
    "lua_fvals = []\n",
    "for i in range(1, 1000):\n",
    "    grad_fname = \"stepdata/grad-\"+str(i)\n",
    "    param_fname = \"stepdata/params-\"+str(i)\n",
    "    fval_fname = \"stepdata/fval-\"+str(i)\n",
    "    if not os.path.exists(grad_fname) or not os.path.exists(param_fname):\n",
    "        break\n",
    "    lua_grads.append(np.loadtxt(grad_fname))\n",
    "    lua_params.append(np.loadtxt(param_fname))\n",
    "    lua_fvals.append(np.loadtxt(fval_fname))\n",
    "plt.plot(lua_fvals)"
   ]
  },
  {
   "cell_type": "code",
   "execution_count": 585,
   "metadata": {
    "collapsed": false
   },
   "outputs": [
    {
     "data": {
      "text/plain": [
       "[<matplotlib.lines.Line2D at 0x132f09cd0>]"
      ]
     },
     "execution_count": 585,
     "metadata": {},
     "output_type": "execute_result"
    },
    {
     "data": {
      "image/png": "[encoded data removed]",
      "text/plain": [
       "<matplotlib.figure.Figure at 0x133381410>"
      ]
     },
     "metadata": {},
     "output_type": "display_data"
    }
   ],
   "source": [
    "plt.plot([np.linalg.norm(g) for g in lua_grads])"
   ]
  },
  {
   "cell_type": "code",
   "execution_count": 590,
   "metadata": {
    "collapsed": false
   },
   "outputs": [
    {
     "data": {
      "text/plain": [
       "[<matplotlib.lines.Line2D at 0x1346221d0>]"
      ]
     },
     "execution_count": 590,
     "metadata": {},
     "output_type": "execute_result"
    },
    {
     "data": {
      "image/png": "[encoded data removed]",
      "text/plain": [
       "<matplotlib.figure.Figure at 0x134456590>"
      ]
     },
     "metadata": {},
     "output_type": "display_data"
    }
   ],
   "source": [
    "#lua_grads = []\n",
    "#lua_params = []\n",
    "lua_fvals = []\n",
    "for i in range(1, 1000):\n",
    "    grad_fname = \"stepdata/grad-\"+str(i)\n",
    "#    param_fname = \"stepdata/params-\"+str(i)\n",
    "    fval_fname = \"stepdata/fval-\"+str(i)\n",
    "    if not os.path.exists(fval_fname):\n",
    "        break\n",
    "#    lua_grads.append(np.loadtxt(grad_fname))\n",
    "#    lua_params.append(np.loadtxt(param_fname))\n",
    "    lua_fvals.append(np.loadtxt(fval_fname))\n",
    "plt.plot(lua_fvals)"
   ]
  },
  {
   "cell_type": "code",
   "execution_count": 50,
   "metadata": {
    "collapsed": false
   },
   "outputs": [
    {
     "data": {
      "text/plain": [
       "[<matplotlib.lines.Line2D at 0x131dae410>]"
      ]
     },
     "execution_count": 50,
     "metadata": {},
     "output_type": "execute_result"
    },
    {
     "data": {
      "image/png": "[encoded data removed]",
      "text/plain": [
       "<matplotlib.figure.Figure at 0x131cd8b10>"
      ]
     },
     "metadata": {},
     "output_type": "display_data"
    }
   ],
   "source": [
    "#lua_grads = []\n",
    "#lua_params = []\n",
    "lua_fvals = []\n",
    "for i in range(1, 1000):\n",
    "    grad_fname = \"stepdata.lbfgs/grad-\"+str(i)\n",
    "#    param_fname = \"stepdata/params-\"+str(i)\n",
    "    fval_fname = \"stepdata.lbfgs/fval-\"+str(i)\n",
    "    if not os.path.exists(fval_fname):\n",
    "        break\n",
    "#    lua_grads.append(np.loadtxt(grad_fname))\n",
    "#    lua_params.append(np.loadtxt(param_fname))\n",
    "    lua_fvals.append(np.loadtxt(fval_fname))\n",
    "plt.plot(lua_fvals)"
   ]
  },
  {
   "cell_type": "code",
   "execution_count": 48,
   "metadata": {
    "collapsed": false
   },
   "outputs": [
    {
     "data": {
      "text/plain": [
       "[array(5127.302585093),\n",
       " array(10222.28773775),\n",
       " array(29610.150755578),\n",
       " array(25141.411594117),\n",
       " array(16409.137168876),\n",
       " array(21781.966189939),\n",
       " array(14398.581234542),\n",
       " array(12851.578498288),\n",
       " array(7800.2465951378),\n",
       " array(6276.0743373525)]"
      ]
     },
     "execution_count": 48,
     "metadata": {},
     "output_type": "execute_result"
    }
   ],
   "source": [
    "lua_fvals"
   ]
  },
  {
   "cell_type": "markdown",
   "metadata": {},
   "source": [
    "## Load intermediate values"
   ]
  },
  {
   "cell_type": "code",
   "execution_count": 51,
   "metadata": {
    "collapsed": true
   },
   "outputs": [],
   "source": [
    "class Step(object):\n",
    "    pass\n",
    "\n",
    "def tryload(fname):\n",
    "    if os.path.exists(fname):\n",
    "        return np.loadtxt(fname, dtype=np.float64)\n",
    "    else:\n",
    "        return None\n",
    "    \n",
    "def loadStep(i):\n",
    "    step = Step()\n",
    "    step.al = tryload(\"stepdata/al-\"+str(i))\n",
    "    step.q = tryload(\"stepdata/q-\"+str(i))\n",
    "    step.ro = tryload(\"stepdata/ro-\"+str(i))\n",
    "    step.g = tryload(\"stepdata/g-\"+str(i))\n",
    "    step.x = tryload(\"stepdata/x-\"+str(i))\n",
    "    step.f = tryload(\"stepdata/f-\"+str(i))\n",
    "    step.Hdiag = tryload(\"stepdata/Hdiag-\"+str(i))\n",
    "    step.d = tryload(\"stepdata/d-\"+str(i))\n",
    "    step.be_i = tryload(\"stepdata/be_i-\"+str(i))\n",
    "    step.r = tryload(\"stepdata/r-\"+str(i))\n",
    "    step.y = tryload(\"stepdata/y-\"+str(i))\n",
    "    step.s = tryload(\"stepdata/s-\"+str(i))\n",
    "    step.tmp1 = tryload(\"stepdata/tmp1-\"+str(i))\n",
    "    step.tmp11 = tryload(\"stepdata/tmp11-\"+str(i))\n",
    "    step.ys = tryload(\"stepdata/ys-\"+str(i))\n",
    "    step.gtd = tryload(\"stepdata/gtd-\"+str(i))\n",
    "    step.t = tryload(\"stepdata/t-\"+str(i))\n",
    "    step.fdiff = tryload(\"stepdata/fdiff-\"+str(i))\n",
    "    return step"
   ]
  },
  {
   "cell_type": "code",
   "execution_count": 23,
   "metadata": {
    "collapsed": false
   },
   "outputs": [],
   "source": [
    "steps = [loadStep(i) for i in range(0, 30)]"
   ]
  },
  {
   "cell_type": "code",
   "execution_count": 52,
   "metadata": {
    "collapsed": false
   },
   "outputs": [
    {
     "data": {
      "text/plain": [
       "[<matplotlib.lines.Line2D at 0x131ec4890>]"
      ]
     },
     "execution_count": 52,
     "metadata": {},
     "output_type": "execute_result"
    },
    {
     "data": {
      "image/png": "[encoded data removed]",
      "text/plain": [
       "<matplotlib.figure.Figure at 0x131c4d990>"
      ]
     },
     "metadata": {},
     "output_type": "display_data"
    }
   ],
   "source": [
    "plt.plot([step.f for step in steps])"
   ]
  },
  {
   "cell_type": "code",
   "execution_count": 53,
   "metadata": {
    "collapsed": false
   },
   "outputs": [
    {
     "data": {
      "text/plain": [
       "[array(5127.302585093),\n",
       " array(5127.0317186252),\n",
       " array(5125.3903813101),\n",
       " array(5124.9674848028),\n",
       " array(5123.9669985619),\n",
       " array(5123.0994629498),\n",
       " array(5121.1336109133),\n",
       " array(5088.2182634182),\n",
       " array(4560.4319275404),\n",
       " array(3878.0882110897),\n",
       " array(2636.9614862181),\n",
       " array(2145.9010199365),\n",
       " array(1969.3409923076),\n",
       " array(5911.8849327637),\n",
       " array(1776.60222906),\n",
       " array(1642.2119970127),\n",
       " array(2760.5909104183),\n",
       " array(1417.8663532243),\n",
       " array(1334.1882656872),\n",
       " array(1164.8566400448),\n",
       " array(3521.6275053109),\n",
       " array(973.35657880749),\n",
       " array(919.30050246557),\n",
       " array(787.88005184536),\n",
       " array(958.20801923218),\n",
       " array(585.85990525397),\n",
       " array(492.62865981719),\n",
       " array(416.67239837961),\n",
       " array(358.67124865516),\n",
       " array(339.26098729848)]"
      ]
     },
     "execution_count": 53,
     "metadata": {},
     "output_type": "execute_result"
    }
   ],
   "source": [
    "[step.f for step in steps]"
   ]
  },
  {
   "cell_type": "markdown",
   "metadata": {},
   "source": [
    "## Reproduce in numpy"
   ]
  },
  {
   "cell_type": "code",
   "execution_count": 689,
   "metadata": {
    "collapsed": true
   },
   "outputs": [],
   "source": [
    "def maxdiff(a, b):\n",
    "    return np.max((a-b)/b)"
   ]
  },
  {
   "cell_type": "code",
   "execution_count": 691,
   "metadata": {
    "collapsed": true
   },
   "outputs": [],
   "source": [
    "def RelativeError(new_val, reference_val, atol = 2.**-53):\n",
    "  return np.max(np.abs(new_val - reference_val) / (atol + np.abs(reference_val)))"
   ]
  },
  {
   "cell_type": "code",
   "execution_count": 28,
   "metadata": {
    "collapsed": false
   },
   "outputs": [],
   "source": [
    "from numpy.testing.utils import nulp_diff\n",
    "def ulp_diff(a, b):\n",
    "    try:\n",
    "        return max(nulp_diff(a.astype(np.float32), b.astype(np.float32)))\n",
    "    except:\n",
    "        return nulp_diff(a.astype(np.float32), b.astype(np.float32))"
   ]
  },
  {
   "cell_type": "code",
   "execution_count": 29,
   "metadata": {
    "collapsed": false
   },
   "outputs": [
    {
     "name": "stdout",
     "output_type": "stream",
     "text": [
      "d OK\n",
      "gtd OK\n",
      "t OK\n",
      "x OK\n",
      "tmp1 OK\n",
      "tmp11 OK\n",
      "fdiff OK\n",
      "y OK\n",
      "s OK\n",
      "ys OK\n",
      "Hdiag OK\n",
      "ro OK\n",
      "q OK\n",
      "al OK\n",
      "d OK\n",
      "r OK\n",
      "gtd OK\n",
      "t OK\n",
      "x OK\n",
      "tmp1 OK\n",
      "fdiff OK\n"
     ]
    }
   ],
   "source": [
    "def check(a, b, msg):\n",
    "    diff = ulp_diff(np.asarray(a), np.asarray(b))\n",
    "    if diff>0:\n",
    "        print(\"%s %f\"%(msg, diff))\n",
    "    else:\n",
    "        print(\"%s OK\"%(msg))\n",
    "        \n",
    "old_dirs = []\n",
    "old_stps = []\n",
    "nCorrection = 100\n",
    "ro = np.zeros((nCorrection,), dtype=np.float64)\n",
    "al = np.zeros((nCorrection,), dtype=np.float64)\n",
    "\n",
    "# step 0\n",
    "learningRate = 1.\n",
    "x = steps[0].x\n",
    "g = steps[0].g\n",
    "f = steps[0].f\n",
    "\n",
    "# step 1\n",
    "ii=1\n",
    "d = -g\n",
    "check(steps[ii].d, d, \"d\")\n",
    "\n",
    "f_old = f\n",
    "g_old = g\n",
    "\n",
    "gtd = np.dot(g, d)\n",
    "check(steps[ii].gtd, gtd, \"gtd\")\n",
    "\n",
    "tmp1 = np.abs(np.array(g))\n",
    "t = min(1, 1/tmp1.sum())\n",
    "check(steps[ii].t, t, \"t\")\n",
    "\n",
    "f = steps[ii].f\n",
    "x = x + t*d\n",
    "check(steps[ii].x, x, \"x\")\n",
    "g = steps[ii].g\n",
    "\n",
    "tmp1 = np.abs(g)\n",
    "check(steps[ii].tmp1, tmp1, \"tmp1\")\n",
    "\n",
    "tmp11 = np.abs(d*t)\n",
    "check(steps[ii].tmp11, tmp11, \"tmp11\")\n",
    "\n",
    "check(steps[ii].fdiff, f-f_old, \"fdiff\")\n",
    "\n",
    "# step 2\n",
    "ii = 2\n",
    "y = g - g_old\n",
    "check(steps[ii].y, y, \"y\")\n",
    "s = d*t\n",
    "check(steps[ii].s, s, \"s\")\n",
    "\n",
    "old_dirs.append(s)\n",
    "old_stps.append(y)\n",
    "\n",
    "ys = np.dot(y, s)\n",
    "check(steps[ii].ys, ys, \"ys\")\n",
    "\n",
    "Hdiag = ys/np.dot(y, y)\n",
    "check(steps[ii].Hdiag, Hdiag, \"Hdiag\")\n",
    "\n",
    "\n",
    "k = len(old_dirs)\n",
    "for i in range(k):\n",
    "    ro[i] = 1/old_stps[i].dot(old_dirs[i])\n",
    "check(steps[ii].ro, ro, \"ro\")\n",
    "\n",
    "q = -g\n",
    "for i in range(k-1, -1, -1):\n",
    "    al[i] = old_dirs[i].dot(q) * ro[i]\n",
    "    q = q - al[i]*old_stps[i]\n",
    "    \n",
    "check(steps[ii].q, q, \"q\")\n",
    "check(steps[ii].al, al, \"al\")\n",
    "\n",
    "r = q*Hdiag\n",
    "for i in range(k):\n",
    "    be_i = old_stps[i].dot(r) * ro[i]\n",
    "    r += (al[i]-be_i)*old_dirs[i]\n",
    "d = r\n",
    "    \n",
    "check(steps[ii].d, d, \"d\")\n",
    "check(steps[ii].r, r, \"r\")\n",
    "\n",
    "g_old = g\n",
    "f_old = f\n",
    "\n",
    "gtd = np.dot(g, d)\n",
    "check(steps[ii].gtd, gtd, \"gtd\")\n",
    "\n",
    "t = learningRate\n",
    "check(steps[ii].t, t, \"t\")\n",
    "\n",
    "x = x + t*d\n",
    "check(steps[ii].x, x, \"x\")\n",
    "f = steps[ii].f\n",
    "g = steps[ii].g\n",
    "\n",
    "tmp1 = np.abs(g)\n",
    "check(steps[ii].tmp1, tmp1, \"tmp1\")\n",
    "\n",
    "check(steps[ii].fdiff, f - f_old, \"fdiff\")\n",
    "#fdiff = steps[ii].f - steps[0].f\n",
    "#check(steps[ii].fdiff, fdiff, \"fdiff\")\n",
    "\n",
    "\n",
    "#gtd = g.dot(d)\n",
    "#check(step)"
   ]
  },
  {
   "cell_type": "markdown",
   "metadata": {},
   "source": [
    "## Reproduce in TensorFlow"
   ]
  },
  {
   "cell_type": "code",
   "execution_count": 30,
   "metadata": {
    "collapsed": true
   },
   "outputs": [],
   "source": [
    "from numpy.testing.utils import nulp_diff\n",
    "def ulp_diff(a, b):\n",
    "    try:\n",
    "        return max(nulp_diff(a.astype(np.float32), b.astype(np.float32)))\n",
    "    except:\n",
    "        return nulp_diff(a.astype(np.float32), b.astype(np.float32))\n",
    "    \n",
    "def check(a, b, msg):\n",
    "    b = b.as_numpy()\n",
    "    diff = ulp_diff(np.asarray(a), np.asarray(b))\n",
    "    if diff>10:\n",
    "        print(\"%s %f\"%(msg, diff))\n",
    "    else:\n",
    "        print(\"%s OK\"%(msg))\n",
    "        \n",
    "def dot(a, b):\n",
    "    return im.reduce_sum(a*b)\n",
    "\n",
    "import tensorflow as tf\n",
    "env = immediate.Env(tf)\n",
    "im = env.tf"
   ]
  },
  {
   "cell_type": "code",
   "execution_count": 42,
   "metadata": {
    "collapsed": false
   },
   "outputs": [
    {
     "name": "stdout",
     "output_type": "stream",
     "text": [
      "d OK\n",
      "gtd OK\n",
      "t OK\n",
      "x OK\n",
      "tmp1 OK\n",
      "tmp11 OK\n",
      "fdiff OK\n",
      "y OK\n",
      "s OK\n",
      "ys OK\n",
      "Hdiag OK\n",
      "ro OK\n",
      "q OK\n",
      "al OK\n",
      "d OK\n",
      "r OK\n",
      "gtd OK\n",
      "t OK\n",
      "x OK\n",
      "tmp1 OK\n",
      "fdiff OK\n"
     ]
    }
   ],
   "source": [
    "old_dirs = []\n",
    "old_stps = []\n",
    "nCorrection = 100\n",
    "#ro = im.zeros((nCorrection,), dtype=im.float64)\n",
    "ro = [0]*nCorrection\n",
    "al = [0]*nCorrection\n",
    "#al = im.zeros((nCorrection,), dtype=im.float64)\n",
    "\n",
    "\n",
    "# step 0\n",
    "learningRate = env.numpy_to_itensor(1., dtype=im.float64)\n",
    "x = env.numpy_to_itensor(steps[0].x, dtype=im.float64)\n",
    "g = env.numpy_to_itensor(steps[0].g, dtype=im.float64)\n",
    "f = env.numpy_to_itensor(steps[0].f, dtype=im.float64)\n",
    "\n",
    "# step 1\n",
    "ii=1\n",
    "d = -g\n",
    "check(steps[ii].d, d, \"d\")\n",
    "\n",
    "f_old = f\n",
    "g_old = g\n",
    "\n",
    "gtd = dot(g, d)\n",
    "check(steps[ii].gtd, gtd, \"gtd\")\n",
    "\n",
    "tmp1 = im.abs(g)\n",
    "t = min(1, im.div(1, im.reduce_sum(tmp1)))\n",
    "check(steps[ii].t, t, \"t\")\n",
    "\n",
    "f = env.numpy_to_itensor(steps[ii].f, dtype=im.float64)\n",
    "x = x + t*d\n",
    "\n",
    "saved_t = t\n",
    "saved_d = d\n",
    "saved_x1 = x\n",
    "saved_tmp1 = tmp1\n",
    "saved_g = g\n",
    "\n",
    "check(steps[ii].x, x, \"x\")\n",
    "g = env.numpy_to_itensor(steps[ii].g, dtype=im.float64)\n",
    "\n",
    "tmp1 = im.abs(g)\n",
    "check(steps[ii].tmp1, tmp1, \"tmp1\")\n",
    "\n",
    "tmp11 = im.abs(d*t)\n",
    "check(steps[ii].tmp11, tmp11, \"tmp11\")\n",
    "check(steps[ii].fdiff, f-f_old, \"fdiff\")\n",
    "\n",
    "# step 2\n",
    "ii = 2\n",
    "y = g - g_old\n",
    "check(steps[ii].y, y, \"y\")\n",
    "s = d*t\n",
    "check(steps[ii].s, s, \"s\")\n",
    "\n",
    "old_dirs.append(s)\n",
    "old_stps.append(y)\n",
    "\n",
    "ys = dot(y, s)\n",
    "check(steps[ii].ys, ys, \"ys\")\n",
    "\n",
    "Hdiag = im.div(ys, dot(y, y))\n",
    "check(steps[ii].Hdiag, Hdiag, \"Hdiag\")\n",
    "\n",
    "k = len(old_dirs)\n",
    "for i in range(k):\n",
    "    ro[i] = im.div(1, dot(old_stps[i], old_dirs[i]))\n",
    "    \n",
    "check(steps[ii].ro, im.pack(ro), \"ro\")\n",
    "\n",
    "q = -g\n",
    "for i in range(k-1, -1, -1):\n",
    "    al[i] = dot(old_dirs[i], q) * ro[i]\n",
    "    q = q - al[i]*old_stps[i]\n",
    "\n",
    "check(steps[ii].q, q, \"q\")\n",
    "check(steps[ii].al, im.pack(al), \"al\")\n",
    "\n",
    "r = q*Hdiag\n",
    "for i in range(k):\n",
    "    be_i = dot(old_stps[i], r) * ro[i]\n",
    "    r += (al[i]-be_i)*old_dirs[i]\n",
    "d = r\n",
    "\n",
    "check(steps[ii].d, d, \"d\")\n",
    "check(steps[ii].r, r, \"r\")\n",
    "\n",
    "g_old = g\n",
    "f_old = f\n",
    "\n",
    "gtd = dot(g, d)\n",
    "check(steps[ii].gtd, gtd, \"gtd\")\n",
    "\n",
    "t = learningRate\n",
    "check(steps[ii].t, t, \"t\")\n",
    "\n",
    "x = x + t*d\n",
    "saved_x2 = x\n",
    "check(steps[ii].x, x, \"x\")\n",
    "\n",
    "f = env.numpy_to_itensor(steps[ii].f, dtype=im.float64)\n",
    "g = env.numpy_to_itensor(steps[ii].g, dtype=im.float64)\n",
    "\n",
    "tmp1 = im.abs(g)\n",
    "check(steps[ii].tmp1, tmp1, \"tmp1\")\n",
    "\n",
    "check(steps[ii].fdiff, f - f_old, \"fdiff\")\n"
   ]
  },
  {
   "cell_type": "markdown",
   "metadata": {},
   "source": [
    "## Compare against TensorFlow reference vals"
   ]
  },
  {
   "cell_type": "code",
   "execution_count": 55,
   "metadata": {
    "collapsed": false
   },
   "outputs": [],
   "source": [
    "tf_steps = np.load(\"stepdata.lbfgs/tf_steps.npy\")"
   ]
  },
  {
   "cell_type": "code",
   "execution_count": 56,
   "metadata": {
    "collapsed": false
   },
   "outputs": [
    {
     "data": {
      "text/plain": [
       "array([ 5127.03171863,  5130.04318512,  5127.98121174,  5124.8685638 ,\n",
       "        5126.54166589,  5123.77601491,  5123.52657661,  5122.07118443,\n",
       "        5116.12007034,  5102.09056498,  4843.9990814 ,  2789.97579214,\n",
       "        4627.80266186,  3100.37620804,  2722.08568563,  2461.58765335,\n",
       "        2362.2904514 ,  3731.44232302,  2285.97570329,  2214.3510978 ,\n",
       "        2123.95700776,  2067.77738624,  1971.95403217,  1890.38364658,\n",
       "        1832.80364492,  1743.91193572,  1622.14935961,  1539.20976905,\n",
       "        1429.11247567,  1329.57881407,  1329.57881407])"
      ]
     },
     "execution_count": 56,
     "metadata": {},
     "output_type": "execute_result"
    }
   ],
   "source": [
    "tf_steps"
   ]
  },
  {
   "cell_type": "code",
   "execution_count": 60,
   "metadata": {
    "collapsed": false
   },
   "outputs": [
    {
     "data": {
      "text/plain": [
       "[<matplotlib.lines.Line2D at 0x132265210>]"
      ]
     },
     "execution_count": 60,
     "metadata": {},
     "output_type": "execute_result"
    },
    {
     "data": {
      "image/png": "[encoded data removed]",
      "text/plain": [
       "<matplotlib.figure.Figure at 0x13214e810>"
      ]
     },
     "metadata": {},
     "output_type": "display_data"
    }
   ],
   "source": [
    "torch_steps = [step.f for step in steps]\n",
    "plt.plot(torch_steps)"
   ]
  },
  {
   "cell_type": "code",
   "execution_count": 68,
   "metadata": {
    "collapsed": false
   },
   "outputs": [
    {
     "data": {
      "text/plain": [
       "[<matplotlib.lines.Line2D at 0x1326da0d0>,\n",
       " <matplotlib.lines.Line2D at 0x1326da350>]"
      ]
     },
     "execution_count": 68,
     "metadata": {},
     "output_type": "execute_result"
    },
    {
     "data": {
      "image/png": "[encoded data removed]",
      "text/plain": [
       "<matplotlib.figure.Figure at 0x132189e10>"
      ]
     },
     "metadata": {},
     "output_type": "display_data"
    }
   ],
   "source": [
    "plt.plot(range(31), tf_steps, range(30), torch_steps)"
   ]
  },
  {
   "cell_type": "code",
   "execution_count": 150,
   "metadata": {
    "collapsed": true
   },
   "outputs": [],
   "source": [
    "class Step(object):\n",
    "    pass\n",
    "\n",
    "def load_txt(fname):\n",
    "    if os.path.exists(fname):\n",
    "        return np.loadtxt(fname, dtype=np.float64)\n",
    "    else:\n",
    "        return None\n",
    "    \n",
    "def load_binary(fname):\n",
    "    fname = fname+\".npy\"  # numpy export adds suffix\n",
    "    if os.path.exists(fname):\n",
    "        return np.load(fname)\n",
    "    else:\n",
    "        return None\n",
    "    \n",
    "def loadStep(i, load_func, prefix):\n",
    "    step = Step()\n",
    "    step.al = load_func(prefix+\"/al-\"+str(i))\n",
    "    step.q = load_func(prefix+\"/q-\"+str(i))\n",
    "    step.ro = load_func(prefix+\"/ro-\"+str(i))\n",
    "    step.g = load_func(prefix+\"/g-\"+str(i))\n",
    "    step.x = load_func(prefix+\"/x-\"+str(i))\n",
    "    step.f = load_func(prefix+\"/f-\"+str(i))\n",
    "    step.Hdiag = load_func(prefix+\"/Hdiag-\"+str(i))\n",
    "    step.d = load_func(prefix+\"/d-\"+str(i))\n",
    "    step.be_i = load_func(prefix+\"/be_i-\"+str(i))\n",
    "    step.r = load_func(prefix+\"/r-\"+str(i))\n",
    "    step.y = load_func(prefix+\"/y-\"+str(i))\n",
    "    step.s = load_func(prefix+\"/s-\"+str(i))\n",
    "    step.tmp1 = load_func(prefix+\"/tmp1-\"+str(i))\n",
    "    step.tmp11 = load_func(prefix+\"/tmp11-\"+str(i))\n",
    "    step.ys = load_func(prefix+\"/ys-\"+str(i))\n",
    "    step.gtd = load_func(prefix+\"/gtd-\"+str(i))\n",
    "    step.t = load_func(prefix+\"/t-\"+str(i))\n",
    "    step.fdiff = load_func(prefix+\"/fdiff-\"+str(i))\n",
    "    return step"
   ]
  },
  {
   "cell_type": "code",
   "execution_count": 75,
   "metadata": {
    "collapsed": false
   },
   "outputs": [],
   "source": [
    "torch_steps = [loadStep(i, load_txt, \"stepdata.lbfgs\") for i in range(30)]"
   ]
  },
  {
   "cell_type": "code",
   "execution_count": 154,
   "metadata": {
    "collapsed": false
   },
   "outputs": [],
   "source": [
    "tf_steps = [loadStep(i, load_binary, \"stepdata.tf\") for i in range(30)]"
   ]
  },
  {
   "cell_type": "code",
   "execution_count": 155,
   "metadata": {
    "collapsed": false
   },
   "outputs": [
    {
     "data": {
      "text/plain": [
       "[<matplotlib.lines.Line2D at 0x132d57bd0>,\n",
       " <matplotlib.lines.Line2D at 0x132d57e50>]"
      ]
     },
     "execution_count": 155,
     "metadata": {},
     "output_type": "execute_result"
    },
    {
     "data": {
      "image/png": "[encoded data removed]",
      "text/plain": [
       "<matplotlib.figure.Figure at 0x132495750>"
      ]
     },
     "metadata": {},
     "output_type": "display_data"
    }
   ],
   "source": [
    "torch_fvals = [s.f for s in torch_steps]\n",
    "tf_fvals = [s.f for s in tf_steps]\n",
    "plt.plot(range(30), torch_fvals, range(30), tf_fvals)"
   ]
  },
  {
   "cell_type": "markdown",
   "metadata": {},
   "source": [
    "## Track down numeric difference"
   ]
  },
  {
   "cell_type": "code",
   "execution_count": 37,
   "metadata": {
    "collapsed": true
   },
   "outputs": [],
   "source": [
    "tf.mul??"
   ]
  },
  {
   "cell_type": "code",
   "execution_count": null,
   "metadata": {
    "collapsed": true
   },
   "outputs": [],
   "source": [
    "config.intra_op_parallelism_threads=1"
   ]
  },
  {
   "cell_type": "code",
   "execution_count": 136,
   "metadata": {
    "collapsed": true
   },
   "outputs": [],
   "source": [
    "def replace_none_with_one(l):\n",
    "    return [(1 if x is None else x) for x in l]\n",
    "\n",
    "def replace_none_with_zero(l):\n",
    "    return [(0 if x is None else x) for x in l]\n",
    "\n",
    "def max_relative_error(vec1, vec2):\n",
    "    vec1 = np.asarray(vec1)\n",
    "    vec2 = np.asarray(vec2)\n",
    "    return np.max(np.abs((vec1-vec2)/vec2))\n",
    "\n",
    "def plot_err(attr, maxiter=10):\n",
    "    torch_vals = [s.__dict__[attr] for s in torch_steps[:maxiter]]\n",
    "    torch_vals = replace_none_with_one(torch_vals)\n",
    "    tf_vals = [s.__dict__[attr] for s in tf_steps[:maxiter]]\n",
    "    tf_vals = replace_none_with_one(tf_vals)\n",
    "    errors = [max_relative_error(ours, theirs) for (ours, theirs) in zip(tf_vals, torch_vals)]\n",
    "    plt.plot(errors)\n",
    "    \n",
    "def plot_val(attr, maxiter=10):\n",
    "    torch_vals = [s.__dict__[attr] for s in torch_steps[:maxiter]]\n",
    "    torch_vals = replace_none_with_zero(torch_vals)\n",
    "    tf_vals = [s.__dict__[attr] for s in tf_steps[:maxiter]]\n",
    "    tf_vals = replace_none_with_one(tf_vals)\n",
    "    plt.plot(range(maxiter), tf_vals, range(maxiter), torch_vals)"
   ]
  },
  {
   "cell_type": "code",
   "execution_count": 162,
   "metadata": {
    "collapsed": false
   },
   "outputs": [
    {
     "data": {
      "image/png": "[encoded data removed]",
      "text/plain": [
       "<matplotlib.figure.Figure at 0x1326b7f10>"
      ]
     },
     "metadata": {},
     "output_type": "display_data"
    }
   ],
   "source": [
    "plot_err(\"f\", maxiter=29)"
   ]
  },
  {
   "cell_type": "code",
   "execution_count": 160,
   "metadata": {
    "collapsed": false
   },
   "outputs": [
    {
     "data": {
      "image/png": "[encoded data removed]",
      "text/plain": [
       "<matplotlib.figure.Figure at 0x13201e190>"
      ]
     },
     "metadata": {},
     "output_type": "display_data"
    }
   ],
   "source": [
    "plot_err(\"x\", maxiter=25)"
   ]
  },
  {
   "cell_type": "code",
   "execution_count": 163,
   "metadata": {
    "collapsed": false
   },
   "outputs": [
    {
     "data": {
      "image/png": "[encoded data removed]",
      "text/plain": [
       "<matplotlib.figure.Figure at 0x1326f2150>"
      ]
     },
     "metadata": {},
     "output_type": "display_data"
    }
   ],
   "source": [
    "plot_err(\"gtd\", maxiter=29)"
   ]
  },
  {
   "cell_type": "code",
   "execution_count": 137,
   "metadata": {
    "collapsed": false
   },
   "outputs": [
    {
     "data": {
      "image/png": "[encoded data removed]",
      "text/plain": [
       "<matplotlib.figure.Figure at 0x132365150>"
      ]
     },
     "metadata": {},
     "output_type": "display_data"
    }
   ],
   "source": [
    "plot_val(\"gtd\", maxiter=8)\n",
    "maxiter=8\n",
    "attr=\"gtd\"\n",
    "torch_vals = [s.__dict__[attr] for s in torch_steps[:maxiter]]\n",
    "tf_vals = [s.__dict__[attr] for s in tf_steps[:maxiter]]"
   ]
  },
  {
   "cell_type": "code",
   "execution_count": 135,
   "metadata": {
    "collapsed": false
   },
   "outputs": [
    {
     "data": {
      "text/plain": [
       "[None,\n",
       " array(-144861.74155),\n",
       " array(-3.8607121518003),\n",
       " array(-0.47295263596701),\n",
       " array(-2.3866259985243),\n",
       " array(-1.1953834463466),\n",
       " array(-2.0840376235124),\n",
       " array(-35.798563286496)]"
      ]
     },
     "execution_count": 135,
     "metadata": {},
     "output_type": "execute_result"
    }
   ],
   "source": [
    "torch_vals"
   ]
  },
  {
   "cell_type": "code",
   "execution_count": 138,
   "metadata": {
    "collapsed": false
   },
   "outputs": [
    {
     "data": {
      "text/plain": [
       "[None,\n",
       " array(-735121.255036311),\n",
       " array(-3.911509365600603),\n",
       " array(-3.832101471689823),\n",
       " array(-3.9681468603053407),\n",
       " array(-8.06587434876114),\n",
       " array(-0.27889901326496624),\n",
       " array(-1.675953391067623)]"
      ]
     },
     "execution_count": 138,
     "metadata": {},
     "output_type": "execute_result"
    }
   ],
   "source": [
    "tf_vals"
   ]
  },
  {
   "cell_type": "code",
   "execution_count": 139,
   "metadata": {
    "collapsed": false
   },
   "outputs": [
    {
     "data": {
      "image/png": "[encoded data removed]",
      "text/plain": [
       "<matplotlib.figure.Figure at 0x1324c6cd0>"
      ]
     },
     "metadata": {},
     "output_type": "display_data"
    }
   ],
   "source": [
    "plot_err(\"g\", maxiter=8)"
   ]
  },
  {
   "cell_type": "code",
   "execution_count": 140,
   "metadata": {
    "collapsed": false
   },
   "outputs": [
    {
     "data": {
      "text/plain": [
       "array([ 1.  ,  1.  ,  1.  , ...,  1.  ,  1.02,  0.99])"
      ]
     },
     "execution_count": 140,
     "metadata": {},
     "output_type": "execute_result"
    }
   ],
   "source": [
    "torch_steps[0].g"
   ]
  },
  {
   "cell_type": "code",
   "execution_count": 144,
   "metadata": {
    "collapsed": false
   },
   "outputs": [
    {
     "data": {
      "text/plain": [
       "array(5127.302585093)"
      ]
     },
     "execution_count": 144,
     "metadata": {},
     "output_type": "execute_result"
    }
   ],
   "source": [
    "torch_steps[0].f"
   ]
  },
  {
   "cell_type": "code",
   "execution_count": 143,
   "metadata": {
    "collapsed": false
   },
   "outputs": [
    {
     "data": {
      "text/plain": [
       "array([ 0.99995962,  0.99995962,  0.99995962, ...,  0.912153  ,\n",
       "        0.93114472,  0.93238423])"
      ]
     },
     "execution_count": 143,
     "metadata": {},
     "output_type": "execute_result"
    }
   ],
   "source": [
    "tf_steps[0].g"
   ]
  },
  {
   "cell_type": "code",
   "execution_count": 145,
   "metadata": {
    "collapsed": false
   },
   "outputs": [
    {
     "data": {
      "text/plain": [
       "0.000851500466700017"
      ]
     },
     "execution_count": 145,
     "metadata": {},
     "output_type": "execute_result"
    }
   ],
   "source": [
    "max_relative_error(tf_steps[0].x, torch_steps[0].x)"
   ]
  },
  {
   "cell_type": "code",
   "execution_count": 148,
   "metadata": {
    "collapsed": false
   },
   "outputs": [
    {
     "data": {
      "text/plain": [
       "1.0"
      ]
     },
     "execution_count": 148,
     "metadata": {},
     "output_type": "execute_result"
    }
   ],
   "source": [
    "torch_steps[0].x[0]"
   ]
  },
  {
   "cell_type": "code",
   "execution_count": 149,
   "metadata": {
    "collapsed": false
   },
   "outputs": [
    {
     "data": {
      "text/plain": [
       "0.99995962156359997"
      ]
     },
     "execution_count": 149,
     "metadata": {},
     "output_type": "execute_result"
    }
   ],
   "source": [
    "tf_steps[0].x[0]"
   ]
  },
  {
   "cell_type": "markdown",
   "metadata": {},
   "source": [
    "# Power iteration to find rank-1 matrix"
   ]
  },
  {
   "cell_type": "code",
   "execution_count": 92,
   "metadata": {
    "collapsed": false
   },
   "outputs": [
    {
     "name": "stdout",
     "output_type": "stream",
     "text": [
      "Iterating\n",
      "Iterating\n",
      "Iterating\n",
      "Iterating\n",
      "Iterating\n",
      "Iterating\n",
      "Iterating\n",
      "Iterating\n",
      "Iterating\n",
      "Iterating\n"
     ]
    },
    {
     "data": {
      "text/plain": [
       "2.4286128663675299e-16"
      ]
     },
     "execution_count": 92,
     "metadata": {},
     "output_type": "execute_result"
    }
   ],
   "source": [
    "def rank1_approximation(a):\n",
    "    a = a/np.sum(a)\n",
    "    u = np.sum(a, axis=0, keepdims=True)\n",
    "    return np.dot(u.T, u)\n",
    "\n",
    "n = 4\n",
    "a = np.abs(np.random.random((n, n)))\n",
    "a = a+a.T\n",
    "b = a\n",
    "normdiff = 100\n",
    "for i in range(10):\n",
    "    print(\"Iterating\")\n",
    "    b_old = b\n",
    "    b = np.dot(b, a)\n",
    "    b = b/np.sum(b)\n",
    "    \n",
    "    normdiff = np.sum(np.abs(b-b_old))\n",
    "    if normdiff < 1e-10:\n",
    "        break\n",
    "        \n",
    "np.sum(rank1_approximation(b)-b)"
   ]
  },
  {
   "cell_type": "markdown",
   "metadata": {},
   "source": [
    "## Power iteration in tf immediate"
   ]
  },
  {
   "cell_type": "code",
   "execution_count": 114,
   "metadata": {
    "collapsed": true
   },
   "outputs": [],
   "source": [
    "env.close()"
   ]
  },
  {
   "cell_type": "code",
   "execution_count": 113,
   "metadata": {
    "collapsed": false
   },
   "outputs": [
    {
     "ename": "ResourceExhaustedError",
     "evalue": "OOM when allocating tensor with shape[2048,2048]\n\t [[Node: Add.float32.op = Add[T=DT_FLOAT, _device=\"/job:localhost/replica:0/task:0/gpu:0\"](Add.float32.0, Add.float32.1)]]\n\t [[Node: Add.float32.out.handle/_38 = _Recv[client_terminated=false, recv_device=\"/job:localhost/replica:0/task:0/cpu:0\", send_device=\"/job:localhost/replica:0/task:0/gpu:0\", send_device_incarnation=1, tensor_name=\"edge_3_Add.float32.out.handle\", tensor_type=DT_STRING, _device=\"/job:localhost/replica:0/task:0/cpu:0\"]()]]\nCaused by op u'Add.float32.op', defined at:\n  File \"/System/Library/Frameworks/Python.framework/Versions/2.7/lib/python2.7/runpy.py\", line 162, in _run_module_as_main\n    \"__main__\", fname, loader, pkg_name)\n  File \"/System/Library/Frameworks/Python.framework/Versions/2.7/lib/python2.7/runpy.py\", line 72, in _run_code\n    exec code in run_globals\n  File \"/Library/Python/2.7/site-packages/ipykernel/__main__.py\", line 3, in <module>\n    app.launch_new_instance()\n  File \"/Library/Python/2.7/site-packages/traitlets-4.2.1-py2.7.egg/traitlets/config/application.py\", line 596, in launch_instance\n    app.start()\n  File \"/Library/Python/2.7/site-packages/ipykernel/kernelapp.py\", line 442, in start\n    ioloop.IOLoop.instance().start()\n  File \"/Library/Python/2.7/site-packages/zmq/eventloop/ioloop.py\", line 162, in start\n    super(ZMQIOLoop, self).start()\n  File \"/Library/Python/2.7/site-packages/tornado/ioloop.py\", line 883, in start\n    handler_func(fd_obj, events)\n  File \"/Library/Python/2.7/site-packages/tornado/stack_context.py\", line 275, in null_wrapper\n    return fn(*args, **kwargs)\n  File \"/Library/Python/2.7/site-packages/zmq/eventloop/zmqstream.py\", line 440, in _handle_events\n    self._handle_recv()\n  File \"/Library/Python/2.7/site-packages/zmq/eventloop/zmqstream.py\", line 472, in _handle_recv\n    self._run_callback(callback, msg)\n  File \"/Library/Python/2.7/site-packages/zmq/eventloop/zmqstream.py\", line 414, in _run_callback\n    callback(*args, **kwargs)\n  File \"/Library/Python/2.7/site-packages/tornado/stack_context.py\", line 275, in null_wrapper\n    return fn(*args, **kwargs)\n  File \"/Library/Python/2.7/site-packages/ipykernel/kernelbase.py\", line 276, in dispatcher\n    return self.dispatch_shell(stream, msg)\n  File \"/Library/Python/2.7/site-packages/ipykernel/kernelbase.py\", line 228, in dispatch_shell\n    handler(stream, idents, msg)\n  File \"/Library/Python/2.7/site-packages/ipykernel/kernelbase.py\", line 391, in execute_request\n    user_expressions, allow_stdin)\n  File \"/Library/Python/2.7/site-packages/ipykernel/ipkernel.py\", line 199, in do_execute\n    shell.run_cell(code, store_history=store_history, silent=silent)\n  File \"/Library/Python/2.7/site-packages/ipython-4.2.0-py2.7.egg/IPython/core/interactiveshell.py\", line 2723, in run_cell\n    interactivity=interactivity, compiler=compiler, result=result)\n  File \"/Library/Python/2.7/site-packages/ipython-4.2.0-py2.7.egg/IPython/core/interactiveshell.py\", line 2831, in run_ast_nodes\n    if self.run_code(code, result):\n  File \"/Library/Python/2.7/site-packages/ipython-4.2.0-py2.7.egg/IPython/core/interactiveshell.py\", line 2885, in run_code\n    exec(code_obj, self.user_global_ns, self.user_ns)\n  File \"<ipython-input-98-3bf6f53eef97>\", line 1, in <module>\n    ti.random_uniform((n, n))\n  File \"/Users/yaroslavvb/tfimmediate_hood/tensorflow/_python_build/tensorflow/python/ops/random_ops.py\", line 183, in random_uniform\n    return math_ops.add(rnd * (maxval - minval), minval, name=name)\n  File \"/Users/yaroslavvb/tfimmediate_hood/tensorflow/_python_build/tensorflow/python/ops/gen_math_ops.py\", line 70, in add\n    result = _op_def_lib.apply_op(\"Add\", x=x, y=y, name=name)\n  File \"/Users/yaroslavvb/tfimmediate_hood/tensorflow/_python_build/tensorflow/contrib/immediate/python/immediate/op.py\", line 182, in apply_op\n    **opdeflib_keywords)\n  File \"/Users/yaroslavvb/tfimmediate_hood/tensorflow/_python_build/tensorflow/python/framework/op_def_library.py\", line 703, in apply_op\n    op_def=op_def)\n  File \"/Users/yaroslavvb/tfimmediate_hood/tensorflow/_python_build/tensorflow/python/framework/ops.py\", line 2260, in create_op\n    original_op=self._default_original_op, op_def=op_def)\n  File \"/Users/yaroslavvb/tfimmediate_hood/tensorflow/_python_build/tensorflow/python/framework/ops.py\", line 1230, in __init__\n    self._traceback = _extract_stack()\n",
     "output_type": "error",
     "traceback": [
      "\u001b[0;31m---------------------------------------------------------------------------\u001b[0m",
      "\u001b[0;31mResourceExhaustedError\u001b[0m                    Traceback (most recent call last)",
      "\u001b[0;32m<ipython-input-113-da2318aadbf0>\u001b[0m in \u001b[0;36m<module>\u001b[0;34m()\u001b[0m\n\u001b[1;32m      5\u001b[0m \u001b[0;34m\u001b[0m\u001b[0m\n\u001b[1;32m      6\u001b[0m \u001b[0mn\u001b[0m \u001b[0;34m=\u001b[0m \u001b[0;36m2048\u001b[0m\u001b[0;34m\u001b[0m\u001b[0m\n\u001b[0;32m----> 7\u001b[0;31m \u001b[0ma\u001b[0m \u001b[0;34m=\u001b[0m \u001b[0mti\u001b[0m\u001b[0;34m.\u001b[0m\u001b[0mrandom_uniform\u001b[0m\u001b[0;34m(\u001b[0m\u001b[0;34m(\u001b[0m\u001b[0mn\u001b[0m\u001b[0;34m,\u001b[0m \u001b[0mn\u001b[0m\u001b[0;34m)\u001b[0m\u001b[0;34m)\u001b[0m\u001b[0;34m\u001b[0m\u001b[0m\n\u001b[0m\u001b[1;32m      8\u001b[0m \u001b[0ma\u001b[0m \u001b[0;34m=\u001b[0m \u001b[0ma\u001b[0m\u001b[0;34m+\u001b[0m\u001b[0mti\u001b[0m\u001b[0;34m.\u001b[0m\u001b[0mtranspose\u001b[0m\u001b[0;34m(\u001b[0m\u001b[0ma\u001b[0m\u001b[0;34m)\u001b[0m\u001b[0;34m\u001b[0m\u001b[0m\n\u001b[1;32m      9\u001b[0m \u001b[0mb\u001b[0m \u001b[0;34m=\u001b[0m \u001b[0ma\u001b[0m\u001b[0;34m\u001b[0m\u001b[0m\n",
      "\u001b[0;32mimmediate./Users/yaroslavvb/tfimmediate_hood/tensorflow/_python_build/tensorflow/python/ops/random_ops.pyc\u001b[0m in \u001b[0;36mrandom_uniform\u001b[0;34m(shape, minval, maxval, dtype, seed, name)\u001b[0m\n\u001b[1;32m    181\u001b[0m       rnd = gen_random_ops._random_uniform(shape, dtype, seed=seed1,\n\u001b[1;32m    182\u001b[0m                                            seed2=seed2)\n\u001b[0;32m--> 183\u001b[0;31m       \u001b[0;32mreturn\u001b[0m \u001b[0mmath_ops\u001b[0m\u001b[0;34m.\u001b[0m\u001b[0madd\u001b[0m\u001b[0;34m(\u001b[0m\u001b[0mrnd\u001b[0m \u001b[0;34m*\u001b[0m \u001b[0;34m(\u001b[0m\u001b[0mmaxval\u001b[0m \u001b[0;34m-\u001b[0m \u001b[0mminval\u001b[0m\u001b[0;34m)\u001b[0m\u001b[0;34m,\u001b[0m \u001b[0mminval\u001b[0m\u001b[0;34m,\u001b[0m \u001b[0mname\u001b[0m\u001b[0;34m=\u001b[0m\u001b[0mname\u001b[0m\u001b[0;34m)\u001b[0m\u001b[0;34m\u001b[0m\u001b[0m\n\u001b[0m\u001b[1;32m    184\u001b[0m \u001b[0;34m\u001b[0m\u001b[0m\n\u001b[1;32m    185\u001b[0m \u001b[0;34m\u001b[0m\u001b[0m\n",
      "\u001b[0;32mimmediate./Users/yaroslavvb/tfimmediate_hood/tensorflow/_python_build/tensorflow/python/ops/gen_math_ops.pyc\u001b[0m in \u001b[0;36madd\u001b[0;34m(x, y, name)\u001b[0m\n\u001b[1;32m     68\u001b[0m     \u001b[0mA\u001b[0m \u001b[0;34m`\u001b[0m\u001b[0mTensor\u001b[0m\u001b[0;34m`\u001b[0m\u001b[0;34m.\u001b[0m \u001b[0mHas\u001b[0m \u001b[0mthe\u001b[0m \u001b[0msame\u001b[0m \u001b[0mtype\u001b[0m \u001b[0;32mas\u001b[0m \u001b[0;34m`\u001b[0m\u001b[0mx\u001b[0m\u001b[0;34m`\u001b[0m\u001b[0;34m.\u001b[0m\u001b[0;34m\u001b[0m\u001b[0m\n\u001b[1;32m     69\u001b[0m   \"\"\"\n\u001b[0;32m---> 70\u001b[0;31m   \u001b[0mresult\u001b[0m \u001b[0;34m=\u001b[0m \u001b[0m_op_def_lib\u001b[0m\u001b[0;34m.\u001b[0m\u001b[0mapply_op\u001b[0m\u001b[0;34m(\u001b[0m\u001b[0;34m\"Add\"\u001b[0m\u001b[0;34m,\u001b[0m \u001b[0mx\u001b[0m\u001b[0;34m=\u001b[0m\u001b[0mx\u001b[0m\u001b[0;34m,\u001b[0m \u001b[0my\u001b[0m\u001b[0;34m=\u001b[0m\u001b[0my\u001b[0m\u001b[0;34m,\u001b[0m \u001b[0mname\u001b[0m\u001b[0;34m=\u001b[0m\u001b[0mname\u001b[0m\u001b[0;34m)\u001b[0m\u001b[0;34m\u001b[0m\u001b[0m\n\u001b[0m\u001b[1;32m     71\u001b[0m   \u001b[0;32mreturn\u001b[0m \u001b[0mresult\u001b[0m\u001b[0;34m\u001b[0m\u001b[0m\n\u001b[1;32m     72\u001b[0m \u001b[0;34m\u001b[0m\u001b[0m\n",
      "\u001b[0;32m/Users/yaroslavvb/tfimmediate_hood/tensorflow/_python_build/tensorflow/contrib/immediate/python/immediate/op.pyc\u001b[0m in \u001b[0;36mapply_op\u001b[0;34m(self, op_type_name, name, **keywords)\u001b[0m\n\u001b[1;32m    121\u001b[0m     \u001b[0;31m# Found op in cache, run it in return the results\u001b[0m\u001b[0;34m\u001b[0m\u001b[0;34m\u001b[0m\u001b[0m\n\u001b[1;32m    122\u001b[0m     \u001b[0;32mif\u001b[0m \u001b[0mop\u001b[0m\u001b[0;34m:\u001b[0m\u001b[0;34m\u001b[0m\u001b[0m\n\u001b[0;32m--> 123\u001b[0;31m       \u001b[0;32mreturn\u001b[0m \u001b[0mop\u001b[0m\u001b[0;34m(\u001b[0m\u001b[0;34m**\u001b[0m\u001b[0mkeywords\u001b[0m\u001b[0;34m)\u001b[0m\u001b[0;34m\u001b[0m\u001b[0m\n\u001b[0m\u001b[1;32m    124\u001b[0m \u001b[0;34m\u001b[0m\u001b[0m\n\u001b[1;32m    125\u001b[0m     \u001b[0;31m# Couldn't find op in graph cache, create it and add to cache\u001b[0m\u001b[0;34m\u001b[0m\u001b[0;34m\u001b[0m\u001b[0m\n",
      "\u001b[0;32m/Users/yaroslavvb/tfimmediate_hood/tensorflow/_python_build/tensorflow/contrib/immediate/python/immediate/op.pyc\u001b[0m in \u001b[0;36m__call__\u001b[0;34m(self, **kwargs)\u001b[0m\n\u001b[1;32m     63\u001b[0m         \u001b[0mfeed_dict\u001b[0m\u001b[0;34m[\u001b[0m\u001b[0mholder\u001b[0m\u001b[0;34m]\u001b[0m \u001b[0;34m=\u001b[0m \u001b[0mitensor\u001b[0m\u001b[0;34m.\u001b[0m\u001b[0mtf_handle\u001b[0m\u001b[0;34m\u001b[0m\u001b[0m\n\u001b[1;32m     64\u001b[0m \u001b[0;34m\u001b[0m\u001b[0m\n\u001b[0;32m---> 65\u001b[0;31m     \u001b[0mtensor_handle\u001b[0m \u001b[0;34m=\u001b[0m \u001b[0mself\u001b[0m\u001b[0;34m.\u001b[0m\u001b[0menv\u001b[0m\u001b[0;34m.\u001b[0m\u001b[0mrun\u001b[0m\u001b[0;34m(\u001b[0m\u001b[0mself\u001b[0m\u001b[0;34m.\u001b[0m\u001b[0moutput_handle\u001b[0m\u001b[0;34m,\u001b[0m \u001b[0mfeed_dict\u001b[0m\u001b[0;34m=\u001b[0m\u001b[0mfeed_dict\u001b[0m\u001b[0;34m)\u001b[0m\u001b[0;34m\u001b[0m\u001b[0m\n\u001b[0m\u001b[1;32m     66\u001b[0m     \u001b[0;32mif\u001b[0m \u001b[0mutil\u001b[0m\u001b[0;34m.\u001b[0m\u001b[0mis_list_or_tuple\u001b[0m\u001b[0;34m(\u001b[0m\u001b[0mtensor_handle\u001b[0m\u001b[0;34m)\u001b[0m\u001b[0;34m:\u001b[0m\u001b[0;34m\u001b[0m\u001b[0m\n\u001b[1;32m     67\u001b[0m       \u001b[0;32mreturn\u001b[0m \u001b[0;34m[\u001b[0m\u001b[0mitensor_lib\u001b[0m\u001b[0;34m.\u001b[0m\u001b[0mITensor\u001b[0m\u001b[0;34m(\u001b[0m\u001b[0mself\u001b[0m\u001b[0;34m.\u001b[0m\u001b[0menv\u001b[0m\u001b[0;34m,\u001b[0m \u001b[0mt\u001b[0m\u001b[0;34m)\u001b[0m \u001b[0;32mfor\u001b[0m \u001b[0mt\u001b[0m \u001b[0;32min\u001b[0m \u001b[0mtensor_handle\u001b[0m\u001b[0;34m]\u001b[0m\u001b[0;34m\u001b[0m\u001b[0m\n",
      "\u001b[0;32m/Users/yaroslavvb/tfimmediate_hood/tensorflow/_python_build/tensorflow/contrib/immediate/python/immediate/env.pyc\u001b[0m in \u001b[0;36mrun\u001b[0;34m(self, *args, **kwargs)\u001b[0m\n\u001b[1;32m    377\u001b[0m       \u001b[0;32mreturn\u001b[0m \u001b[0mself\u001b[0m\u001b[0;34m.\u001b[0m\u001b[0msess\u001b[0m\u001b[0;34m.\u001b[0m\u001b[0mrun\u001b[0m\u001b[0;34m(\u001b[0m\u001b[0;34m*\u001b[0m\u001b[0margs\u001b[0m\u001b[0;34m,\u001b[0m \u001b[0;34m**\u001b[0m\u001b[0mkwargs\u001b[0m\u001b[0;34m)\u001b[0m\u001b[0;34m\u001b[0m\u001b[0m\n\u001b[1;32m    378\u001b[0m     \u001b[0;32melse\u001b[0m\u001b[0;34m:\u001b[0m\u001b[0;34m\u001b[0m\u001b[0m\n\u001b[0;32m--> 379\u001b[0;31m       \u001b[0;32mreturn\u001b[0m \u001b[0mself\u001b[0m\u001b[0;34m.\u001b[0m\u001b[0msess\u001b[0m\u001b[0;34m.\u001b[0m\u001b[0mrun\u001b[0m\u001b[0;34m(\u001b[0m\u001b[0;34m*\u001b[0m\u001b[0margs\u001b[0m\u001b[0;34m,\u001b[0m \u001b[0;34m**\u001b[0m\u001b[0mkwargs\u001b[0m\u001b[0;34m)\u001b[0m\u001b[0;34m\u001b[0m\u001b[0m\n\u001b[0m",
      "\u001b[0;32m/Users/yaroslavvb/tfimmediate_hood/tensorflow/_python_build/tensorflow/python/client/session.pyc\u001b[0m in \u001b[0;36mrun\u001b[0;34m(self, fetches, feed_dict, options, run_metadata)\u001b[0m\n\u001b[1;32m    365\u001b[0m     \u001b[0;32mtry\u001b[0m\u001b[0;34m:\u001b[0m\u001b[0;34m\u001b[0m\u001b[0m\n\u001b[1;32m    366\u001b[0m       result = self._run(None, fetches, feed_dict, options_ptr,\n\u001b[0;32m--> 367\u001b[0;31m                          run_metadata_ptr)\n\u001b[0m\u001b[1;32m    368\u001b[0m       \u001b[0;32mif\u001b[0m \u001b[0mrun_metadata\u001b[0m\u001b[0;34m:\u001b[0m\u001b[0;34m\u001b[0m\u001b[0m\n\u001b[1;32m    369\u001b[0m         \u001b[0mproto_data\u001b[0m \u001b[0;34m=\u001b[0m \u001b[0mtf_session\u001b[0m\u001b[0;34m.\u001b[0m\u001b[0mTF_GetBuffer\u001b[0m\u001b[0;34m(\u001b[0m\u001b[0mrun_metadata_ptr\u001b[0m\u001b[0;34m)\u001b[0m\u001b[0;34m\u001b[0m\u001b[0m\n",
      "\u001b[0;32m/Users/yaroslavvb/tfimmediate_hood/tensorflow/_python_build/tensorflow/python/client/session.pyc\u001b[0m in \u001b[0;36m_run\u001b[0;34m(self, handle, fetches, feed_dict, options, run_metadata)\u001b[0m\n\u001b[1;32m    638\u001b[0m     \u001b[0mmovers\u001b[0m \u001b[0;34m=\u001b[0m \u001b[0mself\u001b[0m\u001b[0;34m.\u001b[0m\u001b[0m_update_with_movers\u001b[0m\u001b[0;34m(\u001b[0m\u001b[0mfeed_dict_string\u001b[0m\u001b[0;34m,\u001b[0m \u001b[0mfeed_map\u001b[0m\u001b[0;34m)\u001b[0m\u001b[0;34m\u001b[0m\u001b[0m\n\u001b[1;32m    639\u001b[0m     results = self._do_run(handle, target_list, unique_fetches,\n\u001b[0;32m--> 640\u001b[0;31m                            feed_dict_string, options, run_metadata)\n\u001b[0m\u001b[1;32m    641\u001b[0m \u001b[0;34m\u001b[0m\u001b[0m\n\u001b[1;32m    642\u001b[0m     \u001b[0;31m# User may have fetched the same tensor multiple times, but we\u001b[0m\u001b[0;34m\u001b[0m\u001b[0;34m\u001b[0m\u001b[0m\n",
      "\u001b[0;32m/Users/yaroslavvb/tfimmediate_hood/tensorflow/_python_build/tensorflow/python/client/session.pyc\u001b[0m in \u001b[0;36m_do_run\u001b[0;34m(self, handle, target_list, fetch_list, feed_dict, options, run_metadata)\u001b[0m\n\u001b[1;32m    706\u001b[0m     \u001b[0;32mif\u001b[0m \u001b[0mhandle\u001b[0m \u001b[0;32mis\u001b[0m \u001b[0mNone\u001b[0m\u001b[0;34m:\u001b[0m\u001b[0;34m\u001b[0m\u001b[0m\n\u001b[1;32m    707\u001b[0m       return self._do_call(_run_fn, self._session, feed_dict, fetch_list,\n\u001b[0;32m--> 708\u001b[0;31m                            target_list, options, run_metadata)\n\u001b[0m\u001b[1;32m    709\u001b[0m     \u001b[0;32melse\u001b[0m\u001b[0;34m:\u001b[0m\u001b[0;34m\u001b[0m\u001b[0m\n\u001b[1;32m    710\u001b[0m       return self._do_call(_prun_fn, self._session, handle, feed_dict,\n",
      "\u001b[0;32m/Users/yaroslavvb/tfimmediate_hood/tensorflow/_python_build/tensorflow/python/client/session.pyc\u001b[0m in \u001b[0;36m_do_call\u001b[0;34m(self, fn, *args)\u001b[0m\n\u001b[1;32m    726\u001b[0m         \u001b[0;32mexcept\u001b[0m \u001b[0mKeyError\u001b[0m\u001b[0;34m:\u001b[0m\u001b[0;34m\u001b[0m\u001b[0m\n\u001b[1;32m    727\u001b[0m           \u001b[0;32mpass\u001b[0m\u001b[0;34m\u001b[0m\u001b[0m\n\u001b[0;32m--> 728\u001b[0;31m       \u001b[0;32mraise\u001b[0m \u001b[0mtype\u001b[0m\u001b[0;34m(\u001b[0m\u001b[0me\u001b[0m\u001b[0;34m)\u001b[0m\u001b[0;34m(\u001b[0m\u001b[0mnode_def\u001b[0m\u001b[0;34m,\u001b[0m \u001b[0mop\u001b[0m\u001b[0;34m,\u001b[0m \u001b[0mmessage\u001b[0m\u001b[0;34m)\u001b[0m\u001b[0;34m\u001b[0m\u001b[0m\n\u001b[0m\u001b[1;32m    729\u001b[0m \u001b[0;34m\u001b[0m\u001b[0m\n\u001b[1;32m    730\u001b[0m   \u001b[0;32mdef\u001b[0m \u001b[0m_extend_graph\u001b[0m\u001b[0;34m(\u001b[0m\u001b[0mself\u001b[0m\u001b[0;34m)\u001b[0m\u001b[0;34m:\u001b[0m\u001b[0;34m\u001b[0m\u001b[0m\n",
      "\u001b[0;31mResourceExhaustedError\u001b[0m: OOM when allocating tensor with shape[2048,2048]\n\t [[Node: Add.float32.op = Add[T=DT_FLOAT, _device=\"/job:localhost/replica:0/task:0/gpu:0\"](Add.float32.0, Add.float32.1)]]\n\t [[Node: Add.float32.out.handle/_38 = _Recv[client_terminated=false, recv_device=\"/job:localhost/replica:0/task:0/cpu:0\", send_device=\"/job:localhost/replica:0/task:0/gpu:0\", send_device_incarnation=1, tensor_name=\"edge_3_Add.float32.out.handle\", tensor_type=DT_STRING, _device=\"/job:localhost/replica:0/task:0/cpu:0\"]()]]\nCaused by op u'Add.float32.op', defined at:\n  File \"/System/Library/Frameworks/Python.framework/Versions/2.7/lib/python2.7/runpy.py\", line 162, in _run_module_as_main\n    \"__main__\", fname, loader, pkg_name)\n  File \"/System/Library/Frameworks/Python.framework/Versions/2.7/lib/python2.7/runpy.py\", line 72, in _run_code\n    exec code in run_globals\n  File \"/Library/Python/2.7/site-packages/ipykernel/__main__.py\", line 3, in <module>\n    app.launch_new_instance()\n  File \"/Library/Python/2.7/site-packages/traitlets-4.2.1-py2.7.egg/traitlets/config/application.py\", line 596, in launch_instance\n    app.start()\n  File \"/Library/Python/2.7/site-packages/ipykernel/kernelapp.py\", line 442, in start\n    ioloop.IOLoop.instance().start()\n  File \"/Library/Python/2.7/site-packages/zmq/eventloop/ioloop.py\", line 162, in start\n    super(ZMQIOLoop, self).start()\n  File \"/Library/Python/2.7/site-packages/tornado/ioloop.py\", line 883, in start\n    handler_func(fd_obj, events)\n  File \"/Library/Python/2.7/site-packages/tornado/stack_context.py\", line 275, in null_wrapper\n    return fn(*args, **kwargs)\n  File \"/Library/Python/2.7/site-packages/zmq/eventloop/zmqstream.py\", line 440, in _handle_events\n    self._handle_recv()\n  File \"/Library/Python/2.7/site-packages/zmq/eventloop/zmqstream.py\", line 472, in _handle_recv\n    self._run_callback(callback, msg)\n  File \"/Library/Python/2.7/site-packages/zmq/eventloop/zmqstream.py\", line 414, in _run_callback\n    callback(*args, **kwargs)\n  File \"/Library/Python/2.7/site-packages/tornado/stack_context.py\", line 275, in null_wrapper\n    return fn(*args, **kwargs)\n  File \"/Library/Python/2.7/site-packages/ipykernel/kernelbase.py\", line 276, in dispatcher\n    return self.dispatch_shell(stream, msg)\n  File \"/Library/Python/2.7/site-packages/ipykernel/kernelbase.py\", line 228, in dispatch_shell\n    handler(stream, idents, msg)\n  File \"/Library/Python/2.7/site-packages/ipykernel/kernelbase.py\", line 391, in execute_request\n    user_expressions, allow_stdin)\n  File \"/Library/Python/2.7/site-packages/ipykernel/ipkernel.py\", line 199, in do_execute\n    shell.run_cell(code, store_history=store_history, silent=silent)\n  File \"/Library/Python/2.7/site-packages/ipython-4.2.0-py2.7.egg/IPython/core/interactiveshell.py\", line 2723, in run_cell\n    interactivity=interactivity, compiler=compiler, result=result)\n  File \"/Library/Python/2.7/site-packages/ipython-4.2.0-py2.7.egg/IPython/core/interactiveshell.py\", line 2831, in run_ast_nodes\n    if self.run_code(code, result):\n  File \"/Library/Python/2.7/site-packages/ipython-4.2.0-py2.7.egg/IPython/core/interactiveshell.py\", line 2885, in run_code\n    exec(code_obj, self.user_global_ns, self.user_ns)\n  File \"<ipython-input-98-3bf6f53eef97>\", line 1, in <module>\n    ti.random_uniform((n, n))\n  File \"/Users/yaroslavvb/tfimmediate_hood/tensorflow/_python_build/tensorflow/python/ops/random_ops.py\", line 183, in random_uniform\n    return math_ops.add(rnd * (maxval - minval), minval, name=name)\n  File \"/Users/yaroslavvb/tfimmediate_hood/tensorflow/_python_build/tensorflow/python/ops/gen_math_ops.py\", line 70, in add\n    result = _op_def_lib.apply_op(\"Add\", x=x, y=y, name=name)\n  File \"/Users/yaroslavvb/tfimmediate_hood/tensorflow/_python_build/tensorflow/contrib/immediate/python/immediate/op.py\", line 182, in apply_op\n    **opdeflib_keywords)\n  File \"/Users/yaroslavvb/tfimmediate_hood/tensorflow/_python_build/tensorflow/python/framework/op_def_library.py\", line 703, in apply_op\n    op_def=op_def)\n  File \"/Users/yaroslavvb/tfimmediate_hood/tensorflow/_python_build/tensorflow/python/framework/ops.py\", line 2260, in create_op\n    original_op=self._default_original_op, op_def=op_def)\n  File \"/Users/yaroslavvb/tfimmediate_hood/tensorflow/_python_build/tensorflow/python/framework/ops.py\", line 1230, in __init__\n    self._traceback = _extract_stack()\n"
     ]
    }
   ],
   "source": [
    "def rank1_approximation(a):\n",
    "    a = a/ti.reduce_sum(a)\n",
    "    u = ti.reduce_sum(a, reduction_indices=[0], keep_dims=True)\n",
    "    return ti.matmul(ti.transpose(u), u)\n",
    "\n",
    "n = 2048\n",
    "a = ti.random_uniform((n, n))\n",
    "a = a+ti.transpose(a)\n",
    "b = a\n",
    "for i in range(10):\n",
    "    print(\"Iterating\")\n",
    "    b_old = b\n",
    "    b = ti.matmul(b, a)\n",
    "    b = b/ti.reduce_sum(b)\n",
    "    \n",
    "    normdiff = ti.reduce_sum(ti.abs(b-b_old))\n",
    "    if normdiff < 1e-10:\n",
    "        break\n",
    "        \n",
    "ti.reduce_sum(rank1_approximation(b)-b)"
   ]
  },
  {
   "cell_type": "code",
   "execution_count": 108,
   "metadata": {
    "collapsed": false
   },
   "outputs": [
    {
     "data": {
      "text/plain": [
       "ITensor([[ 0.23033814  0.23847526  0.35202152  0.17916511]], dtype=float32)"
      ]
     },
     "execution_count": 108,
     "metadata": {},
     "output_type": "execute_result"
    }
   ],
   "source": [
    "ti.reduce_sum(b, reduction_indices=[0], keep_dims=True)"
   ]
  },
  {
   "cell_type": "code",
   "execution_count": 98,
   "metadata": {
    "collapsed": false
   },
   "outputs": [
    {
     "data": {
      "text/plain": [
       "ITensor([[ 0.99608922  0.8692162   0.51664305  0.56585586]\n",
       " [ 0.0503422   0.55015564  0.07797253  0.21255088]\n",
       " [ 0.90305197  0.11284614  0.72675896  0.55368793]\n",
       " [ 0.49552882  0.18307555  0.74828279  0.39706802]], dtype=float32)"
      ]
     },
     "execution_count": 98,
     "metadata": {},
     "output_type": "execute_result"
    }
   ],
   "source": []
  },
  {
   "cell_type": "code",
   "execution_count": null,
   "metadata": {
    "collapsed": true
   },
   "outputs": [],
   "source": []
  },
  {
   "cell_type": "code",
   "execution_count": 51,
   "metadata": {
    "collapsed": false
   },
   "outputs": [
    {
     "data": {
      "text/plain": [
       "array([[ 0.72756053,  1.45805939]])"
      ]
     },
     "execution_count": 51,
     "metadata": {},
     "output_type": "execute_result"
    }
   ],
   "source": [
    "u"
   ]
  },
  {
   "cell_type": "code",
   "execution_count": 52,
   "metadata": {
    "collapsed": true
   },
   "outputs": [],
   "source": [
    "v = np.sum(b, axis=1, keepdims=True)"
   ]
  },
  {
   "cell_type": "code",
   "execution_count": 53,
   "metadata": {
    "collapsed": false
   },
   "outputs": [
    {
     "data": {
      "text/plain": [
       "array([[ 0.72395409],\n",
       "       [ 1.46166583]])"
      ]
     },
     "execution_count": 53,
     "metadata": {},
     "output_type": "execute_result"
    }
   ],
   "source": [
    "v"
   ]
  },
  {
   "cell_type": "code",
   "execution_count": 55,
   "metadata": {
    "collapsed": false
   },
   "outputs": [
    {
     "data": {
      "text/plain": [
       "array([[ 0.28572679,  0.5726076 ],\n",
       "       [ 0.57688346,  1.15609666]])"
      ]
     },
     "execution_count": 55,
     "metadata": {},
     "output_type": "execute_result"
    }
   ],
   "source": [
    "np.dot(v, u) - b"
   ]
  },
  {
   "cell_type": "markdown",
   "metadata": {},
   "source": [
    "# Track down performance difference"
   ]
  },
  {
   "cell_type": "code",
   "execution_count": 19,
   "metadata": {
    "collapsed": false
   },
   "outputs": [
    {
     "name": "stdout",
     "output_type": "stream",
     "text": [
      "[  1.00496781e+07   4.82797623e+02   3.59058380e+02   3.71932983e+02\n",
      "   4.01973724e+02   5.43832779e+02   5.20944595e+02   4.22000885e+02\n",
      "   3.57866287e+02   1.55997276e+03]\n"
     ]
    }
   ],
   "source": [
    "import tensorflow as tf\n",
    "from tensorflow.python.client import timeline\n",
    "\n",
    "import numpy as np\n",
    "import time\n",
    "\n",
    "dtype = tf.float32\n",
    "\n",
    "N=10**5\n",
    "iters = 10\n",
    "tf.reset_default_graph()\n",
    "with tf.device(\"/cpu:0\"):\n",
    "  arr = tf.ones(N, dtype=dtype)\n",
    "  arr_handle_op = tf.get_session_handle(tf.identity(arr))\n",
    "  sess = tf.Session(config=tf.ConfigProto(log_device_placement=True))\n",
    "  arr_handle = sess.run(arr_handle_op)\n",
    "  holder1, dynamic_arr1 = tf.get_session_tensor(arr_handle.handle, dtype=dtype)\n",
    "  holder2, dynamic_arr2 = tf.get_session_tensor(arr_handle.handle, dtype=dtype)\n",
    "  result = tf.get_session_handle(tf.mul(dynamic_arr1, dynamic_arr2))\n",
    "  result_fetch = tf.group(result)\n",
    "\n",
    "tf.get_default_graph().finalize()\n",
    "#run_metadata = tf.RunMetadata()\n",
    "\n",
    "times = []\n",
    "for i in range(iters):\n",
    "  start_time = time.time()\n",
    "  # collect metadata from last step\n",
    "  feeds = {holder1: arr_handle.handle, holder2: arr_handle.handle}\n",
    "  if i == iters-1:\n",
    "    sess.run(result_fetch, feed_dict=feeds,\n",
    "             options=tf.RunOptions(trace_level=tf.RunOptions.FULL_TRACE),\n",
    "             run_metadata=run_metadata)\n",
    "    trace = timeline.Timeline(step_stats=run_metadata.step_stats)\n",
    "  else:\n",
    "    sess.run(result_fetch, feed_dict=feeds)\n",
    "\n",
    "  end_time = time.time()\n",
    "  times.append(end_time-start_time)\n",
    "\n",
    "times = np.asarray(times)*10**6\n",
    "\n",
    "trace_file = open('timeline.ctf.json', 'w')\n",
    "trace_file.write(trace.generate_chrome_trace_format())\n",
    "trace_file.close()\n",
    "\n",
    "print times"
   ]
  },
  {
   "cell_type": "code",
   "execution_count": 17,
   "metadata": {
    "collapsed": false,
    "scrolled": false
   },
   "outputs": [
    {
     "data": {
      "text/plain": [
       "step_stats {\n",
       "  dev_stats {\n",
       "    device: \"/job:localhost/replica:0/task:0/cpu:0\"\n",
       "    node_stats {\n",
       "      node_name: \"_SOURCE\"\n",
       "      all_start_micros: 1466637676271561\n",
       "      op_start_rel_micros: 1\n",
       "      op_end_rel_micros: 1\n",
       "      all_end_rel_micros: 4\n",
       "      memory {\n",
       "        allocator_name: \"cpu\"\n",
       "      }\n",
       "      timeline_label: \"_SOURCE = NoOp()\"\n",
       "      scheduled_micros: 1466637676271548\n",
       "    }\n",
       "    node_stats {\n",
       "      node_name: \"GetSessionTensor\"\n",
       "      all_start_micros: 1466637676271594\n",
       "      op_start_rel_micros: 1\n",
       "      op_end_rel_micros: 1\n",
       "      all_end_rel_micros: 4\n",
       "      memory {\n",
       "        allocator_name: \"cpu\"\n",
       "      }\n",
       "      output {\n",
       "        tensor_description {\n",
       "          dtype: DT_FLOAT\n",
       "          shape {\n",
       "            dim {\n",
       "              size: 100000\n",
       "            }\n",
       "          }\n",
       "          allocation_description {\n",
       "            requested_bytes: 400000\n",
       "            allocator_name: \"cpu\"\n",
       "            ptr: 5079703552\n",
       "          }\n",
       "        }\n",
       "      }\n",
       "      timeline_label: \"GetSessionTensor = GetSessionTensor(_recv_Placeholder_0)\"\n",
       "      scheduled_micros: 1466637676271588\n",
       "    }\n",
       "    node_stats {\n",
       "      node_name: \"GetSessionTensor_1\"\n",
       "      all_start_micros: 1466637676271598\n",
       "      op_start_rel_micros: 2\n",
       "      op_end_rel_micros: 4\n",
       "      all_end_rel_micros: 10\n",
       "      memory {\n",
       "        allocator_name: \"cpu\"\n",
       "      }\n",
       "      output {\n",
       "        tensor_description {\n",
       "          dtype: DT_FLOAT\n",
       "          shape {\n",
       "            dim {\n",
       "              size: 100000\n",
       "            }\n",
       "          }\n",
       "          allocation_description {\n",
       "            requested_bytes: 400000\n",
       "            allocator_name: \"cpu\"\n",
       "            ptr: 5079703552\n",
       "          }\n",
       "        }\n",
       "      }\n",
       "      timeline_label: \"GetSessionTensor_1 = GetSessionTensor(_recv_Placeholder_1_0)\"\n",
       "      scheduled_micros: 1466637676271592\n",
       "      thread_id: 1\n",
       "    }\n",
       "    node_stats {\n",
       "      node_name: \"Mul\"\n",
       "      all_start_micros: 1466637676271612\n",
       "      op_start_rel_micros: 1\n",
       "      op_end_rel_micros: 48\n",
       "      all_end_rel_micros: 52\n",
       "      memory {\n",
       "        allocator_name: \"cpu\"\n",
       "        total_bytes: 400000\n",
       "      }\n",
       "      output {\n",
       "        tensor_description {\n",
       "          dtype: DT_FLOAT\n",
       "          shape {\n",
       "            dim {\n",
       "              size: 100000\n",
       "            }\n",
       "          }\n",
       "          allocation_description {\n",
       "            requested_bytes: 400000\n",
       "            allocator_name: \"cpu\"\n",
       "            ptr: 5081972736\n",
       "          }\n",
       "        }\n",
       "      }\n",
       "      timeline_label: \"[cpu 0.4MB] Mul = Mul(GetSessionTensor, GetSessionTensor_1)\"\n",
       "      scheduled_micros: 1466637676271608\n",
       "    }\n",
       "    node_stats {\n",
       "      node_name: \"GetSessionHandle_1\"\n",
       "      all_start_micros: 1466637676271674\n",
       "      op_start_rel_micros: 1\n",
       "      op_end_rel_micros: 6\n",
       "      all_end_rel_micros: 8\n",
       "      memory {\n",
       "        allocator_name: \"cpu\"\n",
       "        total_bytes: 24\n",
       "      }\n",
       "      output {\n",
       "        tensor_description {\n",
       "          dtype: DT_STRING\n",
       "          shape {\n",
       "          }\n",
       "          allocation_description {\n",
       "            requested_bytes: 24\n",
       "            allocator_name: \"cpu\"\n",
       "            ptr: 140261724621664\n",
       "          }\n",
       "        }\n",
       "      }\n",
       "      timeline_label: \"GetSessionHandle_1 = GetSessionHandle(Mul)\"\n",
       "      scheduled_micros: 1466637676271664\n",
       "    }\n",
       "    node_stats {\n",
       "      node_name: \"group_deps\"\n",
       "      all_start_micros: 1466637676271684\n",
       "      op_start_rel_micros: 1\n",
       "      op_end_rel_micros: 1\n",
       "      all_end_rel_micros: 2\n",
       "      memory {\n",
       "        allocator_name: \"cpu\"\n",
       "      }\n",
       "      timeline_label: \"group_deps = NoOp(^GetSessionHandle_1)\"\n",
       "      scheduled_micros: 1466637676271682\n",
       "    }\n",
       "    node_stats {\n",
       "      node_name: \"_SINK\"\n",
       "      all_start_micros: 1466637676271687\n",
       "      op_start_rel_micros: 1\n",
       "      op_end_rel_micros: 1\n",
       "      all_end_rel_micros: 3\n",
       "      memory {\n",
       "        allocator_name: \"cpu\"\n",
       "      }\n",
       "      timeline_label: \"_SINK = NoOp()\"\n",
       "      scheduled_micros: 1466637676271686\n",
       "    }\n",
       "  }\n",
       "}"
      ]
     },
     "execution_count": 17,
     "metadata": {},
     "output_type": "execute_result"
    }
   ],
   "source": [
    "run_metadata"
   ]
  },
  {
   "cell_type": "markdown",
   "metadata": {},
   "source": [
    "## Visualize graphs"
   ]
  },
  {
   "cell_type": "code",
   "execution_count": 23,
   "metadata": {
    "collapsed": true
   },
   "outputs": [],
   "source": [
    "from IPython.display import clear_output, Image, display, HTML\n",
    "\n",
    "def strip_consts(graph_def, max_const_size=32):\n",
    "    \"\"\"Strip large constant values from graph_def.\"\"\"\n",
    "    strip_def = tf.GraphDef()\n",
    "    for n0 in graph_def.node:\n",
    "        n = strip_def.node.add() \n",
    "        n.MergeFrom(n0)\n",
    "        if n.op == 'Const':\n",
    "            tensor = n.attr['value'].tensor\n",
    "            size = len(tensor.tensor_content)\n",
    "            if size > max_const_size:\n",
    "                tensor.tensor_content = \"<stripped %d bytes>\"%size\n",
    "    return strip_def\n",
    "\n",
    "def show_graph(graph_def, max_const_size=32):\n",
    "    \"\"\"Visualize TensorFlow graph.\"\"\"\n",
    "    if hasattr(graph_def, 'as_graph_def'):\n",
    "        graph_def = graph_def.as_graph_def()\n",
    "    strip_def = strip_consts(graph_def, max_const_size=max_const_size)\n",
    "    code = \"\"\"\n",
    "        <script>\n",
    "          function load() {{\n",
    "            document.getElementById(\"{id}\").pbtxt = {data};\n",
    "          }}\n",
    "        </script>\n",
    "        <link rel=\"import\" href=\"https://tensorboard.appspot.com/tf-graph-basic.build.html\" onload=load()>\n",
    "        <div style=\"height:600px\">\n",
    "          <tf-graph-basic id=\"{id}\"></tf-graph-basic>\n",
    "        </div>\n",
    "    \"\"\".format(data=repr(str(strip_def)), id='graph'+str(np.random.rand()))\n",
    "  \n",
    "    iframe = \"\"\"\n",
    "        <iframe seamless style=\"width:1200px;height:620px;border:0\" srcdoc=\"{}\"></iframe>\n",
    "    \"\"\".format(code.replace('\"', '&quot;'))\n",
    "    display(HTML(iframe))"
   ]
  },
  {
   "cell_type": "markdown",
   "metadata": {},
   "source": [
    "### Visualize persistent Graph"
   ]
  },
  {
   "cell_type": "code",
   "execution_count": 28,
   "metadata": {
    "collapsed": false
   },
   "outputs": [
    {
     "data": {
      "text/html": [
       "\n",
       "        <iframe seamless style=\"width:1200px;height:620px;border:0\" srcdoc=\"\n",
       "        <script>\n",
       "          function load() {\n",
       "            document.getElementById(&quot;graph0.703711912139&quot;).pbtxt = 'node {\\n  name: &quot;ones&quot;\\n  op: &quot;Const&quot;\\n  attr {\\n    key: &quot;dtype&quot;\\n    value {\\n      type: DT_FLOAT\\n    }\\n  }\\n  attr {\\n    key: &quot;value&quot;\\n    value {\\n      tensor {\\n        dtype: DT_FLOAT\\n        tensor_shape {\\n          dim {\\n            size: 100000\\n          }\\n        }\\n        float_val: 1.0\\n      }\\n    }\\n  }\\n}\\nnode {\\n  name: &quot;Identity&quot;\\n  op: &quot;Identity&quot;\\n  input: &quot;ones&quot;\\n  attr {\\n    key: &quot;T&quot;\\n    value {\\n      type: DT_FLOAT\\n    }\\n  }\\n}\\nnode {\\n  name: &quot;GetSessionHandle&quot;\\n  op: &quot;GetSessionHandle&quot;\\n  input: &quot;Identity&quot;\\n  attr {\\n    key: &quot;T&quot;\\n    value {\\n      type: DT_FLOAT\\n    }\\n  }\\n  attr {\\n    key: &quot;_class&quot;\\n    value {\\n      list {\\n        s: &quot;loc:@Identity&quot;\\n      }\\n    }\\n  }\\n}\\nnode {\\n  name: &quot;Placeholder&quot;\\n  op: &quot;Placeholder&quot;\\n  device: &quot;/job:localhost/replica:0/task:0/device:CPU:0&quot;\\n  attr {\\n    key: &quot;dtype&quot;\\n    value {\\n      type: DT_STRING\\n    }\\n  }\\n  attr {\\n    key: &quot;shape&quot;\\n    value {\\n      shape {\\n      }\\n    }\\n  }\\n}\\nnode {\\n  name: &quot;GetSessionTensor&quot;\\n  op: &quot;GetSessionTensor&quot;\\n  input: &quot;Placeholder&quot;\\n  device: &quot;/job:localhost/replica:0/task:0/device:CPU:0&quot;\\n  attr {\\n    key: &quot;dtype&quot;\\n    value {\\n      type: DT_FLOAT\\n    }\\n  }\\n}\\nnode {\\n  name: &quot;Placeholder_1&quot;\\n  op: &quot;Placeholder&quot;\\n  device: &quot;/job:localhost/replica:0/task:0/device:CPU:0&quot;\\n  attr {\\n    key: &quot;dtype&quot;\\n    value {\\n      type: DT_STRING\\n    }\\n  }\\n  attr {\\n    key: &quot;shape&quot;\\n    value {\\n      shape {\\n      }\\n    }\\n  }\\n}\\nnode {\\n  name: &quot;GetSessionTensor_1&quot;\\n  op: &quot;GetSessionTensor&quot;\\n  input: &quot;Placeholder_1&quot;\\n  device: &quot;/job:localhost/replica:0/task:0/device:CPU:0&quot;\\n  attr {\\n    key: &quot;dtype&quot;\\n    value {\\n      type: DT_FLOAT\\n    }\\n  }\\n}\\nnode {\\n  name: &quot;Mul&quot;\\n  op: &quot;Mul&quot;\\n  input: &quot;GetSessionTensor&quot;\\n  input: &quot;GetSessionTensor_1&quot;\\n  attr {\\n    key: &quot;T&quot;\\n    value {\\n      type: DT_FLOAT\\n    }\\n  }\\n}\\nnode {\\n  name: &quot;GetSessionHandle_1&quot;\\n  op: &quot;GetSessionHandle&quot;\\n  input: &quot;Mul&quot;\\n  attr {\\n    key: &quot;T&quot;\\n    value {\\n      type: DT_FLOAT\\n    }\\n  }\\n  attr {\\n    key: &quot;_class&quot;\\n    value {\\n      list {\\n        s: &quot;loc:@Mul&quot;\\n      }\\n    }\\n  }\\n}\\nnode {\\n  name: &quot;group_deps&quot;\\n  op: &quot;NoOp&quot;\\n  input: &quot;^GetSessionHandle_1&quot;\\n}\\n';\n",
       "          }\n",
       "        </script>\n",
       "        <link rel=&quot;import&quot; href=&quot;https://tensorboard.appspot.com/tf-graph-basic.build.html&quot; onload=load()>\n",
       "        <div style=&quot;height:600px&quot;>\n",
       "          <tf-graph-basic id=&quot;graph0.703711912139&quot;></tf-graph-basic>\n",
       "        </div>\n",
       "    \"></iframe>\n",
       "    "
      ],
      "text/plain": [
       "<IPython.core.display.HTML object>"
      ]
     },
     "metadata": {},
     "output_type": "display_data"
    }
   ],
   "source": [
    "gdef = tf.GraphDef()\n",
    "from google.protobuf import text_format\n",
    "text_format.Merge(open(\"tf_persistent.pbtxt\").read(), gdef)\n",
    "show_graph(gdef)"
   ]
  },
  {
   "cell_type": "markdown",
   "metadata": {},
   "source": [
    "### Visualize env Graph"
   ]
  },
  {
   "cell_type": "code",
   "execution_count": 30,
   "metadata": {
    "collapsed": false
   },
   "outputs": [
    {
     "data": {
      "text/html": [
       "\n",
       "        <iframe seamless style=\"width:1200px;height:620px;border:0\" srcdoc=\"\n",
       "        <script>\n",
       "          function load() {\n",
       "            document.getElementById(&quot;graph0.956961229902&quot;).pbtxt = 'node {\\n  name: &quot;numpy_to_handle.float32.None.holder&quot;\\n  op: &quot;Placeholder&quot;\\n  attr {\\n    key: &quot;dtype&quot;\\n    value {\\n      type: DT_FLOAT\\n    }\\n  }\\n  attr {\\n    key: &quot;shape&quot;\\n    value {\\n      shape {\\n      }\\n    }\\n  }\\n}\\nnode {\\n  name: &quot;numpy_to_handle.float32.None.handle&quot;\\n  op: &quot;GetSessionHandle&quot;\\n  input: &quot;numpy_to_handle.float32.None.holder&quot;\\n  attr {\\n    key: &quot;T&quot;\\n    value {\\n      type: DT_FLOAT\\n    }\\n  }\\n  attr {\\n    key: &quot;_class&quot;\\n    value {\\n      list {\\n        s: &quot;loc:@numpy_to_handle.float32.None.holder&quot;\\n      }\\n    }\\n  }\\n}\\nnode {\\n  name: &quot;Placeholder&quot;\\n  op: &quot;Placeholder&quot;\\n  device: &quot;/job:localhost/replica:0/task:0/device:CPU:0&quot;\\n  attr {\\n    key: &quot;dtype&quot;\\n    value {\\n      type: DT_STRING\\n    }\\n  }\\n  attr {\\n    key: &quot;shape&quot;\\n    value {\\n      shape {\\n      }\\n    }\\n  }\\n}\\nnode {\\n  name: &quot;Mul.float32.0&quot;\\n  op: &quot;GetSessionTensor&quot;\\n  input: &quot;Placeholder&quot;\\n  device: &quot;/job:localhost/replica:0/task:0/device:CPU:0&quot;\\n  attr {\\n    key: &quot;dtype&quot;\\n    value {\\n      type: DT_FLOAT\\n    }\\n  }\\n}\\nnode {\\n  name: &quot;Placeholder_1&quot;\\n  op: &quot;Placeholder&quot;\\n  device: &quot;/job:localhost/replica:0/task:0/device:CPU:0&quot;\\n  attr {\\n    key: &quot;dtype&quot;\\n    value {\\n      type: DT_STRING\\n    }\\n  }\\n  attr {\\n    key: &quot;shape&quot;\\n    value {\\n      shape {\\n      }\\n    }\\n  }\\n}\\nnode {\\n  name: &quot;Mul.float32.1&quot;\\n  op: &quot;GetSessionTensor&quot;\\n  input: &quot;Placeholder_1&quot;\\n  device: &quot;/job:localhost/replica:0/task:0/device:CPU:0&quot;\\n  attr {\\n    key: &quot;dtype&quot;\\n    value {\\n      type: DT_FLOAT\\n    }\\n  }\\n}\\nnode {\\n  name: &quot;Mul.float32.op&quot;\\n  op: &quot;Mul&quot;\\n  input: &quot;Mul.float32.0&quot;\\n  input: &quot;Mul.float32.1&quot;\\n  attr {\\n    key: &quot;T&quot;\\n    value {\\n      type: DT_FLOAT\\n    }\\n  }\\n}\\nnode {\\n  name: &quot;Mul.float32.out.handle&quot;\\n  op: &quot;GetSessionHandle&quot;\\n  input: &quot;Mul.float32.op&quot;\\n  attr {\\n    key: &quot;T&quot;\\n    value {\\n      type: DT_FLOAT\\n    }\\n  }\\n  attr {\\n    key: &quot;_class&quot;\\n    value {\\n      list {\\n        s: &quot;loc:@Mul.float32.op&quot;\\n      }\\n    }\\n  }\\n}\\n';\n",
       "          }\n",
       "        </script>\n",
       "        <link rel=&quot;import&quot; href=&quot;https://tensorboard.appspot.com/tf-graph-basic.build.html&quot; onload=load()>\n",
       "        <div style=&quot;height:600px&quot;>\n",
       "          <tf-graph-basic id=&quot;graph0.956961229902&quot;></tf-graph-basic>\n",
       "        </div>\n",
       "    \"></iframe>\n",
       "    "
      ],
      "text/plain": [
       "<IPython.core.display.HTML object>"
      ]
     },
     "metadata": {},
     "output_type": "display_data"
    }
   ],
   "source": [
    "gdef = tf.GraphDef()\n",
    "from google.protobuf import text_format\n",
    "text_format.Merge(open(\"tf_env.pbtxt\").read(), gdef)\n",
    "show_graph(gdef)"
   ]
  },
  {
   "cell_type": "markdown",
   "metadata": {},
   "source": [
    "# Scratch"
   ]
  },
  {
   "cell_type": "code",
   "execution_count": null,
   "metadata": {
    "collapsed": true
   },
   "outputs": [],
   "source": [
    "device_"
   ]
  },
  {
   "cell_type": "code",
   "execution_count": 165,
   "metadata": {
    "collapsed": false
   },
   "outputs": [
    {
     "data": {
      "text/plain": [
       "['/Library/Python/2.7/site-packages/ipykernel/__main__.py',\n",
       " '-f',\n",
       " '/Users/yaroslavvb/Library/Jupyter/runtime/kernel-2660ce9d-7349-4f76-9248-4e38d023fa99.json']"
      ]
     },
     "execution_count": 165,
     "metadata": {},
     "output_type": "execute_result"
    }
   ],
   "source": [
    "import sys\n",
    "sys.argv"
   ]
  },
  {
   "cell_type": "code",
   "execution_count": 4,
   "metadata": {
    "collapsed": true
   },
   "outputs": [],
   "source": [
    "env = immediate.Env(tf)"
   ]
  },
  {
   "cell_type": "code",
   "execution_count": 5,
   "metadata": {
    "collapsed": false
   },
   "outputs": [
    {
     "ename": "AttributeError",
     "evalue": "'module' object has no attribute 'median'",
     "output_type": "error",
     "traceback": [
      "\u001b[0;31m---------------------------------------------------------------------------\u001b[0m",
      "\u001b[0;31mAttributeError\u001b[0m                            Traceback (most recent call last)",
      "\u001b[0;32m<ipython-input-5-a9ad332badb1>\u001b[0m in \u001b[0;36m<module>\u001b[0;34m()\u001b[0m\n\u001b[0;32m----> 1\u001b[0;31m \u001b[0menv\u001b[0m\u001b[0;34m.\u001b[0m\u001b[0mtf\u001b[0m\u001b[0;34m.\u001b[0m\u001b[0mmedian\u001b[0m\u001b[0;34m\u001b[0m\u001b[0m\n\u001b[0m",
      "\u001b[0;31mAttributeError\u001b[0m: 'module' object has no attribute 'median'"
     ]
    }
   ],
   "source": [
    "np.median"
   ]
  },
  {
   "cell_type": "code",
   "execution_count": 14,
   "metadata": {
    "collapsed": false
   },
   "outputs": [
    {
     "data": {
      "text/plain": [
       "ITensor([1 2 3 4 5 6], dtype=int32)"
      ]
     },
     "execution_count": 14,
     "metadata": {},
     "output_type": "execute_result"
    }
   ],
   "source": [
    "env.tf.reshape(env.tf.constant([[1,2,3],[4,5,6]]), [-1])"
   ]
  },
  {
   "cell_type": "code",
   "execution_count": 816,
   "metadata": {
    "collapsed": false
   },
   "outputs": [
    {
     "data": {
      "text/plain": [
       "ITensor([[ 1.  1.]\n",
       " [ 1.  1.]], dtype=float64)"
      ]
     },
     "execution_count": 816,
     "metadata": {},
     "output_type": "execute_result"
    }
   ],
   "source": [
    "a = env.numpy_to_itensor([[1,1],[1,1]], dtype=tf.float64)\n",
    "b = env.numa\n",
    "py_to_itensor([[1,1],[1,1]], dtype=tf.float64)\n",
    "env.tf.abs(a)"
   ]
  },
  {
   "cell_type": "code",
   "execution_count": 34,
   "metadata": {
    "collapsed": false
   },
   "outputs": [
    {
     "data": {
      "text/plain": [
       "array([ 0.99993537,  0.99993537,  0.99993537, ...,  0.99993591,\n",
       "        0.99993463,  0.99993637])"
      ]
     },
     "execution_count": 34,
     "metadata": {},
     "output_type": "execute_result"
    }
   ],
   "source": [
    "steps[2].x"
   ]
  },
  {
   "cell_type": "code",
   "execution_count": 821,
   "metadata": {
    "collapsed": false
   },
   "outputs": [
    {
     "data": {
      "text/plain": [
       "ITensor([[ 1.  1.]\n",
       " [ 1.  1.]], dtype=float64)"
      ]
     },
     "execution_count": 821,
     "metadata": {},
     "output_type": "execute_result"
    }
   ],
   "source": [
    "env.tf.div(a, b)"
   ]
  },
  {
   "cell_type": "code",
   "execution_count": 823,
   "metadata": {
    "collapsed": false
   },
   "outputs": [
    {
     "data": {
      "text/plain": [
       "ITensor([ 1.38629436  1.38629436], dtype=float64)"
      ]
     },
     "execution_count": 823,
     "metadata": {},
     "output_type": "execute_result"
    }
   ],
   "source": [
    "env.tf.nn.softmax_cross_entropy_with_logits(a, b)"
   ]
  },
  {
   "cell_type": "code",
   "execution_count": 119,
   "metadata": {
    "collapsed": false
   },
   "outputs": [
    {
     "data": {
      "text/plain": [
       "array([[ 1.,  1.,  1.],\n",
       "       [ 1.,  1.,  1.],\n",
       "       [ 1.,  1.,  1.]], dtype=float32)"
      ]
     },
     "execution_count": 119,
     "metadata": {},
     "output_type": "execute_result"
    }
   ],
   "source": [
    "import tensorflow as tf\n",
    "session = tf.Session(config=tf.ConfigProto(log_device_placement=True))\n",
    "session.run(tf.ones((3,3)))"
   ]
  },
  {
   "cell_type": "code",
   "execution_count": 120,
   "metadata": {
    "collapsed": true
   },
   "outputs": [],
   "source": [
    "config = tf.ConfigProto()"
   ]
  },
  {
   "cell_type": "code",
   "execution_count": null,
   "metadata": {
    "collapsed": true
   },
   "outputs": [],
   "source": [
    "config.log_device_placement"
   ]
  },
  {
   "cell_type": "code",
   "execution_count": 118,
   "metadata": {
    "collapsed": false
   },
   "outputs": [
    {
     "data": {
      "text/plain": [
       "array([[ 1.,  1.,  1.],\n",
       "       [ 1.,  1.,  1.],\n",
       "       [ 1.,  1.,  1.]], dtype=float32)"
      ]
     },
     "execution_count": 118,
     "metadata": {},
     "output_type": "execute_result"
    }
   ],
   "source": [
    "session.run(tf.ones((3,3)))"
   ]
  },
  {
   "cell_type": "markdown",
   "metadata": {},
   "source": [
    "## Lua-like struct"
   ]
  },
  {
   "cell_type": "code",
   "execution_count": 83,
   "metadata": {
    "collapsed": false
   },
   "outputs": [],
   "source": [
    "# inheriting from object adds __dict__ instance\n",
    "# http://stackoverflow.com/questions/1529002/cant-set-attributes-of-object-class\n",
    "class dummy(object):\n",
    "    pass\n",
    "\n",
    "class Struct(dummy):\n",
    "    def __getattribute__(self, key):\n",
    "        if key == '__dict__':\n",
    "            return super(dummy, self).__getattribute__('__dict__')\n",
    "        return self.__dict__.get(key, 0)\n",
    "a = Struct()"
   ]
  },
  {
   "cell_type": "code",
   "execution_count": 88,
   "metadata": {
    "collapsed": false
   },
   "outputs": [],
   "source": [
    "sess = tf.Session()"
   ]
  },
  {
   "cell_type": "code",
   "execution_count": 90,
   "metadata": {
    "collapsed": false
   },
   "outputs": [
    {
     "data": {
      "text/plain": [
       "<tensorflow.python.framework.ops.Graph at 0x11e9626d0>"
      ]
     },
     "execution_count": 90,
     "metadata": {},
     "output_type": "execute_result"
    }
   ],
   "source": [
    "sess.graph.as_default().__enter__()"
   ]
  },
  {
   "cell_type": "code",
   "execution_count": 33,
   "metadata": {
    "collapsed": false
   },
   "outputs": [
    {
     "data": {
      "text/plain": [
       "<tf.Tensor 'ones:0' shape=(5,) dtype=float32>"
      ]
     },
     "execution_count": 33,
     "metadata": {},
     "output_type": "execute_result"
    }
   ],
   "source": [
    "tf.reset_default_graph()\n",
    "tf.ones(5)"
   ]
  },
  {
   "cell_type": "code",
   "execution_count": 34,
   "metadata": {
    "collapsed": false
   },
   "outputs": [
    {
     "data": {
      "text/plain": [
       "<tf.Tensor 'ones_1:0' shape=(5,) dtype=float32>"
      ]
     },
     "execution_count": 34,
     "metadata": {},
     "output_type": "execute_result"
    }
   ],
   "source": [
    "tf.ones((5))"
   ]
  },
  {
   "cell_type": "code",
   "execution_count": 65,
   "metadata": {
    "collapsed": true
   },
   "outputs": [],
   "source": [
    "a.test4=5"
   ]
  },
  {
   "cell_type": "code",
   "execution_count": 66,
   "metadata": {
    "collapsed": false
   },
   "outputs": [
    {
     "data": {
      "text/plain": [
       "defaultdict(int, {})"
      ]
     },
     "execution_count": 66,
     "metadata": {},
     "output_type": "execute_result"
    }
   ],
   "source": [
    "a.values"
   ]
  },
  {
   "cell_type": "code",
   "execution_count": 35,
   "metadata": {
    "collapsed": false
   },
   "outputs": [],
   "source": [
    "tf.ones??"
   ]
  },
  {
   "cell_type": "markdown",
   "metadata": {},
   "source": [
    "## Accessing elements question"
   ]
  },
  {
   "cell_type": "code",
   "execution_count": null,
   "metadata": {
    "collapsed": true
   },
   "outputs": [],
   "source": [
    "import tensorflow as tf\n",
    "import numpy as np\n",
    "\n",
    "def assignC():\n",
    "    C_copy = np.zeros((2,2))\n",
    "    C = tf.matmul(tf.transpose(x), x)\n",
    "    C_copy[0,0] = C[0,0]\n",
    "    #C_copy[0,0] = C[0,0].eval() # error saying \"You must feed a value for  placeholder tensor 'Placeholder' with dtype float\" at line 17\n",
    "    print(C_copy[0,0])\n",
    "    return C_copy\n",
    "\n",
    "sess = tf.InteractiveSession()\n",
    "\n",
    "from tensorflow.examples.tutorials.mnist import input_data\n",
    "mnist = input_data.read_data_sets(\"MNIST_data/\", one_hot=True)\n",
    "\n",
    "x = tf.placeholder(tf.float32, [None, 1024])\n",
    "\n",
    "sess.run(tf.initialize_all_variables())\n",
    "for i in range(1):\n",
    "    batch_xs, batch_ys = mnist.train.next_batch(100)\n",
    "    print(sess.run(tf.identity(assignC()), feed_dict={x: batch_xs}))\n"
   ]
  },
  {
   "cell_type": "code",
   "execution_count": 850,
   "metadata": {
    "collapsed": true
   },
   "outputs": [],
   "source": [
    "tf.reset_default_graph()\n",
    "C = tf.ones((3,3))"
   ]
  },
  {
   "cell_type": "code",
   "execution_count": 854,
   "metadata": {
    "collapsed": false
   },
   "outputs": [
    {
     "data": {
      "text/plain": [
       "<tf.Tensor 'Squeeze_2:0' shape=() dtype=float32>"
      ]
     },
     "execution_count": 854,
     "metadata": {},
     "output_type": "execute_result"
    }
   ],
   "source": [
    "C[0,0]"
   ]
  },
  {
   "cell_type": "code",
   "execution_count": 852,
   "metadata": {
    "collapsed": false
   },
   "outputs": [
    {
     "data": {
      "text/plain": [
       "node {\n",
       "  name: \"ones\"\n",
       "  op: \"Const\"\n",
       "  attr {\n",
       "    key: \"dtype\"\n",
       "    value {\n",
       "      type: DT_FLOAT\n",
       "    }\n",
       "  }\n",
       "  attr {\n",
       "    key: \"value\"\n",
       "    value {\n",
       "      tensor {\n",
       "        dtype: DT_FLOAT\n",
       "        tensor_shape {\n",
       "          dim {\n",
       "            size: 3\n",
       "          }\n",
       "          dim {\n",
       "            size: 3\n",
       "          }\n",
       "        }\n",
       "        float_val: 1.0\n",
       "      }\n",
       "    }\n",
       "  }\n",
       "}\n",
       "node {\n",
       "  name: \"Slice/begin\"\n",
       "  op: \"Const\"\n",
       "  attr {\n",
       "    key: \"dtype\"\n",
       "    value {\n",
       "      type: DT_INT32\n",
       "    }\n",
       "  }\n",
       "  attr {\n",
       "    key: \"value\"\n",
       "    value {\n",
       "      tensor {\n",
       "        dtype: DT_INT32\n",
       "        tensor_shape {\n",
       "          dim {\n",
       "            size: 2\n",
       "          }\n",
       "        }\n",
       "        tensor_content: \"\\000\\000\\000\\000\\000\\000\\000\\000\"\n",
       "      }\n",
       "    }\n",
       "  }\n",
       "}\n",
       "node {\n",
       "  name: \"Slice/size\"\n",
       "  op: \"Const\"\n",
       "  attr {\n",
       "    key: \"dtype\"\n",
       "    value {\n",
       "      type: DT_INT32\n",
       "    }\n",
       "  }\n",
       "  attr {\n",
       "    key: \"value\"\n",
       "    value {\n",
       "      tensor {\n",
       "        dtype: DT_INT32\n",
       "        tensor_shape {\n",
       "          dim {\n",
       "            size: 2\n",
       "          }\n",
       "        }\n",
       "        tensor_content: \"\\001\\000\\000\\000\\001\\000\\000\\000\"\n",
       "      }\n",
       "    }\n",
       "  }\n",
       "}\n",
       "node {\n",
       "  name: \"Slice\"\n",
       "  op: \"Slice\"\n",
       "  input: \"ones\"\n",
       "  input: \"Slice/begin\"\n",
       "  input: \"Slice/size\"\n",
       "  attr {\n",
       "    key: \"Index\"\n",
       "    value {\n",
       "      type: DT_INT32\n",
       "    }\n",
       "  }\n",
       "  attr {\n",
       "    key: \"T\"\n",
       "    value {\n",
       "      type: DT_FLOAT\n",
       "    }\n",
       "  }\n",
       "}\n",
       "node {\n",
       "  name: \"Squeeze\"\n",
       "  op: \"Squeeze\"\n",
       "  input: \"Slice\"\n",
       "  attr {\n",
       "    key: \"T\"\n",
       "    value {\n",
       "      type: DT_FLOAT\n",
       "    }\n",
       "  }\n",
       "  attr {\n",
       "    key: \"squeeze_dims\"\n",
       "    value {\n",
       "      list {\n",
       "        i: 0\n",
       "        i: 1\n",
       "      }\n",
       "    }\n",
       "  }\n",
       "}\n",
       "versions {\n",
       "  producer: 10\n",
       "}"
      ]
     },
     "execution_count": 852,
     "metadata": {},
     "output_type": "execute_result"
    }
   ],
   "source": [
    "tf.get_default_graph().as_graph_def()"
   ]
  },
  {
   "cell_type": "markdown",
   "metadata": {},
   "source": [
    "## Derivatives"
   ]
  },
  {
   "cell_type": "code",
   "execution_count": 814,
   "metadata": {
    "collapsed": false
   },
   "outputs": [
    {
     "data": {
      "text/plain": [
       "[2.0, 4.0]"
      ]
     },
     "execution_count": 814,
     "metadata": {},
     "output_type": "execute_result"
    }
   ],
   "source": [
    "tf.reset_default_graph()\n",
    "x = tf.placeholder(dtype=tf.float32)\n",
    "a = x*x\n",
    "E = 2*a\n",
    "(dEda, dEdx) = tf.gradients(E, xs=[a, x])\n",
    "sess = tf.Session()\n",
    "sess.run([dEda, dEdx], feed_dict={x: 1})"
   ]
  },
  {
   "cell_type": "code",
   "execution_count": 810,
   "metadata": {
    "collapsed": false
   },
   "outputs": [
    {
     "data": {
      "text/plain": [
       "[<tf.Tensor 'gradients/mul_1_grad/Reshape_1:0' shape=() dtype=float32>,\n",
       " <tf.Tensor 'gradients/AddN:0' shape=() dtype=float32>]"
      ]
     },
     "execution_count": 810,
     "metadata": {},
     "output_type": "execute_result"
    }
   ],
   "source": [
    "grads"
   ]
  },
  {
   "cell_type": "code",
   "execution_count": 813,
   "metadata": {
    "collapsed": true
   },
   "outputs": [],
   "source": [
    "tf.gradients??"
   ]
  },
  {
   "cell_type": "markdown",
   "metadata": {},
   "source": [
    "## Tensor shape question"
   ]
  },
  {
   "cell_type": "code",
   "execution_count": 449,
   "metadata": {
    "collapsed": false
   },
   "outputs": [
    {
     "ename": "ValueError",
     "evalue": "Shapes (2,) and () are not compatible",
     "output_type": "error",
     "traceback": [
      "\u001b[0;31m---------------------------------------------------------------------------\u001b[0m",
      "\u001b[0;31mValueError\u001b[0m                                Traceback (most recent call last)",
      "\u001b[0;32m<ipython-input-449-0492e18012c2>\u001b[0m in \u001b[0;36m<module>\u001b[0;34m()\u001b[0m\n\u001b[1;32m      1\u001b[0m \u001b[0mbatch_size\u001b[0m \u001b[0;34m=\u001b[0m \u001b[0mtf\u001b[0m\u001b[0;34m.\u001b[0m\u001b[0mshape\u001b[0m\u001b[0;34m(\u001b[0m\u001b[0mtf\u001b[0m\u001b[0;34m.\u001b[0m\u001b[0mones\u001b[0m\u001b[0;34m(\u001b[0m\u001b[0;34m(\u001b[0m\u001b[0;36m10\u001b[0m\u001b[0;34m,\u001b[0m\u001b[0;36m10\u001b[0m\u001b[0;34m)\u001b[0m\u001b[0;34m)\u001b[0m\u001b[0;34m)\u001b[0m\u001b[0;34m\u001b[0m\u001b[0m\n\u001b[0;32m----> 2\u001b[0;31m \u001b[0;32mprint\u001b[0m\u001b[0;34m(\u001b[0m\u001b[0mtf\u001b[0m\u001b[0;34m.\u001b[0m\u001b[0mzeros\u001b[0m\u001b[0;34m(\u001b[0m\u001b[0;34m(\u001b[0m\u001b[0mbatch_size\u001b[0m\u001b[0;34m,\u001b[0m \u001b[0;36m128\u001b[0m\u001b[0;34m)\u001b[0m\u001b[0;34m)\u001b[0m\u001b[0;34m.\u001b[0m\u001b[0mget_shape\u001b[0m\u001b[0;34m(\u001b[0m\u001b[0;34m)\u001b[0m\u001b[0;34m)\u001b[0m\u001b[0;34m\u001b[0m\u001b[0m\n\u001b[0m",
      "\u001b[0;32m/Users/yaroslavvb/tfimmediate_hood/tensorflow/_python_build/tensorflow/python/ops/array_ops.py\u001b[0m in \u001b[0;36mzeros\u001b[0;34m(shape, dtype, name)\u001b[0m\n",
      "\u001b[0;32m/Users/yaroslavvb/tfimmediate_hood/tensorflow/_python_build/tensorflow/python/framework/ops.py\u001b[0m in \u001b[0;36mconvert_to_tensor\u001b[0;34m(value, dtype, name, as_ref)\u001b[0m\n",
      "\u001b[0;32m/Users/yaroslavvb/tfimmediate_hood/tensorflow/_python_build/tensorflow/python/ops/array_ops.py\u001b[0m in \u001b[0;36m_autopacking_conversion_function\u001b[0;34m(v, dtype, name, as_ref)\u001b[0m\n",
      "\u001b[0;32m/Users/yaroslavvb/tfimmediate_hood/tensorflow/_python_build/tensorflow/python/ops/array_ops.py\u001b[0m in \u001b[0;36m_autopacking_helper\u001b[0;34m(list_or_tuple, dtype, name)\u001b[0m\n",
      "\u001b[0;32m/Users/yaroslavvb/tfimmediate_hood/tensorflow/_python_build/tensorflow/python/ops/gen_array_ops.py\u001b[0m in \u001b[0;36m_pack\u001b[0;34m(values, name)\u001b[0m\n",
      "\u001b[0;32m/Users/yaroslavvb/tfimmediate_hood/tensorflow/_python_build/tensorflow/python/framework/op_def_library.py\u001b[0m in \u001b[0;36mapply_op\u001b[0;34m(self, op_type_name, name, **keywords)\u001b[0m\n",
      "\u001b[0;32m/Users/yaroslavvb/tfimmediate_hood/tensorflow/_python_build/tensorflow/python/framework/ops.py\u001b[0m in \u001b[0;36mcreate_op\u001b[0;34m(self, op_type, inputs, dtypes, input_types, name, attrs, op_def, compute_shapes, compute_device)\u001b[0m\n",
      "\u001b[0;32m/Users/yaroslavvb/tfimmediate_hood/tensorflow/_python_build/tensorflow/python/framework/ops.py\u001b[0m in \u001b[0;36mset_shapes_for_outputs\u001b[0;34m(op)\u001b[0m\n",
      "\u001b[0;32m/Users/yaroslavvb/tfimmediate_hood/tensorflow/_python_build/tensorflow/python/ops/array_ops.py\u001b[0m in \u001b[0;36m_PackShape\u001b[0;34m(op)\u001b[0m\n",
      "\u001b[0;32m/Users/yaroslavvb/tfimmediate_hood/tensorflow/_python_build/tensorflow/python/framework/tensor_shape.py\u001b[0m in \u001b[0;36mmerge_with\u001b[0;34m(self, other)\u001b[0m\n",
      "\u001b[0;31mValueError\u001b[0m: Shapes (2,) and () are not compatible"
     ]
    }
   ],
   "source": [
    "batch_size = tf.shape(tf.ones((10,10)))\n",
    "print(tf.zeros((batch_size, 128)).get_shape())"
   ]
  },
  {
   "cell_type": "code",
   "execution_count": 122,
   "metadata": {
    "collapsed": false
   },
   "outputs": [],
   "source": [
    "a = tf.ones((3,3))"
   ]
  },
  {
   "cell_type": "code",
   "execution_count": 123,
   "metadata": {
    "collapsed": false
   },
   "outputs": [
    {
     "data": {
      "text/plain": [
       "{<tf.Tensor 'ones_6:0' shape=(3, 3) dtype=float32>: 5}"
      ]
     },
     "execution_count": 123,
     "metadata": {},
     "output_type": "execute_result"
    }
   ],
   "source": [
    "{a:5}"
   ]
  },
  {
   "cell_type": "code",
   "execution_count": 124,
   "metadata": {
    "collapsed": false
   },
   "outputs": [
    {
     "data": {
      "text/plain": [
       "5084961872"
      ]
     },
     "execution_count": 124,
     "metadata": {},
     "output_type": "execute_result"
    }
   ],
   "source": [
    "hash(a)"
   ]
  },
  {
   "cell_type": "code",
   "execution_count": 457,
   "metadata": {
    "collapsed": false
   },
   "outputs": [],
   "source": [
    "asdf=tf.Variable??"
   ]
  },
  {
   "cell_type": "code",
   "execution_count": null,
   "metadata": {
    "collapsed": true
   },
   "outputs": [],
   "source": [
    "asdf=tf.Variable"
   ]
  },
  {
   "cell_type": "code",
   "execution_count": 453,
   "metadata": {
    "collapsed": false
   },
   "outputs": [
    {
     "name": "stdout",
     "output_type": "stream",
     "text": [
      "(?, ?)\n"
     ]
    }
   ],
   "source": [
    "print(tf.zeros((batch_size, 128)).get_shape())"
   ]
  },
  {
   "cell_type": "code",
   "execution_count": 27,
   "metadata": {
    "collapsed": false
   },
   "outputs": [
    {
     "name": "stdout",
     "output_type": "stream",
     "text": [
      "nInputs 6\n",
      "nUnitsLayer1 3\n",
      "weights shape Tensor(\"Shape:0\", shape=(2,), dtype=int32)\n",
      "biases shape Tensor(\"Shape_1:0\", shape=(1,), dtype=int32)\n",
      "weights\n",
      "[[-0.42564794  1.32690036 -0.57812071]\n",
      " [ 1.3026278  -1.29796839 -1.02938724]\n",
      " [ 0.19238499  1.10781586 -0.24808854]\n",
      " [-0.60994369 -0.30048054  0.5742262 ]\n",
      " [ 0.13138418 -0.60150367  0.44378978]\n",
      " [ 0.42674765 -0.44903693  0.32681581]]\n",
      "biases\n",
      "[ 0.  0.  0.]\n"
     ]
    }
   ],
   "source": [
    "import tensorflow as tf\n",
    "nInputs = 6\n",
    "nUnitsLayer1 = 3\n",
    "weights = tf.Variable(tf.truncated_normal([nInputs, nUnitsLayer1]))\n",
    "biases= tf.Variable(tf.zeros(nUnitsLayer1))\n",
    "\n",
    "print 'nInputs', nInputs\n",
    "print 'nUnitsLayer1', nUnitsLayer1\n",
    "print 'weights shape', tf.shape(weights)\n",
    "print 'biases shape', tf.shape(biases)\n",
    "\n",
    "init = tf.initialize_all_variables()\n",
    "with tf.Session() as sess:\n",
    "    sess.run(init)\n",
    "    print 'weights'\n",
    "    print (weights.eval())\n",
    "    print 'biases'\n",
    "    print (biases.eval())\n"
   ]
  },
  {
   "cell_type": "code",
   "execution_count": 28,
   "metadata": {
    "collapsed": false
   },
   "outputs": [
    {
     "data": {
      "text/plain": [
       "TensorShape([Dimension(6), Dimension(3)])"
      ]
     },
     "execution_count": 28,
     "metadata": {},
     "output_type": "execute_result"
    }
   ],
   "source": [
    "weights.get_shape()"
   ]
  },
  {
   "cell_type": "code",
   "execution_count": 29,
   "metadata": {
    "collapsed": false
   },
   "outputs": [
    {
     "data": {
      "text/plain": [
       "<tensorflow.python.ops.variables.Variable at 0x12527bed0>"
      ]
     },
     "execution_count": 29,
     "metadata": {},
     "output_type": "execute_result"
    }
   ],
   "source": [
    "weights"
   ]
  },
  {
   "cell_type": "code",
   "execution_count": 31,
   "metadata": {
    "collapsed": false
   },
   "outputs": [
    {
     "data": {
      "text/plain": [
       "TensorShape([Dimension(2)])"
      ]
     },
     "execution_count": 31,
     "metadata": {},
     "output_type": "execute_result"
    }
   ],
   "source": [
    "tf.shape(weights).get_shape"
   ]
  },
  {
   "cell_type": "code",
   "execution_count": 163,
   "metadata": {
    "collapsed": false
   },
   "outputs": [
    {
     "data": {
      "text/plain": [
       "<tensorflow.python.framework.ops.Operation at 0x12a9022d0>"
      ]
     },
     "execution_count": 163,
     "metadata": {},
     "output_type": "execute_result"
    }
   ],
   "source": [
    "tf.group(tf.constant(1))"
   ]
  },
  {
   "cell_type": "code",
   "execution_count": 164,
   "metadata": {
    "collapsed": false
   },
   "outputs": [
    {
     "data": {
      "text/plain": [
       "TopKV2(values=<tf.Tensor 'TopKV2:0' shape=(1,) dtype=int32>, indices=<tf.Tensor 'TopKV2:1' shape=(1,) dtype=int32>)"
      ]
     },
     "execution_count": 164,
     "metadata": {},
     "output_type": "execute_result"
    }
   ],
   "source": [
    "stf.nn.top_k([1,2,3])"
   ]
  },
  {
   "cell_type": "code",
   "execution_count": 166,
   "metadata": {
    "collapsed": false
   },
   "outputs": [
    {
     "data": {
      "text/plain": [
       "[<tf.Tensor 'split:0' shape=(1,) dtype=int32>,\n",
       " <tf.Tensor 'split:1' shape=(1,) dtype=int32>]"
      ]
     },
     "execution_count": 166,
     "metadata": {},
     "output_type": "execute_result"
    }
   ],
   "source": [
    "tf.split(0, 2, [1,2])"
   ]
  },
  {
   "cell_type": "code",
   "execution_count": 168,
   "metadata": {
    "collapsed": false
   },
   "outputs": [
    {
     "ename": "ValueError",
     "evalue": "Fetch argument <tf.Tensor 'TopKV2:0' shape=(1,) dtype=int32> of <tf.Tensor 'TopKV2:0' shape=(1,) dtype=int32> cannot be interpreted as a Tensor. (Tensor Tensor(\"TopKV2:0\", shape=(1,), dtype=int32) is not an element of this graph.)",
     "output_type": "error",
     "traceback": [
      "\u001b[0;31m---------------------------------------------------------------------------\u001b[0m",
      "\u001b[0;31mValueError\u001b[0m                                Traceback (most recent call last)",
      "\u001b[0;32m<ipython-input-168-a37b4b1395bc>\u001b[0m in \u001b[0;36m<module>\u001b[0;34m()\u001b[0m\n\u001b[1;32m      1\u001b[0m \u001b[0mtf\u001b[0m\u001b[0;34m.\u001b[0m\u001b[0mreset_default_graph\u001b[0m\u001b[0;34m(\u001b[0m\u001b[0;34m)\u001b[0m\u001b[0;34m\u001b[0m\u001b[0m\n\u001b[0;32m----> 2\u001b[0;31m \u001b[0msess\u001b[0m\u001b[0;34m.\u001b[0m\u001b[0mrun\u001b[0m\u001b[0;34m(\u001b[0m\u001b[0mtf\u001b[0m\u001b[0;34m.\u001b[0m\u001b[0mnn\u001b[0m\u001b[0;34m.\u001b[0m\u001b[0mtop_k\u001b[0m\u001b[0;34m(\u001b[0m\u001b[0;34m[\u001b[0m\u001b[0;36m1\u001b[0m\u001b[0;34m,\u001b[0m\u001b[0;36m2\u001b[0m\u001b[0;34m,\u001b[0m\u001b[0;36m3\u001b[0m\u001b[0;34m]\u001b[0m\u001b[0;34m)\u001b[0m\u001b[0;34m)\u001b[0m\u001b[0;34m\u001b[0m\u001b[0m\n\u001b[0m",
      "\u001b[0;32m/Users/yaroslavvb/tfimmediate_hood/tensorflow/_python_build/tensorflow/python/client/session.py\u001b[0m in \u001b[0;36mrun\u001b[0;34m(self, fetches, feed_dict, options, run_metadata)\u001b[0m\n\u001b[1;32m    370\u001b[0m         \u001b[0mrun_metadata\u001b[0m\u001b[0;34m.\u001b[0m\u001b[0mParseFromString\u001b[0m\u001b[0;34m(\u001b[0m\u001b[0mcompat\u001b[0m\u001b[0;34m.\u001b[0m\u001b[0mas_bytes\u001b[0m\u001b[0;34m(\u001b[0m\u001b[0mproto_data\u001b[0m\u001b[0;34m)\u001b[0m\u001b[0;34m)\u001b[0m\u001b[0;34m\u001b[0m\u001b[0m\n\u001b[1;32m    371\u001b[0m     \u001b[0;32mfinally\u001b[0m\u001b[0;34m:\u001b[0m\u001b[0;34m\u001b[0m\u001b[0m\n\u001b[0;32m--> 372\u001b[0;31m       \u001b[0mtf_session\u001b[0m\u001b[0;34m.\u001b[0m\u001b[0mTF_DeleteBuffer\u001b[0m\u001b[0;34m(\u001b[0m\u001b[0mrun_metadata_ptr\u001b[0m\u001b[0;34m)\u001b[0m\u001b[0;34m\u001b[0m\u001b[0m\n\u001b[0m\u001b[1;32m    373\u001b[0m       \u001b[0;32mif\u001b[0m \u001b[0moptions\u001b[0m\u001b[0;34m:\u001b[0m\u001b[0;34m\u001b[0m\u001b[0m\n\u001b[1;32m    374\u001b[0m         \u001b[0mtf_session\u001b[0m\u001b[0;34m.\u001b[0m\u001b[0mTF_DeleteBuffer\u001b[0m\u001b[0;34m(\u001b[0m\u001b[0moptions_ptr\u001b[0m\u001b[0;34m)\u001b[0m\u001b[0;34m\u001b[0m\u001b[0m\n",
      "\u001b[0;32m/Users/yaroslavvb/tfimmediate_hood/tensorflow/_python_build/tensorflow/python/client/session.py\u001b[0m in \u001b[0;36m_run\u001b[0;34m(self, handle, fetches, feed_dict, options, run_metadata)\u001b[0m\n\u001b[1;32m    582\u001b[0m     \u001b[0;31m# Validate and process fetches.\u001b[0m\u001b[0;34m\u001b[0m\u001b[0;34m\u001b[0m\u001b[0m\n\u001b[1;32m    583\u001b[0m     \u001b[0mprocessed_fetches\u001b[0m \u001b[0;34m=\u001b[0m \u001b[0mself\u001b[0m\u001b[0;34m.\u001b[0m\u001b[0m_process_fetches\u001b[0m\u001b[0;34m(\u001b[0m\u001b[0mfetches\u001b[0m\u001b[0;34m)\u001b[0m\u001b[0;34m\u001b[0m\u001b[0m\n\u001b[0;32m--> 584\u001b[0;31m     \u001b[0munique_fetches\u001b[0m \u001b[0;34m=\u001b[0m \u001b[0mprocessed_fetches\u001b[0m\u001b[0;34m[\u001b[0m\u001b[0;36m0\u001b[0m\u001b[0;34m]\u001b[0m\u001b[0;34m\u001b[0m\u001b[0m\n\u001b[0m\u001b[1;32m    585\u001b[0m     \u001b[0mtarget_list\u001b[0m \u001b[0;34m=\u001b[0m \u001b[0mprocessed_fetches\u001b[0m\u001b[0;34m[\u001b[0m\u001b[0;36m1\u001b[0m\u001b[0;34m]\u001b[0m\u001b[0;34m\u001b[0m\u001b[0m\n\u001b[1;32m    586\u001b[0m     \u001b[0mfetch_info\u001b[0m \u001b[0;34m=\u001b[0m \u001b[0mprocessed_fetches\u001b[0m\u001b[0;34m[\u001b[0m\u001b[0;36m2\u001b[0m\u001b[0;34m]\u001b[0m\u001b[0;34m\u001b[0m\u001b[0m\n",
      "\u001b[0;32m/Users/yaroslavvb/tfimmediate_hood/tensorflow/_python_build/tensorflow/python/client/session.py\u001b[0m in \u001b[0;36m_process_fetches\u001b[0;34m(self, fetches)\u001b[0m\n\u001b[1;32m    541\u001b[0m                            'Tensor. (%s)' % (subfetch, fetch, str(e)))\n\u001b[1;32m    542\u001b[0m       \u001b[0munique_fetch_targets\u001b[0m\u001b[0;34m.\u001b[0m\u001b[0mupdate\u001b[0m\u001b[0;34m(\u001b[0m\u001b[0msubfetch_names\u001b[0m\u001b[0;34m)\u001b[0m\u001b[0;34m\u001b[0m\u001b[0m\n\u001b[0;32m--> 543\u001b[0;31m       \u001b[0mfetch_info\u001b[0m\u001b[0;34m.\u001b[0m\u001b[0mappend\u001b[0m\u001b[0;34m(\u001b[0m\u001b[0;34m(\u001b[0m\u001b[0msubfetch_names\u001b[0m\u001b[0;34m,\u001b[0m \u001b[0mfetch_contraction_fn\u001b[0m\u001b[0;34m)\u001b[0m\u001b[0;34m)\u001b[0m\u001b[0;34m\u001b[0m\u001b[0m\n\u001b[0m\u001b[1;32m    544\u001b[0m \u001b[0;34m\u001b[0m\u001b[0m\n\u001b[1;32m    545\u001b[0m     \u001b[0munique_fetch_targets\u001b[0m \u001b[0;34m=\u001b[0m \u001b[0mlist\u001b[0m\u001b[0;34m(\u001b[0m\u001b[0munique_fetch_targets\u001b[0m\u001b[0;34m)\u001b[0m\u001b[0;34m\u001b[0m\u001b[0m\n",
      "\u001b[0;31mValueError\u001b[0m: Fetch argument <tf.Tensor 'TopKV2:0' shape=(1,) dtype=int32> of <tf.Tensor 'TopKV2:0' shape=(1,) dtype=int32> cannot be interpreted as a Tensor. (Tensor Tensor(\"TopKV2:0\", shape=(1,), dtype=int32) is not an element of this graph.)"
     ]
    }
   ],
   "source": [
    "tf.reset_default_graph()\n",
    "sess.run(tf.nn.top_k([1,2,3]))"
   ]
  },
  {
   "cell_type": "code",
   "execution_count": 176,
   "metadata": {
    "collapsed": false
   },
   "outputs": [],
   "source": [
    "tf.reset_default_graph()\n",
    "op = tf.nn.top_k([1,2,3])\n",
    "sess = tf.Session()"
   ]
  },
  {
   "cell_type": "code",
   "execution_count": 177,
   "metadata": {
    "collapsed": false
   },
   "outputs": [
    {
     "data": {
      "text/plain": [
       "node {\n",
       "  name: \"TopKV2/input\"\n",
       "  op: \"Const\"\n",
       "  attr {\n",
       "    key: \"dtype\"\n",
       "    value {\n",
       "      type: DT_INT32\n",
       "    }\n",
       "  }\n",
       "  attr {\n",
       "    key: \"value\"\n",
       "    value {\n",
       "      tensor {\n",
       "        dtype: DT_INT32\n",
       "        tensor_shape {\n",
       "          dim {\n",
       "            size: 3\n",
       "          }\n",
       "        }\n",
       "        tensor_content: \"\\001\\000\\000\\000\\002\\000\\000\\000\\003\\000\\000\\000\"\n",
       "      }\n",
       "    }\n",
       "  }\n",
       "}\n",
       "node {\n",
       "  name: \"TopKV2/k\"\n",
       "  op: \"Const\"\n",
       "  attr {\n",
       "    key: \"dtype\"\n",
       "    value {\n",
       "      type: DT_INT32\n",
       "    }\n",
       "  }\n",
       "  attr {\n",
       "    key: \"value\"\n",
       "    value {\n",
       "      tensor {\n",
       "        dtype: DT_INT32\n",
       "        tensor_shape {\n",
       "        }\n",
       "        int_val: 1\n",
       "      }\n",
       "    }\n",
       "  }\n",
       "}\n",
       "node {\n",
       "  name: \"TopKV2\"\n",
       "  op: \"TopKV2\"\n",
       "  input: \"TopKV2/input\"\n",
       "  input: \"TopKV2/k\"\n",
       "  attr {\n",
       "    key: \"T\"\n",
       "    value {\n",
       "      type: DT_INT32\n",
       "    }\n",
       "  }\n",
       "  attr {\n",
       "    key: \"sorted\"\n",
       "    value {\n",
       "      b: true\n",
       "    }\n",
       "  }\n",
       "}\n",
       "versions {\n",
       "  producer: 10\n",
       "}"
      ]
     },
     "execution_count": 177,
     "metadata": {},
     "output_type": "execute_result"
    }
   ],
   "source": [
    "tf.get_default_graph().as_graph_def()"
   ]
  },
  {
   "cell_type": "code",
   "execution_count": 179,
   "metadata": {
    "collapsed": false
   },
   "outputs": [
    {
     "data": {
      "text/plain": [
       "[array([3], dtype=int32)]"
      ]
     },
     "execution_count": 179,
     "metadata": {},
     "output_type": "execute_result"
    }
   ],
   "source": [
    "sess.run([\"TopKV2:0\"])"
   ]
  },
  {
   "cell_type": "code",
   "execution_count": 181,
   "metadata": {
    "collapsed": false
   },
   "outputs": [],
   "source": [
    "tf.reset_default_graph()\n",
    "op = tf.split(0, 2, [1,2])\n",
    "sess = tf.Session()"
   ]
  },
  {
   "cell_type": "code",
   "execution_count": 182,
   "metadata": {
    "collapsed": false
   },
   "outputs": [
    {
     "data": {
      "text/plain": [
       "node {\n",
       "  name: \"split/split_dim\"\n",
       "  op: \"Const\"\n",
       "  attr {\n",
       "    key: \"dtype\"\n",
       "    value {\n",
       "      type: DT_INT32\n",
       "    }\n",
       "  }\n",
       "  attr {\n",
       "    key: \"value\"\n",
       "    value {\n",
       "      tensor {\n",
       "        dtype: DT_INT32\n",
       "        tensor_shape {\n",
       "        }\n",
       "        int_val: 0\n",
       "      }\n",
       "    }\n",
       "  }\n",
       "}\n",
       "node {\n",
       "  name: \"split/value\"\n",
       "  op: \"Const\"\n",
       "  attr {\n",
       "    key: \"dtype\"\n",
       "    value {\n",
       "      type: DT_INT32\n",
       "    }\n",
       "  }\n",
       "  attr {\n",
       "    key: \"value\"\n",
       "    value {\n",
       "      tensor {\n",
       "        dtype: DT_INT32\n",
       "        tensor_shape {\n",
       "          dim {\n",
       "            size: 2\n",
       "          }\n",
       "        }\n",
       "        tensor_content: \"\\001\\000\\000\\000\\002\\000\\000\\000\"\n",
       "      }\n",
       "    }\n",
       "  }\n",
       "}\n",
       "node {\n",
       "  name: \"split\"\n",
       "  op: \"Split\"\n",
       "  input: \"split/split_dim\"\n",
       "  input: \"split/value\"\n",
       "  attr {\n",
       "    key: \"T\"\n",
       "    value {\n",
       "      type: DT_INT32\n",
       "    }\n",
       "  }\n",
       "  attr {\n",
       "    key: \"num_split\"\n",
       "    value {\n",
       "      i: 2\n",
       "    }\n",
       "  }\n",
       "}\n",
       "versions {\n",
       "  producer: 10\n",
       "}"
      ]
     },
     "execution_count": 182,
     "metadata": {},
     "output_type": "execute_result"
    }
   ],
   "source": [
    "tf.get_default_graph().as_graph_def()"
   ]
  },
  {
   "cell_type": "code",
   "execution_count": 184,
   "metadata": {
    "collapsed": false
   },
   "outputs": [
    {
     "data": {
      "text/plain": [
       "array([2], dtype=int32)"
      ]
     },
     "execution_count": 184,
     "metadata": {},
     "output_type": "execute_result"
    }
   ],
   "source": [
    "sess.run(\"split:1\")"
   ]
  },
  {
   "cell_type": "code",
   "execution_count": 185,
   "metadata": {
    "collapsed": false
   },
   "outputs": [
    {
     "data": {
      "text/plain": [
       "[<tf.Tensor 'split:0' shape=(1,) dtype=int32>,\n",
       " <tf.Tensor 'split:1' shape=(1,) dtype=int32>]"
      ]
     },
     "execution_count": 185,
     "metadata": {},
     "output_type": "execute_result"
    }
   ],
   "source": [
    "op"
   ]
  },
  {
   "cell_type": "code",
   "execution_count": 193,
   "metadata": {
    "collapsed": false
   },
   "outputs": [
    {
     "data": {
      "text/plain": [
       "[array([3], dtype=int32), array([2], dtype=int32)]"
      ]
     },
     "execution_count": 193,
     "metadata": {},
     "output_type": "execute_result"
    }
   ],
   "source": [
    "tf.reset_default_graph()\n",
    "op = tf.nn.top_k([1,2,3])\n",
    "sess = tf.InteractiveSession()\n",
    "sess.run(tf.nn.top_k([1,2,3]))"
   ]
  },
  {
   "cell_type": "code",
   "execution_count": 197,
   "metadata": {
    "collapsed": false
   },
   "outputs": [
    {
     "data": {
      "text/plain": [
       "<tf.Tensor 'TopKV2:0' shape=(1,) dtype=int32>"
      ]
     },
     "execution_count": 197,
     "metadata": {},
     "output_type": "execute_result"
    }
   ],
   "source": [
    "op[0]"
   ]
  },
  {
   "cell_type": "code",
   "execution_count": 205,
   "metadata": {
    "collapsed": false
   },
   "outputs": [
    {
     "data": {
      "text/plain": [
       "<tf.Tensor 'TopKV2:0' shape=(1,) dtype=int32>"
      ]
     },
     "execution_count": 205,
     "metadata": {},
     "output_type": "execute_result"
    }
   ],
   "source": [
    "op.values"
   ]
  },
  {
   "cell_type": "code",
   "execution_count": 206,
   "metadata": {
    "collapsed": false
   },
   "outputs": [],
   "source": [
    "op = tf.split(0,3, [1,2,3])"
   ]
  },
  {
   "cell_type": "code",
   "execution_count": 208,
   "metadata": {
    "collapsed": false
   },
   "outputs": [
    {
     "data": {
      "text/plain": [
       "node {\n",
       "  name: \"TopKV2/input\"\n",
       "  op: \"Const\"\n",
       "  attr {\n",
       "    key: \"dtype\"\n",
       "    value {\n",
       "      type: DT_INT32\n",
       "    }\n",
       "  }\n",
       "  attr {\n",
       "    key: \"value\"\n",
       "    value {\n",
       "      tensor {\n",
       "        dtype: DT_INT32\n",
       "        tensor_shape {\n",
       "          dim {\n",
       "            size: 3\n",
       "          }\n",
       "        }\n",
       "        tensor_content: \"\\001\\000\\000\\000\\002\\000\\000\\000\\003\\000\\000\\000\"\n",
       "      }\n",
       "    }\n",
       "  }\n",
       "}\n",
       "node {\n",
       "  name: \"TopKV2/k\"\n",
       "  op: \"Const\"\n",
       "  attr {\n",
       "    key: \"dtype\"\n",
       "    value {\n",
       "      type: DT_INT32\n",
       "    }\n",
       "  }\n",
       "  attr {\n",
       "    key: \"value\"\n",
       "    value {\n",
       "      tensor {\n",
       "        dtype: DT_INT32\n",
       "        tensor_shape {\n",
       "        }\n",
       "        int_val: 1\n",
       "      }\n",
       "    }\n",
       "  }\n",
       "}\n",
       "node {\n",
       "  name: \"TopKV2\"\n",
       "  op: \"TopKV2\"\n",
       "  input: \"TopKV2/input\"\n",
       "  input: \"TopKV2/k\"\n",
       "  attr {\n",
       "    key: \"T\"\n",
       "    value {\n",
       "      type: DT_INT32\n",
       "    }\n",
       "  }\n",
       "  attr {\n",
       "    key: \"sorted\"\n",
       "    value {\n",
       "      b: true\n",
       "    }\n",
       "  }\n",
       "}\n",
       "node {\n",
       "  name: \"TopKV2_1/input\"\n",
       "  op: \"Const\"\n",
       "  attr {\n",
       "    key: \"dtype\"\n",
       "    value {\n",
       "      type: DT_INT32\n",
       "    }\n",
       "  }\n",
       "  attr {\n",
       "    key: \"value\"\n",
       "    value {\n",
       "      tensor {\n",
       "        dtype: DT_INT32\n",
       "        tensor_shape {\n",
       "          dim {\n",
       "            size: 3\n",
       "          }\n",
       "        }\n",
       "        tensor_content: \"\\001\\000\\000\\000\\002\\000\\000\\000\\003\\000\\000\\000\"\n",
       "      }\n",
       "    }\n",
       "  }\n",
       "}\n",
       "node {\n",
       "  name: \"TopKV2_1/k\"\n",
       "  op: \"Const\"\n",
       "  attr {\n",
       "    key: \"dtype\"\n",
       "    value {\n",
       "      type: DT_INT32\n",
       "    }\n",
       "  }\n",
       "  attr {\n",
       "    key: \"value\"\n",
       "    value {\n",
       "      tensor {\n",
       "        dtype: DT_INT32\n",
       "        tensor_shape {\n",
       "        }\n",
       "        int_val: 1\n",
       "      }\n",
       "    }\n",
       "  }\n",
       "}\n",
       "node {\n",
       "  name: \"TopKV2_1\"\n",
       "  op: \"TopKV2\"\n",
       "  input: \"TopKV2_1/input\"\n",
       "  input: \"TopKV2_1/k\"\n",
       "  attr {\n",
       "    key: \"T\"\n",
       "    value {\n",
       "      type: DT_INT32\n",
       "    }\n",
       "  }\n",
       "  attr {\n",
       "    key: \"sorted\"\n",
       "    value {\n",
       "      b: true\n",
       "    }\n",
       "  }\n",
       "}\n",
       "node {\n",
       "  name: \"split/split_dim\"\n",
       "  op: \"Const\"\n",
       "  attr {\n",
       "    key: \"dtype\"\n",
       "    value {\n",
       "      type: DT_INT32\n",
       "    }\n",
       "  }\n",
       "  attr {\n",
       "    key: \"value\"\n",
       "    value {\n",
       "      tensor {\n",
       "        dtype: DT_INT32\n",
       "        tensor_shape {\n",
       "        }\n",
       "        int_val: 0\n",
       "      }\n",
       "    }\n",
       "  }\n",
       "}\n",
       "node {\n",
       "  name: \"split/value\"\n",
       "  op: \"Const\"\n",
       "  attr {\n",
       "    key: \"dtype\"\n",
       "    value {\n",
       "      type: DT_INT32\n",
       "    }\n",
       "  }\n",
       "  attr {\n",
       "    key: \"value\"\n",
       "    value {\n",
       "      tensor {\n",
       "        dtype: DT_INT32\n",
       "        tensor_shape {\n",
       "          dim {\n",
       "            size: 3\n",
       "          }\n",
       "        }\n",
       "        tensor_content: \"\\001\\000\\000\\000\\002\\000\\000\\000\\003\\000\\000\\000\"\n",
       "      }\n",
       "    }\n",
       "  }\n",
       "}\n",
       "node {\n",
       "  name: \"split\"\n",
       "  op: \"Split\"\n",
       "  input: \"split/split_dim\"\n",
       "  input: \"split/value\"\n",
       "  attr {\n",
       "    key: \"T\"\n",
       "    value {\n",
       "      type: DT_INT32\n",
       "    }\n",
       "  }\n",
       "  attr {\n",
       "    key: \"num_split\"\n",
       "    value {\n",
       "      i: 3\n",
       "    }\n",
       "  }\n",
       "}\n",
       "versions {\n",
       "  producer: 10\n",
       "}"
      ]
     },
     "execution_count": 208,
     "metadata": {},
     "output_type": "execute_result"
    }
   ],
   "source": [
    "tf.get_default_graph().as_graph_def()"
   ]
  },
  {
   "cell_type": "code",
   "execution_count": 213,
   "metadata": {
    "collapsed": false
   },
   "outputs": [
    {
     "name": "stdout",
     "output_type": "stream",
     "text": [
      "node {\n",
      "  name: \"ones\"\n",
      "  op: \"Const\"\n",
      "  attr {\n",
      "    key: \"dtype\"\n",
      "    value {\n",
      "      type: DT_FLOAT\n",
      "    }\n",
      "  }\n",
      "  attr {\n",
      "    key: \"value\"\n",
      "    value {\n",
      "      tensor {\n",
      "        dtype: DT_FLOAT\n",
      "        tensor_shape {\n",
      "          dim {\n",
      "            size: 3\n",
      "          }\n",
      "          dim {\n",
      "            size: 3\n",
      "          }\n",
      "        }\n",
      "        float_val: 1.0\n",
      "      }\n",
      "    }\n",
      "  }\n",
      "}\n",
      "node {\n",
      "  name: \"Variable\"\n",
      "  op: \"Variable\"\n",
      "  attr {\n",
      "    key: \"container\"\n",
      "    value {\n",
      "      s: \"\"\n",
      "    }\n",
      "  }\n",
      "  attr {\n",
      "    key: \"dtype\"\n",
      "    value {\n",
      "      type: DT_FLOAT\n",
      "    }\n",
      "  }\n",
      "  attr {\n",
      "    key: \"shape\"\n",
      "    value {\n",
      "      shape {\n",
      "        dim {\n",
      "          size: 3\n",
      "        }\n",
      "        dim {\n",
      "          size: 3\n",
      "        }\n",
      "      }\n",
      "    }\n",
      "  }\n",
      "  attr {\n",
      "    key: \"shared_name\"\n",
      "    value {\n",
      "      s: \"\"\n",
      "    }\n",
      "  }\n",
      "}\n",
      "node {\n",
      "  name: \"Variable/Assign\"\n",
      "  op: \"Assign\"\n",
      "  input: \"Variable\"\n",
      "  input: \"ones\"\n",
      "  attr {\n",
      "    key: \"T\"\n",
      "    value {\n",
      "      type: DT_FLOAT\n",
      "    }\n",
      "  }\n",
      "  attr {\n",
      "    key: \"_class\"\n",
      "    value {\n",
      "      list {\n",
      "        s: \"loc:@Variable\"\n",
      "      }\n",
      "    }\n",
      "  }\n",
      "  attr {\n",
      "    key: \"use_locking\"\n",
      "    value {\n",
      "      b: true\n",
      "    }\n",
      "  }\n",
      "  attr {\n",
      "    key: \"validate_shape\"\n",
      "    value {\n",
      "      b: true\n",
      "    }\n",
      "  }\n",
      "}\n",
      "node {\n",
      "  name: \"Variable/read\"\n",
      "  op: \"Identity\"\n",
      "  input: \"Variable\"\n",
      "  attr {\n",
      "    key: \"T\"\n",
      "    value {\n",
      "      type: DT_FLOAT\n",
      "    }\n",
      "  }\n",
      "  attr {\n",
      "    key: \"_class\"\n",
      "    value {\n",
      "      list {\n",
      "        s: \"loc:@Variable\"\n",
      "      }\n",
      "    }\n",
      "  }\n",
      "}\n",
      "node {\n",
      "  name: \"init\"\n",
      "  op: \"NoOp\"\n",
      "  input: \"^Variable/Assign\"\n",
      "}\n",
      "versions {\n",
      "  producer: 10\n",
      "}\n",
      "\n",
      "[array([[ 1.,  1.,  1.],\n",
      "       [ 1.,  1.,  1.],\n",
      "       [ 1.,  1.,  1.]], dtype=float32)]\n"
     ]
    }
   ],
   "source": [
    "tf.reset_default_graph()\n",
    "a = tf.Variable(tf.ones_initializer((3,3)))\n",
    "init_op = tf.initialize_all_variables()\n",
    "sess = tf.InteractiveSession()\n",
    "sess.run(init_op)\n",
    "print(tf.get_default_graph().as_graph_def())\n",
    "print sess.run([\"Variable:0\"])"
   ]
  },
  {
   "cell_type": "code",
   "execution_count": 215,
   "metadata": {
    "collapsed": false
   },
   "outputs": [
    {
     "name": "stdout",
     "output_type": "stream",
     "text": [
      "[array([[ 1.,  1.,  1.],\n",
      "       [ 1.,  1.,  1.],\n",
      "       [ 1.,  1.,  1.]], dtype=float32)]\n"
     ]
    }
   ],
   "source": [
    "print sess.run([\"Variable:0\"])"
   ]
  },
  {
   "cell_type": "code",
   "execution_count": 216,
   "metadata": {
    "collapsed": false
   },
   "outputs": [
    {
     "name": "stdout",
     "output_type": "stream",
     "text": [
      "node {\n",
      "  name: \"Const\"\n",
      "  op: \"Const\"\n",
      "  attr {\n",
      "    key: \"dtype\"\n",
      "    value {\n",
      "      type: DT_INT32\n",
      "    }\n",
      "  }\n",
      "  attr {\n",
      "    key: \"value\"\n",
      "    value {\n",
      "      tensor {\n",
      "        dtype: DT_INT32\n",
      "        tensor_shape {\n",
      "        }\n",
      "        int_val: 1\n",
      "      }\n",
      "    }\n",
      "  }\n",
      "}\n",
      "versions {\n",
      "  producer: 10\n",
      "}\n",
      "\n"
     ]
    }
   ],
   "source": [
    "tf.reset_default_graph()\n",
    "tf.constant(1)\n",
    "print(tf.get_default_graph().as_graph_def())\n"
   ]
  },
  {
   "cell_type": "code",
   "execution_count": 219,
   "metadata": {
    "collapsed": false
   },
   "outputs": [
    {
     "name": "stdout",
     "output_type": "stream",
     "text": [
      "node {\n",
      "  name: \"Const\"\n",
      "  op: \"Const\"\n",
      "  attr {\n",
      "    key: \"dtype\"\n",
      "    value {\n",
      "      type: DT_INT32\n",
      "    }\n",
      "  }\n",
      "  attr {\n",
      "    key: \"value\"\n",
      "    value {\n",
      "      tensor {\n",
      "        dtype: DT_INT32\n",
      "        tensor_shape {\n",
      "        }\n",
      "        int_val: 1\n",
      "      }\n",
      "    }\n",
      "  }\n",
      "}\n",
      "versions {\n",
      "  producer: 10\n",
      "}\n",
      "\n"
     ]
    }
   ],
   "source": [
    "    tf.reset_default_graph()\n",
    "    value = tf.constant(1)\n",
    "    print(tf.get_default_graph().as_graph_def())\n",
    "    sess = tf.InteractiveSession()\n"
   ]
  },
  {
   "cell_type": "code",
   "execution_count": 222,
   "metadata": {
    "collapsed": false
   },
   "outputs": [
    {
     "data": {
      "text/plain": [
       "1"
      ]
     },
     "execution_count": 222,
     "metadata": {},
     "output_type": "execute_result"
    }
   ],
   "source": [
    "sess.run(\"Const:0\")"
   ]
  },
  {
   "cell_type": "code",
   "execution_count": 232,
   "metadata": {
    "collapsed": false
   },
   "outputs": [
    {
     "name": "stdout",
     "output_type": "stream",
     "text": [
      "node {\n",
      "  name: \"ones\"\n",
      "  op: \"Const\"\n",
      "  attr {\n",
      "    key: \"dtype\"\n",
      "    value {\n",
      "      type: DT_FLOAT\n",
      "    }\n",
      "  }\n",
      "  attr {\n",
      "    key: \"value\"\n",
      "    value {\n",
      "      tensor {\n",
      "        dtype: DT_FLOAT\n",
      "        tensor_shape {\n",
      "        }\n",
      "        float_val: 1.0\n",
      "      }\n",
      "    }\n",
      "  }\n",
      "}\n",
      "node {\n",
      "  name: \"Variable\"\n",
      "  op: \"Variable\"\n",
      "  attr {\n",
      "    key: \"container\"\n",
      "    value {\n",
      "      s: \"\"\n",
      "    }\n",
      "  }\n",
      "  attr {\n",
      "    key: \"dtype\"\n",
      "    value {\n",
      "      type: DT_FLOAT\n",
      "    }\n",
      "  }\n",
      "  attr {\n",
      "    key: \"shape\"\n",
      "    value {\n",
      "      shape {\n",
      "      }\n",
      "    }\n",
      "  }\n",
      "  attr {\n",
      "    key: \"shared_name\"\n",
      "    value {\n",
      "      s: \"\"\n",
      "    }\n",
      "  }\n",
      "}\n",
      "node {\n",
      "  name: \"Variable/Assign\"\n",
      "  op: \"Assign\"\n",
      "  input: \"Variable\"\n",
      "  input: \"ones\"\n",
      "  attr {\n",
      "    key: \"T\"\n",
      "    value {\n",
      "      type: DT_FLOAT\n",
      "    }\n",
      "  }\n",
      "  attr {\n",
      "    key: \"_class\"\n",
      "    value {\n",
      "      list {\n",
      "        s: \"loc:@Variable\"\n",
      "      }\n",
      "    }\n",
      "  }\n",
      "  attr {\n",
      "    key: \"use_locking\"\n",
      "    value {\n",
      "      b: true\n",
      "    }\n",
      "  }\n",
      "  attr {\n",
      "    key: \"validate_shape\"\n",
      "    value {\n",
      "      b: true\n",
      "    }\n",
      "  }\n",
      "}\n",
      "node {\n",
      "  name: \"Variable/read\"\n",
      "  op: \"Identity\"\n",
      "  input: \"Variable\"\n",
      "  attr {\n",
      "    key: \"T\"\n",
      "    value {\n",
      "      type: DT_FLOAT\n",
      "    }\n",
      "  }\n",
      "  attr {\n",
      "    key: \"_class\"\n",
      "    value {\n",
      "      list {\n",
      "        s: \"loc:@Variable\"\n",
      "      }\n",
      "    }\n",
      "  }\n",
      "}\n",
      "node {\n",
      "  name: \"add/y\"\n",
      "  op: \"Const\"\n",
      "  attr {\n",
      "    key: \"dtype\"\n",
      "    value {\n",
      "      type: DT_FLOAT\n",
      "    }\n",
      "  }\n",
      "  attr {\n",
      "    key: \"value\"\n",
      "    value {\n",
      "      tensor {\n",
      "        dtype: DT_FLOAT\n",
      "        tensor_shape {\n",
      "        }\n",
      "        float_val: 3.0\n",
      "      }\n",
      "    }\n",
      "  }\n",
      "}\n",
      "node {\n",
      "  name: \"add\"\n",
      "  op: \"Add\"\n",
      "  input: \"Variable/read\"\n",
      "  input: \"add/y\"\n",
      "  attr {\n",
      "    key: \"T\"\n",
      "    value {\n",
      "      type: DT_FLOAT\n",
      "    }\n",
      "  }\n",
      "}\n",
      "versions {\n",
      "  producer: 10\n",
      "}\n",
      "\n"
     ]
    }
   ],
   "source": [
    "    tf.reset_default_graph()\n",
    "    value = tf.Variable(tf.ones_initializer(()))\n",
    "    value2 = value+3\n",
    "    print(tf.get_default_graph().as_graph_def())\n",
    "    sess = tf.InteractiveSession()\n",
    "    sess.run(tf.initialize_all_variables())\n"
   ]
  },
  {
   "cell_type": "code",
   "execution_count": 227,
   "metadata": {
    "collapsed": false
   },
   "outputs": [
    {
     "data": {
      "text/plain": [
       "tensorflow.python.ops.variables.Variable"
      ]
     },
     "execution_count": 227,
     "metadata": {},
     "output_type": "execute_result"
    }
   ],
   "source": [
    "type(value)"
   ]
  },
  {
   "cell_type": "code",
   "execution_count": 228,
   "metadata": {
    "collapsed": false
   },
   "outputs": [
    {
     "data": {
      "text/plain": [
       "u'Variable:0'"
      ]
     },
     "execution_count": 228,
     "metadata": {},
     "output_type": "execute_result"
    }
   ],
   "source": [
    "value.name"
   ]
  },
  {
   "cell_type": "code",
   "execution_count": 233,
   "metadata": {
    "collapsed": false
   },
   "outputs": [
    {
     "data": {
      "text/plain": [
       "1.0"
      ]
     },
     "execution_count": 233,
     "metadata": {},
     "output_type": "execute_result"
    }
   ],
   "source": [
    "sess.run(\"Variable:0\")"
   ]
  },
  {
   "cell_type": "code",
   "execution_count": 236,
   "metadata": {
    "collapsed": false
   },
   "outputs": [
    {
     "name": "stdout",
     "output_type": "stream",
     "text": [
      "node {\n",
      "  name: \"Placeholder\"\n",
      "  op: \"Placeholder\"\n",
      "  attr {\n",
      "    key: \"dtype\"\n",
      "    value {\n",
      "      type: DT_UINT8\n",
      "    }\n",
      "  }\n",
      "  attr {\n",
      "    key: \"shape\"\n",
      "    value {\n",
      "      shape {\n",
      "      }\n",
      "    }\n",
      "  }\n",
      "}\n",
      "versions {\n",
      "  producer: 10\n",
      "}\n",
      "\n"
     ]
    },
    {
     "name": "stderr",
     "output_type": "stream",
     "text": [
      "Exception AssertionError: AssertionError(\"Nesting violated for default stack of <type 'weakref'> objects\",) in <bound method InteractiveSession.__del__ of <tensorflow.python.client.session.InteractiveSession object at 0x12aadfb90>> ignored\n"
     ]
    },
    {
     "data": {
      "text/plain": [
       "2"
      ]
     },
     "execution_count": 236,
     "metadata": {},
     "output_type": "execute_result"
    }
   ],
   "source": [
    "    tf.reset_default_graph()\n",
    "    value = tf.placeholder(tf.uint8)\n",
    "    print(tf.get_default_graph().as_graph_def())\n",
    "    sess = tf.InteractiveSession()\n",
    "    sess.run(tf.identity(value), feed_dict={\"Placeholder:0\":2})\n"
   ]
  },
  {
   "cell_type": "code",
   "execution_count": 235,
   "metadata": {
    "collapsed": false
   },
   "outputs": [
    {
     "data": {
      "text/plain": [
       "<tf.Tensor 'Placeholder:0' shape=<unknown> dtype=uint8>"
      ]
     },
     "execution_count": 235,
     "metadata": {},
     "output_type": "execute_result"
    }
   ],
   "source": [
    "value"
   ]
  },
  {
   "cell_type": "code",
   "execution_count": 593,
   "metadata": {
    "collapsed": false
   },
   "outputs": [],
   "source": [
    "tf.FIFOQueue(1000, )"
   ]
  },
  {
   "cell_type": "code",
   "execution_count": 596,
   "metadata": {
    "collapsed": true
   },
   "outputs": [],
   "source": [
    "tf.train.Saver??"
   ]
  },
  {
   "cell_type": "code",
   "execution_count": 595,
   "metadata": {
    "collapsed": true
   },
   "outputs": [],
   "source": [
    "a.save??"
   ]
  },
  {
   "cell_type": "code",
   "execution_count": 607,
   "metadata": {
    "collapsed": false
   },
   "outputs": [
    {
     "data": {
      "text/plain": [
       "<tf.Tensor 'add:0' shape=(3, 3) dtype=float32>"
      ]
     },
     "execution_count": 607,
     "metadata": {},
     "output_type": "execute_result"
    }
   ],
   "source": [
    "tf.reset_default_graph()\n",
    "a = tf.ones((3,3))\n",
    "b = tf.ones((3,3))\n",
    "a.__add__(b)"
   ]
  },
  {
   "cell_type": "code",
   "execution_count": 609,
   "metadata": {
    "collapsed": false
   },
   "outputs": [],
   "source": [
    "method=a.__add__"
   ]
  },
  {
   "cell_type": "code",
   "execution_count": 610,
   "metadata": {
    "collapsed": false
   },
   "outputs": [],
   "source": [
    "method??"
   ]
  },
  {
   "cell_type": "code",
   "execution_count": 604,
   "metadata": {
    "collapsed": false
   },
   "outputs": [
    {
     "data": {
      "text/plain": [
       "<tf.Tensor 'add_7:0' shape=(3, 3) dtype=float32>"
      ]
     },
     "execution_count": 604,
     "metadata": {},
     "output_type": "execute_result"
    }
   ],
   "source": [
    "a+b"
   ]
  },
  {
   "cell_type": "code",
   "execution_count": 606,
   "metadata": {
    "collapsed": true
   },
   "outputs": [],
   "source": [
    "a.__add__??"
   ]
  },
  {
   "cell_type": "code",
   "execution_count": 611,
   "metadata": {
    "collapsed": false
   },
   "outputs": [
    {
     "data": {
      "text/plain": [
       "['OVERLOADABLE_OPERATORS',\n",
       " '__abs__',\n",
       " '__add__',\n",
       " '__and__',\n",
       " '__array_priority__',\n",
       " '__bool__',\n",
       " '__class__',\n",
       " '__delattr__',\n",
       " '__dict__',\n",
       " '__div__',\n",
       " '__doc__',\n",
       " '__eq__',\n",
       " '__floordiv__',\n",
       " '__format__',\n",
       " '__ge__',\n",
       " '__getattribute__',\n",
       " '__getitem__',\n",
       " '__gt__',\n",
       " '__hash__',\n",
       " '__init__',\n",
       " '__invert__',\n",
       " '__iter__',\n",
       " '__le__',\n",
       " '__lt__',\n",
       " '__mod__',\n",
       " '__module__',\n",
       " '__mul__',\n",
       " '__neg__',\n",
       " '__new__',\n",
       " '__nonzero__',\n",
       " '__or__',\n",
       " '__pow__',\n",
       " '__radd__',\n",
       " '__rand__',\n",
       " '__rdiv__',\n",
       " '__reduce__',\n",
       " '__reduce_ex__',\n",
       " '__repr__',\n",
       " '__rfloordiv__',\n",
       " '__rmod__',\n",
       " '__rmul__',\n",
       " '__ror__',\n",
       " '__rpow__',\n",
       " '__rsub__',\n",
       " '__rtruediv__',\n",
       " '__rxor__',\n",
       " '__setattr__',\n",
       " '__sizeof__',\n",
       " '__str__',\n",
       " '__sub__',\n",
       " '__subclasshook__',\n",
       " '__truediv__',\n",
       " '__weakref__',\n",
       " '__xor__',\n",
       " '_add_consumer',\n",
       " '_as_node_def_input',\n",
       " '_consumers',\n",
       " '_dtype',\n",
       " '_op',\n",
       " '_override_operator',\n",
       " '_shape',\n",
       " '_shape_as_list',\n",
       " '_value_index',\n",
       " 'consumers',\n",
       " 'device',\n",
       " 'dtype',\n",
       " 'eval',\n",
       " 'get_shape',\n",
       " 'graph',\n",
       " 'name',\n",
       " 'op',\n",
       " 'set_shape',\n",
       " 'value_index']"
      ]
     },
     "execution_count": 611,
     "metadata": {},
     "output_type": "execute_result"
    }
   ],
   "source": [
    "dir(a)"
   ]
  },
  {
   "cell_type": "code",
   "execution_count": 612,
   "metadata": {
    "collapsed": false
   },
   "outputs": [
    {
     "data": {
      "text/plain": [
       "{'__abs__',\n",
       " '__add__',\n",
       " '__and__',\n",
       " '__div__',\n",
       " '__floordiv__',\n",
       " '__ge__',\n",
       " '__getitem__',\n",
       " '__gt__',\n",
       " '__invert__',\n",
       " '__le__',\n",
       " '__lt__',\n",
       " '__mod__',\n",
       " '__mul__',\n",
       " '__neg__',\n",
       " '__or__',\n",
       " '__pow__',\n",
       " '__radd__',\n",
       " '__rand__',\n",
       " '__rdiv__',\n",
       " '__rfloordiv__',\n",
       " '__rmod__',\n",
       " '__rmul__',\n",
       " '__ror__',\n",
       " '__rpow__',\n",
       " '__rsub__',\n",
       " '__rtruediv__',\n",
       " '__rxor__',\n",
       " '__sub__',\n",
       " '__truediv__',\n",
       " '__xor__'}"
      ]
     },
     "execution_count": 612,
     "metadata": {},
     "output_type": "execute_result"
    }
   ],
   "source": [
    "a.OVERLOADABLE_OPERATORS"
   ]
  },
  {
   "cell_type": "code",
   "execution_count": 615,
   "metadata": {
    "collapsed": true
   },
   "outputs": [],
   "source": [
    "func_mod = tf.Tensor.__mod__"
   ]
  },
  {
   "cell_type": "code",
   "execution_count": 617,
   "metadata": {
    "collapsed": true
   },
   "outputs": [],
   "source": [
    "func_mod??"
   ]
  },
  {
   "cell_type": "code",
   "execution_count": 619,
   "metadata": {
    "collapsed": false
   },
   "outputs": [],
   "source": [
    "tf.reset_default_graph()\n",
    "dtype = tf.int32\n",
    "a = tf.placeholder(dtype)\n",
    "b = tf.placeholder(dtype)\n",
    "c = a+b"
   ]
  },
  {
   "cell_type": "code",
   "execution_count": 620,
   "metadata": {
    "collapsed": false
   },
   "outputs": [
    {
     "data": {
      "text/plain": [
       "<tf.Tensor 'add:0' shape=<unknown> dtype=int32>"
      ]
     },
     "execution_count": 620,
     "metadata": {},
     "output_type": "execute_result"
    }
   ],
   "source": [
    "c"
   ]
  },
  {
   "cell_type": "code",
   "execution_count": 643,
   "metadata": {
    "collapsed": true
   },
   "outputs": [],
   "source": [
    "tf.reset_default_graph()\n",
    "dtype = tf.int32\n",
    "a = tf.placeholder(dtype)\n",
    "b = tf.placeholder(dtype)\n",
    "c = tf.add(a, b)"
   ]
  },
  {
   "cell_type": "code",
   "execution_count": 644,
   "metadata": {
    "collapsed": false
   },
   "outputs": [
    {
     "data": {
      "text/plain": [
       "node {\n",
       "  name: \"Placeholder\"\n",
       "  op: \"Placeholder\"\n",
       "  attr {\n",
       "    key: \"dtype\"\n",
       "    value {\n",
       "      type: DT_INT32\n",
       "    }\n",
       "  }\n",
       "  attr {\n",
       "    key: \"shape\"\n",
       "    value {\n",
       "      shape {\n",
       "      }\n",
       "    }\n",
       "  }\n",
       "}\n",
       "node {\n",
       "  name: \"Placeholder_1\"\n",
       "  op: \"Placeholder\"\n",
       "  attr {\n",
       "    key: \"dtype\"\n",
       "    value {\n",
       "      type: DT_INT32\n",
       "    }\n",
       "  }\n",
       "  attr {\n",
       "    key: \"shape\"\n",
       "    value {\n",
       "      shape {\n",
       "      }\n",
       "    }\n",
       "  }\n",
       "}\n",
       "node {\n",
       "  name: \"Add\"\n",
       "  op: \"Add\"\n",
       "  input: \"Placeholder\"\n",
       "  input: \"Placeholder_1\"\n",
       "  attr {\n",
       "    key: \"T\"\n",
       "    value {\n",
       "      type: DT_INT32\n",
       "    }\n",
       "  }\n",
       "}\n",
       "versions {\n",
       "  producer: 10\n",
       "}"
      ]
     },
     "execution_count": 644,
     "metadata": {},
     "output_type": "execute_result"
    }
   ],
   "source": [
    "tf.get_default_graph().as_graph_def()"
   ]
  },
  {
   "cell_type": "code",
   "execution_count": 624,
   "metadata": {
    "collapsed": true
   },
   "outputs": [],
   "source": [
    "import inspect"
   ]
  },
  {
   "cell_type": "code",
   "execution_count": 625,
   "metadata": {
    "collapsed": false
   },
   "outputs": [
    {
     "data": {
      "text/plain": [
       "'def to_bfloat16(x, name=\"ToBFloat16\"):\\n  \"\"\"Casts a tensor to type `bfloat16`.\\n\\n  Args:\\n    x: A `Tensor` or `SparseTensor`.\\n    name: A name for the operation (optional).\\n\\n  Returns:\\n    A `Tensor` or `SparseTensor` with same shape as `x` with type `bfloat16`.\\n\\n  Raises:\\n    TypeError: If `x` cannot be cast to the `bfloat16`.\\n  \"\"\"\\n  return cast(x, dtypes.bfloat16, name=name)\\n'"
      ]
     },
     "execution_count": 625,
     "metadata": {},
     "output_type": "execute_result"
    }
   ],
   "source": [
    "inspect.getsource(a.__add__)"
   ]
  },
  {
   "cell_type": "code",
   "execution_count": 626,
   "metadata": {
    "collapsed": false
   },
   "outputs": [
    {
     "data": {
      "text/plain": [
       "'/Users/yaroslavvb/tfimmediate_hood/tensorflow/_python_build/tensorflow/python/ops/math_ops.py'"
      ]
     },
     "execution_count": 626,
     "metadata": {},
     "output_type": "execute_result"
    }
   ],
   "source": [
    "inspect.getfile(a.__add__)"
   ]
  },
  {
   "cell_type": "code",
   "execution_count": 627,
   "metadata": {
    "collapsed": false
   },
   "outputs": [
    {
     "data": {
      "text/plain": [
       "instancemethod"
      ]
     },
     "execution_count": 627,
     "metadata": {},
     "output_type": "execute_result"
    }
   ],
   "source": [
    "type(a.__add__)"
   ]
  },
  {
   "cell_type": "code",
   "execution_count": 629,
   "metadata": {
    "collapsed": false
   },
   "outputs": [
    {
     "data": {
      "text/plain": [
       "instancemethod"
      ]
     },
     "execution_count": 629,
     "metadata": {},
     "output_type": "execute_result"
    }
   ],
   "source": [
    "type(tf.Tensor.__add__)"
   ]
  },
  {
   "cell_type": "code",
   "execution_count": 630,
   "metadata": {
    "collapsed": false
   },
   "outputs": [
    {
     "data": {
      "text/plain": [
       "'def to_bfloat16(x, name=\"ToBFloat16\"):\\n  \"\"\"Casts a tensor to type `bfloat16`.\\n\\n  Args:\\n    x: A `Tensor` or `SparseTensor`.\\n    name: A name for the operation (optional).\\n\\n  Returns:\\n    A `Tensor` or `SparseTensor` with same shape as `x` with type `bfloat16`.\\n\\n  Raises:\\n    TypeError: If `x` cannot be cast to the `bfloat16`.\\n  \"\"\"\\n  return cast(x, dtypes.bfloat16, name=name)\\n'"
      ]
     },
     "execution_count": 630,
     "metadata": {},
     "output_type": "execute_result"
    }
   ],
   "source": [
    "inspect.getsource(tf.Tensor.__add__)"
   ]
  },
  {
   "cell_type": "code",
   "execution_count": 631,
   "metadata": {
    "collapsed": true
   },
   "outputs": [],
   "source": [
    "stuff = tf.Tensor.__add__"
   ]
  },
  {
   "cell_type": "code",
   "execution_count": 633,
   "metadata": {
    "collapsed": false
   },
   "outputs": [
    {
     "data": {
      "text/plain": [
       "(<cell at 0x125687868: function object at 0x1254f7d70>,\n",
       " <cell at 0x1256878a0: str object at 0x10c0ac0a8>)"
      ]
     },
     "execution_count": 633,
     "metadata": {},
     "output_type": "execute_result"
    }
   ],
   "source": [
    "stuff.im_func.func_closure"
   ]
  },
  {
   "cell_type": "code",
   "execution_count": 637,
   "metadata": {
    "collapsed": false
   },
   "outputs": [],
   "source": [
    "real_function = tf.Tensor.__add__.im_func.func_closure[0].cell_contents"
   ]
  },
  {
   "cell_type": "code",
   "execution_count": 654,
   "metadata": {
    "collapsed": false
   },
   "outputs": [
    {
     "data": {
      "text/plain": [
       "'tensorflow.python.ops.gen_math_ops.add'"
      ]
     },
     "execution_count": 654,
     "metadata": {},
     "output_type": "execute_result"
    }
   ],
   "source": [
    "tf.add.__module__ + \".\" + tf.add.__name__"
   ]
  },
  {
   "cell_type": "code",
   "execution_count": 642,
   "metadata": {
    "collapsed": false
   },
   "outputs": [
    {
     "data": {
      "text/plain": [
       "<function tensorflow.python.ops.gen_math_ops.add>"
      ]
     },
     "execution_count": 642,
     "metadata": {},
     "output_type": "execute_result"
    }
   ],
   "source": [
    "tf.add"
   ]
  },
  {
   "cell_type": "code",
   "execution_count": 655,
   "metadata": {
    "collapsed": false
   },
   "outputs": [
    {
     "data": {
      "text/plain": [
       "{'__abs__',\n",
       " '__add__',\n",
       " '__and__',\n",
       " '__div__',\n",
       " '__floordiv__',\n",
       " '__ge__',\n",
       " '__getitem__',\n",
       " '__gt__',\n",
       " '__invert__',\n",
       " '__le__',\n",
       " '__lt__',\n",
       " '__mod__',\n",
       " '__mul__',\n",
       " '__neg__',\n",
       " '__or__',\n",
       " '__pow__',\n",
       " '__radd__',\n",
       " '__rand__',\n",
       " '__rdiv__',\n",
       " '__rfloordiv__',\n",
       " '__rmod__',\n",
       " '__rmul__',\n",
       " '__ror__',\n",
       " '__rpow__',\n",
       " '__rsub__',\n",
       " '__rtruediv__',\n",
       " '__rxor__',\n",
       " '__sub__',\n",
       " '__truediv__',\n",
       " '__xor__'}"
      ]
     },
     "execution_count": 655,
     "metadata": {},
     "output_type": "execute_result"
    }
   ],
   "source": [
    "tf.Tensor.OVERLOADABLE_OPERATORS"
   ]
  },
  {
   "cell_type": "code",
   "execution_count": 1050,
   "metadata": {
    "collapsed": false
   },
   "outputs": [
    {
     "data": {
      "text/plain": [
       "[name: \"/cpu:0\"\n",
       " device_type: \"CPU\"\n",
       " memory_limit: 268435456\n",
       " bus_adjacency: BUS_ANY\n",
       " incarnation: 12496753478763930059]"
      ]
     },
     "execution_count": 1050,
     "metadata": {},
     "output_type": "execute_result"
    }
   ],
   "source": [
    "device_lib.list_local_devices()"
   ]
  },
  {
   "cell_type": "code",
   "execution_count": 664,
   "metadata": {
    "collapsed": false
   },
   "outputs": [
    {
     "name": "stdout",
     "output_type": "stream",
     "text": [
      "(5, 128)\n",
      "(5, 128)\n"
     ]
    }
   ],
   "source": [
    "input_tensor = tf.placeholder(tf.float32, [None, 32])\n",
    "batch_size = tf.shape(input_tensor)[0]\n",
    "\n",
    "res = tf.zeros((5, 128))\n",
    "print res.get_shape()  # prints (?, ?) WHEREAS one could expect (?, 128)\n",
    "\n",
    "res.set_shape([None, 128])\n",
    "print res.get_shape()  # prints (?, 128)"
   ]
  },
  {
   "cell_type": "code",
   "execution_count": 845,
   "metadata": {
    "collapsed": false
   },
   "outputs": [
    {
     "data": {
      "text/plain": [
       "name: \"Add\"\n",
       "input_arg {\n",
       "  name: \"x\"\n",
       "  type_attr: \"T\"\n",
       "}\n",
       "input_arg {\n",
       "  name: \"y\"\n",
       "  type_attr: \"T\"\n",
       "}\n",
       "output_arg {\n",
       "  name: \"z\"\n",
       "  type_attr: \"T\"\n",
       "}\n",
       "attr {\n",
       "  name: \"T\"\n",
       "  type: \"type\"\n",
       "  allowed_values {\n",
       "    list {\n",
       "      type: DT_HALF\n",
       "      type: DT_FLOAT\n",
       "      type: DT_DOUBLE\n",
       "      type: DT_UINT8\n",
       "      type: DT_INT8\n",
       "      type: DT_INT16\n",
       "      type: DT_INT32\n",
       "      type: DT_INT64\n",
       "      type: DT_COMPLEX64\n",
       "      type: DT_COMPLEX128\n",
       "      type: DT_STRING\n",
       "    }\n",
       "  }\n",
       "}"
      ]
     },
     "execution_count": 845,
     "metadata": {},
     "output_type": "execute_result"
    }
   ],
   "source": [
    "tf.add.__globals__[\"_op_def_lib\"]._ops[\"Add\"].op_def"
   ]
  },
  {
   "cell_type": "code",
   "execution_count": 12,
   "metadata": {
    "collapsed": false
   },
   "outputs": [],
   "source": [
    "tf.placeholder_with_default??"
   ]
  },
  {
   "cell_type": "code",
   "execution_count": 4,
   "metadata": {
    "collapsed": false
   },
   "outputs": [],
   "source": [
    "env = immediate.Env(tf)"
   ]
  },
  {
   "cell_type": "code",
   "execution_count": 5,
   "metadata": {
    "collapsed": false
   },
   "outputs": [
    {
     "name": "stdout",
     "output_type": "stream",
     "text": [
      "ITensor([[[[ 8.  8.]]]\n",
      "\n",
      "\n",
      " [[[ 8.  8.]]]], dtype=float32)\n"
     ]
    }
   ],
   "source": [
    "im = env.tf\n",
    "val1 = im.ones((3,))             # creates tensor on GPU\n",
    "val2 = val1 + val1                # runs into tf.add, keeps result on GPU\n",
    "val3 = im.ones((2, 2, 2, 2))\n",
    "val4 = im.nn.conv2d(val3, val3, [1, 1, 1, 1], \"VALID\")   # run CuDNN conv2d\n",
    "if (im.reduce_sum(val3)>0.):     # runs reduce_sum on GPU, transfers bool to CPU\n",
    "  print(val4)                     # transfers whole tensor to CPU for display\n"
   ]
  },
  {
   "cell_type": "code",
   "execution_count": 6,
   "metadata": {
    "collapsed": false
   },
   "outputs": [
    {
     "data": {
      "text/plain": [
       "5"
      ]
     },
     "execution_count": 6,
     "metadata": {},
     "output_type": "execute_result"
    }
   ],
   "source": [
    "2+3"
   ]
  },
  {
   "cell_type": "code",
   "execution_count": 7,
   "metadata": {
    "collapsed": true
   },
   "outputs": [],
   "source": [
    "env.tf.reshape??"
   ]
  },
  {
   "cell_type": "code",
   "execution_count": 8,
   "metadata": {
    "collapsed": true
   },
   "outputs": [],
   "source": [
    "tf.slice??"
   ]
  },
  {
   "cell_type": "code",
   "execution_count": null,
   "metadata": {
    "collapsed": true
   },
   "outputs": [],
   "source": []
  }
 ],
 "metadata": {
  "kernelspec": {
   "display_name": "Python 2",
   "language": "python",
   "name": "python2"
  },
  "language_info": {
   "codemirror_mode": {
    "name": "ipython",
    "version": 2
   },
   "file_extension": ".py",
   "mimetype": "text/x-python",
   "name": "python",
   "nbconvert_exporter": "python",
   "pygments_lexer": "ipython2",
   "version": "2.7.10"
  },
  "nav_menu": {},
  "toc": {
   "navigate_menu": true,
   "number_sections": false,
   "sideBar": true,
   "threshold": 6,
   "toc_cell": false,
   "toc_section_display": "block",
   "toc_window_display": true
  },
  "toc_position": {
   "height": "569px",
   "left": "1.05209px",
   "right": "20px",
   "top": "108.993px",
   "width": "236px"
  }
 },
 "nbformat": 4,
 "nbformat_minor": 0
}
