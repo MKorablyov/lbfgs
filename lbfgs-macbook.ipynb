{
 "cells": [
  {
   "cell_type": "markdown",
   "metadata": {
    "toc": "true"
   },
   "source": [
    "# Table of Contents\n",
    " <p><div class=\"lev1\"><a href=\"#Reproduce-Torch-gradient-descent\">Reproduce Torch gradient descent</a></div><div class=\"lev2\"><a href=\"#Convert-MNIST-csv-data-to-numpy\">Convert MNIST csv data to numpy</a></div><div class=\"lev2\"><a href=\"#Reproduce-loss-on-first-example\">Reproduce loss on first example</a></div><div class=\"lev2\"><a href=\"#Reproduce-gradient-on-first-example\">Reproduce gradient on first example</a></div><div class=\"lev3\"><a href=\"#Get-gradients-in-TensorFlow\">Get gradients in TensorFlow</a></div><div class=\"lev2\"><a href=\"#Get-gradients/parameters-from-Lua\">Get gradients/parameters from Lua</a></div><div class=\"lev2\"><a href=\"#Reproduce-MNIST-sgd\">Reproduce MNIST sgd</a></div><div class=\"lev3\"><a href=\"#Feed-lua-params-back-into-TensorFlow\">Feed lua params back into TensorFlow</a></div><div class=\"lev1\"><a href=\"#Reproduce-Torch-l-BFGS\">Reproduce Torch l-BFGS</a></div><div class=\"lev2\"><a href=\"#Load-intermediate-values\">Load intermediate values</a></div><div class=\"lev2\"><a href=\"#Reproduce-two-step-recursion\">Reproduce two step recursion</a></div><div class=\"lev3\"><a href=\"#Step-0\">Step 0</a></div><div class=\"lev3\"><a href=\"#Step-1\">Step 1</a></div><div class=\"lev3\"><a href=\"#Scratch\">Scratch</a></div><div class=\"lev4\"><a href=\"#Tensor-difference-discrepancy\">Tensor difference discrepancy</a></div><div class=\"lev2\"><a href=\"#Reproduce-Torch-l-BFGS-in-Immediate\">Reproduce Torch l-BFGS in Immediate</a></div><div class=\"lev1\"><a href=\"#Scratch\">Scratch</a></div><div class=\"lev2\"><a href=\"#Accessing-elements-question\">Accessing elements question</a></div><div class=\"lev2\"><a href=\"#Derivatives\">Derivatives</a></div><div class=\"lev2\"><a href=\"#Tensor-shape-question\">Tensor shape question</a></div>"
   ]
  },
  {
   "cell_type": "code",
   "execution_count": 1,
   "metadata": {
    "collapsed": false
   },
   "outputs": [],
   "source": [
    "import os, sys\n",
    "import matplotlib\n",
    "import numpy as np\n",
    "import matplotlib.pyplot as plt\n",
    "%matplotlib inline"
   ]
  },
  {
   "cell_type": "code",
   "execution_count": 580,
   "metadata": {
    "collapsed": false
   },
   "outputs": [
    {
     "name": "stdout",
     "output_type": "stream",
     "text": [
      "[u'/cpu:0']\n"
     ]
    }
   ],
   "source": [
    "os.environ[\"CUDA_VISIBLE_DEVICES\"]=\"\"\n",
    "\n",
    "import tensorflow as tf\n",
    "import numpy as np\n",
    "from tensorflow.python.client import device_lib\n",
    "import tensorflow.contrib.immediate as immediate\n",
    "\n",
    "device_names = [d.name for d in device_lib.list_local_devices()]\n",
    "print device_names"
   ]
  },
  {
   "cell_type": "markdown",
   "metadata": {},
   "source": [
    "# Reproduce Torch gradient descent"
   ]
  },
  {
   "cell_type": "markdown",
   "metadata": {},
   "source": [
    "## Convert MNIST csv data to numpy"
   ]
  },
  {
   "cell_type": "code",
   "execution_count": 4,
   "metadata": {
    "collapsed": true
   },
   "outputs": [],
   "source": [
    "data = np.loadtxt(\"mnist.t7/test_32x32.t7.csv.data\", dtype=np.uint8).reshape(10000, 32, 32)\n",
    "np.save(\"mnist.t7/test_32x32.npy\", data)"
   ]
  },
  {
   "cell_type": "code",
   "execution_count": 6,
   "metadata": {
    "collapsed": true
   },
   "outputs": [],
   "source": [
    "data = np.loadtxt(\"mnist.t7/train_32x32.t7.csv.data\", dtype=np.uint8).reshape(60000, 32, 32)\n",
    "np.save(\"mnist.t7/train_32x32.npy\", data)"
   ]
  },
  {
   "cell_type": "code",
   "execution_count": 8,
   "metadata": {
    "collapsed": true
   },
   "outputs": [],
   "source": [
    "data = np.loadtxt(\"mnist.t7/train_32x32.t7.csv.labels\", dtype=np.uint8)\n",
    "np.save(\"mnist.t7/train_labels.npy\", data)"
   ]
  },
  {
   "cell_type": "code",
   "execution_count": 9,
   "metadata": {
    "collapsed": true
   },
   "outputs": [],
   "source": [
    "data = np.loadtxt(\"mnist.t7/test_32x32.t7.csv.labels\", dtype=np.uint8)\n",
    "np.save(\"mnist.t7/test_labels.npy\", data)"
   ]
  },
  {
   "cell_type": "markdown",
   "metadata": {},
   "source": [
    "## Reproduce loss on first example"
   ]
  },
  {
   "cell_type": "code",
   "execution_count": 11,
   "metadata": {
    "collapsed": true
   },
   "outputs": [],
   "source": [
    "train_data = np.load(\"mnist.t7/train_32x32.npy\")"
   ]
  },
  {
   "cell_type": "code",
   "execution_count": 47,
   "metadata": {
    "collapsed": true
   },
   "outputs": [],
   "source": [
    "train_labels = np.load(\"mnist.t7/train_labels.npy\")"
   ]
  },
  {
   "cell_type": "code",
   "execution_count": 32,
   "metadata": {
    "collapsed": true
   },
   "outputs": [],
   "source": [
    "env = immediate.Env(tf)\n",
    "tfi = env.tf"
   ]
  },
  {
   "cell_type": "code",
   "execution_count": 74,
   "metadata": {
    "collapsed": false
   },
   "outputs": [],
   "source": [
    "i = 0\n",
    "W = tfi.ones((10, 1024), dtype=tf.float32)\n",
    "b = tfi.ones((10, 1), dtype=tf.float32)\n",
    "x = env.numpy_to_itensor(train_data[i], dtype=tf.float32)\n",
    "x_flat = tfi.reshape(x, (1024, 1))\n",
    "logits = tfi.matmul(W, x_flat)+b\n",
    "targets = tfi.one_hot(train_labels[i]-1, 10)  # Lua labels are off-by-one\n",
    "targets = tfi.reshape(targets, (1, 10))\n",
    "logits = tfi.reshape(logits, (1, 10))\n",
    "cross_entropy = tfi.nn.softmax_cross_entropy_with_logits(logits, targets)"
   ]
  },
  {
   "cell_type": "code",
   "execution_count": 75,
   "metadata": {
    "collapsed": false
   },
   "outputs": [
    {
     "data": {
      "text/plain": [
       "ITensor([ 2.30258512], dtype=float32)"
      ]
     },
     "execution_count": 75,
     "metadata": {},
     "output_type": "execute_result"
    }
   ],
   "source": [
    "cross_entropy"
   ]
  },
  {
   "cell_type": "markdown",
   "metadata": {},
   "source": [
    "## Reproduce gradient on first example"
   ]
  },
  {
   "cell_type": "code",
   "execution_count": 77,
   "metadata": {
    "collapsed": true
   },
   "outputs": [],
   "source": [
    "lua_grad = np.loadtxt(\"first_grad.csv\", dtype=np.float32)"
   ]
  },
  {
   "cell_type": "code",
   "execution_count": 125,
   "metadata": {
    "collapsed": false
   },
   "outputs": [
    {
     "data": {
      "text/plain": [
       "ITensor(0.0186698, dtype=float32)"
      ]
     },
     "execution_count": 125,
     "metadata": {},
     "output_type": "execute_result"
    }
   ],
   "source": [
    "tfi.reduce_sum(lua_grad)"
   ]
  },
  {
   "cell_type": "code",
   "execution_count": 129,
   "metadata": {
    "collapsed": false
   },
   "outputs": [
    {
     "data": {
      "text/plain": [
       "(10250,)"
      ]
     },
     "execution_count": 129,
     "metadata": {},
     "output_type": "execute_result"
    }
   ],
   "source": [
    "lua_grad.shape"
   ]
  },
  {
   "cell_type": "code",
   "execution_count": 133,
   "metadata": {
    "collapsed": false
   },
   "outputs": [
    {
     "data": {
      "text/plain": [
       "array([ 0.1       ,  0.1       ,  0.1       ,  0.1       ,  0.1       ,\n",
       "       -0.89999998,  0.1       ,  0.1       ,  0.1       ,  0.1       ], dtype=float32)"
      ]
     },
     "execution_count": 133,
     "metadata": {},
     "output_type": "execute_result"
    }
   ],
   "source": [
    "lua_grad[-10:]"
   ]
  },
  {
   "cell_type": "markdown",
   "metadata": {},
   "source": [
    "### Get gradients in TensorFlow"
   ]
  },
  {
   "cell_type": "code",
   "execution_count": 855,
   "metadata": {
    "collapsed": false
   },
   "outputs": [],
   "source": [
    "dtype = tf.float64\n",
    "W = tf.Variable(tf.ones_initializer((10, 1024), dtype=dtype))\n",
    "b = tf.Variable(tf.ones_initializer((10, 1), dtype=dtype))\n",
    "x = tf.constant(train_data[i], dtype=dtype)\n",
    "x_flat = tf.reshape(x, (1024, 1))\n",
    "logits = tf.matmul(W, x_flat)+b\n",
    "targets = tf.one_hot(train_labels[i]-1, 10, dtype=dtype)  # Lua labels are off-by-one\n",
    "targets = tf.reshape(targets, (1, 10))\n",
    "logits = tf.reshape(logits, (1, 10))\n",
    "cross_entropy = tf.nn.softmax_cross_entropy_with_logits(logits, targets)\n",
    "gradients = tf.gradients(cross_entropy, [W, b])"
   ]
  },
  {
   "cell_type": "code",
   "execution_count": 157,
   "metadata": {
    "collapsed": false
   },
   "outputs": [],
   "source": [
    "sess = tf.Session()\n",
    "sess.run(tf.initialize_all_variables())"
   ]
  },
  {
   "cell_type": "code",
   "execution_count": 156,
   "metadata": {
    "collapsed": false
   },
   "outputs": [
    {
     "data": {
      "text/plain": [
       "array([[ 0.1],\n",
       "       [ 0.1],\n",
       "       [ 0.1],\n",
       "       [ 0.1],\n",
       "       [ 0.1],\n",
       "       [ 0.1],\n",
       "       [ 0.1],\n",
       "       [-0.9],\n",
       "       [ 0.1],\n",
       "       [ 0.1]])"
      ]
     },
     "execution_count": 156,
     "metadata": {},
     "output_type": "execute_result"
    }
   ],
   "source": [
    "sess.run(gradients[1])"
   ]
  },
  {
   "cell_type": "code",
   "execution_count": 149,
   "metadata": {
    "collapsed": false
   },
   "outputs": [
    {
     "data": {
      "text/plain": [
       "array([[ 0.,  0.,  0.,  0.,  0.,  0.,  0.,  1.,  0.,  0.]], dtype=float32)"
      ]
     },
     "execution_count": 149,
     "metadata": {},
     "output_type": "execute_result"
    }
   ],
   "source": [
    "sess.run(targets)"
   ]
  },
  {
   "cell_type": "code",
   "execution_count": 150,
   "metadata": {
    "collapsed": false
   },
   "outputs": [
    {
     "data": {
      "text/plain": [
       "6"
      ]
     },
     "execution_count": 150,
     "metadata": {},
     "output_type": "execute_result"
    }
   ],
   "source": [
    "train_labels[0]"
   ]
  },
  {
   "cell_type": "markdown",
   "metadata": {},
   "source": [
    "## Get gradients/parameters from Lua"
   ]
  },
  {
   "cell_type": "code",
   "execution_count": 481,
   "metadata": {
    "collapsed": false
   },
   "outputs": [],
   "source": [
    "lua_grads = []\n",
    "lua_params = []\n",
    "lua_fvals = []\n",
    "for i in range(1, 1000):\n",
    "    grad_fname = \"stepdata/grad-\"+str(i)\n",
    "    param_fname = \"stepdata/params-\"+str(i)\n",
    "    fval_fname = \"stepdata/fval-\"+str(i)\n",
    "    if not os.path.exists(grad_fname) or not os.path.exists(param_fname):\n",
    "        break\n",
    "    lua_grads.append(np.loadtxt(grad_fname))\n",
    "    lua_params.append(np.loadtxt(param_fname))\n",
    "    lua_fvals.append(np.loadtxt(fval_fname))"
   ]
  },
  {
   "cell_type": "code",
   "execution_count": 483,
   "metadata": {
    "collapsed": false
   },
   "outputs": [
    {
     "data": {
      "text/plain": [
       "[<matplotlib.lines.Line2D at 0x12db12490>]"
      ]
     },
     "execution_count": 483,
     "metadata": {},
     "output_type": "execute_result"
    },
    {
     "data": {
      "image/png": "[encoded data removed]",
      "text/plain": [
       "<matplotlib.figure.Figure at 0x12d8f5390>"
      ]
     },
     "metadata": {},
     "output_type": "display_data"
    }
   ],
   "source": [
    "plt.plot(lua_fvals)"
   ]
  },
  {
   "cell_type": "code",
   "execution_count": 484,
   "metadata": {
    "collapsed": false
   },
   "outputs": [
    {
     "data": {
      "text/plain": [
       "[<matplotlib.lines.Line2D at 0x12dc3d0d0>]"
      ]
     },
     "execution_count": 484,
     "metadata": {},
     "output_type": "execute_result"
    },
    {
     "data": {
      "image/png": "[encoded data removed]",
      "text/plain": [
       "<matplotlib.figure.Figure at 0x12da02d10>"
      ]
     },
     "metadata": {},
     "output_type": "display_data"
    }
   ],
   "source": [
    "plt.plot([np.linalg.norm(x) for x in lua_grads])"
   ]
  },
  {
   "cell_type": "markdown",
   "metadata": {},
   "source": [
    "## Reproduce MNIST sgd"
   ]
  },
  {
   "cell_type": "code",
   "execution_count": 440,
   "metadata": {
    "collapsed": true
   },
   "outputs": [],
   "source": [
    "train_data = np.load(\"mnist.t7/train_32x32.npy\")\n",
    "train_data_flat = train_data.reshape((-1, 1024))\n",
    "train_labels = np.load(\"mnist.t7/train_labels.npy\")\n",
    "os.environ[\"CUDA_VISIBLE_DEVICES\"]=\"\""
   ]
  },
  {
   "cell_type": "code",
   "execution_count": 459,
   "metadata": {
    "collapsed": true
   },
   "outputs": [],
   "source": [
    "def concat_flatten(tensors):\n",
    "    \"\"\"Flattens tensors, concats them\"\"\"\n",
    "    flat_tensors = []\n",
    "    for tensor in tensors:\n",
    "        flat_tensors.append(tf.reshape(tensor, [-1]))\n",
    "    return tf.concat(0, flat_tensors)"
   ]
  },
  {
   "cell_type": "code",
   "execution_count": 552,
   "metadata": {
    "collapsed": false
   },
   "outputs": [
    {
     "name": "stdout",
     "output_type": "stream",
     "text": [
      "5127.30258509\n"
     ]
    },
    {
     "name": "stderr",
     "output_type": "stream",
     "text": [
      "Exception AssertionError: AssertionError(\"Nesting violated for default stack of <type 'weakref'> objects\",) in <bound method InteractiveSession.__del__ of <tensorflow.python.client.session.InteractiveSession object at 0x12e7d31d0>> ignored\n"
     ]
    }
   ],
   "source": [
    "dtype = tf.float64\n",
    "batchSize = 100\n",
    "learningRate = 0.1\n",
    "\n",
    "tf.reset_default_graph()\n",
    "\n",
    "W = tf.Variable(tf.ones_initializer((1024, 10), dtype=dtype))\n",
    "b = tf.Variable(tf.ones_initializer((1, 10), dtype=dtype))\n",
    "x = tf.Variable(tf.zeros_initializer((batchSize, 1024), dtype=dtype))\n",
    "targets = tf.Variable(tf.zeros_initializer((batchSize, 10), dtype=dtype))\n",
    "logits = tf.matmul(x, W) + b\n",
    "\n",
    "# cross entropy expects batch dimension to be first, transpose inputs\n",
    "cross_entropy = tf.nn.softmax_cross_entropy_with_logits(logits, targets)\n",
    "cross_entropy_loss = tf.reduce_mean(cross_entropy)\n",
    "Wnorm = tf.reduce_sum(tf.square(W))\n",
    "bnorm = tf.reduce_sum(tf.square(b))\n",
    "loss = cross_entropy_loss + (bnorm + Wnorm)/2\n",
    "\n",
    "# grads = tf.gradients(loss, [W, b])\n",
    "opt = tf.train.GradientDescentOptimizer(learning_rate=learningRate)\n",
    "grads_and_vars = opt.compute_gradients(loss, [W, b])\n",
    "train_step = opt.apply_gradients(grads_and_vars)\n",
    "\n",
    "W_grad = grads_and_vars[0][0]\n",
    "b_grad = grads_and_vars[1][0]\n",
    "flat_grad = concat_flatten([tf.transpose(W_grad), b_grad])\n",
    "# flat_grad = concat_flatten([grad_and_var[0] for grad_and_var in grads_and_vars])\n",
    "flat_params = concat_flatten([W, b])\n",
    "\n",
    "# initialize x and targets\n",
    "x_placeholder = tf.placeholder(dtype=dtype)\n",
    "x_init = x.assign(x_placeholder)\n",
    "\n",
    "# initialize labels\n",
    "labels_placeholder = tf.placeholder(shape=(batchSize), dtype=tf.int32)\n",
    "labels_onehot = tf.one_hot(labels_placeholder - 1, 10, dtype=dtype)  # Lua labels are off-by-one\n",
    "targets_init = targets.assign(labels_onehot)\n",
    "\n",
    "sess = tf.InteractiveSession()\n",
    "sess.run(x_init, feed_dict={x_placeholder:train_data_flat[:batchSize]})\n",
    "sess.run(targets_init, feed_dict={labels_placeholder: train_labels[:batchSize]})\n",
    "sess.run([W.initializer, b.initializer])\n",
    "print(sess.run(loss))"
   ]
  },
  {
   "cell_type": "code",
   "execution_count": 553,
   "metadata": {
    "collapsed": false
   },
   "outputs": [
    {
     "name": "stdout",
     "output_type": "stream",
     "text": [
      "5127.30258509\n",
      "10222.2878245\n",
      "29610.151198\n",
      "25141.4119371\n",
      "16409.1374003\n",
      "21781.9665362\n",
      "14398.5814516\n",
      "12851.5786807\n",
      "7800.24671143\n",
      "6276.07440723\n"
     ]
    }
   ],
   "source": [
    "tf_grads = []\n",
    "tf_params = []\n",
    "tf_fvals = []\n",
    "for i in range(10):\n",
    "    tf_grads.append(sess.run(flat_grad))\n",
    "    tf_params.append(sess.run(flat_params))\n",
    "    tf_fvals.append(sess.run(loss))\n",
    "    print(tf_fvals[-1])\n",
    "    sess.run(train_step)"
   ]
  },
  {
   "cell_type": "code",
   "execution_count": 543,
   "metadata": {
    "collapsed": false
   },
   "outputs": [
    {
     "data": {
      "text/plain": [
       "[<matplotlib.lines.Line2D at 0x132f8bb10>]"
      ]
     },
     "execution_count": 543,
     "metadata": {},
     "output_type": "execute_result"
    },
    {
     "data": {
      "image/png": "[encoded data removed]",
      "text/plain": [
       "<matplotlib.figure.Figure at 0x133207b50>"
      ]
     },
     "metadata": {},
     "output_type": "display_data"
    }
   ],
   "source": [
    "tf_fvals_np = np.array(tf_fvals)\n",
    "lua_fvals_np = np.array(lua_fvals)\n",
    "plt.plot(tf_fvals_np - lua_fvals_np)"
   ]
  },
  {
   "cell_type": "code",
   "execution_count": 544,
   "metadata": {
    "collapsed": false
   },
   "outputs": [
    {
     "data": {
      "text/plain": [
       "[<matplotlib.lines.Line2D at 0x12e0f4290>]"
      ]
     },
     "execution_count": 544,
     "metadata": {},
     "output_type": "execute_result"
    },
    {
     "data": {
      "image/png": "[encoded data removed]",
      "text/plain": [
       "<matplotlib.figure.Figure at 0x1330b3b50>"
      ]
     },
     "metadata": {},
     "output_type": "display_data"
    }
   ],
   "source": [
    "plt.plot((tf_fvals_np - lua_fvals_np)/lua_fvals_np)"
   ]
  },
  {
   "cell_type": "markdown",
   "metadata": {},
   "source": [
    "### Feed lua params back into TensorFlow"
   ]
  },
  {
   "cell_type": "markdown",
   "metadata": {},
   "source": [
    "Get the values from Lua, feed them into TensorFlow to get updated grad value"
   ]
  },
  {
   "cell_type": "code",
   "execution_count": 577,
   "metadata": {
    "collapsed": false
   },
   "outputs": [],
   "source": [
    "iternum = 1\n",
    "# convert lua_W from column major to row major\n",
    "lua_W_flat = lua_params[iternum][:-10]\n",
    "lua_W = lua_W_flat.reshape((10, 1024))\n",
    "tf_W = lua_W.T\n",
    "lua_b = lua_params[iternum][-10:]\n",
    "tf_b = lua_b.reshape((1, -1))"
   ]
  },
  {
   "cell_type": "code",
   "execution_count": 578,
   "metadata": {
    "collapsed": false
   },
   "outputs": [
    {
     "data": {
      "text/plain": [
       "10222.287737750139"
      ]
     },
     "execution_count": 578,
     "metadata": {},
     "output_type": "execute_result"
    }
   ],
   "source": [
    "sess.run(loss, feed_dict={W: tf_W, b: tf_b})"
   ]
  },
  {
   "cell_type": "code",
   "execution_count": 579,
   "metadata": {
    "collapsed": false
   },
   "outputs": [
    {
     "data": {
      "text/plain": [
       "array(10222.28773775)"
      ]
     },
     "execution_count": 579,
     "metadata": {},
     "output_type": "execute_result"
    }
   ],
   "source": [
    "lua_fvals[1]"
   ]
  },
  {
   "cell_type": "markdown",
   "metadata": {},
   "source": [
    "# Reproduce Torch l-BFGS"
   ]
  },
  {
   "cell_type": "code",
   "execution_count": 582,
   "metadata": {
    "collapsed": false
   },
   "outputs": [
    {
     "data": {
      "text/plain": [
       "[<matplotlib.lines.Line2D at 0x133de22d0>]"
      ]
     },
     "execution_count": 582,
     "metadata": {},
     "output_type": "execute_result"
    },
    {
     "data": {
      "image/png": "[encoded data removed]",
      "text/plain": [
       "<matplotlib.figure.Figure at 0x133340990>"
      ]
     },
     "metadata": {},
     "output_type": "display_data"
    }
   ],
   "source": [
    "lua_grads = []\n",
    "lua_params = []\n",
    "lua_fvals = []\n",
    "for i in range(1, 1000):\n",
    "    grad_fname = \"stepdata/grad-\"+str(i)\n",
    "    param_fname = \"stepdata/params-\"+str(i)\n",
    "    fval_fname = \"stepdata/fval-\"+str(i)\n",
    "    if not os.path.exists(grad_fname) or not os.path.exists(param_fname):\n",
    "        break\n",
    "    lua_grads.append(np.loadtxt(grad_fname))\n",
    "    lua_params.append(np.loadtxt(param_fname))\n",
    "    lua_fvals.append(np.loadtxt(fval_fname))\n",
    "plt.plot(lua_fvals)"
   ]
  },
  {
   "cell_type": "code",
   "execution_count": 583,
   "metadata": {
    "collapsed": false
   },
   "outputs": [
    {
     "data": {
      "text/plain": [
       "[<matplotlib.lines.Line2D at 0x132eab410>]"
      ]
     },
     "execution_count": 583,
     "metadata": {},
     "output_type": "execute_result"
    },
    {
     "data": {
      "image/png": "[encoded data removed]",
      "text/plain": [
       "<matplotlib.figure.Figure at 0x133e6dcd0>"
      ]
     },
     "metadata": {},
     "output_type": "display_data"
    }
   ],
   "source": [
    "lua_grads = []\n",
    "lua_params = []\n",
    "lua_fvals = []\n",
    "for i in range(1, 1000):\n",
    "    grad_fname = \"stepdata/grad-\"+str(i)\n",
    "    param_fname = \"stepdata/params-\"+str(i)\n",
    "    fval_fname = \"stepdata/fval-\"+str(i)\n",
    "    if not os.path.exists(grad_fname) or not os.path.exists(param_fname):\n",
    "        break\n",
    "    lua_grads.append(np.loadtxt(grad_fname))\n",
    "    lua_params.append(np.loadtxt(param_fname))\n",
    "    lua_fvals.append(np.loadtxt(fval_fname))\n",
    "plt.plot(lua_fvals)"
   ]
  },
  {
   "cell_type": "code",
   "execution_count": 585,
   "metadata": {
    "collapsed": false
   },
   "outputs": [
    {
     "data": {
      "text/plain": [
       "[<matplotlib.lines.Line2D at 0x132f09cd0>]"
      ]
     },
     "execution_count": 585,
     "metadata": {},
     "output_type": "execute_result"
    },
    {
     "data": {
      "image/png": "[encoded data removed]",
      "text/plain": [
       "<matplotlib.figure.Figure at 0x133381410>"
      ]
     },
     "metadata": {},
     "output_type": "display_data"
    }
   ],
   "source": [
    "plt.plot([np.linalg.norm(g) for g in lua_grads])"
   ]
  },
  {
   "cell_type": "code",
   "execution_count": 590,
   "metadata": {
    "collapsed": false
   },
   "outputs": [
    {
     "data": {
      "text/plain": [
       "[<matplotlib.lines.Line2D at 0x1346221d0>]"
      ]
     },
     "execution_count": 590,
     "metadata": {},
     "output_type": "execute_result"
    },
    {
     "data": {
      "image/png": "[encoded data removed]",
      "text/plain": [
       "<matplotlib.figure.Figure at 0x134456590>"
      ]
     },
     "metadata": {},
     "output_type": "display_data"
    }
   ],
   "source": [
    "#lua_grads = []\n",
    "#lua_params = []\n",
    "lua_fvals = []\n",
    "for i in range(1, 1000):\n",
    "    grad_fname = \"stepdata/grad-\"+str(i)\n",
    "#    param_fname = \"stepdata/params-\"+str(i)\n",
    "    fval_fname = \"stepdata/fval-\"+str(i)\n",
    "    if not os.path.exists(fval_fname):\n",
    "        break\n",
    "#    lua_grads.append(np.loadtxt(grad_fname))\n",
    "#    lua_params.append(np.loadtxt(param_fname))\n",
    "    lua_fvals.append(np.loadtxt(fval_fname))\n",
    "plt.plot(lua_fvals)"
   ]
  },
  {
   "cell_type": "code",
   "execution_count": 591,
   "metadata": {
    "collapsed": false
   },
   "outputs": [
    {
     "data": {
      "text/plain": [
       "[<matplotlib.lines.Line2D at 0x1347382d0>]"
      ]
     },
     "execution_count": 591,
     "metadata": {},
     "output_type": "execute_result"
    },
    {
     "data": {
      "image/png": "[encoded data removed]",
      "text/plain": [
       "<matplotlib.figure.Figure at 0x134614150>"
      ]
     },
     "metadata": {},
     "output_type": "display_data"
    }
   ],
   "source": [
    "#lua_grads = []\n",
    "#lua_params = []\n",
    "lua_fvals = []\n",
    "for i in range(1, 1000):\n",
    "    grad_fname = \"stepdata/grad-\"+str(i)\n",
    "#    param_fname = \"stepdata/params-\"+str(i)\n",
    "    fval_fname = \"stepdata/fval-\"+str(i)\n",
    "    if not os.path.exists(fval_fname):\n",
    "        break\n",
    "#    lua_grads.append(np.loadtxt(grad_fname))\n",
    "#    lua_params.append(np.loadtxt(param_fname))\n",
    "    lua_fvals.append(np.loadtxt(fval_fname))\n",
    "plt.plot(lua_fvals)"
   ]
  },
  {
   "cell_type": "markdown",
   "metadata": {},
   "source": [
    "## Load intermediate values"
   ]
  },
  {
   "cell_type": "code",
   "execution_count": 657,
   "metadata": {
    "collapsed": true
   },
   "outputs": [],
   "source": [
    "class Step(object):\n",
    "    pass"
   ]
  },
  {
   "cell_type": "code",
   "execution_count": 1011,
   "metadata": {
    "collapsed": true
   },
   "outputs": [],
   "source": [
    "def tryload(fname):\n",
    "    if os.path.exists(fname):\n",
    "        return np.loadtxt(fname, dtype=np.float64)\n",
    "    else:\n",
    "        return None\n",
    "    \n",
    "def loadStep(i):\n",
    "    step = Step()\n",
    "    step.al = tryload(\"stepdata/al-\"+str(i))\n",
    "    step.q = tryload(\"stepdata/q-\"+str(i))\n",
    "    step.ro = tryload(\"stepdata/ro-\"+str(i))\n",
    "    step.g = tryload(\"stepdata/g-\"+str(i))\n",
    "    step.x = tryload(\"stepdata/x-\"+str(i))\n",
    "    step.f = tryload(\"stepdata/f-\"+str(i))\n",
    "    step.Hdiag = tryload(\"stepdata/Hdiag-\"+str(i))\n",
    "    step.d = tryload(\"stepdata/d-\"+str(i))\n",
    "    step.be_i = tryload(\"stepdata/be_i-\"+str(i))\n",
    "    step.r = tryload(\"stepdata/r-\"+str(i))\n",
    "    step.y = tryload(\"stepdata/y-\"+str(i))\n",
    "    step.s = tryload(\"stepdata/s-\"+str(i))\n",
    "    step.tmp1 = tryload(\"stepdata/tmp1-\"+str(i))\n",
    "    step.tmp11 = tryload(\"stepdata/tmp11-\"+str(i))\n",
    "    step.ys = tryload(\"stepdata/ys-\"+str(i))\n",
    "    step.gtd = tryload(\"stepdata/gtd-\"+str(i))\n",
    "    step.t = tryload(\"stepdata/t-\"+str(i))\n",
    "    step.fdiff = tryload(\"stepdata/fdiff-\"+str(i))\n",
    "    return step"
   ]
  },
  {
   "cell_type": "code",
   "execution_count": 1014,
   "metadata": {
    "collapsed": true
   },
   "outputs": [],
   "source": [
    "steps = [loadStep(i) for i in range(0, 30)]"
   ]
  },
  {
   "cell_type": "code",
   "execution_count": 1015,
   "metadata": {
    "collapsed": false
   },
   "outputs": [
    {
     "data": {
      "text/plain": [
       "[<matplotlib.lines.Line2D at 0x1361a3550>]"
      ]
     },
     "execution_count": 1015,
     "metadata": {},
     "output_type": "execute_result"
    },
    {
     "data": {
      "image/png": "[encoded data removed]",
      "text/plain": [
       "<matplotlib.figure.Figure at 0x135fd1ad0>"
      ]
     },
     "metadata": {},
     "output_type": "display_data"
    }
   ],
   "source": [
    "plt.plot([step.f for step in steps])"
   ]
  },
  {
   "cell_type": "code",
   "execution_count": 1139,
   "metadata": {
    "collapsed": false
   },
   "outputs": [
    {
     "ename": "NameError",
     "evalue": "name 'numpy' is not defined",
     "output_type": "error",
     "traceback": [
      "\u001b[0;31m---------------------------------------------------------------------------\u001b[0m",
      "\u001b[0;31mNameError\u001b[0m                                 Traceback (most recent call last)",
      "\u001b[0;32m<ipython-input-1139-b580614a0061>\u001b[0m in \u001b[0;36m<module>\u001b[0;34m()\u001b[0m\n\u001b[0;32m----> 1\u001b[0;31m \u001b[0mnumpy\u001b[0m\u001b[0;34m.\u001b[0m\u001b[0mtesting\u001b[0m\u001b[0;34m\u001b[0m\u001b[0m\n\u001b[0m",
      "\u001b[0;31mNameError\u001b[0m: name 'numpy' is not defined"
     ]
    }
   ],
   "source": [
    "np.testing."
   ]
  },
  {
   "cell_type": "code",
   "execution_count": 1138,
   "metadata": {
    "collapsed": false
   },
   "outputs": [
    {
     "data": {
      "text/plain": [
       "array(5127.302585093)"
      ]
     },
     "execution_count": 1138,
     "metadata": {},
     "output_type": "execute_result"
    }
   ],
   "source": [
    "steps[0].f"
   ]
  },
  {
   "cell_type": "code",
   "execution_count": 991,
   "metadata": {
    "collapsed": false
   },
   "outputs": [
    {
     "data": {
      "text/plain": [
       "[<matplotlib.lines.Line2D at 0x135d84210>]"
      ]
     },
     "execution_count": 991,
     "metadata": {},
     "output_type": "execute_result"
    },
    {
     "data": {
      "image/png": "[encoded data removed]",
      "text/plain": [
       "<matplotlib.figure.Figure at 0x135ad8a50>"
      ]
     },
     "metadata": {},
     "output_type": "display_data"
    }
   ],
   "source": [
    "plt.plot([step.f for step in steps])"
   ]
  },
  {
   "cell_type": "code",
   "execution_count": 895,
   "metadata": {
    "collapsed": false
   },
   "outputs": [
    {
     "data": {
      "text/plain": [
       "[<matplotlib.lines.Line2D at 0x1359cd210>]"
      ]
     },
     "execution_count": 895,
     "metadata": {},
     "output_type": "execute_result"
    },
    {
     "data": {
      "image/png": "[encoded data removed]",
      "text/plain": [
       "<matplotlib.figure.Figure at 0x12e4d2950>"
      ]
     },
     "metadata": {},
     "output_type": "display_data"
    }
   ],
   "source": [
    "plt.plot([step.ys for step in steps])"
   ]
  },
  {
   "cell_type": "code",
   "execution_count": 861,
   "metadata": {
    "collapsed": false
   },
   "outputs": [
    {
     "data": {
      "text/plain": [
       "[<matplotlib.lines.Line2D at 0x12e4b09d0>]"
      ]
     },
     "execution_count": 861,
     "metadata": {},
     "output_type": "execute_result"
    },
    {
     "data": {
      "image/png": "[encoded data removed]",
      "text/plain": [
       "<matplotlib.figure.Figure at 0x135562bd0>"
      ]
     },
     "metadata": {},
     "output_type": "display_data"
    }
   ],
   "source": [
    "plt.plot([step.Hdiag for step in steps])"
   ]
  },
  {
   "cell_type": "code",
   "execution_count": 689,
   "metadata": {
    "collapsed": true
   },
   "outputs": [],
   "source": [
    "def maxdiff(a, b):\n",
    "    return np.max((a-b)/b)"
   ]
  },
  {
   "cell_type": "code",
   "execution_count": 691,
   "metadata": {
    "collapsed": true
   },
   "outputs": [],
   "source": [
    "def RelativeError(new_val, reference_val, atol = 2.**-53):\n",
    "  return np.max(np.abs(new_val - reference_val) / (atol + np.abs(reference_val)))"
   ]
  },
  {
   "cell_type": "code",
   "execution_count": 949,
   "metadata": {
    "collapsed": false
   },
   "outputs": [],
   "source": [
    "from numpy.testing.utils import nulp_diff\n",
    "def ulp_diff(a, b):\n",
    "    try:\n",
    "        return max(nulp_diff(a.astype(np.float32), b.astype(np.float32)))\n",
    "    except:\n",
    "        return nulp_diff(a.astype(np.float32), b.astype(np.float32))\n",
    "    \n",
    "def check(a, b, msg):\n",
    "    diff = ulp_diff(np.asarray(a), np.asarray(b))\n",
    "    if diff>0:\n",
    "        print(\"%s %f\"%(msg, diff))\n",
    "    else:\n",
    "        print(\"%s OK\"%(msg))"
   ]
  },
  {
   "cell_type": "markdown",
   "metadata": {},
   "source": [
    "## Reproduce two step recursion"
   ]
  },
  {
   "cell_type": "markdown",
   "metadata": {},
   "source": [
    "### Step 0"
   ]
  },
  {
   "cell_type": "code",
   "execution_count": 1140,
   "metadata": {
    "collapsed": false
   },
   "outputs": [
    {
     "ename": "AttributeError",
     "evalue": "'numpy.ndarray' object has no attribute 'as_numpy'",
     "output_type": "error",
     "traceback": [
      "\u001b[0;31m---------------------------------------------------------------------------\u001b[0m",
      "\u001b[0;31mAttributeError\u001b[0m                            Traceback (most recent call last)",
      "\u001b[0;32m<ipython-input-1140-edffdd65364a>\u001b[0m in \u001b[0;36m<module>\u001b[0;34m()\u001b[0m\n\u001b[1;32m     14\u001b[0m \u001b[0mii\u001b[0m\u001b[0;34m=\u001b[0m\u001b[0;36m1\u001b[0m\u001b[0;34m\u001b[0m\u001b[0m\n\u001b[1;32m     15\u001b[0m \u001b[0md\u001b[0m \u001b[0;34m=\u001b[0m \u001b[0;34m-\u001b[0m\u001b[0mg\u001b[0m\u001b[0;34m\u001b[0m\u001b[0m\n\u001b[0;32m---> 16\u001b[0;31m \u001b[0mcheck\u001b[0m\u001b[0;34m(\u001b[0m\u001b[0msteps\u001b[0m\u001b[0;34m[\u001b[0m\u001b[0mii\u001b[0m\u001b[0;34m]\u001b[0m\u001b[0;34m.\u001b[0m\u001b[0md\u001b[0m\u001b[0;34m,\u001b[0m \u001b[0md\u001b[0m\u001b[0;34m,\u001b[0m \u001b[0;34m\"d\"\u001b[0m\u001b[0;34m)\u001b[0m\u001b[0;34m\u001b[0m\u001b[0m\n\u001b[0m\u001b[1;32m     17\u001b[0m \u001b[0;34m\u001b[0m\u001b[0m\n\u001b[1;32m     18\u001b[0m \u001b[0mf_old\u001b[0m \u001b[0;34m=\u001b[0m \u001b[0mf\u001b[0m\u001b[0;34m\u001b[0m\u001b[0m\n",
      "\u001b[0;32m<ipython-input-1108-e6159d0caf72>\u001b[0m in \u001b[0;36mcheck\u001b[0;34m(a, b, msg)\u001b[0m\n\u001b[1;32m      7\u001b[0m \u001b[0;34m\u001b[0m\u001b[0m\n\u001b[1;32m      8\u001b[0m \u001b[0;32mdef\u001b[0m \u001b[0mcheck\u001b[0m\u001b[0;34m(\u001b[0m\u001b[0ma\u001b[0m\u001b[0;34m,\u001b[0m \u001b[0mb\u001b[0m\u001b[0;34m,\u001b[0m \u001b[0mmsg\u001b[0m\u001b[0;34m)\u001b[0m\u001b[0;34m:\u001b[0m\u001b[0;34m\u001b[0m\u001b[0m\n\u001b[0;32m----> 9\u001b[0;31m     \u001b[0mb\u001b[0m \u001b[0;34m=\u001b[0m \u001b[0mb\u001b[0m\u001b[0;34m.\u001b[0m\u001b[0mas_numpy\u001b[0m\u001b[0;34m(\u001b[0m\u001b[0;34m)\u001b[0m\u001b[0;34m\u001b[0m\u001b[0m\n\u001b[0m\u001b[1;32m     10\u001b[0m     \u001b[0mdiff\u001b[0m \u001b[0;34m=\u001b[0m \u001b[0mulp_diff\u001b[0m\u001b[0;34m(\u001b[0m\u001b[0mnp\u001b[0m\u001b[0;34m.\u001b[0m\u001b[0masarray\u001b[0m\u001b[0;34m(\u001b[0m\u001b[0ma\u001b[0m\u001b[0;34m)\u001b[0m\u001b[0;34m,\u001b[0m \u001b[0mnp\u001b[0m\u001b[0;34m.\u001b[0m\u001b[0masarray\u001b[0m\u001b[0;34m(\u001b[0m\u001b[0mb\u001b[0m\u001b[0;34m)\u001b[0m\u001b[0;34m)\u001b[0m\u001b[0;34m\u001b[0m\u001b[0m\n\u001b[1;32m     11\u001b[0m     \u001b[0;32mif\u001b[0m \u001b[0mdiff\u001b[0m\u001b[0;34m>\u001b[0m\u001b[0;36m10\u001b[0m\u001b[0;34m:\u001b[0m\u001b[0;34m\u001b[0m\u001b[0m\n",
      "\u001b[0;31mAttributeError\u001b[0m: 'numpy.ndarray' object has no attribute 'as_numpy'"
     ]
    }
   ],
   "source": [
    "old_dirs = []\n",
    "old_stps = []\n",
    "nCorrection = 100\n",
    "ro = np.zeros((nCorrection,), dtype=np.float64)\n",
    "al = np.zeros((nCorrection,), dtype=np.float64)\n",
    "\n",
    "# step 0\n",
    "learningRate = 1.\n",
    "x = steps[0].x\n",
    "g = steps[0].g\n",
    "f = steps[0].f\n",
    "\n",
    "# step 1\n",
    "ii=1\n",
    "d = -g\n",
    "check(steps[ii].d, d, \"d\")\n",
    "\n",
    "f_old = f\n",
    "g_old = g\n",
    "\n",
    "gtd = np.dot(g, d)\n",
    "check(steps[ii].gtd, gtd, \"gtd\")\n",
    "\n",
    "tmp1 = np.abs(np.array(g))\n",
    "t = min(1, 1/tmp1.sum())\n",
    "check(steps[ii].t, t, \"t\")\n",
    "\n",
    "f = steps[ii].f\n",
    "x = x + t*d\n",
    "check(steps[ii].x, x, \"x\")\n",
    "g = steps[ii].g\n",
    "\n",
    "tmp1 = np.abs(g)\n",
    "check(steps[ii].tmp1, tmp1, \"tmp1\")\n",
    "\n",
    "tmp11 = np.abs(d*t)\n",
    "check(steps[ii].tmp11, tmp11, \"tmp11\")\n",
    "\n",
    "check(steps[ii].fdiff, f-f_old, \"fdiff\")\n",
    "\n",
    "# step 2\n",
    "ii = 2\n",
    "y = g - g_old\n",
    "check(steps[ii].y, y, \"y\")\n",
    "s = d*t\n",
    "check(steps[ii].s, s, \"s\")\n",
    "\n",
    "old_dirs.append(s)\n",
    "old_stps.append(y)\n",
    "\n",
    "ys = np.dot(y, s)\n",
    "check(steps[ii].ys, ys, \"ys\")\n",
    "\n",
    "Hdiag = ys/np.dot(y, y)\n",
    "check(steps[ii].Hdiag, Hdiag, \"Hdiag\")\n",
    "\n",
    "\n",
    "k = len(old_dirs)\n",
    "for i in range(k):\n",
    "    ro[i] = 1/old_stps[i].dot(old_dirs[i])\n",
    "check(steps[ii].ro, ro, \"ro\")\n",
    "\n",
    "q = -g\n",
    "for i in range(k-1, -1, -1):\n",
    "    al[i] = old_dirs[i].dot(q) * ro[i]\n",
    "    q = q - al[i]*old_stps[i]\n",
    "    \n",
    "check(steps[ii].q, q, \"q\")\n",
    "check(steps[ii].al, al, \"al\")\n",
    "\n",
    "r = q*Hdiag\n",
    "for i in range(k):\n",
    "    be_i = old_stps[i].dot(r) * ro[i]\n",
    "    r += (al[i]-be_i)*old_dirs[i]\n",
    "d = r\n",
    "    \n",
    "check(steps[ii].d, d, \"d\")\n",
    "check(steps[ii].r, r, \"r\")\n",
    "\n",
    "g_old = g\n",
    "f_old = f\n",
    "\n",
    "gtd = np.dot(g, d)\n",
    "check(steps[ii].gtd, gtd, \"gtd\")\n",
    "\n",
    "t = learningRate\n",
    "check(steps[ii].t, t, \"t\")\n",
    "\n",
    "x = x + t*d\n",
    "check(steps[ii].x, x, \"x\")\n",
    "f = steps[ii].f\n",
    "g = steps[ii].g\n",
    "\n",
    "tmp1 = np.abs(g)\n",
    "check(steps[ii].tmp1, tmp1, \"tmp1\")\n",
    "\n",
    "check(steps[ii].fdiff, f - f_old, \"fdiff\")\n",
    "#fdiff = steps[ii].f - steps[0].f\n",
    "#check(steps[ii].fdiff, fdiff, \"fdiff\")\n",
    "\n",
    "\n",
    "#gtd = g.dot(d)\n",
    "#check(step)"
   ]
  },
  {
   "cell_type": "code",
   "execution_count": 1019,
   "metadata": {
    "collapsed": false
   },
   "outputs": [
    {
     "name": "stdout",
     "output_type": "stream",
     "text": [
      "hi OK\n"
     ]
    }
   ],
   "source": [
    "check(steps[ii].d, steps[ii].r, \"hi\")"
   ]
  },
  {
   "cell_type": "code",
   "execution_count": 1009,
   "metadata": {
    "collapsed": false
   },
   "outputs": [
    {
     "data": {
      "text/plain": [
       "1.0"
      ]
     },
     "execution_count": 1009,
     "metadata": {},
     "output_type": "execute_result"
    }
   ],
   "source": [
    "max(steps[2].ro[1:])"
   ]
  },
  {
   "cell_type": "code",
   "execution_count": 1010,
   "metadata": {
    "collapsed": false
   },
   "outputs": [
    {
     "data": {
      "text/plain": [
       "88"
      ]
     },
     "execution_count": 1010,
     "metadata": {},
     "output_type": "execute_result"
    }
   ],
   "source": [
    "np.argmax(steps[2].ro[1:])"
   ]
  },
  {
   "cell_type": "code",
   "execution_count": 1002,
   "metadata": {
    "collapsed": false
   },
   "outputs": [
    {
     "data": {
      "text/plain": [
       "array([  1.36814084e-001,   1.72723371e-077,   1.72723371e-077,\n",
       "         9.73469813e-309,   4.94065646e-324,   1.11253693e-308,\n",
       "         4.94065646e-324,   1.25160405e-308,   6.93486243e-310,\n",
       "         4.94065646e-324,   1.48539705e-313,   8.24599674e-316,\n",
       "         0.00000000e+000,   0.00000000e+000,   1.72723371e-077,\n",
       "         1.72723371e-077,   1.72723371e-077,   1.72723371e-077,\n",
       "         1.13289253e-320,   2.78134232e-309,   6.93486243e-310,\n",
       "         4.94065646e-324,   1.48539705e-313,   8.24599674e-316,\n",
       "         0.00000000e+000,   0.00000000e+000,   1.72723371e-077,\n",
       "         1.72723371e-077,   1.72723371e-077,   1.72723371e-077,\n",
       "         1.72723371e-077,   1.72723371e-077,   1.12943407e-320,\n",
       "         6.93486233e-310,   2.88376236e-319,   2.12199579e-314,\n",
       "         1.72723371e-077,   1.72723371e-077,   1.12795187e-320,\n",
       "         2.78134232e-309,   5.05923221e-321,   1.58101007e-322,\n",
       "         4.94065646e-324,   4.94065646e-324,   1.72723371e-077,\n",
       "         1.72723371e-077,   1.12597561e-320,   6.93486243e-310,\n",
       "         0.00000000e+000,   2.12199579e-314,   1.72723371e-077,\n",
       "         1.72723371e-077,   1.12449341e-320,   2.78134232e-309,\n",
       "         5.05923221e-321,   1.58101007e-322,   4.94065646e-324,\n",
       "         5.56268465e-309,   6.93486339e-310,   5.05923221e-321,\n",
       "         1.48539705e-313,   8.24599674e-316,   0.00000000e+000,\n",
       "         0.00000000e+000,   1.72723371e-077,   1.72723371e-077,\n",
       "         1.12103495e-320,   6.93486243e-310,   0.00000000e+000,\n",
       "         2.12199579e-314,   1.72723371e-077,   1.72723371e-077,\n",
       "         1.11955275e-320,   2.78134232e-309,   6.93486243e-310,\n",
       "         4.94065646e-323,   1.48539705e-313,   8.24599674e-316,\n",
       "         0.00000000e+000,   0.00000000e+000,   1.72723371e-077,\n",
       "         1.72723371e-077,   1.11708243e-320,   0.00000000e+000,\n",
       "         0.00000000e+000,   0.00000000e+000,   0.00000000e+000,\n",
       "         0.00000000e+000,   0.00000000e+000,   1.00000000e+000,\n",
       "         1.72723371e-077,   1.72723371e-077,   1.11461210e-320,\n",
       "         6.93486243e-310,   0.00000000e+000,   2.12199579e-314,\n",
       "         1.72723371e-077,   1.72723371e-077,   1.11312990e-320,\n",
       "         6.93486243e-310])"
      ]
     },
     "execution_count": 1002,
     "metadata": {},
     "output_type": "execute_result"
    }
   ],
   "source": [
    "np.loadtxt('stepdata/ro-2')"
   ]
  },
  {
   "cell_type": "code",
   "execution_count": 971,
   "metadata": {
    "collapsed": false
   },
   "outputs": [
    {
     "data": {
      "text/plain": [
       "array(-144861.74155)"
      ]
     },
     "execution_count": 971,
     "metadata": {},
     "output_type": "execute_result"
    }
   ],
   "source": [
    "steps[1].gtd"
   ]
  },
  {
   "cell_type": "markdown",
   "metadata": {},
   "source": [
    "### Step 1 "
   ]
  },
  {
   "cell_type": "code",
   "execution_count": 799,
   "metadata": {
    "collapsed": false
   },
   "outputs": [
    {
     "data": {
      "text/plain": [
       "array([-1.  , -1.  , -1.  , ..., -1.  , -1.02, -0.99])"
      ]
     },
     "execution_count": 799,
     "metadata": {},
     "output_type": "execute_result"
    }
   ],
   "source": [
    "steps[1].d2"
   ]
  },
  {
   "cell_type": "code",
   "execution_count": 785,
   "metadata": {
    "collapsed": false
   },
   "outputs": [
    {
     "data": {
      "text/plain": [
       "array([ -4.03784364e-05,  -4.03784364e-05,  -4.03784364e-05, ...,\n",
       "        -8.78469978e-02,  -8.88552829e-02,  -5.76157692e-02])"
      ]
     },
     "execution_count": 785,
     "metadata": {},
     "output_type": "execute_result"
    }
   ],
   "source": [
    "steps[1].s"
   ]
  },
  {
   "cell_type": "markdown",
   "metadata": {},
   "source": [
    "### Scratch"
   ]
  },
  {
   "cell_type": "markdown",
   "metadata": {},
   "source": [
    "#### Tensor difference discrepancy"
   ]
  },
  {
   "cell_type": "code",
   "execution_count": 733,
   "metadata": {
    "collapsed": false
   },
   "outputs": [],
   "source": [
    "val1 = np.loadtxt(\"stepdata/temp0\")\n",
    "val2 = np.loadtxt(\"stepdata/temp1\")\n",
    "val3 = np.loadtxt(\"stepdata/temp2\")"
   ]
  },
  {
   "cell_type": "code",
   "execution_count": 736,
   "metadata": {
    "collapsed": false
   },
   "outputs": [
    {
     "data": {
      "text/plain": [
       "180154.0"
      ]
     },
     "execution_count": 736,
     "metadata": {},
     "output_type": "execute_result"
    }
   ],
   "source": [
    "nulp_diff(val1-val2, val3)"
   ]
  },
  {
   "cell_type": "code",
   "execution_count": 747,
   "metadata": {
    "collapsed": false
   },
   "outputs": [
    {
     "data": {
      "text/plain": [
       "0.0"
      ]
     },
     "execution_count": 747,
     "metadata": {},
     "output_type": "execute_result"
    }
   ],
   "source": [
    "nulp_diff((val1-val2).astype(np.float32), val3.astype(np.float32))"
   ]
  },
  {
   "cell_type": "code",
   "execution_count": 740,
   "metadata": {
    "collapsed": false
   },
   "outputs": [
    {
     "data": {
      "text/plain": [
       "2335133695930.0"
      ]
     },
     "execution_count": 740,
     "metadata": {},
     "output_type": "execute_result"
    }
   ],
   "source": [
    "nulp_diff(env.tf.sub(val1, val2).as_numpy(), val3)"
   ]
  },
  {
   "cell_type": "code",
   "execution_count": 745,
   "metadata": {
    "collapsed": false
   },
   "outputs": [
    {
     "data": {
      "text/plain": [
       "-0.27099609"
      ]
     },
     "execution_count": 745,
     "metadata": {},
     "output_type": "execute_result"
    }
   ],
   "source": [
    "env.tf.sub(val1, val2).as_numpy()"
   ]
  },
  {
   "cell_type": "code",
   "execution_count": 746,
   "metadata": {
    "collapsed": false
   },
   "outputs": [
    {
     "data": {
      "text/plain": [
       "-0.27086646780026058"
      ]
     },
     "execution_count": 746,
     "metadata": {},
     "output_type": "execute_result"
    }
   ],
   "source": [
    "val1-val2"
   ]
  },
  {
   "cell_type": "markdown",
   "metadata": {},
   "source": [
    "## Reproduce Torch l-BFGS in Immediate"
   ]
  },
  {
   "cell_type": "code",
   "execution_count": 1078,
   "metadata": {
    "collapsed": false
   },
   "outputs": [
    {
     "data": {
      "text/plain": [
       "'ndarray'"
      ]
     },
     "execution_count": 1078,
     "metadata": {},
     "output_type": "execute_result"
    }
   ],
   "source": [
    "type(np.zeros(3)).__name__"
   ]
  },
  {
   "cell_type": "code",
   "execution_count": 1108,
   "metadata": {
    "collapsed": true
   },
   "outputs": [],
   "source": [
    "from numpy.testing.utils import nulp_diff\n",
    "def ulp_diff(a, b):\n",
    "    try:\n",
    "        return max(nulp_diff(a.astype(np.float32), b.astype(np.float32)))\n",
    "    except:\n",
    "        return nulp_diff(a.astype(np.float32), b.astype(np.float32))\n",
    "    \n",
    "def check(a, b, msg):\n",
    "    b = b.as_numpy()\n",
    "    diff = ulp_diff(np.asarray(a), np.asarray(b))\n",
    "    if diff>10:\n",
    "        print(\"%s %f\"%(msg, diff))\n",
    "    else:\n",
    "        print(\"%s OK\"%(msg))"
   ]
  },
  {
   "cell_type": "code",
   "execution_count": 1085,
   "metadata": {
    "collapsed": true
   },
   "outputs": [],
   "source": [
    "import tensorflow as tf\n",
    "env = immediate.Env(tf)\n",
    "im = env.tf"
   ]
  },
  {
   "cell_type": "code",
   "execution_count": 1086,
   "metadata": {
    "collapsed": true
   },
   "outputs": [],
   "source": [
    "def dot(a, b):\n",
    "    return im.reduce_sum(a*b)"
   ]
  },
  {
   "cell_type": "code",
   "execution_count": 1134,
   "metadata": {
    "collapsed": false
   },
   "outputs": [
    {
     "name": "stdout",
     "output_type": "stream",
     "text": [
      "d OK\n",
      "gtd OK\n",
      "t OK\n",
      "x OK\n",
      "tmp1 OK\n",
      "tmp11 OK\n",
      "fdiff OK\n",
      "y OK\n",
      "s OK\n",
      "Hdiag OK\n",
      "ys OK\n",
      "ro OK\n",
      "q OK\n",
      "al OK\n",
      "d OK\n",
      "r OK\n",
      "gtd OK\n",
      "t OK\n",
      "x OK\n",
      "tmp1 OK\n",
      "fdiff OK\n"
     ]
    }
   ],
   "source": [
    "old_dirs = []\n",
    "old_stps = []\n",
    "nCorrection = 100\n",
    "#ro = im.zeros((nCorrection,), dtype=im.float64)\n",
    "ro = [0]*nCorrection\n",
    "al = [0]*nCorrection\n",
    "#al = im.zeros((nCorrection,), dtype=im.float64)\n",
    "\n",
    "\n",
    "# step 0\n",
    "learningRate = env.numpy_to_itensor(1., dtype=im.float64)\n",
    "x = env.numpy_to_itensor(steps[0].x, dtype=im.float64)\n",
    "g = env.numpy_to_itensor(steps[0].g, dtype=im.float64)\n",
    "f = env.numpy_to_itensor(steps[0].f, dtype=im.float64)\n",
    "\n",
    "# step 1\n",
    "ii=1\n",
    "d = -g\n",
    "check(steps[ii].d, d, \"d\")\n",
    "\n",
    "f_old = f\n",
    "g_old = g\n",
    "\n",
    "gtd = dot(g, d)\n",
    "check(steps[ii].gtd, gtd, \"gtd\")\n",
    "\n",
    "tmp1 = im.abs(g)\n",
    "t = min(1, im.div(1, im.reduce_sum(tmp1)))\n",
    "check(steps[ii].t, t, \"t\")\n",
    "\n",
    "f = env.numpy_to_itensor(steps[ii].f, dtype=im.float64)\n",
    "x = x + t*d\n",
    "check(steps[ii].x, x, \"x\")\n",
    "g = env.numpy_to_itensor(steps[ii].g, dtype=im.float64)\n",
    "\n",
    "tmp1 = im.abs(g)\n",
    "check(steps[ii].tmp1, tmp1, \"tmp1\")\n",
    "\n",
    "tmp11 = im.abs(d*t)\n",
    "check(steps[ii].tmp11, tmp11, \"tmp11\")\n",
    "check(steps[ii].fdiff, f-f_old, \"fdiff\")\n",
    "\n",
    "# step 2\n",
    "ii = 2\n",
    "y = g - g_old\n",
    "check(steps[ii].y, y, \"y\")\n",
    "s = d*t\n",
    "check(steps[ii].s, s, \"s\")\n",
    "\n",
    "old_dirs.append(s)\n",
    "old_stps.append(y)\n",
    "Hdiag = im.div(ys, dot(y, y))\n",
    "check(steps[ii].Hdiag, Hdiag, \"Hdiag\")\n",
    "\n",
    "ys = dot(y, s)\n",
    "check(steps[ii].ys, ys, \"ys\")\n",
    "\n",
    "k = len(old_dirs)\n",
    "for i in range(k):\n",
    "    ro[i] = im.div(1, dot(old_stps[i], old_dirs[i]))\n",
    "    \n",
    "check(steps[ii].ro, im.pack(ro), \"ro\")\n",
    "\n",
    "q = -g\n",
    "for i in range(k-1, -1, -1):\n",
    "    al[i] = dot(old_dirs[i], q) * ro[i]\n",
    "    q = q - al[i]*old_stps[i]\n",
    "\n",
    "check(steps[ii].q, q, \"q\")\n",
    "check(steps[ii].al, im.pack(al), \"al\")\n",
    "\n",
    "r = q*Hdiag\n",
    "for i in range(k):\n",
    "    be_i = dot(old_stps[i], r) * ro[i]\n",
    "    r += (al[i]-be_i)*old_dirs[i]\n",
    "d = r\n",
    "\n",
    "check(steps[ii].d, d, \"d\")\n",
    "check(steps[ii].r, r, \"r\")\n",
    "\n",
    "g_old = g\n",
    "f_old = f\n",
    "\n",
    "gtd = dot(g, d)\n",
    "check(steps[ii].gtd, gtd, \"gtd\")\n",
    "\n",
    "t = learningRate\n",
    "check(steps[ii].t, t, \"t\")\n",
    "\n",
    "x = x + t*d\n",
    "check(steps[ii].x, x, \"x\")\n",
    "\n",
    "f = env.numpy_to_itensor(steps[ii].f, dtype=im.float64)\n",
    "g = env.numpy_to_itensor(steps[ii].g, dtype=im.float64)\n",
    "\n",
    "tmp1 = im.abs(g)\n",
    "check(steps[ii].tmp1, tmp1, \"tmp1\")\n",
    "\n",
    "check(steps[ii].fdiff, f - f_old, \"fdiff\")\n"
   ]
  },
  {
   "cell_type": "code",
   "execution_count": 1129,
   "metadata": {
    "collapsed": false
   },
   "outputs": [
    {
     "data": {
      "text/plain": [
       "1.0"
      ]
     },
     "execution_count": 1129,
     "metadata": {},
     "output_type": "execute_result"
    }
   ],
   "source": [
    "t"
   ]
  },
  {
   "cell_type": "code",
   "execution_count": null,
   "metadata": {
    "collapsed": true
   },
   "outputs": [],
   "source": [
    "#fdiff = steps[ii].f - steps[0].f\n",
    "#check(steps[ii].fdiff, fdiff, \"fdiff\")\n",
    "\n",
    "\n",
    "#gtd = g.dot(d)\n",
    "#check(step)"
   ]
  },
  {
   "cell_type": "code",
   "execution_count": 1048,
   "metadata": {
    "collapsed": true
   },
   "outputs": [],
   "source": [
    "from numpy.testing.utils import nulp_diff\n",
    "a = np.loadtxt(\"stepdata/temp\")\n",
    "temp = np.loadtxt(\"stepdata/temp\")\n",
    "lua_result = np.loadtxt(\"stepdata/tempsum\")\n",
    "np_result = a.sum()"
   ]
  },
  {
   "cell_type": "code",
   "execution_count": 1049,
   "metadata": {
    "collapsed": false
   },
   "outputs": [
    {
     "data": {
      "text/plain": [
       "414.0"
      ]
     },
     "execution_count": 1049,
     "metadata": {},
     "output_type": "execute_result"
    }
   ],
   "source": [
    "nulp_diff(lua_result, np_result)"
   ]
  },
  {
   "cell_type": "code",
   "execution_count": 1054,
   "metadata": {
    "collapsed": false
   },
   "outputs": [
    {
     "data": {
      "text/plain": [
       "dtype('float64')"
      ]
     },
     "execution_count": 1054,
     "metadata": {},
     "output_type": "execute_result"
    }
   ],
   "source": [
    "temp.dtype"
   ]
  },
  {
   "cell_type": "code",
   "execution_count": 1061,
   "metadata": {
    "collapsed": false
   },
   "outputs": [],
   "source": [
    "tf_result = im.reduce_sum(env.numpy_to_itensor(temp, dtype=im.float64)).as_numpy()"
   ]
  },
  {
   "cell_type": "code",
   "execution_count": 1063,
   "metadata": {
    "collapsed": false
   },
   "outputs": [
    {
     "data": {
      "text/plain": [
       "156.0"
      ]
     },
     "execution_count": 1063,
     "metadata": {},
     "output_type": "execute_result"
    }
   ],
   "source": [
    "nulp_diff(tf_result, lua_result)"
   ]
  },
  {
   "cell_type": "markdown",
   "metadata": {},
   "source": [
    "# Scratch"
   ]
  },
  {
   "cell_type": "code",
   "execution_count": 816,
   "metadata": {
    "collapsed": false
   },
   "outputs": [
    {
     "data": {
      "text/plain": [
       "ITensor([[ 1.  1.]\n",
       " [ 1.  1.]], dtype=float64)"
      ]
     },
     "execution_count": 816,
     "metadata": {},
     "output_type": "execute_result"
    }
   ],
   "source": [
    "a = env.numpy_to_itensor([[1,1],[1,1]], dtype=tf.float64)\n",
    "b = env.numpy_to_itensor([[1,1],[1,1]], dtype=tf.float64)\n",
    "env.tf.abs(a)"
   ]
  },
  {
   "cell_type": "code",
   "execution_count": 818,
   "metadata": {
    "collapsed": false
   },
   "outputs": [
    {
     "data": {
      "text/plain": [
       "ITensor([[ 2.  2.]\n",
       " [ 2.  2.]], dtype=float64)"
      ]
     },
     "execution_count": 818,
     "metadata": {},
     "output_type": "execute_result"
    }
   ],
   "source": [
    "env.tf.matmul(a, b)"
   ]
  },
  {
   "cell_type": "code",
   "execution_count": 821,
   "metadata": {
    "collapsed": false
   },
   "outputs": [
    {
     "data": {
      "text/plain": [
       "ITensor([[ 1.  1.]\n",
       " [ 1.  1.]], dtype=float64)"
      ]
     },
     "execution_count": 821,
     "metadata": {},
     "output_type": "execute_result"
    }
   ],
   "source": [
    "env.tf.div(a, b)"
   ]
  },
  {
   "cell_type": "code",
   "execution_count": 823,
   "metadata": {
    "collapsed": false
   },
   "outputs": [
    {
     "data": {
      "text/plain": [
       "ITensor([ 1.38629436  1.38629436], dtype=float64)"
      ]
     },
     "execution_count": 823,
     "metadata": {},
     "output_type": "execute_result"
    }
   ],
   "source": [
    "env.tf.nn.softmax_cross_entropy_with_logits(a, b)"
   ]
  },
  {
   "cell_type": "code",
   "execution_count": 827,
   "metadata": {
    "collapsed": false
   },
   "outputs": [],
   "source": [
    "tf.one_hot??"
   ]
  },
  {
   "cell_type": "markdown",
   "metadata": {},
   "source": [
    "## Accessing elements question"
   ]
  },
  {
   "cell_type": "code",
   "execution_count": null,
   "metadata": {
    "collapsed": true
   },
   "outputs": [],
   "source": [
    "import tensorflow as tf\n",
    "import numpy as np\n",
    "\n",
    "def assignC():\n",
    "    C_copy = np.zeros((2,2))\n",
    "    C = tf.matmul(tf.transpose(x), x)\n",
    "    C_copy[0,0] = C[0,0]\n",
    "    #C_copy[0,0] = C[0,0].eval() # error saying \"You must feed a value for  placeholder tensor 'Placeholder' with dtype float\" at line 17\n",
    "    print(C_copy[0,0])\n",
    "    return C_copy\n",
    "\n",
    "sess = tf.InteractiveSession()\n",
    "\n",
    "from tensorflow.examples.tutorials.mnist import input_data\n",
    "mnist = input_data.read_data_sets(\"MNIST_data/\", one_hot=True)\n",
    "\n",
    "x = tf.placeholder(tf.float32, [None, 1024])\n",
    "\n",
    "sess.run(tf.initialize_all_variables())\n",
    "for i in range(1):\n",
    "    batch_xs, batch_ys = mnist.train.next_batch(100)\n",
    "    print(sess.run(tf.identity(assignC()), feed_dict={x: batch_xs}))\n"
   ]
  },
  {
   "cell_type": "code",
   "execution_count": 850,
   "metadata": {
    "collapsed": true
   },
   "outputs": [],
   "source": [
    "tf.reset_default_graph()\n",
    "C = tf.ones((3,3))"
   ]
  },
  {
   "cell_type": "code",
   "execution_count": 854,
   "metadata": {
    "collapsed": false
   },
   "outputs": [
    {
     "data": {
      "text/plain": [
       "<tf.Tensor 'Squeeze_2:0' shape=() dtype=float32>"
      ]
     },
     "execution_count": 854,
     "metadata": {},
     "output_type": "execute_result"
    }
   ],
   "source": [
    "C[0,0]"
   ]
  },
  {
   "cell_type": "code",
   "execution_count": 852,
   "metadata": {
    "collapsed": false
   },
   "outputs": [
    {
     "data": {
      "text/plain": [
       "node {\n",
       "  name: \"ones\"\n",
       "  op: \"Const\"\n",
       "  attr {\n",
       "    key: \"dtype\"\n",
       "    value {\n",
       "      type: DT_FLOAT\n",
       "    }\n",
       "  }\n",
       "  attr {\n",
       "    key: \"value\"\n",
       "    value {\n",
       "      tensor {\n",
       "        dtype: DT_FLOAT\n",
       "        tensor_shape {\n",
       "          dim {\n",
       "            size: 3\n",
       "          }\n",
       "          dim {\n",
       "            size: 3\n",
       "          }\n",
       "        }\n",
       "        float_val: 1.0\n",
       "      }\n",
       "    }\n",
       "  }\n",
       "}\n",
       "node {\n",
       "  name: \"Slice/begin\"\n",
       "  op: \"Const\"\n",
       "  attr {\n",
       "    key: \"dtype\"\n",
       "    value {\n",
       "      type: DT_INT32\n",
       "    }\n",
       "  }\n",
       "  attr {\n",
       "    key: \"value\"\n",
       "    value {\n",
       "      tensor {\n",
       "        dtype: DT_INT32\n",
       "        tensor_shape {\n",
       "          dim {\n",
       "            size: 2\n",
       "          }\n",
       "        }\n",
       "        tensor_content: \"\\000\\000\\000\\000\\000\\000\\000\\000\"\n",
       "      }\n",
       "    }\n",
       "  }\n",
       "}\n",
       "node {\n",
       "  name: \"Slice/size\"\n",
       "  op: \"Const\"\n",
       "  attr {\n",
       "    key: \"dtype\"\n",
       "    value {\n",
       "      type: DT_INT32\n",
       "    }\n",
       "  }\n",
       "  attr {\n",
       "    key: \"value\"\n",
       "    value {\n",
       "      tensor {\n",
       "        dtype: DT_INT32\n",
       "        tensor_shape {\n",
       "          dim {\n",
       "            size: 2\n",
       "          }\n",
       "        }\n",
       "        tensor_content: \"\\001\\000\\000\\000\\001\\000\\000\\000\"\n",
       "      }\n",
       "    }\n",
       "  }\n",
       "}\n",
       "node {\n",
       "  name: \"Slice\"\n",
       "  op: \"Slice\"\n",
       "  input: \"ones\"\n",
       "  input: \"Slice/begin\"\n",
       "  input: \"Slice/size\"\n",
       "  attr {\n",
       "    key: \"Index\"\n",
       "    value {\n",
       "      type: DT_INT32\n",
       "    }\n",
       "  }\n",
       "  attr {\n",
       "    key: \"T\"\n",
       "    value {\n",
       "      type: DT_FLOAT\n",
       "    }\n",
       "  }\n",
       "}\n",
       "node {\n",
       "  name: \"Squeeze\"\n",
       "  op: \"Squeeze\"\n",
       "  input: \"Slice\"\n",
       "  attr {\n",
       "    key: \"T\"\n",
       "    value {\n",
       "      type: DT_FLOAT\n",
       "    }\n",
       "  }\n",
       "  attr {\n",
       "    key: \"squeeze_dims\"\n",
       "    value {\n",
       "      list {\n",
       "        i: 0\n",
       "        i: 1\n",
       "      }\n",
       "    }\n",
       "  }\n",
       "}\n",
       "versions {\n",
       "  producer: 10\n",
       "}"
      ]
     },
     "execution_count": 852,
     "metadata": {},
     "output_type": "execute_result"
    }
   ],
   "source": [
    "tf.get_default_graph().as_graph_def()"
   ]
  },
  {
   "cell_type": "markdown",
   "metadata": {},
   "source": [
    "## Derivatives"
   ]
  },
  {
   "cell_type": "code",
   "execution_count": 814,
   "metadata": {
    "collapsed": false
   },
   "outputs": [
    {
     "data": {
      "text/plain": [
       "[2.0, 4.0]"
      ]
     },
     "execution_count": 814,
     "metadata": {},
     "output_type": "execute_result"
    }
   ],
   "source": [
    "tf.reset_default_graph()\n",
    "x = tf.placeholder(dtype=tf.float32)\n",
    "a = x*x\n",
    "E = 2*a\n",
    "(dEda, dEdx) = tf.gradients(E, xs=[a, x])\n",
    "sess = tf.Session()\n",
    "sess.run([dEda, dEdx], feed_dict={x: 1})"
   ]
  },
  {
   "cell_type": "code",
   "execution_count": 810,
   "metadata": {
    "collapsed": false
   },
   "outputs": [
    {
     "data": {
      "text/plain": [
       "[<tf.Tensor 'gradients/mul_1_grad/Reshape_1:0' shape=() dtype=float32>,\n",
       " <tf.Tensor 'gradients/AddN:0' shape=() dtype=float32>]"
      ]
     },
     "execution_count": 810,
     "metadata": {},
     "output_type": "execute_result"
    }
   ],
   "source": [
    "grads"
   ]
  },
  {
   "cell_type": "code",
   "execution_count": 813,
   "metadata": {
    "collapsed": true
   },
   "outputs": [],
   "source": [
    "tf.gradients??"
   ]
  },
  {
   "cell_type": "markdown",
   "metadata": {},
   "source": [
    "## Tensor shape question"
   ]
  },
  {
   "cell_type": "code",
   "execution_count": 449,
   "metadata": {
    "collapsed": false
   },
   "outputs": [
    {
     "ename": "ValueError",
     "evalue": "Shapes (2,) and () are not compatible",
     "output_type": "error",
     "traceback": [
      "\u001b[0;31m---------------------------------------------------------------------------\u001b[0m",
      "\u001b[0;31mValueError\u001b[0m                                Traceback (most recent call last)",
      "\u001b[0;32m<ipython-input-449-0492e18012c2>\u001b[0m in \u001b[0;36m<module>\u001b[0;34m()\u001b[0m\n\u001b[1;32m      1\u001b[0m \u001b[0mbatch_size\u001b[0m \u001b[0;34m=\u001b[0m \u001b[0mtf\u001b[0m\u001b[0;34m.\u001b[0m\u001b[0mshape\u001b[0m\u001b[0;34m(\u001b[0m\u001b[0mtf\u001b[0m\u001b[0;34m.\u001b[0m\u001b[0mones\u001b[0m\u001b[0;34m(\u001b[0m\u001b[0;34m(\u001b[0m\u001b[0;36m10\u001b[0m\u001b[0;34m,\u001b[0m\u001b[0;36m10\u001b[0m\u001b[0;34m)\u001b[0m\u001b[0;34m)\u001b[0m\u001b[0;34m)\u001b[0m\u001b[0;34m\u001b[0m\u001b[0m\n\u001b[0;32m----> 2\u001b[0;31m \u001b[0;32mprint\u001b[0m\u001b[0;34m(\u001b[0m\u001b[0mtf\u001b[0m\u001b[0;34m.\u001b[0m\u001b[0mzeros\u001b[0m\u001b[0;34m(\u001b[0m\u001b[0;34m(\u001b[0m\u001b[0mbatch_size\u001b[0m\u001b[0;34m,\u001b[0m \u001b[0;36m128\u001b[0m\u001b[0;34m)\u001b[0m\u001b[0;34m)\u001b[0m\u001b[0;34m.\u001b[0m\u001b[0mget_shape\u001b[0m\u001b[0;34m(\u001b[0m\u001b[0;34m)\u001b[0m\u001b[0;34m)\u001b[0m\u001b[0;34m\u001b[0m\u001b[0m\n\u001b[0m",
      "\u001b[0;32m/Users/yaroslavvb/tfimmediate_hood/tensorflow/_python_build/tensorflow/python/ops/array_ops.py\u001b[0m in \u001b[0;36mzeros\u001b[0;34m(shape, dtype, name)\u001b[0m\n",
      "\u001b[0;32m/Users/yaroslavvb/tfimmediate_hood/tensorflow/_python_build/tensorflow/python/framework/ops.py\u001b[0m in \u001b[0;36mconvert_to_tensor\u001b[0;34m(value, dtype, name, as_ref)\u001b[0m\n",
      "\u001b[0;32m/Users/yaroslavvb/tfimmediate_hood/tensorflow/_python_build/tensorflow/python/ops/array_ops.py\u001b[0m in \u001b[0;36m_autopacking_conversion_function\u001b[0;34m(v, dtype, name, as_ref)\u001b[0m\n",
      "\u001b[0;32m/Users/yaroslavvb/tfimmediate_hood/tensorflow/_python_build/tensorflow/python/ops/array_ops.py\u001b[0m in \u001b[0;36m_autopacking_helper\u001b[0;34m(list_or_tuple, dtype, name)\u001b[0m\n",
      "\u001b[0;32m/Users/yaroslavvb/tfimmediate_hood/tensorflow/_python_build/tensorflow/python/ops/gen_array_ops.py\u001b[0m in \u001b[0;36m_pack\u001b[0;34m(values, name)\u001b[0m\n",
      "\u001b[0;32m/Users/yaroslavvb/tfimmediate_hood/tensorflow/_python_build/tensorflow/python/framework/op_def_library.py\u001b[0m in \u001b[0;36mapply_op\u001b[0;34m(self, op_type_name, name, **keywords)\u001b[0m\n",
      "\u001b[0;32m/Users/yaroslavvb/tfimmediate_hood/tensorflow/_python_build/tensorflow/python/framework/ops.py\u001b[0m in \u001b[0;36mcreate_op\u001b[0;34m(self, op_type, inputs, dtypes, input_types, name, attrs, op_def, compute_shapes, compute_device)\u001b[0m\n",
      "\u001b[0;32m/Users/yaroslavvb/tfimmediate_hood/tensorflow/_python_build/tensorflow/python/framework/ops.py\u001b[0m in \u001b[0;36mset_shapes_for_outputs\u001b[0;34m(op)\u001b[0m\n",
      "\u001b[0;32m/Users/yaroslavvb/tfimmediate_hood/tensorflow/_python_build/tensorflow/python/ops/array_ops.py\u001b[0m in \u001b[0;36m_PackShape\u001b[0;34m(op)\u001b[0m\n",
      "\u001b[0;32m/Users/yaroslavvb/tfimmediate_hood/tensorflow/_python_build/tensorflow/python/framework/tensor_shape.py\u001b[0m in \u001b[0;36mmerge_with\u001b[0;34m(self, other)\u001b[0m\n",
      "\u001b[0;31mValueError\u001b[0m: Shapes (2,) and () are not compatible"
     ]
    }
   ],
   "source": [
    "batch_size = tf.shape(tf.ones((10,10)))\n",
    "print(tf.zeros((batch_size, 128)).get_shape())"
   ]
  },
  {
   "cell_type": "code",
   "execution_count": 452,
   "metadata": {
    "collapsed": false
   },
   "outputs": [],
   "source": [
    "batch_size=tf.shape(tf.ones((10,10)))[0]"
   ]
  },
  {
   "cell_type": "code",
   "execution_count": 454,
   "metadata": {
    "collapsed": false
   },
   "outputs": [
    {
     "data": {
      "text/plain": [
       "<tf.Tensor 'Squeeze_1:0' shape=() dtype=int32>"
      ]
     },
     "execution_count": 454,
     "metadata": {},
     "output_type": "execute_result"
    }
   ],
   "source": [
    "batch_size"
   ]
  },
  {
   "cell_type": "code",
   "execution_count": 443,
   "metadata": {
    "collapsed": false
   },
   "outputs": [
    {
     "name": "stdout",
     "output_type": "stream",
     "text": [
      "(100, 128)\n"
     ]
    }
   ],
   "source": [
    "print(tf.zeros((batch_size, 128)).get_shape())"
   ]
  },
  {
   "cell_type": "code",
   "execution_count": 457,
   "metadata": {
    "collapsed": false
   },
   "outputs": [],
   "source": [
    "asdf=tf.Variable??"
   ]
  },
  {
   "cell_type": "code",
   "execution_count": null,
   "metadata": {
    "collapsed": true
   },
   "outputs": [],
   "source": [
    "asdf=tf.Variable"
   ]
  },
  {
   "cell_type": "code",
   "execution_count": 453,
   "metadata": {
    "collapsed": false
   },
   "outputs": [
    {
     "name": "stdout",
     "output_type": "stream",
     "text": [
      "(?, ?)\n"
     ]
    }
   ],
   "source": [
    "print(tf.zeros((batch_size, 128)).get_shape())"
   ]
  },
  {
   "cell_type": "code",
   "execution_count": 27,
   "metadata": {
    "collapsed": false
   },
   "outputs": [
    {
     "name": "stdout",
     "output_type": "stream",
     "text": [
      "nInputs 6\n",
      "nUnitsLayer1 3\n",
      "weights shape Tensor(\"Shape:0\", shape=(2,), dtype=int32)\n",
      "biases shape Tensor(\"Shape_1:0\", shape=(1,), dtype=int32)\n",
      "weights\n",
      "[[-0.42564794  1.32690036 -0.57812071]\n",
      " [ 1.3026278  -1.29796839 -1.02938724]\n",
      " [ 0.19238499  1.10781586 -0.24808854]\n",
      " [-0.60994369 -0.30048054  0.5742262 ]\n",
      " [ 0.13138418 -0.60150367  0.44378978]\n",
      " [ 0.42674765 -0.44903693  0.32681581]]\n",
      "biases\n",
      "[ 0.  0.  0.]\n"
     ]
    }
   ],
   "source": [
    "import tensorflow as tf\n",
    "nInputs = 6\n",
    "nUnitsLayer1 = 3\n",
    "weights = tf.Variable(tf.truncated_normal([nInputs, nUnitsLayer1]))\n",
    "biases= tf.Variable(tf.zeros(nUnitsLayer1))\n",
    "\n",
    "print 'nInputs', nInputs\n",
    "print 'nUnitsLayer1', nUnitsLayer1\n",
    "print 'weights shape', tf.shape(weights)\n",
    "print 'biases shape', tf.shape(biases)\n",
    "\n",
    "init = tf.initialize_all_variables()\n",
    "with tf.Session() as sess:\n",
    "    sess.run(init)\n",
    "    print 'weights'\n",
    "    print (weights.eval())\n",
    "    print 'biases'\n",
    "    print (biases.eval())\n"
   ]
  },
  {
   "cell_type": "code",
   "execution_count": 28,
   "metadata": {
    "collapsed": false
   },
   "outputs": [
    {
     "data": {
      "text/plain": [
       "TensorShape([Dimension(6), Dimension(3)])"
      ]
     },
     "execution_count": 28,
     "metadata": {},
     "output_type": "execute_result"
    }
   ],
   "source": [
    "weights.get_shape()"
   ]
  },
  {
   "cell_type": "code",
   "execution_count": 29,
   "metadata": {
    "collapsed": false
   },
   "outputs": [
    {
     "data": {
      "text/plain": [
       "<tensorflow.python.ops.variables.Variable at 0x12527bed0>"
      ]
     },
     "execution_count": 29,
     "metadata": {},
     "output_type": "execute_result"
    }
   ],
   "source": [
    "weights"
   ]
  },
  {
   "cell_type": "code",
   "execution_count": 31,
   "metadata": {
    "collapsed": false
   },
   "outputs": [
    {
     "data": {
      "text/plain": [
       "TensorShape([Dimension(2)])"
      ]
     },
     "execution_count": 31,
     "metadata": {},
     "output_type": "execute_result"
    }
   ],
   "source": [
    "tf.shape(weights).get_shape"
   ]
  },
  {
   "cell_type": "code",
   "execution_count": 163,
   "metadata": {
    "collapsed": false
   },
   "outputs": [
    {
     "data": {
      "text/plain": [
       "<tensorflow.python.framework.ops.Operation at 0x12a9022d0>"
      ]
     },
     "execution_count": 163,
     "metadata": {},
     "output_type": "execute_result"
    }
   ],
   "source": [
    "tf.group(tf.constant(1))"
   ]
  },
  {
   "cell_type": "code",
   "execution_count": 164,
   "metadata": {
    "collapsed": false
   },
   "outputs": [
    {
     "data": {
      "text/plain": [
       "TopKV2(values=<tf.Tensor 'TopKV2:0' shape=(1,) dtype=int32>, indices=<tf.Tensor 'TopKV2:1' shape=(1,) dtype=int32>)"
      ]
     },
     "execution_count": 164,
     "metadata": {},
     "output_type": "execute_result"
    }
   ],
   "source": [
    "stf.nn.top_k([1,2,3])"
   ]
  },
  {
   "cell_type": "code",
   "execution_count": 166,
   "metadata": {
    "collapsed": false
   },
   "outputs": [
    {
     "data": {
      "text/plain": [
       "[<tf.Tensor 'split:0' shape=(1,) dtype=int32>,\n",
       " <tf.Tensor 'split:1' shape=(1,) dtype=int32>]"
      ]
     },
     "execution_count": 166,
     "metadata": {},
     "output_type": "execute_result"
    }
   ],
   "source": [
    "tf.split(0, 2, [1,2])"
   ]
  },
  {
   "cell_type": "code",
   "execution_count": 168,
   "metadata": {
    "collapsed": false
   },
   "outputs": [
    {
     "ename": "ValueError",
     "evalue": "Fetch argument <tf.Tensor 'TopKV2:0' shape=(1,) dtype=int32> of <tf.Tensor 'TopKV2:0' shape=(1,) dtype=int32> cannot be interpreted as a Tensor. (Tensor Tensor(\"TopKV2:0\", shape=(1,), dtype=int32) is not an element of this graph.)",
     "output_type": "error",
     "traceback": [
      "\u001b[0;31m---------------------------------------------------------------------------\u001b[0m",
      "\u001b[0;31mValueError\u001b[0m                                Traceback (most recent call last)",
      "\u001b[0;32m<ipython-input-168-a37b4b1395bc>\u001b[0m in \u001b[0;36m<module>\u001b[0;34m()\u001b[0m\n\u001b[1;32m      1\u001b[0m \u001b[0mtf\u001b[0m\u001b[0;34m.\u001b[0m\u001b[0mreset_default_graph\u001b[0m\u001b[0;34m(\u001b[0m\u001b[0;34m)\u001b[0m\u001b[0;34m\u001b[0m\u001b[0m\n\u001b[0;32m----> 2\u001b[0;31m \u001b[0msess\u001b[0m\u001b[0;34m.\u001b[0m\u001b[0mrun\u001b[0m\u001b[0;34m(\u001b[0m\u001b[0mtf\u001b[0m\u001b[0;34m.\u001b[0m\u001b[0mnn\u001b[0m\u001b[0;34m.\u001b[0m\u001b[0mtop_k\u001b[0m\u001b[0;34m(\u001b[0m\u001b[0;34m[\u001b[0m\u001b[0;36m1\u001b[0m\u001b[0;34m,\u001b[0m\u001b[0;36m2\u001b[0m\u001b[0;34m,\u001b[0m\u001b[0;36m3\u001b[0m\u001b[0;34m]\u001b[0m\u001b[0;34m)\u001b[0m\u001b[0;34m)\u001b[0m\u001b[0;34m\u001b[0m\u001b[0m\n\u001b[0m",
      "\u001b[0;32m/Users/yaroslavvb/tfimmediate_hood/tensorflow/_python_build/tensorflow/python/client/session.py\u001b[0m in \u001b[0;36mrun\u001b[0;34m(self, fetches, feed_dict, options, run_metadata)\u001b[0m\n\u001b[1;32m    370\u001b[0m         \u001b[0mrun_metadata\u001b[0m\u001b[0;34m.\u001b[0m\u001b[0mParseFromString\u001b[0m\u001b[0;34m(\u001b[0m\u001b[0mcompat\u001b[0m\u001b[0;34m.\u001b[0m\u001b[0mas_bytes\u001b[0m\u001b[0;34m(\u001b[0m\u001b[0mproto_data\u001b[0m\u001b[0;34m)\u001b[0m\u001b[0;34m)\u001b[0m\u001b[0;34m\u001b[0m\u001b[0m\n\u001b[1;32m    371\u001b[0m     \u001b[0;32mfinally\u001b[0m\u001b[0;34m:\u001b[0m\u001b[0;34m\u001b[0m\u001b[0m\n\u001b[0;32m--> 372\u001b[0;31m       \u001b[0mtf_session\u001b[0m\u001b[0;34m.\u001b[0m\u001b[0mTF_DeleteBuffer\u001b[0m\u001b[0;34m(\u001b[0m\u001b[0mrun_metadata_ptr\u001b[0m\u001b[0;34m)\u001b[0m\u001b[0;34m\u001b[0m\u001b[0m\n\u001b[0m\u001b[1;32m    373\u001b[0m       \u001b[0;32mif\u001b[0m \u001b[0moptions\u001b[0m\u001b[0;34m:\u001b[0m\u001b[0;34m\u001b[0m\u001b[0m\n\u001b[1;32m    374\u001b[0m         \u001b[0mtf_session\u001b[0m\u001b[0;34m.\u001b[0m\u001b[0mTF_DeleteBuffer\u001b[0m\u001b[0;34m(\u001b[0m\u001b[0moptions_ptr\u001b[0m\u001b[0;34m)\u001b[0m\u001b[0;34m\u001b[0m\u001b[0m\n",
      "\u001b[0;32m/Users/yaroslavvb/tfimmediate_hood/tensorflow/_python_build/tensorflow/python/client/session.py\u001b[0m in \u001b[0;36m_run\u001b[0;34m(self, handle, fetches, feed_dict, options, run_metadata)\u001b[0m\n\u001b[1;32m    582\u001b[0m     \u001b[0;31m# Validate and process fetches.\u001b[0m\u001b[0;34m\u001b[0m\u001b[0;34m\u001b[0m\u001b[0m\n\u001b[1;32m    583\u001b[0m     \u001b[0mprocessed_fetches\u001b[0m \u001b[0;34m=\u001b[0m \u001b[0mself\u001b[0m\u001b[0;34m.\u001b[0m\u001b[0m_process_fetches\u001b[0m\u001b[0;34m(\u001b[0m\u001b[0mfetches\u001b[0m\u001b[0;34m)\u001b[0m\u001b[0;34m\u001b[0m\u001b[0m\n\u001b[0;32m--> 584\u001b[0;31m     \u001b[0munique_fetches\u001b[0m \u001b[0;34m=\u001b[0m \u001b[0mprocessed_fetches\u001b[0m\u001b[0;34m[\u001b[0m\u001b[0;36m0\u001b[0m\u001b[0;34m]\u001b[0m\u001b[0;34m\u001b[0m\u001b[0m\n\u001b[0m\u001b[1;32m    585\u001b[0m     \u001b[0mtarget_list\u001b[0m \u001b[0;34m=\u001b[0m \u001b[0mprocessed_fetches\u001b[0m\u001b[0;34m[\u001b[0m\u001b[0;36m1\u001b[0m\u001b[0;34m]\u001b[0m\u001b[0;34m\u001b[0m\u001b[0m\n\u001b[1;32m    586\u001b[0m     \u001b[0mfetch_info\u001b[0m \u001b[0;34m=\u001b[0m \u001b[0mprocessed_fetches\u001b[0m\u001b[0;34m[\u001b[0m\u001b[0;36m2\u001b[0m\u001b[0;34m]\u001b[0m\u001b[0;34m\u001b[0m\u001b[0m\n",
      "\u001b[0;32m/Users/yaroslavvb/tfimmediate_hood/tensorflow/_python_build/tensorflow/python/client/session.py\u001b[0m in \u001b[0;36m_process_fetches\u001b[0;34m(self, fetches)\u001b[0m\n\u001b[1;32m    541\u001b[0m                            'Tensor. (%s)' % (subfetch, fetch, str(e)))\n\u001b[1;32m    542\u001b[0m       \u001b[0munique_fetch_targets\u001b[0m\u001b[0;34m.\u001b[0m\u001b[0mupdate\u001b[0m\u001b[0;34m(\u001b[0m\u001b[0msubfetch_names\u001b[0m\u001b[0;34m)\u001b[0m\u001b[0;34m\u001b[0m\u001b[0m\n\u001b[0;32m--> 543\u001b[0;31m       \u001b[0mfetch_info\u001b[0m\u001b[0;34m.\u001b[0m\u001b[0mappend\u001b[0m\u001b[0;34m(\u001b[0m\u001b[0;34m(\u001b[0m\u001b[0msubfetch_names\u001b[0m\u001b[0;34m,\u001b[0m \u001b[0mfetch_contraction_fn\u001b[0m\u001b[0;34m)\u001b[0m\u001b[0;34m)\u001b[0m\u001b[0;34m\u001b[0m\u001b[0m\n\u001b[0m\u001b[1;32m    544\u001b[0m \u001b[0;34m\u001b[0m\u001b[0m\n\u001b[1;32m    545\u001b[0m     \u001b[0munique_fetch_targets\u001b[0m \u001b[0;34m=\u001b[0m \u001b[0mlist\u001b[0m\u001b[0;34m(\u001b[0m\u001b[0munique_fetch_targets\u001b[0m\u001b[0;34m)\u001b[0m\u001b[0;34m\u001b[0m\u001b[0m\n",
      "\u001b[0;31mValueError\u001b[0m: Fetch argument <tf.Tensor 'TopKV2:0' shape=(1,) dtype=int32> of <tf.Tensor 'TopKV2:0' shape=(1,) dtype=int32> cannot be interpreted as a Tensor. (Tensor Tensor(\"TopKV2:0\", shape=(1,), dtype=int32) is not an element of this graph.)"
     ]
    }
   ],
   "source": [
    "tf.reset_default_graph()\n",
    "sess.run(tf.nn.top_k([1,2,3]))"
   ]
  },
  {
   "cell_type": "code",
   "execution_count": 176,
   "metadata": {
    "collapsed": false
   },
   "outputs": [],
   "source": [
    "tf.reset_default_graph()\n",
    "op = tf.nn.top_k([1,2,3])\n",
    "sess = tf.Session()"
   ]
  },
  {
   "cell_type": "code",
   "execution_count": 177,
   "metadata": {
    "collapsed": false
   },
   "outputs": [
    {
     "data": {
      "text/plain": [
       "node {\n",
       "  name: \"TopKV2/input\"\n",
       "  op: \"Const\"\n",
       "  attr {\n",
       "    key: \"dtype\"\n",
       "    value {\n",
       "      type: DT_INT32\n",
       "    }\n",
       "  }\n",
       "  attr {\n",
       "    key: \"value\"\n",
       "    value {\n",
       "      tensor {\n",
       "        dtype: DT_INT32\n",
       "        tensor_shape {\n",
       "          dim {\n",
       "            size: 3\n",
       "          }\n",
       "        }\n",
       "        tensor_content: \"\\001\\000\\000\\000\\002\\000\\000\\000\\003\\000\\000\\000\"\n",
       "      }\n",
       "    }\n",
       "  }\n",
       "}\n",
       "node {\n",
       "  name: \"TopKV2/k\"\n",
       "  op: \"Const\"\n",
       "  attr {\n",
       "    key: \"dtype\"\n",
       "    value {\n",
       "      type: DT_INT32\n",
       "    }\n",
       "  }\n",
       "  attr {\n",
       "    key: \"value\"\n",
       "    value {\n",
       "      tensor {\n",
       "        dtype: DT_INT32\n",
       "        tensor_shape {\n",
       "        }\n",
       "        int_val: 1\n",
       "      }\n",
       "    }\n",
       "  }\n",
       "}\n",
       "node {\n",
       "  name: \"TopKV2\"\n",
       "  op: \"TopKV2\"\n",
       "  input: \"TopKV2/input\"\n",
       "  input: \"TopKV2/k\"\n",
       "  attr {\n",
       "    key: \"T\"\n",
       "    value {\n",
       "      type: DT_INT32\n",
       "    }\n",
       "  }\n",
       "  attr {\n",
       "    key: \"sorted\"\n",
       "    value {\n",
       "      b: true\n",
       "    }\n",
       "  }\n",
       "}\n",
       "versions {\n",
       "  producer: 10\n",
       "}"
      ]
     },
     "execution_count": 177,
     "metadata": {},
     "output_type": "execute_result"
    }
   ],
   "source": [
    "tf.get_default_graph().as_graph_def()"
   ]
  },
  {
   "cell_type": "code",
   "execution_count": 179,
   "metadata": {
    "collapsed": false
   },
   "outputs": [
    {
     "data": {
      "text/plain": [
       "[array([3], dtype=int32)]"
      ]
     },
     "execution_count": 179,
     "metadata": {},
     "output_type": "execute_result"
    }
   ],
   "source": [
    "sess.run([\"TopKV2:0\"])"
   ]
  },
  {
   "cell_type": "code",
   "execution_count": 181,
   "metadata": {
    "collapsed": false
   },
   "outputs": [],
   "source": [
    "tf.reset_default_graph()\n",
    "op = tf.split(0, 2, [1,2])\n",
    "sess = tf.Session()"
   ]
  },
  {
   "cell_type": "code",
   "execution_count": 182,
   "metadata": {
    "collapsed": false
   },
   "outputs": [
    {
     "data": {
      "text/plain": [
       "node {\n",
       "  name: \"split/split_dim\"\n",
       "  op: \"Const\"\n",
       "  attr {\n",
       "    key: \"dtype\"\n",
       "    value {\n",
       "      type: DT_INT32\n",
       "    }\n",
       "  }\n",
       "  attr {\n",
       "    key: \"value\"\n",
       "    value {\n",
       "      tensor {\n",
       "        dtype: DT_INT32\n",
       "        tensor_shape {\n",
       "        }\n",
       "        int_val: 0\n",
       "      }\n",
       "    }\n",
       "  }\n",
       "}\n",
       "node {\n",
       "  name: \"split/value\"\n",
       "  op: \"Const\"\n",
       "  attr {\n",
       "    key: \"dtype\"\n",
       "    value {\n",
       "      type: DT_INT32\n",
       "    }\n",
       "  }\n",
       "  attr {\n",
       "    key: \"value\"\n",
       "    value {\n",
       "      tensor {\n",
       "        dtype: DT_INT32\n",
       "        tensor_shape {\n",
       "          dim {\n",
       "            size: 2\n",
       "          }\n",
       "        }\n",
       "        tensor_content: \"\\001\\000\\000\\000\\002\\000\\000\\000\"\n",
       "      }\n",
       "    }\n",
       "  }\n",
       "}\n",
       "node {\n",
       "  name: \"split\"\n",
       "  op: \"Split\"\n",
       "  input: \"split/split_dim\"\n",
       "  input: \"split/value\"\n",
       "  attr {\n",
       "    key: \"T\"\n",
       "    value {\n",
       "      type: DT_INT32\n",
       "    }\n",
       "  }\n",
       "  attr {\n",
       "    key: \"num_split\"\n",
       "    value {\n",
       "      i: 2\n",
       "    }\n",
       "  }\n",
       "}\n",
       "versions {\n",
       "  producer: 10\n",
       "}"
      ]
     },
     "execution_count": 182,
     "metadata": {},
     "output_type": "execute_result"
    }
   ],
   "source": [
    "tf.get_default_graph().as_graph_def()"
   ]
  },
  {
   "cell_type": "code",
   "execution_count": 184,
   "metadata": {
    "collapsed": false
   },
   "outputs": [
    {
     "data": {
      "text/plain": [
       "array([2], dtype=int32)"
      ]
     },
     "execution_count": 184,
     "metadata": {},
     "output_type": "execute_result"
    }
   ],
   "source": [
    "sess.run(\"split:1\")"
   ]
  },
  {
   "cell_type": "code",
   "execution_count": 185,
   "metadata": {
    "collapsed": false
   },
   "outputs": [
    {
     "data": {
      "text/plain": [
       "[<tf.Tensor 'split:0' shape=(1,) dtype=int32>,\n",
       " <tf.Tensor 'split:1' shape=(1,) dtype=int32>]"
      ]
     },
     "execution_count": 185,
     "metadata": {},
     "output_type": "execute_result"
    }
   ],
   "source": [
    "op"
   ]
  },
  {
   "cell_type": "code",
   "execution_count": 193,
   "metadata": {
    "collapsed": false
   },
   "outputs": [
    {
     "data": {
      "text/plain": [
       "[array([3], dtype=int32), array([2], dtype=int32)]"
      ]
     },
     "execution_count": 193,
     "metadata": {},
     "output_type": "execute_result"
    }
   ],
   "source": [
    "tf.reset_default_graph()\n",
    "op = tf.nn.top_k([1,2,3])\n",
    "sess = tf.InteractiveSession()\n",
    "sess.run(tf.nn.top_k([1,2,3]))"
   ]
  },
  {
   "cell_type": "code",
   "execution_count": 197,
   "metadata": {
    "collapsed": false
   },
   "outputs": [
    {
     "data": {
      "text/plain": [
       "<tf.Tensor 'TopKV2:0' shape=(1,) dtype=int32>"
      ]
     },
     "execution_count": 197,
     "metadata": {},
     "output_type": "execute_result"
    }
   ],
   "source": [
    "op[0]"
   ]
  },
  {
   "cell_type": "code",
   "execution_count": 205,
   "metadata": {
    "collapsed": false
   },
   "outputs": [
    {
     "data": {
      "text/plain": [
       "<tf.Tensor 'TopKV2:0' shape=(1,) dtype=int32>"
      ]
     },
     "execution_count": 205,
     "metadata": {},
     "output_type": "execute_result"
    }
   ],
   "source": [
    "op.values"
   ]
  },
  {
   "cell_type": "code",
   "execution_count": 206,
   "metadata": {
    "collapsed": false
   },
   "outputs": [],
   "source": [
    "op = tf.split(0,3, [1,2,3])"
   ]
  },
  {
   "cell_type": "code",
   "execution_count": 208,
   "metadata": {
    "collapsed": false
   },
   "outputs": [
    {
     "data": {
      "text/plain": [
       "node {\n",
       "  name: \"TopKV2/input\"\n",
       "  op: \"Const\"\n",
       "  attr {\n",
       "    key: \"dtype\"\n",
       "    value {\n",
       "      type: DT_INT32\n",
       "    }\n",
       "  }\n",
       "  attr {\n",
       "    key: \"value\"\n",
       "    value {\n",
       "      tensor {\n",
       "        dtype: DT_INT32\n",
       "        tensor_shape {\n",
       "          dim {\n",
       "            size: 3\n",
       "          }\n",
       "        }\n",
       "        tensor_content: \"\\001\\000\\000\\000\\002\\000\\000\\000\\003\\000\\000\\000\"\n",
       "      }\n",
       "    }\n",
       "  }\n",
       "}\n",
       "node {\n",
       "  name: \"TopKV2/k\"\n",
       "  op: \"Const\"\n",
       "  attr {\n",
       "    key: \"dtype\"\n",
       "    value {\n",
       "      type: DT_INT32\n",
       "    }\n",
       "  }\n",
       "  attr {\n",
       "    key: \"value\"\n",
       "    value {\n",
       "      tensor {\n",
       "        dtype: DT_INT32\n",
       "        tensor_shape {\n",
       "        }\n",
       "        int_val: 1\n",
       "      }\n",
       "    }\n",
       "  }\n",
       "}\n",
       "node {\n",
       "  name: \"TopKV2\"\n",
       "  op: \"TopKV2\"\n",
       "  input: \"TopKV2/input\"\n",
       "  input: \"TopKV2/k\"\n",
       "  attr {\n",
       "    key: \"T\"\n",
       "    value {\n",
       "      type: DT_INT32\n",
       "    }\n",
       "  }\n",
       "  attr {\n",
       "    key: \"sorted\"\n",
       "    value {\n",
       "      b: true\n",
       "    }\n",
       "  }\n",
       "}\n",
       "node {\n",
       "  name: \"TopKV2_1/input\"\n",
       "  op: \"Const\"\n",
       "  attr {\n",
       "    key: \"dtype\"\n",
       "    value {\n",
       "      type: DT_INT32\n",
       "    }\n",
       "  }\n",
       "  attr {\n",
       "    key: \"value\"\n",
       "    value {\n",
       "      tensor {\n",
       "        dtype: DT_INT32\n",
       "        tensor_shape {\n",
       "          dim {\n",
       "            size: 3\n",
       "          }\n",
       "        }\n",
       "        tensor_content: \"\\001\\000\\000\\000\\002\\000\\000\\000\\003\\000\\000\\000\"\n",
       "      }\n",
       "    }\n",
       "  }\n",
       "}\n",
       "node {\n",
       "  name: \"TopKV2_1/k\"\n",
       "  op: \"Const\"\n",
       "  attr {\n",
       "    key: \"dtype\"\n",
       "    value {\n",
       "      type: DT_INT32\n",
       "    }\n",
       "  }\n",
       "  attr {\n",
       "    key: \"value\"\n",
       "    value {\n",
       "      tensor {\n",
       "        dtype: DT_INT32\n",
       "        tensor_shape {\n",
       "        }\n",
       "        int_val: 1\n",
       "      }\n",
       "    }\n",
       "  }\n",
       "}\n",
       "node {\n",
       "  name: \"TopKV2_1\"\n",
       "  op: \"TopKV2\"\n",
       "  input: \"TopKV2_1/input\"\n",
       "  input: \"TopKV2_1/k\"\n",
       "  attr {\n",
       "    key: \"T\"\n",
       "    value {\n",
       "      type: DT_INT32\n",
       "    }\n",
       "  }\n",
       "  attr {\n",
       "    key: \"sorted\"\n",
       "    value {\n",
       "      b: true\n",
       "    }\n",
       "  }\n",
       "}\n",
       "node {\n",
       "  name: \"split/split_dim\"\n",
       "  op: \"Const\"\n",
       "  attr {\n",
       "    key: \"dtype\"\n",
       "    value {\n",
       "      type: DT_INT32\n",
       "    }\n",
       "  }\n",
       "  attr {\n",
       "    key: \"value\"\n",
       "    value {\n",
       "      tensor {\n",
       "        dtype: DT_INT32\n",
       "        tensor_shape {\n",
       "        }\n",
       "        int_val: 0\n",
       "      }\n",
       "    }\n",
       "  }\n",
       "}\n",
       "node {\n",
       "  name: \"split/value\"\n",
       "  op: \"Const\"\n",
       "  attr {\n",
       "    key: \"dtype\"\n",
       "    value {\n",
       "      type: DT_INT32\n",
       "    }\n",
       "  }\n",
       "  attr {\n",
       "    key: \"value\"\n",
       "    value {\n",
       "      tensor {\n",
       "        dtype: DT_INT32\n",
       "        tensor_shape {\n",
       "          dim {\n",
       "            size: 3\n",
       "          }\n",
       "        }\n",
       "        tensor_content: \"\\001\\000\\000\\000\\002\\000\\000\\000\\003\\000\\000\\000\"\n",
       "      }\n",
       "    }\n",
       "  }\n",
       "}\n",
       "node {\n",
       "  name: \"split\"\n",
       "  op: \"Split\"\n",
       "  input: \"split/split_dim\"\n",
       "  input: \"split/value\"\n",
       "  attr {\n",
       "    key: \"T\"\n",
       "    value {\n",
       "      type: DT_INT32\n",
       "    }\n",
       "  }\n",
       "  attr {\n",
       "    key: \"num_split\"\n",
       "    value {\n",
       "      i: 3\n",
       "    }\n",
       "  }\n",
       "}\n",
       "versions {\n",
       "  producer: 10\n",
       "}"
      ]
     },
     "execution_count": 208,
     "metadata": {},
     "output_type": "execute_result"
    }
   ],
   "source": [
    "tf.get_default_graph().as_graph_def()"
   ]
  },
  {
   "cell_type": "code",
   "execution_count": 213,
   "metadata": {
    "collapsed": false
   },
   "outputs": [
    {
     "name": "stdout",
     "output_type": "stream",
     "text": [
      "node {\n",
      "  name: \"ones\"\n",
      "  op: \"Const\"\n",
      "  attr {\n",
      "    key: \"dtype\"\n",
      "    value {\n",
      "      type: DT_FLOAT\n",
      "    }\n",
      "  }\n",
      "  attr {\n",
      "    key: \"value\"\n",
      "    value {\n",
      "      tensor {\n",
      "        dtype: DT_FLOAT\n",
      "        tensor_shape {\n",
      "          dim {\n",
      "            size: 3\n",
      "          }\n",
      "          dim {\n",
      "            size: 3\n",
      "          }\n",
      "        }\n",
      "        float_val: 1.0\n",
      "      }\n",
      "    }\n",
      "  }\n",
      "}\n",
      "node {\n",
      "  name: \"Variable\"\n",
      "  op: \"Variable\"\n",
      "  attr {\n",
      "    key: \"container\"\n",
      "    value {\n",
      "      s: \"\"\n",
      "    }\n",
      "  }\n",
      "  attr {\n",
      "    key: \"dtype\"\n",
      "    value {\n",
      "      type: DT_FLOAT\n",
      "    }\n",
      "  }\n",
      "  attr {\n",
      "    key: \"shape\"\n",
      "    value {\n",
      "      shape {\n",
      "        dim {\n",
      "          size: 3\n",
      "        }\n",
      "        dim {\n",
      "          size: 3\n",
      "        }\n",
      "      }\n",
      "    }\n",
      "  }\n",
      "  attr {\n",
      "    key: \"shared_name\"\n",
      "    value {\n",
      "      s: \"\"\n",
      "    }\n",
      "  }\n",
      "}\n",
      "node {\n",
      "  name: \"Variable/Assign\"\n",
      "  op: \"Assign\"\n",
      "  input: \"Variable\"\n",
      "  input: \"ones\"\n",
      "  attr {\n",
      "    key: \"T\"\n",
      "    value {\n",
      "      type: DT_FLOAT\n",
      "    }\n",
      "  }\n",
      "  attr {\n",
      "    key: \"_class\"\n",
      "    value {\n",
      "      list {\n",
      "        s: \"loc:@Variable\"\n",
      "      }\n",
      "    }\n",
      "  }\n",
      "  attr {\n",
      "    key: \"use_locking\"\n",
      "    value {\n",
      "      b: true\n",
      "    }\n",
      "  }\n",
      "  attr {\n",
      "    key: \"validate_shape\"\n",
      "    value {\n",
      "      b: true\n",
      "    }\n",
      "  }\n",
      "}\n",
      "node {\n",
      "  name: \"Variable/read\"\n",
      "  op: \"Identity\"\n",
      "  input: \"Variable\"\n",
      "  attr {\n",
      "    key: \"T\"\n",
      "    value {\n",
      "      type: DT_FLOAT\n",
      "    }\n",
      "  }\n",
      "  attr {\n",
      "    key: \"_class\"\n",
      "    value {\n",
      "      list {\n",
      "        s: \"loc:@Variable\"\n",
      "      }\n",
      "    }\n",
      "  }\n",
      "}\n",
      "node {\n",
      "  name: \"init\"\n",
      "  op: \"NoOp\"\n",
      "  input: \"^Variable/Assign\"\n",
      "}\n",
      "versions {\n",
      "  producer: 10\n",
      "}\n",
      "\n",
      "[array([[ 1.,  1.,  1.],\n",
      "       [ 1.,  1.,  1.],\n",
      "       [ 1.,  1.,  1.]], dtype=float32)]\n"
     ]
    }
   ],
   "source": [
    "tf.reset_default_graph()\n",
    "a = tf.Variable(tf.ones_initializer((3,3)))\n",
    "init_op = tf.initialize_all_variables()\n",
    "sess = tf.InteractiveSession()\n",
    "sess.run(init_op)\n",
    "print(tf.get_default_graph().as_graph_def())\n",
    "print sess.run([\"Variable:0\"])"
   ]
  },
  {
   "cell_type": "code",
   "execution_count": 215,
   "metadata": {
    "collapsed": false
   },
   "outputs": [
    {
     "name": "stdout",
     "output_type": "stream",
     "text": [
      "[array([[ 1.,  1.,  1.],\n",
      "       [ 1.,  1.,  1.],\n",
      "       [ 1.,  1.,  1.]], dtype=float32)]\n"
     ]
    }
   ],
   "source": [
    "print sess.run([\"Variable:0\"])"
   ]
  },
  {
   "cell_type": "code",
   "execution_count": 216,
   "metadata": {
    "collapsed": false
   },
   "outputs": [
    {
     "name": "stdout",
     "output_type": "stream",
     "text": [
      "node {\n",
      "  name: \"Const\"\n",
      "  op: \"Const\"\n",
      "  attr {\n",
      "    key: \"dtype\"\n",
      "    value {\n",
      "      type: DT_INT32\n",
      "    }\n",
      "  }\n",
      "  attr {\n",
      "    key: \"value\"\n",
      "    value {\n",
      "      tensor {\n",
      "        dtype: DT_INT32\n",
      "        tensor_shape {\n",
      "        }\n",
      "        int_val: 1\n",
      "      }\n",
      "    }\n",
      "  }\n",
      "}\n",
      "versions {\n",
      "  producer: 10\n",
      "}\n",
      "\n"
     ]
    }
   ],
   "source": [
    "tf.reset_default_graph()\n",
    "tf.constant(1)\n",
    "print(tf.get_default_graph().as_graph_def())\n"
   ]
  },
  {
   "cell_type": "code",
   "execution_count": 219,
   "metadata": {
    "collapsed": false
   },
   "outputs": [
    {
     "name": "stdout",
     "output_type": "stream",
     "text": [
      "node {\n",
      "  name: \"Const\"\n",
      "  op: \"Const\"\n",
      "  attr {\n",
      "    key: \"dtype\"\n",
      "    value {\n",
      "      type: DT_INT32\n",
      "    }\n",
      "  }\n",
      "  attr {\n",
      "    key: \"value\"\n",
      "    value {\n",
      "      tensor {\n",
      "        dtype: DT_INT32\n",
      "        tensor_shape {\n",
      "        }\n",
      "        int_val: 1\n",
      "      }\n",
      "    }\n",
      "  }\n",
      "}\n",
      "versions {\n",
      "  producer: 10\n",
      "}\n",
      "\n"
     ]
    }
   ],
   "source": [
    "    tf.reset_default_graph()\n",
    "    value = tf.constant(1)\n",
    "    print(tf.get_default_graph().as_graph_def())\n",
    "    sess = tf.InteractiveSession()\n"
   ]
  },
  {
   "cell_type": "code",
   "execution_count": 222,
   "metadata": {
    "collapsed": false
   },
   "outputs": [
    {
     "data": {
      "text/plain": [
       "1"
      ]
     },
     "execution_count": 222,
     "metadata": {},
     "output_type": "execute_result"
    }
   ],
   "source": [
    "sess.run(\"Const:0\")"
   ]
  },
  {
   "cell_type": "code",
   "execution_count": 232,
   "metadata": {
    "collapsed": false
   },
   "outputs": [
    {
     "name": "stdout",
     "output_type": "stream",
     "text": [
      "node {\n",
      "  name: \"ones\"\n",
      "  op: \"Const\"\n",
      "  attr {\n",
      "    key: \"dtype\"\n",
      "    value {\n",
      "      type: DT_FLOAT\n",
      "    }\n",
      "  }\n",
      "  attr {\n",
      "    key: \"value\"\n",
      "    value {\n",
      "      tensor {\n",
      "        dtype: DT_FLOAT\n",
      "        tensor_shape {\n",
      "        }\n",
      "        float_val: 1.0\n",
      "      }\n",
      "    }\n",
      "  }\n",
      "}\n",
      "node {\n",
      "  name: \"Variable\"\n",
      "  op: \"Variable\"\n",
      "  attr {\n",
      "    key: \"container\"\n",
      "    value {\n",
      "      s: \"\"\n",
      "    }\n",
      "  }\n",
      "  attr {\n",
      "    key: \"dtype\"\n",
      "    value {\n",
      "      type: DT_FLOAT\n",
      "    }\n",
      "  }\n",
      "  attr {\n",
      "    key: \"shape\"\n",
      "    value {\n",
      "      shape {\n",
      "      }\n",
      "    }\n",
      "  }\n",
      "  attr {\n",
      "    key: \"shared_name\"\n",
      "    value {\n",
      "      s: \"\"\n",
      "    }\n",
      "  }\n",
      "}\n",
      "node {\n",
      "  name: \"Variable/Assign\"\n",
      "  op: \"Assign\"\n",
      "  input: \"Variable\"\n",
      "  input: \"ones\"\n",
      "  attr {\n",
      "    key: \"T\"\n",
      "    value {\n",
      "      type: DT_FLOAT\n",
      "    }\n",
      "  }\n",
      "  attr {\n",
      "    key: \"_class\"\n",
      "    value {\n",
      "      list {\n",
      "        s: \"loc:@Variable\"\n",
      "      }\n",
      "    }\n",
      "  }\n",
      "  attr {\n",
      "    key: \"use_locking\"\n",
      "    value {\n",
      "      b: true\n",
      "    }\n",
      "  }\n",
      "  attr {\n",
      "    key: \"validate_shape\"\n",
      "    value {\n",
      "      b: true\n",
      "    }\n",
      "  }\n",
      "}\n",
      "node {\n",
      "  name: \"Variable/read\"\n",
      "  op: \"Identity\"\n",
      "  input: \"Variable\"\n",
      "  attr {\n",
      "    key: \"T\"\n",
      "    value {\n",
      "      type: DT_FLOAT\n",
      "    }\n",
      "  }\n",
      "  attr {\n",
      "    key: \"_class\"\n",
      "    value {\n",
      "      list {\n",
      "        s: \"loc:@Variable\"\n",
      "      }\n",
      "    }\n",
      "  }\n",
      "}\n",
      "node {\n",
      "  name: \"add/y\"\n",
      "  op: \"Const\"\n",
      "  attr {\n",
      "    key: \"dtype\"\n",
      "    value {\n",
      "      type: DT_FLOAT\n",
      "    }\n",
      "  }\n",
      "  attr {\n",
      "    key: \"value\"\n",
      "    value {\n",
      "      tensor {\n",
      "        dtype: DT_FLOAT\n",
      "        tensor_shape {\n",
      "        }\n",
      "        float_val: 3.0\n",
      "      }\n",
      "    }\n",
      "  }\n",
      "}\n",
      "node {\n",
      "  name: \"add\"\n",
      "  op: \"Add\"\n",
      "  input: \"Variable/read\"\n",
      "  input: \"add/y\"\n",
      "  attr {\n",
      "    key: \"T\"\n",
      "    value {\n",
      "      type: DT_FLOAT\n",
      "    }\n",
      "  }\n",
      "}\n",
      "versions {\n",
      "  producer: 10\n",
      "}\n",
      "\n"
     ]
    }
   ],
   "source": [
    "    tf.reset_default_graph()\n",
    "    value = tf.Variable(tf.ones_initializer(()))\n",
    "    value2 = value+3\n",
    "    print(tf.get_default_graph().as_graph_def())\n",
    "    sess = tf.InteractiveSession()\n",
    "    sess.run(tf.initialize_all_variables())\n"
   ]
  },
  {
   "cell_type": "code",
   "execution_count": 227,
   "metadata": {
    "collapsed": false
   },
   "outputs": [
    {
     "data": {
      "text/plain": [
       "tensorflow.python.ops.variables.Variable"
      ]
     },
     "execution_count": 227,
     "metadata": {},
     "output_type": "execute_result"
    }
   ],
   "source": [
    "type(value)"
   ]
  },
  {
   "cell_type": "code",
   "execution_count": 228,
   "metadata": {
    "collapsed": false
   },
   "outputs": [
    {
     "data": {
      "text/plain": [
       "u'Variable:0'"
      ]
     },
     "execution_count": 228,
     "metadata": {},
     "output_type": "execute_result"
    }
   ],
   "source": [
    "value.name"
   ]
  },
  {
   "cell_type": "code",
   "execution_count": 233,
   "metadata": {
    "collapsed": false
   },
   "outputs": [
    {
     "data": {
      "text/plain": [
       "1.0"
      ]
     },
     "execution_count": 233,
     "metadata": {},
     "output_type": "execute_result"
    }
   ],
   "source": [
    "sess.run(\"Variable:0\")"
   ]
  },
  {
   "cell_type": "code",
   "execution_count": 236,
   "metadata": {
    "collapsed": false
   },
   "outputs": [
    {
     "name": "stdout",
     "output_type": "stream",
     "text": [
      "node {\n",
      "  name: \"Placeholder\"\n",
      "  op: \"Placeholder\"\n",
      "  attr {\n",
      "    key: \"dtype\"\n",
      "    value {\n",
      "      type: DT_UINT8\n",
      "    }\n",
      "  }\n",
      "  attr {\n",
      "    key: \"shape\"\n",
      "    value {\n",
      "      shape {\n",
      "      }\n",
      "    }\n",
      "  }\n",
      "}\n",
      "versions {\n",
      "  producer: 10\n",
      "}\n",
      "\n"
     ]
    },
    {
     "name": "stderr",
     "output_type": "stream",
     "text": [
      "Exception AssertionError: AssertionError(\"Nesting violated for default stack of <type 'weakref'> objects\",) in <bound method InteractiveSession.__del__ of <tensorflow.python.client.session.InteractiveSession object at 0x12aadfb90>> ignored\n"
     ]
    },
    {
     "data": {
      "text/plain": [
       "2"
      ]
     },
     "execution_count": 236,
     "metadata": {},
     "output_type": "execute_result"
    }
   ],
   "source": [
    "    tf.reset_default_graph()\n",
    "    value = tf.placeholder(tf.uint8)\n",
    "    print(tf.get_default_graph().as_graph_def())\n",
    "    sess = tf.InteractiveSession()\n",
    "    sess.run(tf.identity(value), feed_dict={\"Placeholder:0\":2})\n"
   ]
  },
  {
   "cell_type": "code",
   "execution_count": 235,
   "metadata": {
    "collapsed": false
   },
   "outputs": [
    {
     "data": {
      "text/plain": [
       "<tf.Tensor 'Placeholder:0' shape=<unknown> dtype=uint8>"
      ]
     },
     "execution_count": 235,
     "metadata": {},
     "output_type": "execute_result"
    }
   ],
   "source": [
    "value"
   ]
  },
  {
   "cell_type": "code",
   "execution_count": 593,
   "metadata": {
    "collapsed": false
   },
   "outputs": [],
   "source": [
    "tf.FIFOQueue(1000, )"
   ]
  },
  {
   "cell_type": "code",
   "execution_count": 596,
   "metadata": {
    "collapsed": true
   },
   "outputs": [],
   "source": [
    "tf.train.Saver??"
   ]
  },
  {
   "cell_type": "code",
   "execution_count": 595,
   "metadata": {
    "collapsed": true
   },
   "outputs": [],
   "source": [
    "a.save??"
   ]
  },
  {
   "cell_type": "code",
   "execution_count": 607,
   "metadata": {
    "collapsed": false
   },
   "outputs": [
    {
     "data": {
      "text/plain": [
       "<tf.Tensor 'add:0' shape=(3, 3) dtype=float32>"
      ]
     },
     "execution_count": 607,
     "metadata": {},
     "output_type": "execute_result"
    }
   ],
   "source": [
    "tf.reset_default_graph()\n",
    "a = tf.ones((3,3))\n",
    "b = tf.ones((3,3))\n",
    "a.__add__(b)"
   ]
  },
  {
   "cell_type": "code",
   "execution_count": 609,
   "metadata": {
    "collapsed": false
   },
   "outputs": [],
   "source": [
    "method=a.__add__"
   ]
  },
  {
   "cell_type": "code",
   "execution_count": 610,
   "metadata": {
    "collapsed": false
   },
   "outputs": [],
   "source": [
    "method??"
   ]
  },
  {
   "cell_type": "code",
   "execution_count": 604,
   "metadata": {
    "collapsed": false
   },
   "outputs": [
    {
     "data": {
      "text/plain": [
       "<tf.Tensor 'add_7:0' shape=(3, 3) dtype=float32>"
      ]
     },
     "execution_count": 604,
     "metadata": {},
     "output_type": "execute_result"
    }
   ],
   "source": [
    "a+b"
   ]
  },
  {
   "cell_type": "code",
   "execution_count": 606,
   "metadata": {
    "collapsed": true
   },
   "outputs": [],
   "source": [
    "a.__add__??"
   ]
  },
  {
   "cell_type": "code",
   "execution_count": 611,
   "metadata": {
    "collapsed": false
   },
   "outputs": [
    {
     "data": {
      "text/plain": [
       "['OVERLOADABLE_OPERATORS',\n",
       " '__abs__',\n",
       " '__add__',\n",
       " '__and__',\n",
       " '__array_priority__',\n",
       " '__bool__',\n",
       " '__class__',\n",
       " '__delattr__',\n",
       " '__dict__',\n",
       " '__div__',\n",
       " '__doc__',\n",
       " '__eq__',\n",
       " '__floordiv__',\n",
       " '__format__',\n",
       " '__ge__',\n",
       " '__getattribute__',\n",
       " '__getitem__',\n",
       " '__gt__',\n",
       " '__hash__',\n",
       " '__init__',\n",
       " '__invert__',\n",
       " '__iter__',\n",
       " '__le__',\n",
       " '__lt__',\n",
       " '__mod__',\n",
       " '__module__',\n",
       " '__mul__',\n",
       " '__neg__',\n",
       " '__new__',\n",
       " '__nonzero__',\n",
       " '__or__',\n",
       " '__pow__',\n",
       " '__radd__',\n",
       " '__rand__',\n",
       " '__rdiv__',\n",
       " '__reduce__',\n",
       " '__reduce_ex__',\n",
       " '__repr__',\n",
       " '__rfloordiv__',\n",
       " '__rmod__',\n",
       " '__rmul__',\n",
       " '__ror__',\n",
       " '__rpow__',\n",
       " '__rsub__',\n",
       " '__rtruediv__',\n",
       " '__rxor__',\n",
       " '__setattr__',\n",
       " '__sizeof__',\n",
       " '__str__',\n",
       " '__sub__',\n",
       " '__subclasshook__',\n",
       " '__truediv__',\n",
       " '__weakref__',\n",
       " '__xor__',\n",
       " '_add_consumer',\n",
       " '_as_node_def_input',\n",
       " '_consumers',\n",
       " '_dtype',\n",
       " '_op',\n",
       " '_override_operator',\n",
       " '_shape',\n",
       " '_shape_as_list',\n",
       " '_value_index',\n",
       " 'consumers',\n",
       " 'device',\n",
       " 'dtype',\n",
       " 'eval',\n",
       " 'get_shape',\n",
       " 'graph',\n",
       " 'name',\n",
       " 'op',\n",
       " 'set_shape',\n",
       " 'value_index']"
      ]
     },
     "execution_count": 611,
     "metadata": {},
     "output_type": "execute_result"
    }
   ],
   "source": [
    "dir(a)"
   ]
  },
  {
   "cell_type": "code",
   "execution_count": 612,
   "metadata": {
    "collapsed": false
   },
   "outputs": [
    {
     "data": {
      "text/plain": [
       "{'__abs__',\n",
       " '__add__',\n",
       " '__and__',\n",
       " '__div__',\n",
       " '__floordiv__',\n",
       " '__ge__',\n",
       " '__getitem__',\n",
       " '__gt__',\n",
       " '__invert__',\n",
       " '__le__',\n",
       " '__lt__',\n",
       " '__mod__',\n",
       " '__mul__',\n",
       " '__neg__',\n",
       " '__or__',\n",
       " '__pow__',\n",
       " '__radd__',\n",
       " '__rand__',\n",
       " '__rdiv__',\n",
       " '__rfloordiv__',\n",
       " '__rmod__',\n",
       " '__rmul__',\n",
       " '__ror__',\n",
       " '__rpow__',\n",
       " '__rsub__',\n",
       " '__rtruediv__',\n",
       " '__rxor__',\n",
       " '__sub__',\n",
       " '__truediv__',\n",
       " '__xor__'}"
      ]
     },
     "execution_count": 612,
     "metadata": {},
     "output_type": "execute_result"
    }
   ],
   "source": [
    "a.OVERLOADABLE_OPERATORS"
   ]
  },
  {
   "cell_type": "code",
   "execution_count": 615,
   "metadata": {
    "collapsed": true
   },
   "outputs": [],
   "source": [
    "func_mod = tf.Tensor.__mod__"
   ]
  },
  {
   "cell_type": "code",
   "execution_count": 617,
   "metadata": {
    "collapsed": true
   },
   "outputs": [],
   "source": [
    "func_mod??"
   ]
  },
  {
   "cell_type": "code",
   "execution_count": 619,
   "metadata": {
    "collapsed": false
   },
   "outputs": [],
   "source": [
    "tf.reset_default_graph()\n",
    "dtype = tf.int32\n",
    "a = tf.placeholder(dtype)\n",
    "b = tf.placeholder(dtype)\n",
    "c = a+b"
   ]
  },
  {
   "cell_type": "code",
   "execution_count": 620,
   "metadata": {
    "collapsed": false
   },
   "outputs": [
    {
     "data": {
      "text/plain": [
       "<tf.Tensor 'add:0' shape=<unknown> dtype=int32>"
      ]
     },
     "execution_count": 620,
     "metadata": {},
     "output_type": "execute_result"
    }
   ],
   "source": [
    "c"
   ]
  },
  {
   "cell_type": "code",
   "execution_count": 643,
   "metadata": {
    "collapsed": true
   },
   "outputs": [],
   "source": [
    "tf.reset_default_graph()\n",
    "dtype = tf.int32\n",
    "a = tf.placeholder(dtype)\n",
    "b = tf.placeholder(dtype)\n",
    "c = tf.add(a, b)"
   ]
  },
  {
   "cell_type": "code",
   "execution_count": 644,
   "metadata": {
    "collapsed": false
   },
   "outputs": [
    {
     "data": {
      "text/plain": [
       "node {\n",
       "  name: \"Placeholder\"\n",
       "  op: \"Placeholder\"\n",
       "  attr {\n",
       "    key: \"dtype\"\n",
       "    value {\n",
       "      type: DT_INT32\n",
       "    }\n",
       "  }\n",
       "  attr {\n",
       "    key: \"shape\"\n",
       "    value {\n",
       "      shape {\n",
       "      }\n",
       "    }\n",
       "  }\n",
       "}\n",
       "node {\n",
       "  name: \"Placeholder_1\"\n",
       "  op: \"Placeholder\"\n",
       "  attr {\n",
       "    key: \"dtype\"\n",
       "    value {\n",
       "      type: DT_INT32\n",
       "    }\n",
       "  }\n",
       "  attr {\n",
       "    key: \"shape\"\n",
       "    value {\n",
       "      shape {\n",
       "      }\n",
       "    }\n",
       "  }\n",
       "}\n",
       "node {\n",
       "  name: \"Add\"\n",
       "  op: \"Add\"\n",
       "  input: \"Placeholder\"\n",
       "  input: \"Placeholder_1\"\n",
       "  attr {\n",
       "    key: \"T\"\n",
       "    value {\n",
       "      type: DT_INT32\n",
       "    }\n",
       "  }\n",
       "}\n",
       "versions {\n",
       "  producer: 10\n",
       "}"
      ]
     },
     "execution_count": 644,
     "metadata": {},
     "output_type": "execute_result"
    }
   ],
   "source": [
    "tf.get_default_graph().as_graph_def()"
   ]
  },
  {
   "cell_type": "code",
   "execution_count": 624,
   "metadata": {
    "collapsed": true
   },
   "outputs": [],
   "source": [
    "import inspect"
   ]
  },
  {
   "cell_type": "code",
   "execution_count": 625,
   "metadata": {
    "collapsed": false
   },
   "outputs": [
    {
     "data": {
      "text/plain": [
       "'def to_bfloat16(x, name=\"ToBFloat16\"):\\n  \"\"\"Casts a tensor to type `bfloat16`.\\n\\n  Args:\\n    x: A `Tensor` or `SparseTensor`.\\n    name: A name for the operation (optional).\\n\\n  Returns:\\n    A `Tensor` or `SparseTensor` with same shape as `x` with type `bfloat16`.\\n\\n  Raises:\\n    TypeError: If `x` cannot be cast to the `bfloat16`.\\n  \"\"\"\\n  return cast(x, dtypes.bfloat16, name=name)\\n'"
      ]
     },
     "execution_count": 625,
     "metadata": {},
     "output_type": "execute_result"
    }
   ],
   "source": [
    "inspect.getsource(a.__add__)"
   ]
  },
  {
   "cell_type": "code",
   "execution_count": 626,
   "metadata": {
    "collapsed": false
   },
   "outputs": [
    {
     "data": {
      "text/plain": [
       "'/Users/yaroslavvb/tfimmediate_hood/tensorflow/_python_build/tensorflow/python/ops/math_ops.py'"
      ]
     },
     "execution_count": 626,
     "metadata": {},
     "output_type": "execute_result"
    }
   ],
   "source": [
    "inspect.getfile(a.__add__)"
   ]
  },
  {
   "cell_type": "code",
   "execution_count": 627,
   "metadata": {
    "collapsed": false
   },
   "outputs": [
    {
     "data": {
      "text/plain": [
       "instancemethod"
      ]
     },
     "execution_count": 627,
     "metadata": {},
     "output_type": "execute_result"
    }
   ],
   "source": [
    "type(a.__add__)"
   ]
  },
  {
   "cell_type": "code",
   "execution_count": 629,
   "metadata": {
    "collapsed": false
   },
   "outputs": [
    {
     "data": {
      "text/plain": [
       "instancemethod"
      ]
     },
     "execution_count": 629,
     "metadata": {},
     "output_type": "execute_result"
    }
   ],
   "source": [
    "type(tf.Tensor.__add__)"
   ]
  },
  {
   "cell_type": "code",
   "execution_count": 630,
   "metadata": {
    "collapsed": false
   },
   "outputs": [
    {
     "data": {
      "text/plain": [
       "'def to_bfloat16(x, name=\"ToBFloat16\"):\\n  \"\"\"Casts a tensor to type `bfloat16`.\\n\\n  Args:\\n    x: A `Tensor` or `SparseTensor`.\\n    name: A name for the operation (optional).\\n\\n  Returns:\\n    A `Tensor` or `SparseTensor` with same shape as `x` with type `bfloat16`.\\n\\n  Raises:\\n    TypeError: If `x` cannot be cast to the `bfloat16`.\\n  \"\"\"\\n  return cast(x, dtypes.bfloat16, name=name)\\n'"
      ]
     },
     "execution_count": 630,
     "metadata": {},
     "output_type": "execute_result"
    }
   ],
   "source": [
    "inspect.getsource(tf.Tensor.__add__)"
   ]
  },
  {
   "cell_type": "code",
   "execution_count": 631,
   "metadata": {
    "collapsed": true
   },
   "outputs": [],
   "source": [
    "stuff = tf.Tensor.__add__"
   ]
  },
  {
   "cell_type": "code",
   "execution_count": 633,
   "metadata": {
    "collapsed": false
   },
   "outputs": [
    {
     "data": {
      "text/plain": [
       "(<cell at 0x125687868: function object at 0x1254f7d70>,\n",
       " <cell at 0x1256878a0: str object at 0x10c0ac0a8>)"
      ]
     },
     "execution_count": 633,
     "metadata": {},
     "output_type": "execute_result"
    }
   ],
   "source": [
    "stuff.im_func.func_closure"
   ]
  },
  {
   "cell_type": "code",
   "execution_count": 637,
   "metadata": {
    "collapsed": false
   },
   "outputs": [],
   "source": [
    "real_function = tf.Tensor.__add__.im_func.func_closure[0].cell_contents"
   ]
  },
  {
   "cell_type": "code",
   "execution_count": 654,
   "metadata": {
    "collapsed": false
   },
   "outputs": [
    {
     "data": {
      "text/plain": [
       "'tensorflow.python.ops.gen_math_ops.add'"
      ]
     },
     "execution_count": 654,
     "metadata": {},
     "output_type": "execute_result"
    }
   ],
   "source": [
    "tf.add.__module__ + \".\" + tf.add.__name__"
   ]
  },
  {
   "cell_type": "code",
   "execution_count": 642,
   "metadata": {
    "collapsed": false
   },
   "outputs": [
    {
     "data": {
      "text/plain": [
       "<function tensorflow.python.ops.gen_math_ops.add>"
      ]
     },
     "execution_count": 642,
     "metadata": {},
     "output_type": "execute_result"
    }
   ],
   "source": [
    "tf.add"
   ]
  },
  {
   "cell_type": "code",
   "execution_count": 655,
   "metadata": {
    "collapsed": false
   },
   "outputs": [
    {
     "data": {
      "text/plain": [
       "{'__abs__',\n",
       " '__add__',\n",
       " '__and__',\n",
       " '__div__',\n",
       " '__floordiv__',\n",
       " '__ge__',\n",
       " '__getitem__',\n",
       " '__gt__',\n",
       " '__invert__',\n",
       " '__le__',\n",
       " '__lt__',\n",
       " '__mod__',\n",
       " '__mul__',\n",
       " '__neg__',\n",
       " '__or__',\n",
       " '__pow__',\n",
       " '__radd__',\n",
       " '__rand__',\n",
       " '__rdiv__',\n",
       " '__rfloordiv__',\n",
       " '__rmod__',\n",
       " '__rmul__',\n",
       " '__ror__',\n",
       " '__rpow__',\n",
       " '__rsub__',\n",
       " '__rtruediv__',\n",
       " '__rxor__',\n",
       " '__sub__',\n",
       " '__truediv__',\n",
       " '__xor__'}"
      ]
     },
     "execution_count": 655,
     "metadata": {},
     "output_type": "execute_result"
    }
   ],
   "source": [
    "tf.Tensor.OVERLOADABLE_OPERATORS"
   ]
  },
  {
   "cell_type": "code",
   "execution_count": 1050,
   "metadata": {
    "collapsed": false
   },
   "outputs": [
    {
     "data": {
      "text/plain": [
       "[name: \"/cpu:0\"\n",
       " device_type: \"CPU\"\n",
       " memory_limit: 268435456\n",
       " bus_adjacency: BUS_ANY\n",
       " incarnation: 12496753478763930059]"
      ]
     },
     "execution_count": 1050,
     "metadata": {},
     "output_type": "execute_result"
    }
   ],
   "source": [
    "device_lib.list_local_devices()"
   ]
  },
  {
   "cell_type": "code",
   "execution_count": 664,
   "metadata": {
    "collapsed": false
   },
   "outputs": [
    {
     "name": "stdout",
     "output_type": "stream",
     "text": [
      "(5, 128)\n",
      "(5, 128)\n"
     ]
    }
   ],
   "source": [
    "input_tensor = tf.placeholder(tf.float32, [None, 32])\n",
    "batch_size = tf.shape(input_tensor)[0]\n",
    "\n",
    "res = tf.zeros((5, 128))\n",
    "print res.get_shape()  # prints (?, ?) WHEREAS one could expect (?, 128)\n",
    "\n",
    "res.set_shape([None, 128])\n",
    "print res.get_shape()  # prints (?, 128)"
   ]
  },
  {
   "cell_type": "code",
   "execution_count": 845,
   "metadata": {
    "collapsed": false
   },
   "outputs": [
    {
     "data": {
      "text/plain": [
       "name: \"Add\"\n",
       "input_arg {\n",
       "  name: \"x\"\n",
       "  type_attr: \"T\"\n",
       "}\n",
       "input_arg {\n",
       "  name: \"y\"\n",
       "  type_attr: \"T\"\n",
       "}\n",
       "output_arg {\n",
       "  name: \"z\"\n",
       "  type_attr: \"T\"\n",
       "}\n",
       "attr {\n",
       "  name: \"T\"\n",
       "  type: \"type\"\n",
       "  allowed_values {\n",
       "    list {\n",
       "      type: DT_HALF\n",
       "      type: DT_FLOAT\n",
       "      type: DT_DOUBLE\n",
       "      type: DT_UINT8\n",
       "      type: DT_INT8\n",
       "      type: DT_INT16\n",
       "      type: DT_INT32\n",
       "      type: DT_INT64\n",
       "      type: DT_COMPLEX64\n",
       "      type: DT_COMPLEX128\n",
       "      type: DT_STRING\n",
       "    }\n",
       "  }\n",
       "}"
      ]
     },
     "execution_count": 845,
     "metadata": {},
     "output_type": "execute_result"
    }
   ],
   "source": [
    "tf.add.__globals__[\"_op_def_lib\"]._ops[\"Add\"].op_def"
   ]
  },
  {
   "cell_type": "code",
   "execution_count": 846,
   "metadata": {
    "collapsed": true
   },
   "outputs": [],
   "source": [
    "tf.add??"
   ]
  },
  {
   "cell_type": "code",
   "execution_count": null,
   "metadata": {
    "collapsed": true
   },
   "outputs": [],
   "source": []
  }
 ],
 "metadata": {
  "kernelspec": {
   "display_name": "Python 2",
   "language": "python",
   "name": "python2"
  },
  "language_info": {
   "codemirror_mode": {
    "name": "ipython",
    "version": 2
   },
   "file_extension": ".py",
   "mimetype": "text/x-python",
   "name": "python",
   "nbconvert_exporter": "python",
   "pygments_lexer": "ipython2",
   "version": "2.7.10"
  },
  "toc": {
   "toc_cell": true,
   "toc_number_sections": false,
   "toc_section_display": "block",
   "toc_threshold": 6,
   "toc_window_display": true
  },
  "toc_position": {
   "height": "569px",
   "left": "-8.95312px",
   "right": "20px",
   "top": "-2px",
   "width": "236px"
  }
 },
 "nbformat": 4,
 "nbformat_minor": 0
}
