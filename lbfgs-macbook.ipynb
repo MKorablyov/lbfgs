{
 "cells": [
  {
   "cell_type": "code",
   "execution_count": 1,
   "metadata": {
    "collapsed": false
   },
   "outputs": [],
   "source": [
    "import os, sys\n",
    "os.environ[\"CUDA_VISIBLE_DEVICES\"]=\"\""
   ]
  },
  {
   "cell_type": "code",
   "execution_count": 16,
   "metadata": {
    "collapsed": false
   },
   "outputs": [
    {
     "name": "stdout",
     "output_type": "stream",
     "text": [
      "[u'/cpu:0']\n"
     ]
    },
    {
     "ename": "ImportError",
     "evalue": "No module named PIL",
     "output_type": "error",
     "traceback": [
      "\u001b[0;31m---------------------------------------------------------------------------\u001b[0m",
      "\u001b[0;31mImportError\u001b[0m                               Traceback (most recent call last)",
      "\u001b[0;32m<ipython-input-16-0d54c70e5dcb>\u001b[0m in \u001b[0;36m<module>\u001b[0;34m()\u001b[0m\n\u001b[1;32m      7\u001b[0m \u001b[0;32mprint\u001b[0m \u001b[0mdevice_names\u001b[0m\u001b[0;34m\u001b[0m\u001b[0m\n\u001b[1;32m      8\u001b[0m \u001b[0;34m\u001b[0m\u001b[0m\n\u001b[0;32m----> 9\u001b[0;31m \u001b[0;32mfrom\u001b[0m \u001b[0mPIL\u001b[0m \u001b[0;32mimport\u001b[0m \u001b[0mImage\u001b[0m\u001b[0;34m\u001b[0m\u001b[0m\n\u001b[0m",
      "\u001b[0;31mImportError\u001b[0m: No module named PIL"
     ]
    }
   ],
   "source": [
    "import tensorflow as tf\n",
    "import numpy as np\n",
    "from tensorflow.python.client import device_lib\n",
    "import tensorflow.contrib.immediate as immediate\n",
    "\n",
    "device_names = [d.name for d in device_lib.list_local_devices()]\n",
    "print device_names"
   ]
  },
  {
   "cell_type": "code",
   "execution_count": 3,
   "metadata": {
    "collapsed": false
   },
   "outputs": [
    {
     "name": "stdout",
     "output_type": "stream",
     "text": [
      "README.md           lbfgs-macbook.ipynb \u001b[34mmnist4\u001b[m\u001b[m\r\n",
      "\u001b[34mdata\u001b[m\u001b[m                \u001b[34mlogs\u001b[m\u001b[m                mnist4.zip\r\n",
      "dataset-mnist.lua   \u001b[34mmnist.t7\u001b[m\u001b[m            port.lua\r\n"
     ]
    }
   ],
   "source": []
  },
  {
   "cell_type": "markdown",
   "metadata": {},
   "source": [
    "## Convert MNIST csv data to numpy"
   ]
  },
  {
   "cell_type": "code",
   "execution_count": 4,
   "metadata": {
    "collapsed": true
   },
   "outputs": [],
   "source": [
    "data = np.loadtxt(\"mnist.t7/test_32x32.t7.csv.data\", dtype=np.uint8).reshape(10000, 32, 32)\n",
    "np.save(\"mnist.t7/test_32x32.npy\", data)"
   ]
  },
  {
   "cell_type": "code",
   "execution_count": 6,
   "metadata": {
    "collapsed": true
   },
   "outputs": [],
   "source": [
    "data = np.loadtxt(\"mnist.t7/train_32x32.t7.csv.data\", dtype=np.uint8).reshape(60000, 32, 32)\n",
    "np.save(\"mnist.t7/train_32x32.npy\", data)"
   ]
  },
  {
   "cell_type": "code",
   "execution_count": 8,
   "metadata": {
    "collapsed": true
   },
   "outputs": [],
   "source": [
    "data = np.loadtxt(\"mnist.t7/train_32x32.t7.csv.labels\", dtype=np.uint8)\n",
    "np.save(\"mnist.t7/train_labels.npy\", data)"
   ]
  },
  {
   "cell_type": "code",
   "execution_count": 9,
   "metadata": {
    "collapsed": true
   },
   "outputs": [],
   "source": [
    "data = np.loadtxt(\"mnist.t7/test_32x32.t7.csv.labels\", dtype=np.uint8)\n",
    "np.save(\"mnist.t7/test_labels.npy\", data)"
   ]
  },
  {
   "cell_type": "markdown",
   "metadata": {},
   "source": [
    "## Reproduce loss on first example"
   ]
  },
  {
   "cell_type": "code",
   "execution_count": 11,
   "metadata": {
    "collapsed": true
   },
   "outputs": [],
   "source": [
    "train_data = np.load(\"mnist.t7/train_32x32.npy\")"
   ]
  },
  {
   "cell_type": "code",
   "execution_count": 47,
   "metadata": {
    "collapsed": true
   },
   "outputs": [],
   "source": [
    "train_labels = np.load(\"mnist.t7/train_labels.npy\")"
   ]
  },
  {
   "cell_type": "code",
   "execution_count": 32,
   "metadata": {
    "collapsed": true
   },
   "outputs": [],
   "source": [
    "env = immediate.Env(tf)\n",
    "tfi = env.tf"
   ]
  },
  {
   "cell_type": "code",
   "execution_count": 74,
   "metadata": {
    "collapsed": false
   },
   "outputs": [],
   "source": [
    "i = 0\n",
    "W = tfi.ones((10, 1024), dtype=tf.float32)\n",
    "b = tfi.ones((10, 1), dtype=tf.float32)\n",
    "x = env.numpy_to_itensor(train_data[i], dtype=tf.float32)\n",
    "x_flat = tfi.reshape(x, (1024, 1))\n",
    "logits = tfi.matmul(W, x_flat)+b\n",
    "targets = tfi.one_hot(train_labels[i]-1, 10)  # Lua labels are off-by-one\n",
    "targets = tfi.reshape(targets, (1, 10))\n",
    "logits = tfi.reshape(logits, (1, 10))\n",
    "cross_entropy = tfi.nn.softmax_cross_entropy_with_logits(logits, targets)"
   ]
  },
  {
   "cell_type": "code",
   "execution_count": 75,
   "metadata": {
    "collapsed": false
   },
   "outputs": [
    {
     "data": {
      "text/plain": [
       "ITensor([ 2.30258512], dtype=float32)"
      ]
     },
     "execution_count": 75,
     "metadata": {},
     "output_type": "execute_result"
    }
   ],
   "source": [
    "cross_entropy"
   ]
  },
  {
   "cell_type": "code",
   "execution_count": 65,
   "metadata": {
    "collapsed": false
   },
   "outputs": [
    {
     "data": {
      "text/plain": [
       "ITensor([ 1.38629436], dtype=float32)"
      ]
     },
     "execution_count": 65,
     "metadata": {},
     "output_type": "execute_result"
    }
   ],
   "source": [
    "a = env.numpy_to_itensor([[0,0,0,1]], dtype=tf.float32)\n",
    "b = env.numpy_to_itensor([[1,1,1,1]], dtype=tf.float32)\n",
    "tfi.nn.softmax_cross_entropy_with_logits(b*100, a)"
   ]
  },
  {
   "cell_type": "code",
   "execution_count": 22,
   "metadata": {
    "collapsed": false
   },
   "outputs": [],
   "source": [
    "x = train_data[0].reshape((1024))"
   ]
  },
  {
   "cell_type": "code",
   "execution_count": 26,
   "metadata": {
    "collapsed": false
   },
   "outputs": [
    {
     "data": {
      "text/plain": [
       "array([[ 27526.,  27526.,  27526.,  27526.,  27526.,  27526.,  27526.,\n",
       "         27526.,  27526.,  27526.],\n",
       "       [ 27526.,  27526.,  27526.,  27526.,  27526.,  27526.,  27526.,\n",
       "         27526.,  27526.,  27526.],\n",
       "       [ 27526.,  27526.,  27526.,  27526.,  27526.,  27526.,  27526.,\n",
       "         27526.,  27526.,  27526.],\n",
       "       [ 27526.,  27526.,  27526.,  27526.,  27526.,  27526.,  27526.,\n",
       "         27526.,  27526.,  27526.],\n",
       "       [ 27526.,  27526.,  27526.,  27526.,  27526.,  27526.,  27526.,\n",
       "         27526.,  27526.,  27526.],\n",
       "       [ 27526.,  27526.,  27526.,  27526.,  27526.,  27526.,  27526.,\n",
       "         27526.,  27526.,  27526.],\n",
       "       [ 27526.,  27526.,  27526.,  27526.,  27526.,  27526.,  27526.,\n",
       "         27526.,  27526.,  27526.],\n",
       "       [ 27526.,  27526.,  27526.,  27526.,  27526.,  27526.,  27526.,\n",
       "         27526.,  27526.,  27526.],\n",
       "       [ 27526.,  27526.,  27526.,  27526.,  27526.,  27526.,  27526.,\n",
       "         27526.,  27526.,  27526.],\n",
       "       [ 27526.,  27526.,  27526.,  27526.,  27526.,  27526.,  27526.,\n",
       "         27526.,  27526.,  27526.]])"
      ]
     },
     "execution_count": 26,
     "metadata": {},
     "output_type": "execute_result"
    }
   ],
   "source": [
    "np.dot(x, W)+b"
   ]
  },
  {
   "cell_type": "markdown",
   "metadata": {},
   "source": [
    "# Scratch"
   ]
  },
  {
   "cell_type": "code",
   "execution_count": 27,
   "metadata": {
    "collapsed": false
   },
   "outputs": [
    {
     "name": "stdout",
     "output_type": "stream",
     "text": [
      "nInputs 6\n",
      "nUnitsLayer1 3\n",
      "weights shape Tensor(\"Shape:0\", shape=(2,), dtype=int32)\n",
      "biases shape Tensor(\"Shape_1:0\", shape=(1,), dtype=int32)\n",
      "weights\n",
      "[[-0.42564794  1.32690036 -0.57812071]\n",
      " [ 1.3026278  -1.29796839 -1.02938724]\n",
      " [ 0.19238499  1.10781586 -0.24808854]\n",
      " [-0.60994369 -0.30048054  0.5742262 ]\n",
      " [ 0.13138418 -0.60150367  0.44378978]\n",
      " [ 0.42674765 -0.44903693  0.32681581]]\n",
      "biases\n",
      "[ 0.  0.  0.]\n"
     ]
    }
   ],
   "source": [
    "import tensorflow as tf\n",
    "nInputs = 6\n",
    "nUnitsLayer1 = 3\n",
    "weights = tf.Variable(tf.truncated_normal([nInputs, nUnitsLayer1]))\n",
    "biases= tf.Variable(tf.zeros(nUnitsLayer1))\n",
    "\n",
    "print 'nInputs', nInputs\n",
    "print 'nUnitsLayer1', nUnitsLayer1\n",
    "print 'weights shape', tf.shape(weights)\n",
    "print 'biases shape', tf.shape(biases)\n",
    "\n",
    "init = tf.initialize_all_variables()\n",
    "with tf.Session() as sess:\n",
    "    sess.run(init)\n",
    "    print 'weights'\n",
    "    print (weights.eval())\n",
    "    print 'biases'\n",
    "    print (biases.eval())\n"
   ]
  },
  {
   "cell_type": "code",
   "execution_count": 28,
   "metadata": {
    "collapsed": false
   },
   "outputs": [
    {
     "data": {
      "text/plain": [
       "TensorShape([Dimension(6), Dimension(3)])"
      ]
     },
     "execution_count": 28,
     "metadata": {},
     "output_type": "execute_result"
    }
   ],
   "source": [
    "weights.get_shape()"
   ]
  },
  {
   "cell_type": "code",
   "execution_count": 29,
   "metadata": {
    "collapsed": false
   },
   "outputs": [
    {
     "data": {
      "text/plain": [
       "<tensorflow.python.ops.variables.Variable at 0x12527bed0>"
      ]
     },
     "execution_count": 29,
     "metadata": {},
     "output_type": "execute_result"
    }
   ],
   "source": [
    "weights"
   ]
  },
  {
   "cell_type": "code",
   "execution_count": 31,
   "metadata": {
    "collapsed": false
   },
   "outputs": [
    {
     "data": {
      "text/plain": [
       "TensorShape([Dimension(2)])"
      ]
     },
     "execution_count": 31,
     "metadata": {},
     "output_type": "execute_result"
    }
   ],
   "source": [
    "tf.shape(weights).get_shape"
   ]
  },
  {
   "cell_type": "code",
   "execution_count": null,
   "metadata": {
    "collapsed": true
   },
   "outputs": [],
   "source": []
  }
 ],
 "metadata": {
  "kernelspec": {
   "display_name": "Python 2",
   "language": "python",
   "name": "python2"
  },
  "language_info": {
   "codemirror_mode": {
    "name": "ipython",
    "version": 2
   },
   "file_extension": ".py",
   "mimetype": "text/x-python",
   "name": "python",
   "nbconvert_exporter": "python",
   "pygments_lexer": "ipython2",
   "version": "2.7.10"
  },
  "toc": {
   "toc_cell": false,
   "toc_number_sections": true,
   "toc_threshold": 6,
   "toc_window_display": true
  },
  "toc_position": {
   "height": "162px",
   "left": "-158.953px",
   "right": "20px",
   "top": "309px",
   "width": "240px"
  }
 },
 "nbformat": 4,
 "nbformat_minor": 0
}
