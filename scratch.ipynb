{
 "cells": [
  {
   "cell_type": "code",
   "execution_count": 1,
   "metadata": {
    "collapsed": true
   },
   "outputs": [],
   "source": [
    "import tensorflow as tf"
   ]
  },
  {
   "cell_type": "code",
   "execution_count": 2,
   "metadata": {
    "collapsed": false
   },
   "outputs": [
    {
     "ename": "ImportError",
     "evalue": "No module named imperative",
     "output_type": "error",
     "traceback": [
      "\u001b[1;31m\u001b[0m",
      "\u001b[1;31mImportError\u001b[0mTraceback (most recent call last)",
      "\u001b[1;32m<ipython-input-2-310529086559>\u001b[0m in \u001b[0;36m<module>\u001b[1;34m()\u001b[0m\n\u001b[1;32m----> 1\u001b[1;33m \u001b[1;32mimport\u001b[0m \u001b[0mimperative\u001b[0m\u001b[1;33m\u001b[0m\u001b[0m\n\u001b[0m",
      "\u001b[1;31mImportError\u001b[0m: No module named imperative"
     ]
    }
   ],
   "source": [
    "import imperative"
   ]
  },
  {
   "cell_type": "markdown",
   "metadata": {},
   "source": [
    "# Install imperative"
   ]
  },
  {
   "cell_type": "code",
   "execution_count": 3,
   "metadata": {
    "collapsed": false
   },
   "outputs": [
    {
     "name": "stdout",
     "output_type": "stream",
     "text": [
      "/home/yaroslavvb/lbfgs\n"
     ]
    }
   ],
   "source": [
    "import os\n",
    "print os.getcwd()"
   ]
  },
  {
   "cell_type": "code",
   "execution_count": 4,
   "metadata": {
    "collapsed": true
   },
   "outputs": [],
   "source": [
    "import urllib2\n",
    "response = urllib2.urlopen('https://raw.githubusercontent.com/yaroslavvb/imperative/georgia/release/imperative.py')\n",
    "with open(\"imperative.py\", \"w\") as f:\n",
    "  f.write(response.read())\n",
    "import imperative\n",
    "env = imperative.Env(tf)"
   ]
  },
  {
   "cell_type": "code",
   "execution_count": 5,
   "metadata": {
    "collapsed": false
   },
   "outputs": [
    {
     "data": {
      "text/plain": [
       "ITensor(3, dtype=int32)"
      ]
     },
     "execution_count": 5,
     "metadata": {},
     "output_type": "execute_result"
    }
   ],
   "source": [
    "env.tf.add(1, 2)"
   ]
  },
  {
   "cell_type": "markdown",
   "metadata": {},
   "source": [
    "# Initialize everything"
   ]
  },
  {
   "cell_type": "code",
   "execution_count": 5,
   "metadata": {
    "collapsed": false
   },
   "outputs": [
    {
     "name": "stdout",
     "output_type": "stream",
     "text": [
      "ITensor(3, dtype=int32)\n"
     ]
    },
    {
     "data": {
      "text/plain": [
       "[name: \"/cpu:0\"\n",
       " device_type: \"CPU\"\n",
       " memory_limit: 268435456\n",
       " bus_adjacency: BUS_ANY\n",
       " incarnation: 14233655971873946591, name: \"/gpu:0\"\n",
       " device_type: \"GPU\"\n",
       " memory_limit: 203292672\n",
       " incarnation: 8925167128940909974\n",
       " physical_device_desc: \"device: 0, name: GeForce GTX 1080, pci bus id: 0000:03:00.0\", name: \"/gpu:1\"\n",
       " device_type: \"GPU\"\n",
       " memory_limit: 3838050304\n",
       " incarnation: 17185581707596145240\n",
       " physical_device_desc: \"device: 1, name: GeForce GTX 980, pci bus id: 0000:04:00.0\"]"
      ]
     },
     "execution_count": 5,
     "metadata": {},
     "output_type": "execute_result"
    }
   ],
   "source": [
    "import tensorflow as tf\n",
    "import imperative\n",
    "env = imperative.Env(tf)\n",
    "print env.tf.add(1, 2)\n",
    "\n",
    "from tensorflow.python.client import device_lib\n",
    "device_lib.list_local_devices()"
   ]
  },
  {
   "cell_type": "markdown",
   "metadata": {},
   "source": [
    "# Try power benchmark"
   ]
  },
  {
   "cell_type": "code",
   "execution_count": 8,
   "metadata": {
    "collapsed": false
   },
   "outputs": [
    {
     "name": "stdout",
     "output_type": "stream",
     "text": [
      "Trying 10 power iterations with 2024 x 2024 matrices\n",
      "79.694122151 T ops/sec\n",
      "4676.93757145 T ops/sec\n",
      "4886.28401463 T ops/sec\n",
      "4067.42558565 T ops/sec\n",
      "4662.19965218 T ops/sec\n",
      "4545.77419182 T ops/sec\n",
      "4731.35386897 T ops/sec\n",
      "2527.5965182 T ops/sec\n",
      "4715.31211855 T ops/sec\n",
      "4680.71538855 T ops/sec\n",
      "max speed: 4886.28401463 T ops/sec\n"
     ]
    }
   ],
   "source": [
    "import time\n",
    "n = 2024\n",
    "num_iters = 10\n",
    "print(\"Trying %d power iterations with %d x %d matrices\" %(num_iters, n, n))\n",
    "\n",
    "n_ops = n**3+n*n*(n-1)  # n**3 muls, n**2*(n-1) adds\n",
    "a = env.tf.ones((n, n), dtype=tf.float32)/n\n",
    "b = env.tf.ones((n, n), dtype=tf.float32)/n\n",
    "speeds = []\n",
    "for i in range(num_iters):\n",
    "    start_time = time.time()\n",
    "    b = env.tf.matmul(a, b)\n",
    "    elapsed_time = time.time() - start_time\n",
    "    speed = n_ops/elapsed_time/10**9\n",
    "    speeds.append(speed)\n",
    "    print(\"%s T ops/sec\" %(speeds[-1]))\n",
    "    \n",
    "print(\"max speed: %s T ops/sec\" %(max(speeds)))"
   ]
  },
  {
   "cell_type": "code",
   "execution_count": 19,
   "metadata": {
    "collapsed": false
   },
   "outputs": [],
   "source": [
    "def run_benchmark():\n",
    "  import time\n",
    "  n = 2024\n",
    "  num_iters = 50\n",
    "\n",
    "  n_ops = n**3+n*n*(n-1)  # n**3 muls, n**2*(n-1) adds\n",
    "  a = env.tf.ones((n, n), dtype=tf.float32)/n\n",
    "  b = env.tf.ones((n, n), dtype=tf.float32)/n\n",
    "  speeds = []\n",
    "  for i in range(num_iters):\n",
    "    start_time = time.time()\n",
    "    b = env.tf.matmul(a, b)\n",
    "    elapsed_time = time.time() - start_time\n",
    "    speed = n_ops/elapsed_time/10**9\n",
    "    speeds.append(speed)\n",
    "    \n",
    "  return speeds"
   ]
  },
  {
   "cell_type": "code",
   "execution_count": 11,
   "metadata": {
    "collapsed": false
   },
   "outputs": [
    {
     "data": {
      "text/plain": [
       "[76.05042687402187,\n",
       " 4589.8817037796625,\n",
       " 4886.2840146343815,\n",
       " 4951.698911362379,\n",
       " 5015.99277301175,\n",
       " 4244.442886666781,\n",
       " 4876.346971406864,\n",
       " 4934.130973693457,\n",
       " 2818.5605695862305,\n",
       " 4524.772762380394]"
      ]
     },
     "execution_count": 11,
     "metadata": {},
     "output_type": "execute_result"
    }
   ],
   "source": [
    "run_benchmark()"
   ]
  },
  {
   "cell_type": "markdown",
   "metadata": {},
   "source": [
    "## Make plot of power benchmark on two cards"
   ]
  },
  {
   "cell_type": "code",
   "execution_count": 3,
   "metadata": {
    "collapsed": false
   },
   "outputs": [],
   "source": [
    "import pkg_resources\n",
    "pkg_resources.require(\"matplotlib\")\n",
    "%matplotlib inline\n",
    "import matplotlib.pyplot as plt"
   ]
  },
  {
   "cell_type": "code",
   "execution_count": 12,
   "metadata": {
    "collapsed": false
   },
   "outputs": [
    {
     "data": {
      "text/plain": [
       "[<matplotlib.lines.Line2D at 0x7fb51c4fbed0>]"
      ]
     },
     "execution_count": 12,
     "metadata": {},
     "output_type": "execute_result"
    },
    {
     "data": {
      "image/png": "[encoded data removed]",
      "text/plain": [
       "<matplotlib.figure.Figure at 0x7fb51c5cc4d0>"
      ]
     },
     "metadata": {},
     "output_type": "display_data"
    }
   ],
   "source": [
    "plt.plot(_11)"
   ]
  },
  {
   "cell_type": "code",
   "execution_count": 20,
   "metadata": {
    "collapsed": true
   },
   "outputs": [],
   "source": [
    "with env.g.device(\"cpu:0\"):\n",
    "  speeds1 = run_benchmark()\n",
    "with env.g.device(\"gpu:0\"):\n",
    "  speeds2 = run_benchmark()\n",
    "with env.g.device(\"gpu:1\"):\n",
    "  speeds3 = run_benchmark()"
   ]
  },
  {
   "cell_type": "code",
   "execution_count": 22,
   "metadata": {
    "collapsed": false
   },
   "outputs": [
    {
     "data": {
      "text/plain": [
       "[<matplotlib.lines.Line2D at 0x7fb51c07c990>,\n",
       " <matplotlib.lines.Line2D at 0x7fb51c07cb90>,\n",
       " <matplotlib.lines.Line2D at 0x7fb51c0ae290>]"
      ]
     },
     "execution_count": 22,
     "metadata": {},
     "output_type": "execute_result"
    },
    {
     "data": {
      "image/png": "[encoded data removed]",
      "text/plain": [
       "<matplotlib.figure.Figure at 0x7fb51c216550>"
      ]
     },
     "metadata": {},
     "output_type": "display_data"
    }
   ],
   "source": [
    "xs = range(50)\n",
    "plt.plot(xs, speeds1, xs, speeds2, xs, speeds3)"
   ]
  },
  {
   "cell_type": "code",
   "execution_count": 31,
   "metadata": {
    "collapsed": false
   },
   "outputs": [
    {
     "data": {
      "text/plain": [
       "<tensorflow.python.framework.ops.Graph at 0x7fb526852710>"
      ]
     },
     "execution_count": 31,
     "metadata": {},
     "output_type": "execute_result"
    }
   ],
   "source": [
    "default_context = env.g.as_default()\n",
    "default_context.__enter__()"
   ]
  },
  {
   "cell_type": "code",
   "execution_count": 33,
   "metadata": {
    "collapsed": false
   },
   "outputs": [
    {
     "data": {
      "text/plain": [
       "[<matplotlib.lines.Line2D at 0x7fb5145a90d0>,\n",
       " <matplotlib.lines.Line2D at 0x7fb5145a92d0>,\n",
       " <matplotlib.lines.Line2D at 0x7fb5145a9990>]"
      ]
     },
     "execution_count": 33,
     "metadata": {},
     "output_type": "execute_result"
    },
    {
     "data": {
      "image/png": "[encoded data removed]",
      "text/plain": [
       "<matplotlib.figure.Figure at 0x7fb51c05ec90>"
      ]
     },
     "metadata": {},
     "output_type": "display_data"
    }
   ],
   "source": [
    "import tensorflow as tf\n",
    "with tf.device(\"cpu:0\"):\n",
    "  speeds1 = run_benchmark()\n",
    "with tf.device(\"gpu:0\"):\n",
    "  speeds2 = run_benchmark()\n",
    "with tf.device(\"gpu:1\"):\n",
    "  speeds3 = run_benchmark()\n",
    "xs = range(50)\n",
    "plt.plot(xs, speeds1, xs, speeds2, xs, speeds3)"
   ]
  },
  {
   "cell_type": "markdown",
   "metadata": {},
   "source": [
    "# Simple loop"
   ]
  },
  {
   "cell_type": "code",
   "execution_count": 23,
   "metadata": {
    "collapsed": true
   },
   "outputs": [],
   "source": [
    "old_tf = tf\n",
    "tf = env.tf"
   ]
  },
  {
   "cell_type": "code",
   "execution_count": 25,
   "metadata": {
    "collapsed": false
   },
   "outputs": [
    {
     "name": "stdout",
     "output_type": "stream",
     "text": [
      "ITensor([[ 27.  27.  27.]\n",
      " [ 27.  27.  27.]\n",
      " [ 27.  27.  27.]], dtype=float32)\n"
     ]
    }
   ],
   "source": [
    "a = tf.ones((3, 3))\n",
    "b = a\n",
    "while True:\n",
    "  a = tf.matmul(a, b)\n",
    "  if tf.reduce_sum(a)>100:\n",
    "    break\n",
    "print a  "
   ]
  },
  {
   "cell_type": "code",
   "execution_count": 26,
   "metadata": {
    "collapsed": false,
    "scrolled": true
   },
   "outputs": [
    {
     "name": "stdout",
     "output_type": "stream",
     "text": [
      "[[ 27.  27.  27.]\n",
      " [ 27.  27.  27.]\n",
      " [ 27.  27.  27.]]\n"
     ]
    }
   ],
   "source": [
    "print a.as_numpy()"
   ]
  },
  {
   "cell_type": "markdown",
   "metadata": {
    "collapsed": true
   },
   "source": [
    "# Plot of l-BFGS times"
   ]
  },
  {
   "cell_type": "code",
   "execution_count": 28,
   "metadata": {
    "collapsed": true
   },
   "outputs": [],
   "source": [
    "torch=[0.16,0.17,0.17,0.17,0.18,0.21,0.17,0.16,0.17,0.16,0.16,0.16,0.17,0.16,0.16,0.17,0.16,0.16,0.16,0.16,0.17,0.18,0.17,0.18,0.17,0.17,0.17,0.17,0.18,0.17,0.17,0.17,0.17,0.17,0.17,0.17,0.18,0.18,0.18,0.18,0.21,0.18,0.18,0.18,0.20,0.19,0.19,0.19,0.21,0.19,0.21,0.20,0.20,0.22,0.20,0.20,0.21,0.22,0.23,0.23,0.23,0.23,0.24,0.24,0.24,0.25,0.28,0.28,0.31,0.29,0.29,0.30,0.32,0.36,0.35,0.34,0.36,0.38,0.40,0.40,0.42,0.43,0.44,0.47,0.50,0.49,0.47,0.49,0.48,0.50,0.50,0.54,0.51,0.54,0.53,0.54,0.51,0.54,0.55]\n",
    "tf=[0.25,0.18,0.18,0.20,0.20,0.20,0.20,0.20,0.20,0.20,0.21,0.20,0.20,0.20,0.20,0.20,0.19,0.20,0.19,0.20,0.21,0.20,0.20,0.19,0.20,0.21,0.20,0.20,0.20,0.19,0.21,0.20,0.20,0.20,0.20,0.21,0.20,0.20,0.20,0.20,0.21,0.20,0.19,0.20,0.19,0.21,0.20,0.21,0.21,0.22,0.21,0.22,0.20,0.20,0.20,0.20,0.20,0.25,0.21,0.20,0.20,0.21,0.20,0.20,0.21,0.20,0.20,0.20,0.20,0.21,0.20,0.20,0.20,0.20,0.21,0.20,0.20,0.21,0.21,0.21,0.20,0.20,0.20,0.20,0.21,0.20,0.20,0.21,0.20,0.21,0.21,0.20,0.21,0.20,0.21,0.20,0.20,0.20,0.20]"
   ]
  },
  {
   "cell_type": "code",
   "execution_count": 30,
   "metadata": {
    "collapsed": false
   },
   "outputs": [
    {
     "data": {
      "text/plain": [
       "[<matplotlib.lines.Line2D at 0x7fb5147303d0>,\n",
       " <matplotlib.lines.Line2D at 0x7fb51461af50>]"
      ]
     },
     "execution_count": 30,
     "metadata": {},
     "output_type": "execute_result"
    },
    {
     "data": {
      "image/png": "[encoded data removed]",
      "text/plain": [
       "<matplotlib.figure.Figure at 0x7fb514682510>"
      ]
     },
     "metadata": {},
     "output_type": "display_data"
    }
   ],
   "source": [
    "xs = range(len(torch))\n",
    "plt.ylim([0,0.6])\n",
    "plt.plot(xs, torch, xs, tf)"
   ]
  },
  {
   "cell_type": "code",
   "execution_count": null,
   "metadata": {
    "collapsed": true
   },
   "outputs": [],
   "source": [
    "env."
   ]
  }
 ],
 "metadata": {
  "kernelspec": {
   "display_name": "Python 2",
   "language": "python",
   "name": "python2"
  },
  "language_info": {
   "codemirror_mode": {
    "name": "ipython",
    "version": 2
   },
   "file_extension": ".py",
   "mimetype": "text/x-python",
   "name": "python",
   "nbconvert_exporter": "python",
   "pygments_lexer": "ipython2",
   "version": "2.7.12"
  },
  "nav_menu": {},
  "toc": {
   "navigate_menu": true,
   "number_sections": true,
   "sideBar": true,
   "threshold": 6,
   "toc_cell": false,
   "toc_section_display": "block",
   "toc_window_display": true
  }
 },
 "nbformat": 4,
 "nbformat_minor": 0
}
